{
 "cells": [
  {
   "cell_type": "markdown",
   "metadata": {},
   "source": [
    "### Quiz 3 ###\n",
    "Team: Phil Kim, Jeremiah Snow, Ryan Schuck"
   ]
  },
  {
   "cell_type": "code",
   "execution_count": 22,
   "metadata": {},
   "outputs": [
    {
     "data": {
      "text/html": [
       "<div>\n",
       "<style scoped>\n",
       "    .dataframe tbody tr th:only-of-type {\n",
       "        vertical-align: middle;\n",
       "    }\n",
       "\n",
       "    .dataframe tbody tr th {\n",
       "        vertical-align: top;\n",
       "    }\n",
       "\n",
       "    .dataframe thead th {\n",
       "        text-align: right;\n",
       "    }\n",
       "</style>\n",
       "<table border=\"1\" class=\"dataframe\">\n",
       "  <thead>\n",
       "    <tr style=\"text-align: right;\">\n",
       "      <th></th>\n",
       "      <th>Unnamed: 0</th>\n",
       "      <th>year</th>\n",
       "      <th>marital</th>\n",
       "      <th>age</th>\n",
       "      <th>race</th>\n",
       "      <th>rincome</th>\n",
       "      <th>partyid</th>\n",
       "      <th>relig</th>\n",
       "      <th>denom</th>\n",
       "      <th>tvhours</th>\n",
       "    </tr>\n",
       "  </thead>\n",
       "  <tbody>\n",
       "    <tr>\n",
       "      <th>0</th>\n",
       "      <td>1</td>\n",
       "      <td>2000</td>\n",
       "      <td>Never married</td>\n",
       "      <td>26.0</td>\n",
       "      <td>White</td>\n",
       "      <td>$8000 to 9999</td>\n",
       "      <td>Ind,near rep</td>\n",
       "      <td>Protestant</td>\n",
       "      <td>Southern baptist</td>\n",
       "      <td>12.0</td>\n",
       "    </tr>\n",
       "    <tr>\n",
       "      <th>1</th>\n",
       "      <td>2</td>\n",
       "      <td>2000</td>\n",
       "      <td>Divorced</td>\n",
       "      <td>48.0</td>\n",
       "      <td>White</td>\n",
       "      <td>$8000 to 9999</td>\n",
       "      <td>Not str republican</td>\n",
       "      <td>Protestant</td>\n",
       "      <td>Baptist-dk which</td>\n",
       "      <td>NaN</td>\n",
       "    </tr>\n",
       "    <tr>\n",
       "      <th>2</th>\n",
       "      <td>3</td>\n",
       "      <td>2000</td>\n",
       "      <td>Widowed</td>\n",
       "      <td>67.0</td>\n",
       "      <td>White</td>\n",
       "      <td>Not applicable</td>\n",
       "      <td>Independent</td>\n",
       "      <td>Protestant</td>\n",
       "      <td>No denomination</td>\n",
       "      <td>2.0</td>\n",
       "    </tr>\n",
       "    <tr>\n",
       "      <th>3</th>\n",
       "      <td>4</td>\n",
       "      <td>2000</td>\n",
       "      <td>Never married</td>\n",
       "      <td>39.0</td>\n",
       "      <td>White</td>\n",
       "      <td>Not applicable</td>\n",
       "      <td>Ind,near rep</td>\n",
       "      <td>Orthodox-christian</td>\n",
       "      <td>Not applicable</td>\n",
       "      <td>4.0</td>\n",
       "    </tr>\n",
       "    <tr>\n",
       "      <th>4</th>\n",
       "      <td>5</td>\n",
       "      <td>2000</td>\n",
       "      <td>Divorced</td>\n",
       "      <td>25.0</td>\n",
       "      <td>White</td>\n",
       "      <td>Not applicable</td>\n",
       "      <td>Not str democrat</td>\n",
       "      <td>None</td>\n",
       "      <td>Not applicable</td>\n",
       "      <td>1.0</td>\n",
       "    </tr>\n",
       "  </tbody>\n",
       "</table>\n",
       "</div>"
      ],
      "text/plain": [
       "   Unnamed: 0  year        marital   age   race         rincome  \\\n",
       "0           1  2000  Never married  26.0  White   $8000 to 9999   \n",
       "1           2  2000       Divorced  48.0  White   $8000 to 9999   \n",
       "2           3  2000        Widowed  67.0  White  Not applicable   \n",
       "3           4  2000  Never married  39.0  White  Not applicable   \n",
       "4           5  2000       Divorced  25.0  White  Not applicable   \n",
       "\n",
       "              partyid               relig             denom  tvhours  \n",
       "0        Ind,near rep          Protestant  Southern baptist     12.0  \n",
       "1  Not str republican          Protestant  Baptist-dk which      NaN  \n",
       "2         Independent          Protestant   No denomination      2.0  \n",
       "3        Ind,near rep  Orthodox-christian    Not applicable      4.0  \n",
       "4    Not str democrat                None    Not applicable      1.0  "
      ]
     },
     "execution_count": 22,
     "metadata": {},
     "output_type": "execute_result"
    }
   ],
   "source": [
    "import numpy as np\n",
    "import pandas as pd\n",
    "import matplotlib.pyplot as plt\n",
    "import seaborn as sns\n",
    "\n",
    "df = pd.read_csv('gss_cat.csv')\n",
    "df.head()"
   ]
  },
  {
   "cell_type": "code",
   "execution_count": 48,
   "metadata": {},
   "outputs": [
    {
     "data": {
      "image/png": "[encoded data removed]",
      "text/plain": [
       "<Figure size 432x288 with 1 Axes>"
      ]
     },
     "metadata": {
      "needs_background": "light"
     },
     "output_type": "display_data"
    }
   ],
   "source": [
    "# (a) \n",
    "df['marital'].value_counts().plot(kind = \"bar\")\n",
    "plt.show()"
   ]
  },
  {
   "cell_type": "code",
   "execution_count": 60,
   "metadata": {},
   "outputs": [
    {
     "data": {
      "image/png": "[encoded data removed]",
      "text/plain": [
       "<Figure size 432x216 with 2 Axes>"
      ]
     },
     "metadata": {
      "needs_background": "light"
     },
     "output_type": "display_data"
    }
   ],
   "source": [
    "# (b) \n",
    "fig = plt.figure(figsize = (6, 3))\n",
    "ax1 = fig.add_subplot(1, 2, 1)\n",
    "ax2 = fig.add_subplot(1, 2, 2)\n",
    "\n",
    "ax1.hist(df.age)\n",
    "ax1.set_xticks([20, 30, 40, 50, 60, 70, 80, 90])\n",
    "ax2.hist(df.tvhours)\n",
    "ax2.set_xticks([0, 5, 10, 15, 20, 25])\n",
    "plt.tight_layout()"
   ]
  },
  {
   "cell_type": "code",
   "execution_count": 71,
   "metadata": {},
   "outputs": [
    {
     "data": {
      "text/html": [
       "<div>\n",
       "<style scoped>\n",
       "    .dataframe tbody tr th:only-of-type {\n",
       "        vertical-align: middle;\n",
       "    }\n",
       "\n",
       "    .dataframe tbody tr th {\n",
       "        vertical-align: top;\n",
       "    }\n",
       "\n",
       "    .dataframe thead th {\n",
       "        text-align: right;\n",
       "    }\n",
       "</style>\n",
       "<table border=\"1\" class=\"dataframe\">\n",
       "  <thead>\n",
       "    <tr style=\"text-align: right;\">\n",
       "      <th></th>\n",
       "      <th>Unnamed: 0</th>\n",
       "      <th>year</th>\n",
       "      <th>marital</th>\n",
       "      <th>age</th>\n",
       "      <th>race</th>\n",
       "      <th>rincome</th>\n",
       "      <th>partyid</th>\n",
       "      <th>relig</th>\n",
       "      <th>denom</th>\n",
       "      <th>tvhours</th>\n",
       "    </tr>\n",
       "  </thead>\n",
       "  <tbody>\n",
       "    <tr>\n",
       "      <th>0</th>\n",
       "      <td>1</td>\n",
       "      <td>2000</td>\n",
       "      <td>Never married</td>\n",
       "      <td>26.0</td>\n",
       "      <td>White</td>\n",
       "      <td>$8000 to 9999</td>\n",
       "      <td>ind</td>\n",
       "      <td>Protestant</td>\n",
       "      <td>Southern baptist</td>\n",
       "      <td>12.0</td>\n",
       "    </tr>\n",
       "    <tr>\n",
       "      <th>1</th>\n",
       "      <td>2</td>\n",
       "      <td>2000</td>\n",
       "      <td>Divorced</td>\n",
       "      <td>48.0</td>\n",
       "      <td>White</td>\n",
       "      <td>$8000 to 9999</td>\n",
       "      <td>rep</td>\n",
       "      <td>Protestant</td>\n",
       "      <td>Baptist-dk which</td>\n",
       "      <td>NaN</td>\n",
       "    </tr>\n",
       "    <tr>\n",
       "      <th>2</th>\n",
       "      <td>3</td>\n",
       "      <td>2000</td>\n",
       "      <td>Widowed</td>\n",
       "      <td>67.0</td>\n",
       "      <td>White</td>\n",
       "      <td>Not applicable</td>\n",
       "      <td>ind</td>\n",
       "      <td>Protestant</td>\n",
       "      <td>No denomination</td>\n",
       "      <td>2.0</td>\n",
       "    </tr>\n",
       "    <tr>\n",
       "      <th>3</th>\n",
       "      <td>4</td>\n",
       "      <td>2000</td>\n",
       "      <td>Never married</td>\n",
       "      <td>39.0</td>\n",
       "      <td>White</td>\n",
       "      <td>Not applicable</td>\n",
       "      <td>ind</td>\n",
       "      <td>Orthodox-christian</td>\n",
       "      <td>Not applicable</td>\n",
       "      <td>4.0</td>\n",
       "    </tr>\n",
       "    <tr>\n",
       "      <th>4</th>\n",
       "      <td>5</td>\n",
       "      <td>2000</td>\n",
       "      <td>Divorced</td>\n",
       "      <td>25.0</td>\n",
       "      <td>White</td>\n",
       "      <td>Not applicable</td>\n",
       "      <td>dem</td>\n",
       "      <td>None</td>\n",
       "      <td>Not applicable</td>\n",
       "      <td>1.0</td>\n",
       "    </tr>\n",
       "  </tbody>\n",
       "</table>\n",
       "</div>"
      ],
      "text/plain": [
       "   Unnamed: 0  year        marital   age   race         rincome partyid  \\\n",
       "0           1  2000  Never married  26.0  White   $8000 to 9999     ind   \n",
       "1           2  2000       Divorced  48.0  White   $8000 to 9999     rep   \n",
       "2           3  2000        Widowed  67.0  White  Not applicable     ind   \n",
       "3           4  2000  Never married  39.0  White  Not applicable     ind   \n",
       "4           5  2000       Divorced  25.0  White  Not applicable     dem   \n",
       "\n",
       "                relig             denom  tvhours  \n",
       "0          Protestant  Southern baptist     12.0  \n",
       "1          Protestant  Baptist-dk which      NaN  \n",
       "2          Protestant   No denomination      2.0  \n",
       "3  Orthodox-christian    Not applicable      4.0  \n",
       "4                None    Not applicable      1.0  "
      ]
     },
     "execution_count": 71,
     "metadata": {},
     "output_type": "execute_result"
    }
   ],
   "source": [
    "# (c-i) \n",
    "df.replace({'No answer': 'other', \n",
    "            'Don\\'t know': 'other', \n",
    "            'Other party': 'other',\n",
    "            'Strong republican': 'rep',\n",
    "            'Not str republican': 'rep',\n",
    "            'Ind,near rep': 'ind',\n",
    "            'Independent': 'ind',\n",
    "            'Ind,near dem': 'ind',\n",
    "            'Not str democrat': 'dem',\n",
    "            'Strong democrat': 'dem'},\n",
    "          inplace = True)\n",
    "df.head()"
   ]
  },
  {
   "cell_type": "code",
   "execution_count": 97,
   "metadata": {},
   "outputs": [],
   "source": [
    "# (c-ii)\n",
    "party = df.groupby(['year','partyid'])['partyid'].count().unstack()\n",
    "party['sum'] = party.sum(axis = 1)\n",
    "party['dem'] = party['dem'] / party['sum']\n",
    "party['ind'] = party['ind'] / party['sum']\n",
    "party['other'] = party['other'] / party['sum']\n",
    "party['rep'] = party['rep'] / party['sum']\n",
    "party.drop(['sum'], axis=1, inplace = True)"
   ]
  },
  {
   "cell_type": "code",
   "execution_count": 99,
   "metadata": {},
   "outputs": [
    {
     "data": {
      "text/plain": [
       "<AxesSubplot:xlabel='year'>"
      ]
     },
     "execution_count": 99,
     "metadata": {},
     "output_type": "execute_result"
    },
    {
     "data": {
      "image/png": "[encoded data removed]",
      "text/plain": [
       "<Figure size 432x288 with 1 Axes>"
      ]
     },
     "metadata": {
      "needs_background": "light"
     },
     "output_type": "display_data"
    }
   ],
   "source": [
    "# (c-iii)\n",
    "party.drop(['other'], axis=1, inplace = True)\n",
    "sns.lineplot(data=party)"
   ]
  },
  {
   "cell_type": "code",
   "execution_count": null,
   "metadata": {},
   "outputs": [],
   "source": []
  }
 ],
 "metadata": {
  "kernelspec": {
   "display_name": "Python 3",
   "language": "python",
   "name": "python3"
  },
  "language_info": {
   "codemirror_mode": {
    "name": "ipython",
    "version": 3
   },
   "file_extension": ".py",
   "mimetype": "text/x-python",
   "name": "python",
   "nbconvert_exporter": "python",
   "pygments_lexer": "ipython3",
   "version": "3.8.5"
  }
 },
 "nbformat": 4,
 "nbformat_minor": 4
}
