{
 "cells": [
  {
   "cell_type": "markdown",
   "metadata": {},
   "source": [
    "## Quiz 3 \n",
    "## Brandan Owens and Loan Pham"
   ]
  },
  {
   "cell_type": "markdown",
   "metadata": {},
   "source": [
    "### Q.1 Read in the dataframe “gss_cat.csv”."
   ]
  },
  {
   "cell_type": "code",
   "execution_count": 1,
   "metadata": {},
   "outputs": [],
   "source": [
    "#import dataset and tools\n",
    "import numpy as np\n",
    "import pandas as pd\n",
    "import matplotlib.pyplot as plt\n",
    "import seaborn as sns"
   ]
  },
  {
   "cell_type": "code",
   "execution_count": 2,
   "metadata": {},
   "outputs": [
    {
     "data": {
      "text/html": [
       "<div>\n",
       "<style scoped>\n",
       "    .dataframe tbody tr th:only-of-type {\n",
       "        vertical-align: middle;\n",
       "    }\n",
       "\n",
       "    .dataframe tbody tr th {\n",
       "        vertical-align: top;\n",
       "    }\n",
       "\n",
       "    .dataframe thead th {\n",
       "        text-align: right;\n",
       "    }\n",
       "</style>\n",
       "<table border=\"1\" class=\"dataframe\">\n",
       "  <thead>\n",
       "    <tr style=\"text-align: right;\">\n",
       "      <th></th>\n",
       "      <th>numbers</th>\n",
       "      <th>year</th>\n",
       "      <th>marital</th>\n",
       "      <th>age</th>\n",
       "      <th>race</th>\n",
       "      <th>rincome</th>\n",
       "      <th>partyid</th>\n",
       "      <th>relig</th>\n",
       "      <th>denom</th>\n",
       "      <th>tvhours</th>\n",
       "    </tr>\n",
       "  </thead>\n",
       "  <tbody>\n",
       "    <tr>\n",
       "      <th>0</th>\n",
       "      <td>1</td>\n",
       "      <td>2000</td>\n",
       "      <td>Never married</td>\n",
       "      <td>26.0</td>\n",
       "      <td>White</td>\n",
       "      <td>$8000 to 9999</td>\n",
       "      <td>Ind,near rep</td>\n",
       "      <td>Protestant</td>\n",
       "      <td>Southern baptist</td>\n",
       "      <td>12.0</td>\n",
       "    </tr>\n",
       "    <tr>\n",
       "      <th>1</th>\n",
       "      <td>2</td>\n",
       "      <td>2000</td>\n",
       "      <td>Divorced</td>\n",
       "      <td>48.0</td>\n",
       "      <td>White</td>\n",
       "      <td>$8000 to 9999</td>\n",
       "      <td>Not str republican</td>\n",
       "      <td>Protestant</td>\n",
       "      <td>Baptist-dk which</td>\n",
       "      <td>NaN</td>\n",
       "    </tr>\n",
       "    <tr>\n",
       "      <th>2</th>\n",
       "      <td>3</td>\n",
       "      <td>2000</td>\n",
       "      <td>Widowed</td>\n",
       "      <td>67.0</td>\n",
       "      <td>White</td>\n",
       "      <td>Not applicable</td>\n",
       "      <td>Independent</td>\n",
       "      <td>Protestant</td>\n",
       "      <td>No denomination</td>\n",
       "      <td>2.0</td>\n",
       "    </tr>\n",
       "    <tr>\n",
       "      <th>3</th>\n",
       "      <td>4</td>\n",
       "      <td>2000</td>\n",
       "      <td>Never married</td>\n",
       "      <td>39.0</td>\n",
       "      <td>White</td>\n",
       "      <td>Not applicable</td>\n",
       "      <td>Ind,near rep</td>\n",
       "      <td>Orthodox-christian</td>\n",
       "      <td>Not applicable</td>\n",
       "      <td>4.0</td>\n",
       "    </tr>\n",
       "    <tr>\n",
       "      <th>4</th>\n",
       "      <td>5</td>\n",
       "      <td>2000</td>\n",
       "      <td>Divorced</td>\n",
       "      <td>25.0</td>\n",
       "      <td>White</td>\n",
       "      <td>Not applicable</td>\n",
       "      <td>Not str democrat</td>\n",
       "      <td>None</td>\n",
       "      <td>Not applicable</td>\n",
       "      <td>1.0</td>\n",
       "    </tr>\n",
       "  </tbody>\n",
       "</table>\n",
       "</div>"
      ],
      "text/plain": [
       "   numbers  year        marital   age   race         rincome  \\\n",
       "0        1  2000  Never married  26.0  White   $8000 to 9999   \n",
       "1        2  2000       Divorced  48.0  White   $8000 to 9999   \n",
       "2        3  2000        Widowed  67.0  White  Not applicable   \n",
       "3        4  2000  Never married  39.0  White  Not applicable   \n",
       "4        5  2000       Divorced  25.0  White  Not applicable   \n",
       "\n",
       "              partyid               relig             denom  tvhours  \n",
       "0        Ind,near rep          Protestant  Southern baptist     12.0  \n",
       "1  Not str republican          Protestant  Baptist-dk which      NaN  \n",
       "2         Independent          Protestant   No denomination      2.0  \n",
       "3        Ind,near rep  Orthodox-christian    Not applicable      4.0  \n",
       "4    Not str democrat                None    Not applicable      1.0  "
      ]
     },
     "execution_count": 2,
     "metadata": {},
     "output_type": "execute_result"
    }
   ],
   "source": [
    "df = pd.read_csv(\"../dataFiles/gss_cat.csv\")\n",
    "df.rename(columns={'Unnamed: 0':'numbers'}, inplace=True)\n",
    "df.head()"
   ]
  },
  {
   "cell_type": "code",
   "execution_count": 3,
   "metadata": {},
   "outputs": [
    {
     "data": {
      "text/plain": [
       "<AxesSubplot:>"
      ]
     },
     "execution_count": 3,
     "metadata": {},
     "output_type": "execute_result"
    },
    {
     "data": {
      "image/png": "[encoded data removed]",
      "text/plain": [
       "<Figure size 432x288 with 1 Axes>"
      ]
     },
     "metadata": {
      "needs_background": "light"
     },
     "output_type": "display_data"
    }
   ],
   "source": [
    "# (a) create a bar plot for “marital”. It should look like this:\n",
    "\n",
    "df['marital'].value_counts().plot.bar()"
   ]
  },
  {
   "cell_type": "code",
   "execution_count": 4,
   "metadata": {},
   "outputs": [
    {
     "data": {
      "text/plain": [
       "<Figure size 720x360 with 0 Axes>"
      ]
     },
     "metadata": {},
     "output_type": "display_data"
    },
    {
     "data": {
      "image/png": "[encoded data removed]",
      "text/plain": [
       "<Figure size 432x288 with 2 Axes>"
      ]
     },
     "metadata": {
      "needs_background": "light"
     },
     "output_type": "display_data"
    }
   ],
   "source": [
    "# (b) Create a histogram for “age” on the left, then a histogram for “tvhours” on the right. Set the figsize = (10,5)\n",
    "\n",
    "plt.figure(figsize=(10,5))\n",
    "df.hist(column=[\"age\", \"tvhours\"])\n",
    "plt.show()\n"
   ]
  },
  {
   "cell_type": "code",
   "execution_count": 5,
   "metadata": {},
   "outputs": [],
   "source": [
    "# (c) You will create a line plot to see how the proportions of people identified as Democrat, Republican, and Independent \n",
    "# change over time. \n",
    "# (i)\tfirst, recode the variable “partyid”\n",
    "\n",
    "other = [\"No answer\", \"Don't know\", \"Other party\"]\n",
    "rep = [\"Strong republican\", \"Not str republican\"]\n",
    "ind = [\"Ind,near rep\", \"Independent\", \"Ind,near dem\"]\n",
    "dem = [\"Not str democrat\", \"Strong democrat\"]\n"
   ]
  },
  {
   "cell_type": "code",
   "execution_count": 7,
   "metadata": {},
   "outputs": [
    {
     "ename": "SyntaxError",
     "evalue": "invalid syntax (<ipython-input-7-7a836dfe81e6>, line 5)",
     "output_type": "error",
     "traceback": [
      "\u001b[1;36m  File \u001b[1;32m\"<ipython-input-7-7a836dfe81e6>\"\u001b[1;36m, line \u001b[1;32m5\u001b[0m\n\u001b[1;33m    other = [\"No answer\", \"Don't know\", \"Other party\"],\u001b[0m\n\u001b[1;37m          ^\u001b[0m\n\u001b[1;31mSyntaxError\u001b[0m\u001b[1;31m:\u001b[0m invalid syntax\n"
     ]
    }
   ],
   "source": [
    "# (ii)\tthen, create a table which shows the proportions of people identified \n",
    "# as Democrat, Republican, Independent and Other for each year.\n",
    "\n",
    "data = {\n",
    "    other = \"No answer\", \"Don't know\", \"Other party\",\n",
    "    rep = \"Strong republican\", \"Not str republican\",\n",
    "    ind = \"Ind,near rep\", \"Independent\", \"Ind,near dem\",\n",
    "    dem = \"Not str democrat\", \"Strong democrat\"}\n",
    "\n",
    "df = pd.DataFrame(data, columns=['partyid', 'year'])\n",
    "\n",
    "df = df.assign(relative_frequency=1).groupby(['partyid', 'year']).count().unstack()\n",
    "df.div(df.sum(1), axis=0)\n",
    "          "
   ]
  },
  {
   "cell_type": "code",
   "execution_count": null,
   "metadata": {},
   "outputs": [],
   "source": [
    "# (iii) (iii)\tCreate a line plot to see how the proportions of people identified\n",
    "# as Democrat, Republican, and Independent changed over time. "
   ]
  }
 ],
 "metadata": {
  "kernelspec": {
   "display_name": "Python 3",
   "language": "python",
   "name": "python3"
  },
  "language_info": {
   "codemirror_mode": {
    "name": "ipython",
    "version": 3
   },
   "file_extension": ".py",
   "mimetype": "text/x-python",
   "name": "python",
   "nbconvert_exporter": "python",
   "pygments_lexer": "ipython3",
   "version": "3.8.5"
  }
 },
 "nbformat": 4,
 "nbformat_minor": 4
}
