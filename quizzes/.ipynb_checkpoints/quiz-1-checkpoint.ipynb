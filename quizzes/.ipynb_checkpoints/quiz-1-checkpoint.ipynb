{
 "cells": [
  {
   "cell_type": "markdown",
   "id": "canadian-variance",
   "metadata": {},
   "source": [
    "# Quiz 1\n",
    "## Loan Pham and Brandan Owens"
   ]
  },
  {
   "cell_type": "markdown",
   "id": "elder-family",
   "metadata": {},
   "source": [
    "Q.1 Create the following lists: <br>first_name=[\"Mary\",\"James\",\"Peter\",\"Yoyo\"] <br>last_name=[\"Brown\",\"White\",\"Reed\",\"Holt\"]."
   ]
  },
  {
   "cell_type": "code",
   "execution_count": 1,
   "id": "endangered-breeding",
   "metadata": {},
   "outputs": [],
   "source": [
    "#Q.1\n",
    "first_name=[\"Mary\",\"James\",\"Peter\",\"Yoyo\"]\n",
    "last_name=[\"Brown\",\"White\",\"Reed\",\"Holt\"]"
   ]
  },
  {
   "cell_type": "markdown",
   "id": "printable-master",
   "metadata": {},
   "source": [
    "(a) Create a list of pairs with the last name and then the first name in each pair. Display the list."
   ]
  },
  {
   "cell_type": "code",
   "execution_count": 2,
   "id": "established-apartment",
   "metadata": {},
   "outputs": [
    {
     "name": "stdout",
     "output_type": "stream",
     "text": [
      "['Mary Brown', 'James White', 'Peter Reed', 'Yoyo Holt']\n"
     ]
    }
   ],
   "source": [
    "#Q.1.a\n",
    "pairs=[0,0,0,0]\n",
    "for i in range(len(pairs)):\n",
    "    pairs[i] = first_name[i]+\" \"+last_name[i]\n",
    "print(pairs)"
   ]
  },
  {
   "cell_type": "markdown",
   "id": "disabled-yahoo",
   "metadata": {},
   "source": [
    "(b) Create a dictionary by counting the number of vowels in each of the first names. The keys should be the\n",
    "first names and the values should be the number of vowels."
   ]
  },
  {
   "cell_type": "code",
   "execution_count": 3,
   "id": "optical-muscle",
   "metadata": {},
   "outputs": [
    {
     "name": "stdout",
     "output_type": "stream",
     "text": [
      "{'Mary': 2, 'James': 2, 'Peter': 2, 'Yoyo': 4}\n"
     ]
    }
   ],
   "source": [
    "#Q.1.b\n",
    "def vowelcount(list):\n",
    "    #add/remove 'y' and 'Y' for \"sometimes Y\" switch default=on\n",
    "    return sum([1 for char in ''.join(list) if char in 'aeiouyAEIOUY'])\n",
    "vowelCountByName = dict.fromkeys(first_name,0)\n",
    "for name in first_name:\n",
    "    vowelCountByName[name] = vowelcount(name)\n",
    "\n",
    "print(vowelCountByName)"
   ]
  },
  {
   "cell_type": "markdown",
   "id": "earned-length",
   "metadata": {},
   "source": [
    "(c) for the list in (a), access the last two elements"
   ]
  },
  {
   "cell_type": "code",
   "execution_count": 4,
   "id": "prerequisite-phenomenon",
   "metadata": {},
   "outputs": [
    {
     "name": "stdout",
     "output_type": "stream",
     "text": [
      "Peter Reed, Yoyo Holt\n"
     ]
    }
   ],
   "source": [
    "#Q.1.c\n",
    "print(pairs[2]+\", \"+pairs[3])"
   ]
  },
  {
   "cell_type": "markdown",
   "id": "affecting-camera",
   "metadata": {},
   "source": [
    "(d) for the list in (a), sort it in descending order of last name."
   ]
  },
  {
   "cell_type": "code",
   "execution_count": 13,
   "id": "little-violence",
   "metadata": {},
   "outputs": [
    {
     "name": "stdout",
     "output_type": "stream",
     "text": [
      "['Mary Brown', 'James White', 'Peter Reed', 'Yoyo Holt']\n",
      "['James White', 'Peter Reed', 'Yoyo Holt', 'Mary Brown']\n"
     ]
    }
   ],
   "source": [
    "#Q.1.d\n",
    "print (pairs)\n",
    "pairs.sort(key=lambda ws: ws.split(\" \")[1], reverse=True)\n",
    "print(pairs)"
   ]
  },
  {
   "cell_type": "markdown",
   "id": "informal-portrait",
   "metadata": {},
   "source": [
    "Q.2 Create a list of 100 pairs of numbers. In each pair, the first number is a random integer between 0 and 50.\n",
    "The second number is also a random integer between 0 and 50. Extracts the pairs with the first number less than\n",
    "the second number."
   ]
  },
  {
   "cell_type": "code",
   "execution_count": 22,
   "id": "american-determination",
   "metadata": {},
   "outputs": [
    {
     "name": "stdout",
     "output_type": "stream",
     "text": [
      "[(44, 23), (6, 22), (8, 27), (13, 21), (16, 19), (34, 13), (45, 12), (25, 11), (42, 38), (20, 1), (5, 33), (32, 11), (46, 36), (40, 2), (18, 8), (27, 9), (19, 18), (38, 13), (10, 0), (18, 20), (14, 39), (11, 30), (6, 29), (27, 46), (15, 48), (2, 17), (12, 36), (15, 17), (14, 23), (30, 43), (44, 14), (27, 45), (42, 7), (38, 48), (21, 48), (27, 40), (11, 32), (13, 33), (24, 30), (9, 0), (17, 13), (2, 40), (10, 27), (30, 21), (8, 20), (18, 37), (43, 20), (44, 23), (8, 16), (40, 41), (6, 32), (38, 29), (47, 4), (32, 33), (47, 16), (22, 40), (25, 4), (40, 45), (31, 12), (30, 33), (17, 2), (21, 17), (27, 18), (15, 42), (6, 4), (27, 39), (1, 32), (32, 4), (43, 4), (21, 31), (19, 4), (16, 20), (32, 31), (6, 37), (30, 41), (38, 46), (20, 0), (5, 27), (45, 20), (17, 38), (39, 2), (19, 9), (1, 29), (17, 5), (33, 12), (37, 1), (27, 7), (6, 10), (8, 40), (21, 14), (45, 46), (8, 25), (39, 30), (8, 43), (7, 38), (34, 16), (23, 1), (12, 47), (39, 8), (8, 30)]\n",
      "Match!\n",
      "[(44, 23), (6, 22), (8, 27), (13, 21), (16, 19), (34, 13), (45, 12), (25, 11), (42, 38), (20, 1), (5, 33), (32, 11), (46, 36), (40, 2), (18, 8), (27, 9), (19, 18), (38, 13), (10, 0), (18, 20), (14, 39), (11, 30), (6, 29), (27, 46), (15, 48), (2, 17), (12, 36), (15, 17), (14, 23), (30, 43), (44, 14), (27, 45), (42, 7), (38, 48), (21, 48), (27, 40), (11, 32), (13, 33), (24, 30), (9, 0), (17, 13), (2, 40), (10, 27), (30, 21), (8, 20), (18, 37), (43, 20), (44, 23), (8, 16), (40, 41), (6, 32), (38, 29), (47, 4), (32, 33), (47, 16), (22, 40), (25, 4), (40, 45), (31, 12), (30, 33), (17, 2), (21, 17), (27, 18), (15, 42), (6, 4), (27, 39), (1, 32), (32, 4), (43, 4), (21, 31), (19, 4), (16, 20), (32, 31), (6, 37), (30, 41), (38, 46), (20, 0), (5, 27), (45, 20), (17, 38), (39, 2), (19, 9), (1, 29), (17, 5), (33, 12), (37, 1), (27, 7), (6, 10), (8, 40), (21, 14), (45, 46), (8, 25), (39, 30), (8, 43), (7, 38), (34, 16), (23, 1), (12, 47), (39, 8), (8, 30)]\n"
     ]
    }
   ],
   "source": [
    "#Q.2\n",
    "import random\n",
    "oneHundredNumberPairs=[(random.randrange(0,49), random.randrange(0,49)) for _ in range (100)]\n",
    "print(oneHundredNumberPairs)#clean up\n",
    "matchingPairs = [x for x in oneHundredNumberPairs if x[0] < x[1]]\n",
    "print(\"Match!\")\n",
    "print(matchingPairs)"
   ]
  }
 ],
 "metadata": {
  "kernelspec": {
   "display_name": "Python 3",
   "language": "python",
   "name": "python3"
  },
  "language_info": {
   "codemirror_mode": {
    "name": "ipython",
    "version": 3
   },
   "file_extension": ".py",
   "mimetype": "text/x-python",
   "name": "python",
   "nbconvert_exporter": "python",
   "pygments_lexer": "ipython3",
   "version": "3.8.5"
  }
 },
 "nbformat": 4,
 "nbformat_minor": 5
}
