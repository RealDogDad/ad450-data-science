{
 "cells": [
  {
   "cell_type": "markdown",
   "id": "arctic-lightweight",
   "metadata": {},
   "source": [
    "# Quiz 1\n",
    "## Loan Pham and Brandan Owens"
   ]
  },
  {
   "cell_type": "markdown",
   "id": "consecutive-personality",
   "metadata": {},
   "source": [
    "Q.1 Create the following lists: <br>first_name=[\"Mary\",\"James\",\"Peter\",\"Yoyo\"] <br>last_name=[[\"Brown\",\"White\",\"Reed\",\"Holt\"]."
   ]
  },
  {
   "cell_type": "markdown",
   "id": "characteristic-header",
   "metadata": {},
   "source": [
    "(a) Create a list of pairs with the last name and then the first name in each pair. Display the list."
   ]
  },
  {
   "cell_type": "code",
   "execution_count": 3,
   "id": "extended-plasma",
   "metadata": {},
   "outputs": [],
   "source": [
    "#Q.1.a"
   ]
  },
  {
   "cell_type": "markdown",
   "id": "varied-medication",
   "metadata": {},
   "source": [
    "(b) Create a dictionary by counting the number of vowels in each of the first names. The keys should be the\n",
    "first names and the values should be the number of vowels."
   ]
  },
  {
   "cell_type": "code",
   "execution_count": 5,
   "id": "compact-sacrifice",
   "metadata": {},
   "outputs": [],
   "source": [
    "#Q.1.b"
   ]
  },
  {
   "cell_type": "markdown",
   "id": "amended-gospel",
   "metadata": {},
   "source": [
    "(c) for the list in (a), access the last two elements"
   ]
  },
  {
   "cell_type": "code",
   "execution_count": 6,
   "id": "excess-lighter",
   "metadata": {},
   "outputs": [],
   "source": [
    "#Q.1.c"
   ]
  },
  {
   "cell_type": "markdown",
   "id": "sufficient-advancement",
   "metadata": {},
   "source": [
    "(d) for the list in (a), sort it in descending order of last name."
   ]
  },
  {
   "cell_type": "code",
   "execution_count": 8,
   "id": "appropriate-pontiac",
   "metadata": {},
   "outputs": [],
   "source": [
    "#Q.1.d"
   ]
  },
  {
   "cell_type": "markdown",
   "id": "relative-import",
   "metadata": {},
   "source": [
    "Q.2 Create a list of 100 pairs of numbers. In each pair, the first number is a random integer between 0 and 50.\n",
    "The second number is also a random integer between 0 and 50. Extracts the pairs with the first number less than\n",
    "the second number."
   ]
  },
  {
   "cell_type": "code",
   "execution_count": 9,
   "id": "constitutional-jesus",
   "metadata": {},
   "outputs": [],
   "source": [
    "#Q.2"
   ]
  }
 ],
 "metadata": {
  "kernelspec": {
   "display_name": "Python 3",
   "language": "python",
   "name": "python3"
  },
  "language_info": {
   "codemirror_mode": {
    "name": "ipython",
    "version": 3
   },
   "file_extension": ".py",
   "mimetype": "text/x-python",
   "name": "python",
   "nbconvert_exporter": "python",
   "pygments_lexer": "ipython3",
   "version": "3.8.5"
  }
 },
 "nbformat": 4,
 "nbformat_minor": 5
}
