{
 "cells": [
  {
   "cell_type": "markdown",
   "id": "derived-announcement",
   "metadata": {},
   "source": [
    "# Quiz 1\n",
    "## Loan Pham and Brandan Owens"
   ]
  },
  {
   "cell_type": "markdown",
   "id": "sought-issue",
   "metadata": {},
   "source": [
    "Q.1 Create the following lists: <br>first_name=[\"Mary\",\"James\",\"Peter\",\"Yoyo\"] <br>last_name=[\"Brown\",\"White\",\"Reed\",\"Holt\"]."
   ]
  },
  {
   "cell_type": "code",
   "execution_count": 1,
   "id": "balanced-forward",
   "metadata": {},
   "outputs": [],
   "source": [
    "#Q.1\n",
    "first_name=[\"Mary\",\"James\",\"Peter\",\"Yoyo\"]\n",
    "last_name=[\"Brown\",\"White\",\"Reed\",\"Holt\"]"
   ]
  },
  {
   "cell_type": "markdown",
   "id": "commercial-casting",
   "metadata": {},
   "source": [
    "(a) Create a list of pairs with the last name and then the first name in each pair. Display the list."
   ]
  },
  {
   "cell_type": "code",
   "execution_count": 2,
   "id": "prerequisite-cosmetic",
   "metadata": {},
   "outputs": [
    {
     "name": "stdout",
     "output_type": "stream",
     "text": [
      "['Mary Brown', 'James White', 'Peter Reed', 'Yoyo Holt']\n"
     ]
    }
   ],
   "source": [
    "#Q.1.a\n",
    "pairs=[0,0,0,0]\n",
    "for i in range(len(pairs)):\n",
    "    pairs[i] = first_name[i]+\" \"+last_name[i]\n",
    "print(pairs)"
   ]
  },
  {
   "cell_type": "markdown",
   "id": "sonic-pricing",
   "metadata": {},
   "source": [
    "(b) Create a dictionary by counting the number of vowels in each of the first names. The keys should be the\n",
    "first names and the values should be the number of vowels."
   ]
  },
  {
   "cell_type": "code",
   "execution_count": 3,
   "id": "vocal-patent",
   "metadata": {},
   "outputs": [
    {
     "name": "stdout",
     "output_type": "stream",
     "text": [
      "{'Mary': 2, 'James': 2, 'Peter': 2, 'Yoyo': 4}\n"
     ]
    }
   ],
   "source": [
    "#Q.1.b\n",
    "def vowelcount(list):\n",
    "    #add/remove 'y' and 'Y' for \"sometimes Y\" switch default=on\n",
    "    return sum([1 for char in ''.join(list) if char in 'aeiouyAEIOUY'])\n",
    "vowelCountByName = dict.fromkeys(first_name,0)\n",
    "for name in first_name:\n",
    "    vowelCountByName[name] = vowelcount(name)\n",
    "\n",
    "print(vowelCountByName)"
   ]
  },
  {
   "cell_type": "markdown",
   "id": "ideal-indianapolis",
   "metadata": {},
   "source": [
    "(c) for the list in (a), access the last two elements"
   ]
  },
  {
   "cell_type": "code",
   "execution_count": 4,
   "id": "minimal-planning",
   "metadata": {},
   "outputs": [
    {
     "name": "stdout",
     "output_type": "stream",
     "text": [
      "Peter Reed, Yoyo Holt\n"
     ]
    }
   ],
   "source": [
    "#Q.1.c\n",
    "print(pairs[2]+\", \"+pairs[3])"
   ]
  },
  {
   "cell_type": "markdown",
   "id": "significant-gibraltar",
   "metadata": {},
   "source": [
    "(d) for the list in (a), sort it in descending order of last name."
   ]
  },
  {
   "cell_type": "code",
   "execution_count": 5,
   "id": "acting-october",
   "metadata": {},
   "outputs": [
    {
     "name": "stdout",
     "output_type": "stream",
     "text": [
      "['Mary Brown', 'James White', 'Peter Reed', 'Yoyo Holt']\n",
      "['James White', 'Peter Reed', 'Yoyo Holt', 'Mary Brown']\n"
     ]
    }
   ],
   "source": [
    "#Q.1.d\n",
    "print (pairs)\n",
    "pairs.sort(key=lambda ws: ws.split(\" \")[1], reverse=True)\n",
    "print(pairs)"
   ]
  },
  {
   "cell_type": "markdown",
   "id": "residential-fight",
   "metadata": {},
   "source": [
    "Q.2 Create a list of 100 pairs of numbers. In each pair, the first number is a random integer between 0 and 50.\n",
    "The second number is also a random integer between 0 and 50. Extracts the pairs with the first number less than\n",
    "the second number."
   ]
  },
  {
   "cell_type": "code",
   "execution_count": 6,
   "id": "right-digit",
   "metadata": {},
   "outputs": [
    {
     "name": "stdout",
     "output_type": "stream",
     "text": [
      "[(8, 32), (31, 7), (3, 36), (47, 13), (29, 8), (17, 26), (21, 1), (33, 31), (47, 34), (14, 43), (27, 29), (13, 3), (2, 39), (21, 40), (17, 8), (37, 22), (2, 42), (17, 3), (41, 23), (38, 9), (0, 24), (33, 17), (25, 39), (26, 26), (11, 7), (29, 1), (13, 46), (24, 44), (45, 0), (5, 13), (3, 42), (1, 31), (15, 32), (38, 37), (3, 34), (40, 26), (35, 48), (22, 9), (27, 32), (8, 15), (40, 26), (38, 10), (42, 3), (20, 18), (39, 45), (8, 11), (42, 19), (40, 39), (4, 15), (43, 44), (31, 27), (44, 34), (45, 44), (34, 18), (22, 31), (7, 37), (8, 11), (40, 13), (38, 43), (43, 18), (6, 13), (46, 3), (33, 48), (8, 31), (2, 6), (36, 0), (20, 18), (7, 15), (36, 3), (1, 44), (30, 13), (6, 38), (1, 46), (33, 41), (37, 11), (27, 1), (44, 19), (0, 41), (31, 48), (41, 45), (9, 15), (25, 38), (0, 25), (34, 13), (30, 20), (3, 45), (22, 0), (24, 42), (35, 36), (23, 27), (5, 29), (35, 11), (10, 19), (35, 45), (19, 16), (13, 44), (46, 32), (40, 25), (46, 5), (14, 42)]\n",
      "Match!\n",
      "[(8, 32), (3, 36), (17, 26), (14, 43), (27, 29), (2, 39), (21, 40), (2, 42), (0, 24), (25, 39), (13, 46), (24, 44), (5, 13), (3, 42), (1, 31), (15, 32), (3, 34), (35, 48), (27, 32), (8, 15), (39, 45), (8, 11), (4, 15), (43, 44), (22, 31), (7, 37), (8, 11), (38, 43), (6, 13), (33, 48), (8, 31), (2, 6), (7, 15), (1, 44), (6, 38), (1, 46), (33, 41), (0, 41), (31, 48), (41, 45), (9, 15), (25, 38), (0, 25), (3, 45), (24, 42), (35, 36), (23, 27), (5, 29), (10, 19), (35, 45), (13, 44), (14, 42)]\n"
     ]
    }
   ],
   "source": [
    "#Q.2\n",
    "import random\n",
    "oneHundredNumberPairs=[(random.randrange(0,49), random.randrange(0,49)) for _ in range (100)]\n",
    "print(oneHundredNumberPairs)\n",
    "matchingPairs = [x for x in oneHundredNumberPairs if x[0] < x[1]]\n",
    "print(\"Match!\")\n",
    "print(matchingPairs)"
   ]
  }
 ],
 "metadata": {
  "kernelspec": {
   "display_name": "Python 3",
   "language": "python",
   "name": "python3"
  },
  "language_info": {
   "codemirror_mode": {
    "name": "ipython",
    "version": 3
   },
   "file_extension": ".py",
   "mimetype": "text/x-python",
   "name": "python",
   "nbconvert_exporter": "python",
   "pygments_lexer": "ipython3",
   "version": "3.8.5"
  }
 },
 "nbformat": 4,
 "nbformat_minor": 5
}
