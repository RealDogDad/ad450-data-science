{
 "cells": [
  {
   "cell_type": "markdown",
   "id": "familiar-bradley",
   "metadata": {},
   "source": [
    "# Quiz 1\n",
    "## Loan Pham and Brandan Owens"
   ]
  },
  {
   "cell_type": "markdown",
   "id": "blocked-inclusion",
   "metadata": {},
   "source": [
    "Q.1 Create the following lists: <br>first_name=[\"Mary\",\"James\",\"Peter\",\"Yoyo\"] <br>last_name=[\"Brown\",\"White\",\"Reed\",\"Holt\"]."
   ]
  },
  {
   "cell_type": "code",
   "execution_count": 14,
   "id": "southwest-primary",
   "metadata": {},
   "outputs": [],
   "source": [
    "#Q.1\n",
    "first_name=[\"Mary\",\"James\",\"Peter\",\"Yoyo\"]\n",
    "last_name=[\"Brown\",\"White\",\"Reed\",\"Holt\"]"
   ]
  },
  {
   "cell_type": "markdown",
   "id": "oriental-world",
   "metadata": {},
   "source": [
    "(a) Create a list of pairs with the last name and then the first name in each pair. Display the list."
   ]
  },
  {
   "cell_type": "code",
   "execution_count": 40,
   "id": "cutting-electric",
   "metadata": {},
   "outputs": [
    {
     "name": "stdout",
     "output_type": "stream",
     "text": [
      "['Mary Brown', 'James White', 'Peter Reed', 'Yoyo Holt']\n"
     ]
    }
   ],
   "source": [
    "#Q.1.a\n",
    "pairs=[0,0,0,0]\n",
    "for x in range(len(pairs)):\n",
    "    pairs[x] = first_name[x]+\" \"+last_name[x]\n",
    "print(pairs)"
   ]
  },
  {
   "cell_type": "markdown",
   "id": "moving-myanmar",
   "metadata": {},
   "source": [
    "(b) Create a dictionary by counting the number of vowels in each of the first names. The keys should be the\n",
    "first names and the values should be the number of vowels."
   ]
  },
  {
   "cell_type": "code",
   "execution_count": 61,
   "id": "tough-elevation",
   "metadata": {},
   "outputs": [
    {
     "name": "stdout",
     "output_type": "stream",
     "text": [
      "{'Mary': 2, 'James': 2, 'Peter': 2, 'Yoyo': 4}\n"
     ]
    }
   ],
   "source": [
    "#Q.1.b\n",
    "def vowelcount(list):\n",
    "    #add/remove 'y' and 'Y' for \"sometimes Y\" switch default=on\n",
    "    return sum([1 for char in ''.join(list) if char in 'aeiouyAEIOUY'])\n",
    "vowelCountByName = dict.fromkeys(first_name,0)\n",
    "for name in first_name:\n",
    "    vowelCountByName[name] = vowelcount(name)\n",
    "\n",
    "print(vowelCountByName)"
   ]
  },
  {
   "cell_type": "markdown",
   "id": "approved-emperor",
   "metadata": {},
   "source": [
    "(c) for the list in (a), access the last two elements"
   ]
  },
  {
   "cell_type": "code",
   "execution_count": 6,
   "id": "patient-whale",
   "metadata": {},
   "outputs": [],
   "source": [
    "#Q.1.c"
   ]
  },
  {
   "cell_type": "markdown",
   "id": "civic-chrome",
   "metadata": {},
   "source": [
    "(d) for the list in (a), sort it in descending order of last name."
   ]
  },
  {
   "cell_type": "code",
   "execution_count": 8,
   "id": "persistent-deployment",
   "metadata": {},
   "outputs": [],
   "source": [
    "#Q.1.d"
   ]
  },
  {
   "cell_type": "markdown",
   "id": "minor-reviewer",
   "metadata": {},
   "source": [
    "Q.2 Create a list of 100 pairs of numbers. In each pair, the first number is a random integer between 0 and 50.\n",
    "The second number is also a random integer between 0 and 50. Extracts the pairs with the first number less than\n",
    "the second number."
   ]
  },
  {
   "cell_type": "code",
   "execution_count": 9,
   "id": "metric-person",
   "metadata": {},
   "outputs": [],
   "source": [
    "#Q.2"
   ]
  }
 ],
 "metadata": {
  "kernelspec": {
   "display_name": "Python 3",
   "language": "python",
   "name": "python3"
  },
  "language_info": {
   "codemirror_mode": {
    "name": "ipython",
    "version": 3
   },
   "file_extension": ".py",
   "mimetype": "text/x-python",
   "name": "python",
   "nbconvert_exporter": "python",
   "pygments_lexer": "ipython3",
   "version": "3.8.5"
  }
 },
 "nbformat": 4,
 "nbformat_minor": 5
}
