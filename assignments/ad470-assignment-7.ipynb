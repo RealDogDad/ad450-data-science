{
 "cells": [
  {
   "cell_type": "markdown",
   "metadata": {},
   "source": [
    "### AD470 - Module 7 Introduction to Deep LearningProgramming Assignment\n",
    "#### Andrew Boyer\n",
    "#### Brandan Owens"
   ]
  },
  {
   "cell_type": "code",
   "execution_count": 36,
   "metadata": {},
   "outputs": [],
   "source": [
    "import numpy as np\r\n",
    "import pandas as pd\r\n",
    "import seaborn as sns\r\n",
    "import matplotlib.pyplot as plt\r\n",
    "import scipy.io\r\n",
    "from sklearn.preprocessing import StandardScaler\r\n",
    "\r\n",
    "import tensorflow\r\n",
    "from tensorflow import keras\r\n",
    "from tensorflow.keras import layers\r\n",
    "\r\n",
    "from tensorflow.keras.models import Sequential\r\n",
    "from tensorflow.keras.layers import Dense\r\n",
    "from sklearn.model_selection import train_test_split"
   ]
  },
  {
   "cell_type": "markdown",
   "metadata": {},
   "source": [
    "#### Q.1(a)  Use pandas to read in the dataset “Churn_Modelling.csv”"
   ]
  },
  {
   "cell_type": "code",
   "execution_count": 37,
   "metadata": {},
   "outputs": [
    {
     "data": {
      "text/plain": "Index(['RowNumber', 'CustomerId', 'Surname', 'CreditScore', 'Geography',\n       'Gender', 'Age', 'Tenure', 'Balance', 'NumOfProducts', 'HasCrCard',\n       'IsActiveMember', 'EstimatedSalary', 'Exited'],\n      dtype='object')"
     },
     "execution_count": 37,
     "metadata": {},
     "output_type": "execute_result"
    }
   ],
   "source": [
    "churn_df = pd.read_csv(\"Churn_Modelling.csv\")\n",
    "churn_df.columns"
   ]
  },
  {
   "cell_type": "markdown",
   "metadata": {},
   "source": [
    "#### (b) Create the following bar plots."
   ]
  },
  {
   "cell_type": "code",
   "execution_count": 38,
   "metadata": {},
   "outputs": [
    {
     "data": {
      "text/plain": "<AxesSubplot:xlabel='Exited', ylabel='count'>"
     },
     "execution_count": 38,
     "metadata": {},
     "output_type": "execute_result"
    },
    {
     "data": {
      "image/png": "[encoded data removed]",
      "text/plain": "<Figure size 432x288 with 1 Axes>"
     },
     "metadata": {
      "needs_background": "light"
     },
     "output_type": "display_data"
    }
   ],
   "source": [
    "sns.countplot(data = churn_df, x = 'Exited' )"
   ]
  },
  {
   "cell_type": "code",
   "execution_count": 39,
   "metadata": {},
   "outputs": [
    {
     "data": {
      "text/plain": "<AxesSubplot:xlabel='Geography', ylabel='count'>"
     },
     "execution_count": 39,
     "metadata": {},
     "output_type": "execute_result"
    },
    {
     "data": {
      "image/png": "[encoded data removed]",
      "text/plain": "<Figure size 432x288 with 1 Axes>"
     },
     "metadata": {
      "needs_background": "light"
     },
     "output_type": "display_data"
    }
   ],
   "source": [
    "sns.countplot(data = churn_df , x = 'Geography', hue = 'Exited')"
   ]
  },
  {
   "cell_type": "code",
   "execution_count": 40,
   "metadata": {},
   "outputs": [
    {
     "data": {
      "text/plain": "<AxesSubplot:xlabel='Geography', ylabel='Balance'>"
     },
     "execution_count": 40,
     "metadata": {},
     "output_type": "execute_result"
    },
    {
     "data": {
      "image/png": "[encoded data removed]",
      "text/plain": "<Figure size 432x288 with 1 Axes>"
     },
     "metadata": {
      "needs_background": "light"
     },
     "output_type": "display_data"
    }
   ],
   "source": [
    "sns.barplot(data=churn_df , x= 'Geography', y= 'Balance')"
   ]
  },
  {
   "cell_type": "markdown",
   "metadata": {},
   "source": [
    "#### (c)  From the dataframe, find the percentage of people who exited, and the percentage of people who did not exit."
   ]
  },
  {
   "cell_type": "code",
   "execution_count": 41,
   "metadata": {},
   "outputs": [
    {
     "data": {
      "text/plain": "0    79.63\n1    20.37\nName: Exited, dtype: float64"
     },
     "execution_count": 41,
     "metadata": {},
     "output_type": "execute_result"
    }
   ],
   "source": [
    "churn_df['Exited'].value_counts()/churn_df['Exited'].count()*100"
   ]
  },
  {
   "cell_type": "markdown",
   "metadata": {},
   "source": [
    "#### (d) Check for any missing values in the dataframe."
   ]
  },
  {
   "cell_type": "code",
   "execution_count": 42,
   "metadata": {},
   "outputs": [
    {
     "data": {
      "text/plain": "False"
     },
     "execution_count": 42,
     "metadata": {},
     "output_type": "execute_result"
    }
   ],
   "source": [
    "churn_df.isnull().values.any()"
   ]
  },
  {
   "cell_type": "markdown",
   "metadata": {},
   "source": [
    "#### (e)  Define X and y"
   ]
  },
  {
   "cell_type": "code",
   "execution_count": 43,
   "metadata": {},
   "outputs": [],
   "source": [
    "X = churn_df.drop(['RowNumber', 'CustomerId', 'Surname', 'Exited'], axis=1)\n",
    "y = churn_df['Exited']"
   ]
  },
  {
   "cell_type": "markdown",
   "metadata": {},
   "source": [
    "#### (f)  Get dummies for all categorical variables of X, remember to set drop_first = True."
   ]
  },
  {
   "cell_type": "code",
   "execution_count": 44,
   "metadata": {},
   "outputs": [
    {
     "data": {
      "text/html": "<div>\n<style scoped>\n    .dataframe tbody tr th:only-of-type {\n        vertical-align: middle;\n    }\n\n    .dataframe tbody tr th {\n        vertical-align: top;\n    }\n\n    .dataframe thead th {\n        text-align: right;\n    }\n</style>\n<table border=\"1\" class=\"dataframe\">\n  <thead>\n    <tr style=\"text-align: right;\">\n      <th></th>\n      <th>CreditScore</th>\n      <th>Age</th>\n      <th>Tenure</th>\n      <th>Balance</th>\n      <th>NumOfProducts</th>\n      <th>HasCrCard</th>\n      <th>IsActiveMember</th>\n      <th>EstimatedSalary</th>\n      <th>Geography_Germany</th>\n      <th>Geography_Spain</th>\n      <th>Gender_Male</th>\n    </tr>\n  </thead>\n  <tbody>\n    <tr>\n      <th>0</th>\n      <td>619</td>\n      <td>42</td>\n      <td>2</td>\n      <td>0.00</td>\n      <td>1</td>\n      <td>1</td>\n      <td>1</td>\n      <td>101348.88</td>\n      <td>0</td>\n      <td>0</td>\n      <td>0</td>\n    </tr>\n    <tr>\n      <th>1</th>\n      <td>608</td>\n      <td>41</td>\n      <td>1</td>\n      <td>83807.86</td>\n      <td>1</td>\n      <td>0</td>\n      <td>1</td>\n      <td>112542.58</td>\n      <td>0</td>\n      <td>1</td>\n      <td>0</td>\n    </tr>\n    <tr>\n      <th>2</th>\n      <td>502</td>\n      <td>42</td>\n      <td>8</td>\n      <td>159660.80</td>\n      <td>3</td>\n      <td>1</td>\n      <td>0</td>\n      <td>113931.57</td>\n      <td>0</td>\n      <td>0</td>\n      <td>0</td>\n    </tr>\n    <tr>\n      <th>3</th>\n      <td>699</td>\n      <td>39</td>\n      <td>1</td>\n      <td>0.00</td>\n      <td>2</td>\n      <td>0</td>\n      <td>0</td>\n      <td>93826.63</td>\n      <td>0</td>\n      <td>0</td>\n      <td>0</td>\n    </tr>\n    <tr>\n      <th>4</th>\n      <td>850</td>\n      <td>43</td>\n      <td>2</td>\n      <td>125510.82</td>\n      <td>1</td>\n      <td>1</td>\n      <td>1</td>\n      <td>79084.10</td>\n      <td>0</td>\n      <td>1</td>\n      <td>0</td>\n    </tr>\n    <tr>\n      <th>...</th>\n      <td>...</td>\n      <td>...</td>\n      <td>...</td>\n      <td>...</td>\n      <td>...</td>\n      <td>...</td>\n      <td>...</td>\n      <td>...</td>\n      <td>...</td>\n      <td>...</td>\n      <td>...</td>\n    </tr>\n    <tr>\n      <th>9995</th>\n      <td>771</td>\n      <td>39</td>\n      <td>5</td>\n      <td>0.00</td>\n      <td>2</td>\n      <td>1</td>\n      <td>0</td>\n      <td>96270.64</td>\n      <td>0</td>\n      <td>0</td>\n      <td>1</td>\n    </tr>\n    <tr>\n      <th>9996</th>\n      <td>516</td>\n      <td>35</td>\n      <td>10</td>\n      <td>57369.61</td>\n      <td>1</td>\n      <td>1</td>\n      <td>1</td>\n      <td>101699.77</td>\n      <td>0</td>\n      <td>0</td>\n      <td>1</td>\n    </tr>\n    <tr>\n      <th>9997</th>\n      <td>709</td>\n      <td>36</td>\n      <td>7</td>\n      <td>0.00</td>\n      <td>1</td>\n      <td>0</td>\n      <td>1</td>\n      <td>42085.58</td>\n      <td>0</td>\n      <td>0</td>\n      <td>0</td>\n    </tr>\n    <tr>\n      <th>9998</th>\n      <td>772</td>\n      <td>42</td>\n      <td>3</td>\n      <td>75075.31</td>\n      <td>2</td>\n      <td>1</td>\n      <td>0</td>\n      <td>92888.52</td>\n      <td>1</td>\n      <td>0</td>\n      <td>1</td>\n    </tr>\n    <tr>\n      <th>9999</th>\n      <td>792</td>\n      <td>28</td>\n      <td>4</td>\n      <td>130142.79</td>\n      <td>1</td>\n      <td>1</td>\n      <td>0</td>\n      <td>38190.78</td>\n      <td>0</td>\n      <td>0</td>\n      <td>0</td>\n    </tr>\n  </tbody>\n</table>\n<p>10000 rows × 11 columns</p>\n</div>",
      "text/plain": "      CreditScore  Age  Tenure    Balance  NumOfProducts  HasCrCard  \\\n0             619   42       2       0.00              1          1   \n1             608   41       1   83807.86              1          0   \n2             502   42       8  159660.80              3          1   \n3             699   39       1       0.00              2          0   \n4             850   43       2  125510.82              1          1   \n...           ...  ...     ...        ...            ...        ...   \n9995          771   39       5       0.00              2          1   \n9996          516   35      10   57369.61              1          1   \n9997          709   36       7       0.00              1          0   \n9998          772   42       3   75075.31              2          1   \n9999          792   28       4  130142.79              1          1   \n\n      IsActiveMember  EstimatedSalary  Geography_Germany  Geography_Spain  \\\n0                  1        101348.88                  0                0   \n1                  1        112542.58                  0                1   \n2                  0        113931.57                  0                0   \n3                  0         93826.63                  0                0   \n4                  1         79084.10                  0                1   \n...              ...              ...                ...              ...   \n9995               0         96270.64                  0                0   \n9996               1        101699.77                  0                0   \n9997               1         42085.58                  0                0   \n9998               0         92888.52                  1                0   \n9999               0         38190.78                  0                0   \n\n      Gender_Male  \n0               0  \n1               0  \n2               0  \n3               0  \n4               0  \n...           ...  \n9995            1  \n9996            1  \n9997            0  \n9998            1  \n9999            0  \n\n[10000 rows x 11 columns]"
     },
     "execution_count": 44,
     "metadata": {},
     "output_type": "execute_result"
    }
   ],
   "source": [
    "X = pd.get_dummies(X, drop_first = True)\n",
    "X"
   ]
  },
  {
   "cell_type": "markdown",
   "metadata": {},
   "source": [
    "#### (g) Split the dataset into training set and test set. test_size=0.2, random_state=0"
   ]
  },
  {
   "cell_type": "code",
   "execution_count": 45,
   "metadata": {},
   "outputs": [],
   "source": [
    "X_train, X_test, y_train, y_test = train_test_split(X, y, test_size=0.2, random_state=0)"
   ]
  },
  {
   "cell_type": "markdown",
   "metadata": {},
   "source": [
    "#### (h) Use the following codes to do the feature scaling on the training and test sets. (Standardize all numerical variables by subtracting the means and dividing each variable by its standard deviation.)"
   ]
  },
  {
   "cell_type": "code",
   "execution_count": 46,
   "metadata": {},
   "outputs": [],
   "source": [
    "sc_x = StandardScaler()\n",
    "X_train = pd.DataFrame(sc_x.fit_transform(X_train), columns=X.columns.values)\n",
    "X_test = pd.DataFrame(sc_x.transform(X_test), columns=X.columns.values)"
   ]
  },
  {
   "cell_type": "markdown",
   "metadata": {},
   "source": [
    "#### (i)  Build a 4-layer neural network."
   ]
  },
  {
   "cell_type": "code",
   "execution_count": 47,
   "metadata": {},
   "outputs": [],
   "source": [
    "#model = keras.Sequential([\n",
    "#    layers.Dense(6, activation='relu', input_shape=[11]),\n",
    "#    layers.Dense(12, activation='relu'),\n",
    "#    layers.Dense(24, activation='relu'),\n",
    "#    layers.Dense(1, activation='sigmoid'),\n",
    "#])\n",
    "\n",
    "model = Sequential()\n",
    "model.add(Dense(6, input_shape=(11,), activation='relu'))\n",
    "model.add(Dense(12, activation='relu'))\n",
    "model.add(Dense(24, activation='relu'))\n",
    "model.add(Dense(1, activation='sigmoid'))\n"
   ]
  },
  {
   "cell_type": "code",
   "execution_count": 48,
   "metadata": {},
   "outputs": [
    {
     "name": "stdout",
     "output_type": "stream",
     "text": [
      "Model: \"sequential_1\"\n",
      "_________________________________________________________________\n",
      "Layer (type)                 Output Shape              Param #   \n",
      "=================================================================\n",
      "dense_4 (Dense)              (None, 6)                 72        \n",
      "_________________________________________________________________\n",
      "dense_5 (Dense)              (None, 12)                84        \n",
      "_________________________________________________________________\n",
      "dense_6 (Dense)              (None, 24)                312       \n",
      "_________________________________________________________________\n",
      "dense_7 (Dense)              (None, 1)                 25        \n",
      "=================================================================\n",
      "Total params: 493\n",
      "Trainable params: 493\n",
      "Non-trainable params: 0\n",
      "_________________________________________________________________\n"
     ]
    }
   ],
   "source": [
    "model.summary()"
   ]
  },
  {
   "cell_type": "markdown",
   "metadata": {},
   "source": [
    "#### (j) Compile the neural network."
   ]
  },
  {
   "cell_type": "code",
   "execution_count": 49,
   "metadata": {},
   "outputs": [],
   "source": [
    "model.compile(optimizer='adam', \n",
    "              loss = 'binary_crossentropy',\n",
    "              metrics=['accuracy'])"
   ]
  },
  {
   "cell_type": "code",
   "execution_count": 50,
   "metadata": {},
   "outputs": [],
   "source": [
    "#model.summary()\n",
    "#x_partial_train = X_train[:100]\n",
    "#y_partial_train = y_train[:100]\n",
    "#x_val = X_train[100:]\n",
    "#y_val = y_train[100:]"
   ]
  },
  {
   "cell_type": "markdown",
   "metadata": {},
   "source": [
    "#### (k) Fit the model on training set. Set the batch_size =10, run for 100 epochs."
   ]
  },
  {
   "cell_type": "code",
   "execution_count": 51,
   "metadata": {},
   "outputs": [
    {
     "name": "stdout",
     "output_type": "stream",
     "text": [
      "Epoch 1/100\n",
      "800/800 [==============================] - 2s 2ms/step - loss: 0.5098 - accuracy: 0.7857 - val_loss: 0.4502 - val_accuracy: 0.7975\n",
      "Epoch 2/100\n",
      "800/800 [==============================] - 1s 1ms/step - loss: 0.4497 - accuracy: 0.7916 - val_loss: 0.4362 - val_accuracy: 0.7975\n",
      "Epoch 3/100\n",
      "800/800 [==============================] - 1s 1ms/step - loss: 0.4313 - accuracy: 0.7970 - val_loss: 0.4269 - val_accuracy: 0.8250\n",
      "Epoch 4/100\n",
      "800/800 [==============================] - 1s 1ms/step - loss: 0.4075 - accuracy: 0.8227 - val_loss: 0.4126 - val_accuracy: 0.8335\n",
      "Epoch 5/100\n",
      "800/800 [==============================] - 1s 1ms/step - loss: 0.4276 - accuracy: 0.8207 - val_loss: 0.4016 - val_accuracy: 0.8395\n",
      "Epoch 6/100\n",
      "800/800 [==============================] - 1s 1ms/step - loss: 0.4017 - accuracy: 0.8313 - val_loss: 0.3849 - val_accuracy: 0.8485\n",
      "Epoch 7/100\n",
      "800/800 [==============================] - 1s 1ms/step - loss: 0.3910 - accuracy: 0.8349 - val_loss: 0.3585 - val_accuracy: 0.8600\n",
      "Epoch 8/100\n",
      "800/800 [==============================] - 1s 1ms/step - loss: 0.3689 - accuracy: 0.8454 - val_loss: 0.3451 - val_accuracy: 0.8650\n",
      "Epoch 9/100\n",
      "800/800 [==============================] - 1s 1ms/step - loss: 0.3619 - accuracy: 0.8507 - val_loss: 0.3424 - val_accuracy: 0.8640\n",
      "Epoch 10/100\n",
      "800/800 [==============================] - 1s 1ms/step - loss: 0.3530 - accuracy: 0.8563 - val_loss: 0.3376 - val_accuracy: 0.8665\n",
      "Epoch 11/100\n",
      "800/800 [==============================] - 1s 1ms/step - loss: 0.3449 - accuracy: 0.8547 - val_loss: 0.3329 - val_accuracy: 0.8650\n",
      "Epoch 12/100\n",
      "800/800 [==============================] - 1s 1ms/step - loss: 0.3289 - accuracy: 0.8653 - val_loss: 0.3296 - val_accuracy: 0.8680\n",
      "Epoch 13/100\n",
      "800/800 [==============================] - 1s 1ms/step - loss: 0.3333 - accuracy: 0.8637 - val_loss: 0.3273 - val_accuracy: 0.8730\n",
      "Epoch 14/100\n",
      "800/800 [==============================] - 1s 1ms/step - loss: 0.3376 - accuracy: 0.8598 - val_loss: 0.3271 - val_accuracy: 0.8725\n",
      "Epoch 15/100\n",
      "800/800 [==============================] - 1s 1ms/step - loss: 0.3405 - accuracy: 0.8555 - val_loss: 0.3278 - val_accuracy: 0.8675\n",
      "Epoch 16/100\n",
      "800/800 [==============================] - 1s 1ms/step - loss: 0.3440 - accuracy: 0.8580 - val_loss: 0.3280 - val_accuracy: 0.8650\n",
      "Epoch 17/100\n",
      "800/800 [==============================] - 1s 1ms/step - loss: 0.3307 - accuracy: 0.8669 - val_loss: 0.3284 - val_accuracy: 0.8620\n",
      "Epoch 18/100\n",
      "800/800 [==============================] - 1s 1ms/step - loss: 0.3267 - accuracy: 0.8608 - val_loss: 0.3370 - val_accuracy: 0.8620\n",
      "Epoch 19/100\n",
      "800/800 [==============================] - 1s 1ms/step - loss: 0.3271 - accuracy: 0.8654 - val_loss: 0.3252 - val_accuracy: 0.8675\n",
      "Epoch 20/100\n",
      "800/800 [==============================] - 1s 1ms/step - loss: 0.3310 - accuracy: 0.8632 - val_loss: 0.3303 - val_accuracy: 0.8630\n",
      "Epoch 21/100\n",
      "800/800 [==============================] - 1s 2ms/step - loss: 0.3262 - accuracy: 0.8640 - val_loss: 0.3260 - val_accuracy: 0.8675\n",
      "Epoch 22/100\n",
      "800/800 [==============================] - 1s 2ms/step - loss: 0.3273 - accuracy: 0.8644 - val_loss: 0.3318 - val_accuracy: 0.8610\n",
      "Epoch 23/100\n",
      "800/800 [==============================] - 1s 2ms/step - loss: 0.3267 - accuracy: 0.8713 - val_loss: 0.3262 - val_accuracy: 0.8645\n",
      "Epoch 24/100\n",
      "800/800 [==============================] - 1s 1ms/step - loss: 0.3273 - accuracy: 0.8657 - val_loss: 0.3258 - val_accuracy: 0.8650\n",
      "Epoch 25/100\n",
      "800/800 [==============================] - 1s 1ms/step - loss: 0.3313 - accuracy: 0.8590 - val_loss: 0.3245 - val_accuracy: 0.8650\n",
      "Epoch 26/100\n",
      "800/800 [==============================] - 1s 1ms/step - loss: 0.3216 - accuracy: 0.8688 - val_loss: 0.3245 - val_accuracy: 0.8670\n",
      "Epoch 27/100\n",
      "800/800 [==============================] - 1s 1ms/step - loss: 0.3403 - accuracy: 0.8561 - val_loss: 0.3293 - val_accuracy: 0.8585\n",
      "Epoch 28/100\n",
      "800/800 [==============================] - 1s 1ms/step - loss: 0.3293 - accuracy: 0.8632 - val_loss: 0.3320 - val_accuracy: 0.8575\n",
      "Epoch 29/100\n",
      "800/800 [==============================] - 1s 1ms/step - loss: 0.3213 - accuracy: 0.8645 - val_loss: 0.3241 - val_accuracy: 0.8635\n",
      "Epoch 30/100\n",
      "800/800 [==============================] - 1s 2ms/step - loss: 0.3296 - accuracy: 0.8674 - val_loss: 0.3270 - val_accuracy: 0.8615\n",
      "Epoch 31/100\n",
      "800/800 [==============================] - 1s 2ms/step - loss: 0.3266 - accuracy: 0.8668 - val_loss: 0.3246 - val_accuracy: 0.8620\n",
      "Epoch 32/100\n",
      "800/800 [==============================] - 1s 1ms/step - loss: 0.3398 - accuracy: 0.8549 - val_loss: 0.3332 - val_accuracy: 0.8595\n",
      "Epoch 33/100\n",
      "800/800 [==============================] - 1s 2ms/step - loss: 0.3278 - accuracy: 0.8694 - val_loss: 0.3240 - val_accuracy: 0.8640\n",
      "Epoch 34/100\n",
      "800/800 [==============================] - 1s 1ms/step - loss: 0.3176 - accuracy: 0.8660 - val_loss: 0.3281 - val_accuracy: 0.8650\n",
      "Epoch 35/100\n",
      "800/800 [==============================] - 1s 1ms/step - loss: 0.3219 - accuracy: 0.8689 - val_loss: 0.3224 - val_accuracy: 0.8670\n",
      "Epoch 36/100\n",
      "800/800 [==============================] - 1s 1ms/step - loss: 0.3269 - accuracy: 0.8645 - val_loss: 0.3241 - val_accuracy: 0.8645\n",
      "Epoch 37/100\n",
      "800/800 [==============================] - 1s 1ms/step - loss: 0.3173 - accuracy: 0.8733 - val_loss: 0.3244 - val_accuracy: 0.8655\n",
      "Epoch 38/100\n",
      "800/800 [==============================] - 1s 2ms/step - loss: 0.3256 - accuracy: 0.8656 - val_loss: 0.3276 - val_accuracy: 0.8630\n",
      "Epoch 39/100\n",
      "800/800 [==============================] - 1s 1ms/step - loss: 0.3120 - accuracy: 0.8728 - val_loss: 0.3239 - val_accuracy: 0.8655\n",
      "Epoch 40/100\n",
      "800/800 [==============================] - 1s 1ms/step - loss: 0.3217 - accuracy: 0.8693 - val_loss: 0.3259 - val_accuracy: 0.8630\n",
      "Epoch 41/100\n",
      "800/800 [==============================] - 1s 1ms/step - loss: 0.3231 - accuracy: 0.8670 - val_loss: 0.3302 - val_accuracy: 0.8630\n",
      "Epoch 42/100\n",
      "800/800 [==============================] - 1s 1ms/step - loss: 0.3262 - accuracy: 0.8633 - val_loss: 0.3316 - val_accuracy: 0.8605\n",
      "Epoch 43/100\n",
      "800/800 [==============================] - 1s 1ms/step - loss: 0.3230 - accuracy: 0.8691 - val_loss: 0.3226 - val_accuracy: 0.8660\n",
      "Epoch 44/100\n",
      "800/800 [==============================] - 1s 1ms/step - loss: 0.3228 - accuracy: 0.8623 - val_loss: 0.3226 - val_accuracy: 0.8630\n",
      "Epoch 45/100\n",
      "800/800 [==============================] - 1s 1ms/step - loss: 0.3232 - accuracy: 0.8659 - val_loss: 0.3232 - val_accuracy: 0.8655\n",
      "Epoch 46/100\n",
      "800/800 [==============================] - 1s 1ms/step - loss: 0.3174 - accuracy: 0.8666 - val_loss: 0.3262 - val_accuracy: 0.8650\n",
      "Epoch 47/100\n",
      "800/800 [==============================] - 1s 1ms/step - loss: 0.3167 - accuracy: 0.8667 - val_loss: 0.3322 - val_accuracy: 0.8605\n",
      "Epoch 48/100\n",
      "800/800 [==============================] - 1s 1ms/step - loss: 0.3271 - accuracy: 0.8612 - val_loss: 0.3274 - val_accuracy: 0.8625\n",
      "Epoch 49/100\n",
      "800/800 [==============================] - 1s 1ms/step - loss: 0.3287 - accuracy: 0.8667 - val_loss: 0.3230 - val_accuracy: 0.8630\n",
      "Epoch 50/100\n",
      "800/800 [==============================] - 1s 1ms/step - loss: 0.3219 - accuracy: 0.8662 - val_loss: 0.3251 - val_accuracy: 0.8670\n",
      "Epoch 51/100\n",
      "800/800 [==============================] - 1s 1ms/step - loss: 0.3225 - accuracy: 0.8674 - val_loss: 0.3257 - val_accuracy: 0.8615\n",
      "Epoch 52/100\n",
      "800/800 [==============================] - 1s 1ms/step - loss: 0.3212 - accuracy: 0.8684 - val_loss: 0.3244 - val_accuracy: 0.8650\n",
      "Epoch 53/100\n",
      "800/800 [==============================] - 1s 1ms/step - loss: 0.3232 - accuracy: 0.8629 - val_loss: 0.3259 - val_accuracy: 0.8665\n",
      "Epoch 54/100\n",
      "800/800 [==============================] - 1s 1ms/step - loss: 0.3319 - accuracy: 0.8598 - val_loss: 0.3279 - val_accuracy: 0.8650\n",
      "Epoch 55/100\n",
      "800/800 [==============================] - 1s 1ms/step - loss: 0.3166 - accuracy: 0.8706 - val_loss: 0.3237 - val_accuracy: 0.8660\n",
      "Epoch 56/100\n",
      "800/800 [==============================] - 1s 1ms/step - loss: 0.3128 - accuracy: 0.8769 - val_loss: 0.3309 - val_accuracy: 0.8605\n",
      "Epoch 57/100\n",
      "800/800 [==============================] - 1s 1ms/step - loss: 0.3090 - accuracy: 0.8693 - val_loss: 0.3303 - val_accuracy: 0.8630\n",
      "Epoch 58/100\n",
      "800/800 [==============================] - 1s 1ms/step - loss: 0.3239 - accuracy: 0.8646 - val_loss: 0.3391 - val_accuracy: 0.8625\n",
      "Epoch 59/100\n",
      "800/800 [==============================] - 1s 1ms/step - loss: 0.3248 - accuracy: 0.8664 - val_loss: 0.3228 - val_accuracy: 0.8680\n",
      "Epoch 60/100\n",
      "800/800 [==============================] - 1s 1ms/step - loss: 0.3176 - accuracy: 0.8676 - val_loss: 0.3256 - val_accuracy: 0.8630\n",
      "Epoch 61/100\n",
      "800/800 [==============================] - 1s 1ms/step - loss: 0.3115 - accuracy: 0.8727 - val_loss: 0.3252 - val_accuracy: 0.8660\n",
      "Epoch 62/100\n",
      "800/800 [==============================] - 1s 1ms/step - loss: 0.3121 - accuracy: 0.8724 - val_loss: 0.3271 - val_accuracy: 0.8640\n",
      "Epoch 63/100\n",
      "800/800 [==============================] - 1s 1ms/step - loss: 0.3195 - accuracy: 0.8673 - val_loss: 0.3278 - val_accuracy: 0.8655\n",
      "Epoch 64/100\n",
      "800/800 [==============================] - 1s 1ms/step - loss: 0.3142 - accuracy: 0.8745 - val_loss: 0.3309 - val_accuracy: 0.8595\n",
      "Epoch 65/100\n",
      "800/800 [==============================] - 1s 1ms/step - loss: 0.3126 - accuracy: 0.8695 - val_loss: 0.3413 - val_accuracy: 0.8570\n",
      "Epoch 66/100\n",
      "800/800 [==============================] - 1s 1ms/step - loss: 0.3117 - accuracy: 0.8682 - val_loss: 0.3290 - val_accuracy: 0.8635\n",
      "Epoch 67/100\n",
      "800/800 [==============================] - 1s 1ms/step - loss: 0.3159 - accuracy: 0.8678 - val_loss: 0.3238 - val_accuracy: 0.8655\n",
      "Epoch 68/100\n",
      "800/800 [==============================] - 1s 1ms/step - loss: 0.3226 - accuracy: 0.8648 - val_loss: 0.3308 - val_accuracy: 0.8550\n",
      "Epoch 69/100\n",
      "800/800 [==============================] - 1s 1ms/step - loss: 0.3227 - accuracy: 0.8624 - val_loss: 0.3269 - val_accuracy: 0.8640\n",
      "Epoch 70/100\n",
      "800/800 [==============================] - 1s 1ms/step - loss: 0.3153 - accuracy: 0.8680 - val_loss: 0.3271 - val_accuracy: 0.8600\n",
      "Epoch 71/100\n",
      "800/800 [==============================] - 1s 1ms/step - loss: 0.3207 - accuracy: 0.8672 - val_loss: 0.3275 - val_accuracy: 0.8660\n",
      "Epoch 72/100\n",
      "800/800 [==============================] - 1s 1ms/step - loss: 0.3188 - accuracy: 0.8736 - val_loss: 0.3237 - val_accuracy: 0.8650\n",
      "Epoch 73/100\n",
      "800/800 [==============================] - 1s 1ms/step - loss: 0.3217 - accuracy: 0.8677 - val_loss: 0.3238 - val_accuracy: 0.8640\n",
      "Epoch 74/100\n",
      "800/800 [==============================] - 1s 1ms/step - loss: 0.3277 - accuracy: 0.8604 - val_loss: 0.3308 - val_accuracy: 0.8605\n",
      "Epoch 75/100\n",
      "800/800 [==============================] - 1s 1ms/step - loss: 0.3181 - accuracy: 0.8697 - val_loss: 0.3248 - val_accuracy: 0.8645\n",
      "Epoch 76/100\n",
      "800/800 [==============================] - 1s 1ms/step - loss: 0.3230 - accuracy: 0.8676 - val_loss: 0.3315 - val_accuracy: 0.8575\n",
      "Epoch 77/100\n",
      "800/800 [==============================] - 1s 1ms/step - loss: 0.3089 - accuracy: 0.8752 - val_loss: 0.3272 - val_accuracy: 0.8615\n",
      "Epoch 78/100\n",
      "800/800 [==============================] - 1s 1ms/step - loss: 0.3213 - accuracy: 0.8607 - val_loss: 0.3345 - val_accuracy: 0.8610\n",
      "Epoch 79/100\n",
      "800/800 [==============================] - 1s 1ms/step - loss: 0.3242 - accuracy: 0.8665 - val_loss: 0.3281 - val_accuracy: 0.8610\n",
      "Epoch 80/100\n",
      "800/800 [==============================] - 1s 1ms/step - loss: 0.3141 - accuracy: 0.8680 - val_loss: 0.3275 - val_accuracy: 0.8645\n",
      "Epoch 81/100\n",
      "800/800 [==============================] - 1s 1ms/step - loss: 0.3143 - accuracy: 0.8716 - val_loss: 0.3256 - val_accuracy: 0.8670\n",
      "Epoch 82/100\n",
      "800/800 [==============================] - 1s 1ms/step - loss: 0.3214 - accuracy: 0.8704 - val_loss: 0.3299 - val_accuracy: 0.8575\n",
      "Epoch 83/100\n",
      "800/800 [==============================] - 1s 1ms/step - loss: 0.3196 - accuracy: 0.8656 - val_loss: 0.3281 - val_accuracy: 0.8645\n",
      "Epoch 84/100\n",
      "800/800 [==============================] - 1s 1ms/step - loss: 0.3149 - accuracy: 0.8726 - val_loss: 0.3288 - val_accuracy: 0.8650\n",
      "Epoch 85/100\n",
      "800/800 [==============================] - 1s 1ms/step - loss: 0.3197 - accuracy: 0.8679 - val_loss: 0.3261 - val_accuracy: 0.8635\n",
      "Epoch 86/100\n",
      "800/800 [==============================] - 1s 1ms/step - loss: 0.3101 - accuracy: 0.8747 - val_loss: 0.3272 - val_accuracy: 0.8655\n",
      "Epoch 87/100\n",
      "800/800 [==============================] - 1s 1ms/step - loss: 0.3146 - accuracy: 0.8687 - val_loss: 0.3262 - val_accuracy: 0.8690\n",
      "Epoch 88/100\n",
      "800/800 [==============================] - 1s 1ms/step - loss: 0.3182 - accuracy: 0.8660 - val_loss: 0.3292 - val_accuracy: 0.8660\n",
      "Epoch 89/100\n",
      "800/800 [==============================] - 1s 1ms/step - loss: 0.3245 - accuracy: 0.8653 - val_loss: 0.3317 - val_accuracy: 0.8625\n",
      "Epoch 90/100\n",
      "800/800 [==============================] - 1s 1ms/step - loss: 0.3193 - accuracy: 0.8605 - val_loss: 0.3342 - val_accuracy: 0.8630\n",
      "Epoch 91/100\n",
      "800/800 [==============================] - 1s 1ms/step - loss: 0.3220 - accuracy: 0.8604 - val_loss: 0.3254 - val_accuracy: 0.8660\n",
      "Epoch 92/100\n",
      "800/800 [==============================] - 1s 1ms/step - loss: 0.3338 - accuracy: 0.8550 - val_loss: 0.3287 - val_accuracy: 0.8660\n",
      "Epoch 93/100\n",
      "800/800 [==============================] - 1s 1ms/step - loss: 0.3132 - accuracy: 0.8711 - val_loss: 0.3270 - val_accuracy: 0.8640\n",
      "Epoch 94/100\n",
      "800/800 [==============================] - 1s 1ms/step - loss: 0.3176 - accuracy: 0.8685 - val_loss: 0.3259 - val_accuracy: 0.8635\n",
      "Epoch 95/100\n",
      "800/800 [==============================] - 1s 1ms/step - loss: 0.3288 - accuracy: 0.8633 - val_loss: 0.3258 - val_accuracy: 0.8645\n",
      "Epoch 96/100\n",
      "800/800 [==============================] - 1s 1ms/step - loss: 0.3177 - accuracy: 0.8666 - val_loss: 0.3326 - val_accuracy: 0.8600\n",
      "Epoch 97/100\n",
      "800/800 [==============================] - 1s 1ms/step - loss: 0.3175 - accuracy: 0.8660 - val_loss: 0.3287 - val_accuracy: 0.8670\n",
      "Epoch 98/100\n",
      "800/800 [==============================] - 1s 1ms/step - loss: 0.3186 - accuracy: 0.8711 - val_loss: 0.3267 - val_accuracy: 0.8610\n",
      "Epoch 99/100\n",
      "800/800 [==============================] - 1s 1ms/step - loss: 0.3154 - accuracy: 0.8689 - val_loss: 0.3278 - val_accuracy: 0.8630\n",
      "Epoch 100/100\n",
      "800/800 [==============================] - 1s 1ms/step - loss: 0.3230 - accuracy: 0.8598 - val_loss: 0.3277 - val_accuracy: 0.8650\n"
     ]
    }
   ],
   "source": [
    "history = model.fit(\n",
    "    X_train, y_train,\n",
    "    validation_data=(X_test,y_test),\n",
    "    epochs=100, \n",
    "    batch_size =10,\n",
    ")"
   ]
  },
  {
   "cell_type": "markdown",
   "metadata": {},
   "source": [
    "#### (l) Evaluate the model on test set."
   ]
  },
  {
   "cell_type": "code",
   "execution_count": 52,
   "metadata": {},
   "outputs": [
    {
     "name": "stdout",
     "output_type": "stream",
     "text": [
      "63/63 - 0s - loss: 0.3277 - accuracy: 0.8650\n"
     ]
    }
   ],
   "source": [
    "test_loss, test_acc = model.evaluate(X_test,  y_test, verbose=2)"
   ]
  },
  {
   "cell_type": "code",
   "execution_count": 53,
   "metadata": {},
   "outputs": [
    {
     "data": {
      "image/png": "[encoded data removed]",
      "text/plain": "<Figure size 432x288 with 1 Axes>"
     },
     "metadata": {
      "needs_background": "light"
     },
     "output_type": "display_data"
    }
   ],
   "source": [
    "history_dict = history.history\n",
    "loss_values = history_dict['loss']\n",
    "val_loss_values = history_dict['val_loss']\n",
    "\n",
    "epochs = range(1, len(loss_values) + 1)\n",
    "\n",
    "plt.plot(epochs, loss_values, 'bo', label='Training Loss')\n",
    "plt.plot(epochs, val_loss_values, 'b', label='Validation Loss')\n",
    "plt.title('Training and Validation Loss')\n",
    "plt.xlabel('Epochs')\n",
    "plt.ylabel('Loss')\n",
    "plt.legend()\n",
    "plt.show()"
   ]
  },
  {
   "cell_type": "code",
   "execution_count": 54,
   "metadata": {},
   "outputs": [
    {
     "data": {
      "image/png": "[encoded data removed]",
      "text/plain": "<Figure size 432x288 with 1 Axes>"
     },
     "metadata": {
      "needs_background": "light"
     },
     "output_type": "display_data"
    }
   ],
   "source": [
    "acc = history_dict['accuracy']\n",
    "val_acc = history_dict['val_accuracy']\n",
    "\n",
    "plt.plot(epochs, acc, 'bo', label='Training Accuracy')\n",
    "plt.plot(epochs, val_acc, 'b', label='Validation Accuracy')\n",
    "plt.title('Training and Validation Accuracy')\n",
    "plt.xlabel('Epochs')\n",
    "plt.ylabel('Accuracy')\n",
    "plt.legend()\n",
    "plt.show()"
   ]
  },
  {
   "cell_type": "markdown",
   "metadata": {},
   "source": [
    "#### (m) Finally, predict the probability of y = Exited on the test set."
   ]
  },
  {
   "cell_type": "code",
   "execution_count": 55,
   "metadata": {},
   "outputs": [
    {
     "name": "stdout",
     "output_type": "stream",
     "text": [
      "[[0.3008452 ]\n",
      " [0.14455077]\n",
      " [0.10149753]\n",
      " ...\n",
      " [0.11793983]\n",
      " [0.17102635]\n",
      " [0.3589452 ]]\n"
     ]
    }
   ],
   "source": [
    "prediction = model.predict(X_test)\n",
    "print(prediction)"
   ]
  },
  {
   "cell_type": "code",
   "execution_count": 56,
   "metadata": {},
   "outputs": [
    {
     "name": "stdout",
     "output_type": "stream",
     "text": [
      "0.111\n",
      "% of employees that have a 60% or greater chance of leaving the company\n"
     ]
    }
   ],
   "source": [
    "new_pred = (prediction > 0.6)\n",
    "true_count = np.count_nonzero(new_pred)\n",
    "print(true_count/new_pred.size)\n",
    "print(\"% of employees that have a 60% or greater chance of leaving the company\")\n",
    "\n"
   ]
  },
  {
   "cell_type": "markdown",
   "metadata": {},
   "source": [
    "#### Q.2 (a)  Download the file 'natural_images.zip', and extra the files."
   ]
  },
  {
   "cell_type": "code",
   "execution_count": 57,
   "metadata": {},
   "outputs": [],
   "source": [
    "import zipfile\r\n",
    "local_zip = \"natural_images.zip\"\r\n",
    "zip_ref = zipfile.ZipFile(local_zip, 'r')\r\n",
    "zip_ref.extractall('natural_images')"
   ]
  },
  {
   "cell_type": "markdown",
   "metadata": {},
   "source": [
    "#### (b) Use os.listdir to create a list of labels."
   ]
  },
  {
   "cell_type": "code",
   "execution_count": 58,
   "metadata": {},
   "outputs": [
    {
     "data": {
      "text/plain": "['natural_images']"
     },
     "execution_count": 58,
     "metadata": {},
     "output_type": "execute_result"
    }
   ],
   "source": [
    "os.listdir(\"natural_images\")"
   ]
  },
  {
   "cell_type": "markdown",
   "metadata": {},
   "source": [
    "#### (c)  Display the first 5 images of each class. "
   ]
  },
  {
   "cell_type": "code",
   "execution_count": 59,
   "metadata": {},
   "outputs": [
    {
     "ename": "SyntaxError",
     "evalue": "invalid syntax (<ipython-input-59-7687c3df335a>, line 2)",
     "output_type": "error",
     "traceback": [
      "\u001b[1;36m  File \u001b[1;32m\"<ipython-input-59-7687c3df335a>\"\u001b[1;36m, line \u001b[1;32m2\u001b[0m\n\u001b[1;33m    display(Image( image file))\u001b[0m\n\u001b[1;37m                            ^\u001b[0m\n\u001b[1;31mSyntaxError\u001b[0m\u001b[1;31m:\u001b[0m invalid syntax\n"
     ]
    }
   ],
   "source": [
    "from IPython.display import Image, display\n",
    "display(Image( image file))"
   ]
  },
  {
   "cell_type": "markdown",
   "metadata": {},
   "source": [
    "#### (d) Create the following barplot."
   ]
  },
  {
   "cell_type": "code",
   "execution_count": null,
   "metadata": {},
   "outputs": [],
   "source": []
  },
  {
   "cell_type": "markdown",
   "metadata": {},
   "source": [
    "#### (e)  Use cv2.imread() to convert images into numpy array (X). Then, use cv2.resize(), so that each image has the size (32,32) Create an array which contains the label of each image (Y)."
   ]
  },
  {
   "cell_type": "code",
   "execution_count": null,
   "metadata": {},
   "outputs": [],
   "source": []
  },
  {
   "cell_type": "markdown",
   "metadata": {},
   "source": [
    "#### (f)  Print the shape of images (X) and shape of labels (Y)."
   ]
  },
  {
   "cell_type": "code",
   "execution_count": null,
   "metadata": {},
   "outputs": [],
   "source": []
  },
  {
   "cell_type": "markdown",
   "metadata": {},
   "source": [
    "#### (g) Standardize X by dividing X by 255."
   ]
  },
  {
   "cell_type": "code",
   "execution_count": null,
   "metadata": {},
   "outputs": [],
   "source": []
  },
  {
   "cell_type": "markdown",
   "metadata": {},
   "source": [
    "#### (h) Use LabelEncoder() to encode Y. Use to_categorical() covert Y into categorical numpy array."
   ]
  },
  {
   "cell_type": "code",
   "execution_count": null,
   "metadata": {},
   "outputs": [],
   "source": []
  },
  {
   "cell_type": "markdown",
   "metadata": {},
   "source": [
    "#### (i)  Split the data into training set and test set. test_size = 0.33, random_state = 46."
   ]
  },
  {
   "cell_type": "code",
   "execution_count": null,
   "metadata": {},
   "outputs": [],
   "source": []
  },
  {
   "cell_type": "markdown",
   "metadata": {},
   "source": [
    "#### (j)  But a CNN model- first layer is Conv2D, filters =32, kernel_size = (5,5), activation = relu.- second layer is MaxPool2D, pool_size = (2,2)- third layer is Conv2D, filters =64, kernel_size = (3,3), activation = relu.- fourth layer is MaxPool2D, pool_size = (2,2)- fifth layer to flatten the tensors.- sixth layer is Dense, output shape = 256, activation = relu.- seventh layer is Dense, output shape = 8, activation = softmax."
   ]
  },
  {
   "cell_type": "code",
   "execution_count": null,
   "metadata": {},
   "outputs": [],
   "source": []
  },
  {
   "cell_type": "markdown",
   "metadata": {},
   "source": [
    "#### (k) Compile the modelloss='categorical_crossentropy', optimizer='adam', metrics=['accuracy']"
   ]
  },
  {
   "cell_type": "code",
   "execution_count": null,
   "metadata": {},
   "outputs": [],
   "source": []
  },
  {
   "cell_type": "markdown",
   "metadata": {},
   "source": [
    "#### (l)  fit the model, epochs = 25, validation_split = 0.2"
   ]
  },
  {
   "cell_type": "code",
   "execution_count": null,
   "metadata": {},
   "outputs": [],
   "source": []
  },
  {
   "cell_type": "markdown",
   "metadata": {},
   "source": [
    "#### (m)Plot the change in loss score on training set and validation set over epochs."
   ]
  },
  {
   "cell_type": "code",
   "execution_count": null,
   "metadata": {},
   "outputs": [],
   "source": []
  },
  {
   "cell_type": "markdown",
   "metadata": {},
   "source": [
    "#### (n) Plot the change in accuracy on training set and validation set over epochs."
   ]
  },
  {
   "cell_type": "code",
   "execution_count": null,
   "metadata": {},
   "outputs": [],
   "source": []
  },
  {
   "cell_type": "markdown",
   "metadata": {},
   "source": [
    "#### (o) Retrain the model using the entire training set and set epochs = 5. Evaluate the model on the test set."
   ]
  },
  {
   "cell_type": "code",
   "execution_count": null,
   "metadata": {},
   "outputs": [],
   "source": []
  }
 ],
 "metadata": {
  "kernelspec": {
   "display_name": "Python 3.7.9 64-bit (conda)",
   "name": "python379jvsc74a57bd0c8b02c0b7830c6be034f829bddcd26553b30113dfe02b1da117d7250feb233f7"
  },
  "language_info": {
   "codemirror_mode": {
    "name": "ipython",
    "version": 3
   },
   "file_extension": ".py",
   "mimetype": "text/x-python",
   "name": "python",
   "nbconvert_exporter": "python",
   "pygments_lexer": "ipython3",
   "version": "3.7.9"
  },
  "orig_nbformat": 3
 },
 "nbformat": 4,
 "nbformat_minor": 4
}