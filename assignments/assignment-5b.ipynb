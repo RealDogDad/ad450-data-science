{
 "cells": [
  {
   "cell_type": "markdown",
   "id": "continuous-assessment",
   "metadata": {},
   "source": [
    "# Assignment 5-b\n",
    "## Loan Pham and Brandan Owens"
   ]
  },
  {
   "cell_type": "code",
   "execution_count": 59,
   "id": "exclusive-services",
   "metadata": {},
   "outputs": [
    {
     "output_type": "error",
     "ename": "ModuleNotFoundError",
     "evalue": "No module named 'sklearn'",
     "traceback": [
      "\u001b[1;31m---------------------------------------------------------------------------\u001b[0m",
      "\u001b[1;31mModuleNotFoundError\u001b[0m                       Traceback (most recent call last)",
      "\u001b[1;32m<ipython-input-59-5139de408e66>\u001b[0m in \u001b[0;36m<module>\u001b[1;34m\u001b[0m\n\u001b[0;32m      4\u001b[0m \u001b[1;32mimport\u001b[0m \u001b[0mmatplotlib\u001b[0m\u001b[1;33m.\u001b[0m\u001b[0mpyplot\u001b[0m \u001b[1;32mas\u001b[0m \u001b[0mplt\u001b[0m\u001b[1;33m\u001b[0m\u001b[1;33m\u001b[0m\u001b[0m\n\u001b[0;32m      5\u001b[0m \u001b[1;32mimport\u001b[0m \u001b[0mseaborn\u001b[0m \u001b[1;32mas\u001b[0m \u001b[0msns\u001b[0m\u001b[1;33m\u001b[0m\u001b[1;33m\u001b[0m\u001b[0m\n\u001b[1;32m----> 6\u001b[1;33m \u001b[1;32mfrom\u001b[0m \u001b[0msklearn\u001b[0m \u001b[1;32mimport\u001b[0m \u001b[0mpreprocessing\u001b[0m\u001b[1;33m\u001b[0m\u001b[1;33m\u001b[0m\u001b[0m\n\u001b[0m\u001b[0;32m      7\u001b[0m \u001b[0mdf\u001b[0m \u001b[1;33m=\u001b[0m \u001b[0mpd\u001b[0m\u001b[1;33m.\u001b[0m\u001b[0mread_csv\u001b[0m\u001b[1;33m(\u001b[0m\u001b[1;34m\"../dataFiles/tips.csv\"\u001b[0m\u001b[1;33m)\u001b[0m\u001b[1;33m\u001b[0m\u001b[1;33m\u001b[0m\u001b[0m\n\u001b[0;32m      8\u001b[0m \u001b[0mdf\u001b[0m\u001b[1;33m.\u001b[0m\u001b[0mhead\u001b[0m\u001b[1;33m(\u001b[0m\u001b[1;36m5\u001b[0m\u001b[1;33m)\u001b[0m\u001b[1;33m\u001b[0m\u001b[1;33m\u001b[0m\u001b[0m\n",
      "\u001b[1;31mModuleNotFoundError\u001b[0m: No module named 'sklearn'"
     ]
    }
   ],
   "source": [
    "#q.1 Load dataset \"tips.csv\"\n",
    "import numpy as np\n",
    "import pandas as pd\n",
    "import matplotlib.pyplot as plt\n",
    "import seaborn as sns\n",
    "from sklearn import preprocessing\n",
    "df = pd.read_csv(\"../dataFiles/tips.csv\")\n",
    "df.head(5)"
   ]
  },
  {
   "cell_type": "code",
   "execution_count": 41,
   "id": "private-injection",
   "metadata": {},
   "outputs": [
    {
     "output_type": "execute_result",
     "data": {
      "text/plain": [
       "day   size\n",
       "Fri   1        1\n",
       "      2       16\n",
       "      3        1\n",
       "      4        1\n",
       "Sat   1        2\n",
       "      2       53\n",
       "      3       18\n",
       "      4       13\n",
       "      5        1\n",
       "Sun   2       39\n",
       "      3       15\n",
       "      4       18\n",
       "      5        3\n",
       "      6        1\n",
       "Thur  1        1\n",
       "      2       48\n",
       "      3        4\n",
       "      4        5\n",
       "      5        1\n",
       "      6        3\n",
       "Name: size, dtype: int64"
      ]
     },
     "metadata": {},
     "execution_count": 41
    }
   ],
   "source": [
    "#q.1.a Create a dataframe, party_count, by counting the party size for each day of a week.\n",
    "party_count = df.groupby(['day', 'size'])['size'].count()\n",
    "party_count"
   ]
  },
  {
   "cell_type": "code",
   "execution_count": 42,
   "id": "worst-sudan",
   "metadata": {},
   "outputs": [
    {
     "output_type": "execute_result",
     "data": {
      "text/plain": [
       "day   size\n",
       "Fri   2       16\n",
       "      3        1\n",
       "      4        1\n",
       "Sat   2       53\n",
       "      3       18\n",
       "      4       13\n",
       "      5        1\n",
       "Sun   2       39\n",
       "      3       15\n",
       "      4       18\n",
       "      5        3\n",
       "Thur  2       48\n",
       "      3        4\n",
       "      4        5\n",
       "      5        1\n",
       "Name: size, dtype: int64"
      ]
     },
     "metadata": {},
     "execution_count": 42
    }
   ],
   "source": [
    "#q.1.b Since there are not many parties with 1 person or 6 people, drop the party sizes of 1 and 6 from party_count.\n",
    "party_count.drop(index = 6, level = 1, inplace = True)\n",
    "party_count.drop(index = 1, level = 1, inplace = True)\n",
    "party_count"
   ]
  },
  {
   "cell_type": "code",
   "execution_count": 43,
   "id": "weighted-hypothesis",
   "metadata": {},
   "outputs": [],
   "source": [
    "#q.1.c Normalize it so that the percentages of party size sum to 1 for each day. Then create a bar plot.\n",
    "x = df.values()\n",
    "min_max_scaler = preprocessing.MinMaxScaler()\n",
    "x_scaled = min_max_scaler.fit_transform(x)\n",
    "df_scaled = pd.DataFrame(x_scaled)\n",
    "sx = sns.barplot(x=\"day\",y=\"\", data=df_scaled)"
   ]
  },
  {
   "cell_type": "code",
   "execution_count": 44,
   "id": "native-affiliate",
   "metadata": {},
   "outputs": [],
   "source": [
    "#q.1.d From the original dataframe, create a column of tipping percentage which is given by the following formula: tip_pct = tip / (total bill – tip). Create a bar plot of the tipping percentage by day."
   ]
  },
  {
   "cell_type": "code",
   "execution_count": 45,
   "id": "orange-volleyball",
   "metadata": {},
   "outputs": [],
   "source": [
    "#q.1.e Create a bar plot of the tipping percentage by day and lunch/dinner."
   ]
  },
  {
   "cell_type": "code",
   "execution_count": 46,
   "id": "medical-compact",
   "metadata": {},
   "outputs": [],
   "source": [
    "#q.1.f Plot the tipping percentage by day and lunch/dinner with seaborn for non-smokers. On the same figure, plot the tipping percentage by day and lunch/dinner for smokers."
   ]
  },
  {
   "cell_type": "code",
   "execution_count": 47,
   "id": "ranging-subcommittee",
   "metadata": {},
   "outputs": [],
   "source": [
    "#q.1.g Create a density plot for tipping percentage for lunch. Create a density plot for tipping percentage for dinner on the same figure."
   ]
  },
  {
   "cell_type": "code",
   "execution_count": 48,
   "id": "liked-boating",
   "metadata": {},
   "outputs": [
    {
     "output_type": "execute_result",
     "data": {
      "text/plain": [
       "   carat      cut color clarity  depth  table  price     x     y     z\n",
       "0   0.23    Ideal     E     SI2   61.5   55.0    326  3.95  3.98  2.43\n",
       "1   0.21  Premium     E     SI1   59.8   61.0    326  3.89  3.84  2.31\n",
       "2   0.23     Good     E     VS1   56.9   65.0    327  4.05  4.07  2.31\n",
       "3   0.29  Premium     I     VS2   62.4   58.0    334  4.20  4.23  2.63\n",
       "4   0.31     Good     J     SI2   63.3   58.0    335  4.34  4.35  2.75"
      ],
      "text/html": "<div>\n<style scoped>\n    .dataframe tbody tr th:only-of-type {\n        vertical-align: middle;\n    }\n\n    .dataframe tbody tr th {\n        vertical-align: top;\n    }\n\n    .dataframe thead th {\n        text-align: right;\n    }\n</style>\n<table border=\"1\" class=\"dataframe\">\n  <thead>\n    <tr style=\"text-align: right;\">\n      <th></th>\n      <th>carat</th>\n      <th>cut</th>\n      <th>color</th>\n      <th>clarity</th>\n      <th>depth</th>\n      <th>table</th>\n      <th>price</th>\n      <th>x</th>\n      <th>y</th>\n      <th>z</th>\n    </tr>\n  </thead>\n  <tbody>\n    <tr>\n      <th>0</th>\n      <td>0.23</td>\n      <td>Ideal</td>\n      <td>E</td>\n      <td>SI2</td>\n      <td>61.5</td>\n      <td>55.0</td>\n      <td>326</td>\n      <td>3.95</td>\n      <td>3.98</td>\n      <td>2.43</td>\n    </tr>\n    <tr>\n      <th>1</th>\n      <td>0.21</td>\n      <td>Premium</td>\n      <td>E</td>\n      <td>SI1</td>\n      <td>59.8</td>\n      <td>61.0</td>\n      <td>326</td>\n      <td>3.89</td>\n      <td>3.84</td>\n      <td>2.31</td>\n    </tr>\n    <tr>\n      <th>2</th>\n      <td>0.23</td>\n      <td>Good</td>\n      <td>E</td>\n      <td>VS1</td>\n      <td>56.9</td>\n      <td>65.0</td>\n      <td>327</td>\n      <td>4.05</td>\n      <td>4.07</td>\n      <td>2.31</td>\n    </tr>\n    <tr>\n      <th>3</th>\n      <td>0.29</td>\n      <td>Premium</td>\n      <td>I</td>\n      <td>VS2</td>\n      <td>62.4</td>\n      <td>58.0</td>\n      <td>334</td>\n      <td>4.20</td>\n      <td>4.23</td>\n      <td>2.63</td>\n    </tr>\n    <tr>\n      <th>4</th>\n      <td>0.31</td>\n      <td>Good</td>\n      <td>J</td>\n      <td>SI2</td>\n      <td>63.3</td>\n      <td>58.0</td>\n      <td>335</td>\n      <td>4.34</td>\n      <td>4.35</td>\n      <td>2.75</td>\n    </tr>\n  </tbody>\n</table>\n</div>"
     },
     "metadata": {},
     "execution_count": 48
    }
   ],
   "source": [
    "#q.2 Load the dataset 'diamonds.csv'\n",
    "df2 = pd.read_csv(\"../dataFiles/diamonds.csv\")\n",
    "df2.head(5)"
   ]
  },
  {
   "cell_type": "code",
   "execution_count": 49,
   "id": "careful-involvement",
   "metadata": {},
   "outputs": [],
   "source": [
    "#q.2.a Create a bar plot of different cuts."
   ]
  },
  {
   "cell_type": "code",
   "execution_count": 50,
   "id": "macro-philip",
   "metadata": {},
   "outputs": [],
   "source": [
    "#q.2.b Create a stacked bar plot of cuts vs. clarity."
   ]
  },
  {
   "cell_type": "code",
   "execution_count": 51,
   "id": "competent-mason",
   "metadata": {},
   "outputs": [],
   "source": [
    "#q.2.c Plot a histogram using 'carat'."
   ]
  },
  {
   "cell_type": "code",
   "execution_count": 52,
   "id": "certified-tactics",
   "metadata": {},
   "outputs": [],
   "source": [
    "#q.2.d Make density plots on 'carat' against 'cut'."
   ]
  },
  {
   "cell_type": "code",
   "execution_count": 53,
   "id": "academic-billy",
   "metadata": {},
   "outputs": [],
   "source": [
    "#q.2.e Make scatter plots to show the relationship between 'carat' and 'price'. Mark different 'cut' with separate colors."
   ]
  },
  {
   "cell_type": "code",
   "execution_count": 54,
   "id": "liked-landing",
   "metadata": {},
   "outputs": [],
   "source": [
    "#q.2.f Create a heatmap using 'cut' and 'color' use cmap=\"Greens\"."
   ]
  },
  {
   "cell_type": "code",
   "execution_count": 55,
   "id": "wrapped-formation",
   "metadata": {},
   "outputs": [],
   "source": [
    "#q.2.g Create a bar plot using 'cut' and 'color'."
   ]
  }
 ],
 "metadata": {
  "kernelspec": {
   "display_name": "Python 3",
   "language": "python",
   "name": "python3"
  },
  "language_info": {
   "codemirror_mode": {
    "name": "ipython",
    "version": 3
   },
   "file_extension": ".py",
   "mimetype": "text/x-python",
   "name": "python",
   "nbconvert_exporter": "python",
   "pygments_lexer": "ipython3",
   "version": "3.8.5-final"
  }
 },
 "nbformat": 4,
 "nbformat_minor": 5
}