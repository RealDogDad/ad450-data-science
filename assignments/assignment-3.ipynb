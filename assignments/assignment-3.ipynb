{
 "cells": [
  {
   "cell_type": "markdown",
   "id": "commercial-effects",
   "metadata": {},
   "source": [
    "# Assignment 3 - Handling arrays with NumPy\n",
    "### Loan Pham and Brandan Owens"
   ]
  },
  {
   "cell_type": "markdown",
   "id": "egyptian-elephant",
   "metadata": {},
   "source": [
    "### Exercise 1 \n",
    "Import the data set “Boston_Housing.csv” <br>Extract ['PRICE'] into an array<br>Plot a histogram of housing price<br>Find the mean, max, 75th percentile of the housing price.<br>Create an array of two rows, with the first row from [‘’RM”], and the second row from [“PRICE”]<br>Find the number of houses with “RM” < 5<br>Find the mean of the housing price, with “RM” > 5 <br>Plot a scatter plot to show the relationship between number of rooms and housing price (use  plt.scatter())"
   ]
  },
  {
   "cell_type": "code",
   "execution_count": 1,
   "id": "equipped-pharmacy",
   "metadata": {},
   "outputs": [],
   "source": [
    "#import the data set"
   ]
  },
  {
   "cell_type": "code",
   "execution_count": 2,
   "id": "noted-money",
   "metadata": {},
   "outputs": [],
   "source": [
    "#extract price"
   ]
  },
  {
   "cell_type": "code",
   "execution_count": 3,
   "id": "terminal-trial",
   "metadata": {},
   "outputs": [],
   "source": [
    "#plot histogram"
   ]
  },
  {
   "cell_type": "code",
   "execution_count": 4,
   "id": "collectible-charter",
   "metadata": {},
   "outputs": [],
   "source": [
    "#find the mean, max, 75th percentile of the housing price"
   ]
  },
  {
   "cell_type": "code",
   "execution_count": 5,
   "id": "raising-episode",
   "metadata": {},
   "outputs": [],
   "source": [
    "#create an array of two rows from \"RM\" and \"PRICE\""
   ]
  },
  {
   "cell_type": "code",
   "execution_count": 6,
   "id": "adverse-playing",
   "metadata": {},
   "outputs": [],
   "source": [
    "#find the number of houses where \"RM\" is less than 5"
   ]
  },
  {
   "cell_type": "code",
   "execution_count": 7,
   "id": "verified-brick",
   "metadata": {},
   "outputs": [],
   "source": [
    "#find the mean housing price where \"RM\" is greater than 5"
   ]
  },
  {
   "cell_type": "code",
   "execution_count": 8,
   "id": "sweet-brave",
   "metadata": {},
   "outputs": [],
   "source": [
    "#plot scatterplot"
   ]
  },
  {
   "cell_type": "markdown",
   "id": "negative-blake",
   "metadata": {},
   "source": [
    "Exercise 2<br>Create a 1000x1 array of numbers, x which divides the interval from -10 to 10 into equal widths.<br>Reshape the array x into 20x50 array, then:<br>   (a) Find the shape, dimension, and data type of the array.<br>   (b) Access the last element of each row<br>   (c)  Access first element and then every other elements of each row<br>   (d) Access the subarray 7th to 10th rows and 5th to 11th columns<br>   (e) find the sum of the 7th column<br>   (f) Print the elements in each column which is greater 0.<br>   (g) Replace all the negative numbers of the array with 0.<br>  (h) Sort each column of the array in descending order."
   ]
  },
  {
   "cell_type": "code",
   "execution_count": 9,
   "id": "adapted-graduation",
   "metadata": {},
   "outputs": [],
   "source": [
    "#create 1000x1 array"
   ]
  },
  {
   "cell_type": "code",
   "execution_count": 10,
   "id": "loose-pasta",
   "metadata": {},
   "outputs": [],
   "source": [
    "#reshape the array into 20x50"
   ]
  },
  {
   "cell_type": "code",
   "execution_count": null,
   "id": "aggressive-lawsuit",
   "metadata": {},
   "outputs": [],
   "source": []
  }
 ],
 "metadata": {
  "kernelspec": {
   "display_name": "Python 3",
   "language": "python",
   "name": "python3"
  },
  "language_info": {
   "codemirror_mode": {
    "name": "ipython",
    "version": 3
   },
   "file_extension": ".py",
   "mimetype": "text/x-python",
   "name": "python",
   "nbconvert_exporter": "python",
   "pygments_lexer": "ipython3",
   "version": "3.8.5"
  }
 },
 "nbformat": 4,
 "nbformat_minor": 5
}
