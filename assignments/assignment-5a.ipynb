{
 "cells": [
  {
   "cell_type": "markdown",
   "id": "indonesian-highlight",
   "metadata": {},
   "source": [
    "# Weekly Assignment 5a\n",
    "## Loan Pham and Brandan Owens"
   ]
  },
  {
   "cell_type": "markdown",
   "id": "imported-assault",
   "metadata": {},
   "source": [
    "Q.1 We'll We'll be working with the 120 years of Olympic History dataset. Download the dataset “athlete_events.csv” and perform the following:"
   ]
  },
  {
   "cell_type": "code",
   "execution_count": 70,
   "id": "renewable-subsection",
   "metadata": {},
   "outputs": [
    {
     "output_type": "execute_result",
     "data": {
      "text/plain": [
       "            ID                      Name Sex   Age  Height  Weight  \\\n",
       "0            1                 A Dijiang   M  24.0   180.0    80.0   \n",
       "1            2                  A Lamusi   M  23.0   170.0    60.0   \n",
       "2            3       Gunnar Nielsen Aaby   M  24.0     NaN     NaN   \n",
       "3            4      Edgar Lindenau Aabye   M  34.0     NaN     NaN   \n",
       "4            5  Christine Jacoba Aaftink   F  21.0   185.0    82.0   \n",
       "...        ...                       ...  ..   ...     ...     ...   \n",
       "271111  135569                Andrzej ya   M  29.0   179.0    89.0   \n",
       "271112  135570                  Piotr ya   M  27.0   176.0    59.0   \n",
       "271113  135570                  Piotr ya   M  27.0   176.0    59.0   \n",
       "271114  135571        Tomasz Ireneusz ya   M  30.0   185.0    96.0   \n",
       "271115  135571        Tomasz Ireneusz ya   M  34.0   185.0    96.0   \n",
       "\n",
       "                  Team  NOC        Games  Year  Season            City  \\\n",
       "0                China  CHN  1992 Summer  1992  Summer       Barcelona   \n",
       "1                China  CHN  2012 Summer  2012  Summer          London   \n",
       "2              Denmark  DEN  1920 Summer  1920  Summer       Antwerpen   \n",
       "3       Denmark/Sweden  DEN  1900 Summer  1900  Summer           Paris   \n",
       "4          Netherlands  NED  1988 Winter  1988  Winter         Calgary   \n",
       "...                ...  ...          ...   ...     ...             ...   \n",
       "271111        Poland-1  POL  1976 Winter  1976  Winter       Innsbruck   \n",
       "271112          Poland  POL  2014 Winter  2014  Winter           Sochi   \n",
       "271113          Poland  POL  2014 Winter  2014  Winter           Sochi   \n",
       "271114          Poland  POL  1998 Winter  1998  Winter          Nagano   \n",
       "271115          Poland  POL  2002 Winter  2002  Winter  Salt Lake City   \n",
       "\n",
       "                Sport                                     Event Medal  \n",
       "0          Basketball               Basketball Men's Basketball   NaN  \n",
       "1                Judo              Judo Men's Extra-Lightweight   NaN  \n",
       "2            Football                   Football Men's Football   NaN  \n",
       "3          Tug-Of-War               Tug-Of-War Men's Tug-Of-War  Gold  \n",
       "4       Speed Skating          Speed Skating Women's 500 metres   NaN  \n",
       "...               ...                                       ...   ...  \n",
       "271111           Luge                Luge Mixed (Men)'s Doubles   NaN  \n",
       "271112    Ski Jumping  Ski Jumping Men's Large Hill, Individual   NaN  \n",
       "271113    Ski Jumping        Ski Jumping Men's Large Hill, Team   NaN  \n",
       "271114      Bobsleigh                      Bobsleigh Men's Four   NaN  \n",
       "271115      Bobsleigh                      Bobsleigh Men's Four   NaN  \n",
       "\n",
       "[271116 rows x 15 columns]"
      ],
      "text/html": "<div>\n<style scoped>\n    .dataframe tbody tr th:only-of-type {\n        vertical-align: middle;\n    }\n\n    .dataframe tbody tr th {\n        vertical-align: top;\n    }\n\n    .dataframe thead th {\n        text-align: right;\n    }\n</style>\n<table border=\"1\" class=\"dataframe\">\n  <thead>\n    <tr style=\"text-align: right;\">\n      <th></th>\n      <th>ID</th>\n      <th>Name</th>\n      <th>Sex</th>\n      <th>Age</th>\n      <th>Height</th>\n      <th>Weight</th>\n      <th>Team</th>\n      <th>NOC</th>\n      <th>Games</th>\n      <th>Year</th>\n      <th>Season</th>\n      <th>City</th>\n      <th>Sport</th>\n      <th>Event</th>\n      <th>Medal</th>\n    </tr>\n  </thead>\n  <tbody>\n    <tr>\n      <th>0</th>\n      <td>1</td>\n      <td>A Dijiang</td>\n      <td>M</td>\n      <td>24.0</td>\n      <td>180.0</td>\n      <td>80.0</td>\n      <td>China</td>\n      <td>CHN</td>\n      <td>1992 Summer</td>\n      <td>1992</td>\n      <td>Summer</td>\n      <td>Barcelona</td>\n      <td>Basketball</td>\n      <td>Basketball Men's Basketball</td>\n      <td>NaN</td>\n    </tr>\n    <tr>\n      <th>1</th>\n      <td>2</td>\n      <td>A Lamusi</td>\n      <td>M</td>\n      <td>23.0</td>\n      <td>170.0</td>\n      <td>60.0</td>\n      <td>China</td>\n      <td>CHN</td>\n      <td>2012 Summer</td>\n      <td>2012</td>\n      <td>Summer</td>\n      <td>London</td>\n      <td>Judo</td>\n      <td>Judo Men's Extra-Lightweight</td>\n      <td>NaN</td>\n    </tr>\n    <tr>\n      <th>2</th>\n      <td>3</td>\n      <td>Gunnar Nielsen Aaby</td>\n      <td>M</td>\n      <td>24.0</td>\n      <td>NaN</td>\n      <td>NaN</td>\n      <td>Denmark</td>\n      <td>DEN</td>\n      <td>1920 Summer</td>\n      <td>1920</td>\n      <td>Summer</td>\n      <td>Antwerpen</td>\n      <td>Football</td>\n      <td>Football Men's Football</td>\n      <td>NaN</td>\n    </tr>\n    <tr>\n      <th>3</th>\n      <td>4</td>\n      <td>Edgar Lindenau Aabye</td>\n      <td>M</td>\n      <td>34.0</td>\n      <td>NaN</td>\n      <td>NaN</td>\n      <td>Denmark/Sweden</td>\n      <td>DEN</td>\n      <td>1900 Summer</td>\n      <td>1900</td>\n      <td>Summer</td>\n      <td>Paris</td>\n      <td>Tug-Of-War</td>\n      <td>Tug-Of-War Men's Tug-Of-War</td>\n      <td>Gold</td>\n    </tr>\n    <tr>\n      <th>4</th>\n      <td>5</td>\n      <td>Christine Jacoba Aaftink</td>\n      <td>F</td>\n      <td>21.0</td>\n      <td>185.0</td>\n      <td>82.0</td>\n      <td>Netherlands</td>\n      <td>NED</td>\n      <td>1988 Winter</td>\n      <td>1988</td>\n      <td>Winter</td>\n      <td>Calgary</td>\n      <td>Speed Skating</td>\n      <td>Speed Skating Women's 500 metres</td>\n      <td>NaN</td>\n    </tr>\n    <tr>\n      <th>...</th>\n      <td>...</td>\n      <td>...</td>\n      <td>...</td>\n      <td>...</td>\n      <td>...</td>\n      <td>...</td>\n      <td>...</td>\n      <td>...</td>\n      <td>...</td>\n      <td>...</td>\n      <td>...</td>\n      <td>...</td>\n      <td>...</td>\n      <td>...</td>\n      <td>...</td>\n    </tr>\n    <tr>\n      <th>271111</th>\n      <td>135569</td>\n      <td>Andrzej ya</td>\n      <td>M</td>\n      <td>29.0</td>\n      <td>179.0</td>\n      <td>89.0</td>\n      <td>Poland-1</td>\n      <td>POL</td>\n      <td>1976 Winter</td>\n      <td>1976</td>\n      <td>Winter</td>\n      <td>Innsbruck</td>\n      <td>Luge</td>\n      <td>Luge Mixed (Men)'s Doubles</td>\n      <td>NaN</td>\n    </tr>\n    <tr>\n      <th>271112</th>\n      <td>135570</td>\n      <td>Piotr ya</td>\n      <td>M</td>\n      <td>27.0</td>\n      <td>176.0</td>\n      <td>59.0</td>\n      <td>Poland</td>\n      <td>POL</td>\n      <td>2014 Winter</td>\n      <td>2014</td>\n      <td>Winter</td>\n      <td>Sochi</td>\n      <td>Ski Jumping</td>\n      <td>Ski Jumping Men's Large Hill, Individual</td>\n      <td>NaN</td>\n    </tr>\n    <tr>\n      <th>271113</th>\n      <td>135570</td>\n      <td>Piotr ya</td>\n      <td>M</td>\n      <td>27.0</td>\n      <td>176.0</td>\n      <td>59.0</td>\n      <td>Poland</td>\n      <td>POL</td>\n      <td>2014 Winter</td>\n      <td>2014</td>\n      <td>Winter</td>\n      <td>Sochi</td>\n      <td>Ski Jumping</td>\n      <td>Ski Jumping Men's Large Hill, Team</td>\n      <td>NaN</td>\n    </tr>\n    <tr>\n      <th>271114</th>\n      <td>135571</td>\n      <td>Tomasz Ireneusz ya</td>\n      <td>M</td>\n      <td>30.0</td>\n      <td>185.0</td>\n      <td>96.0</td>\n      <td>Poland</td>\n      <td>POL</td>\n      <td>1998 Winter</td>\n      <td>1998</td>\n      <td>Winter</td>\n      <td>Nagano</td>\n      <td>Bobsleigh</td>\n      <td>Bobsleigh Men's Four</td>\n      <td>NaN</td>\n    </tr>\n    <tr>\n      <th>271115</th>\n      <td>135571</td>\n      <td>Tomasz Ireneusz ya</td>\n      <td>M</td>\n      <td>34.0</td>\n      <td>185.0</td>\n      <td>96.0</td>\n      <td>Poland</td>\n      <td>POL</td>\n      <td>2002 Winter</td>\n      <td>2002</td>\n      <td>Winter</td>\n      <td>Salt Lake City</td>\n      <td>Bobsleigh</td>\n      <td>Bobsleigh Men's Four</td>\n      <td>NaN</td>\n    </tr>\n  </tbody>\n</table>\n<p>271116 rows × 15 columns</p>\n</div>"
     },
     "metadata": {},
     "execution_count": 70
    }
   ],
   "source": [
    "#import dataset and tools\n",
    "import numpy as np\n",
    "import pandas as pd\n",
    "import matplotlib.pyplot as plt\n",
    "import seaborn as sns\n",
    "\n",
    "olympic_data = pd.read_csv(\"../dataFiles/athlete_events.csv\")\n",
    "olympic_data"
   ]
  },
  {
   "cell_type": "code",
   "execution_count": 71,
   "id": "sunrise-omega",
   "metadata": {},
   "outputs": [
    {
     "output_type": "execute_result",
     "data": {
      "text/plain": [
       "            ID                           Name Sex   Age  Height  Weight  \\\n",
       "80          22                  Andreea Aanei   F  22.0   170.0   125.0   \n",
       "139         51              Nstor Abad Sanjun   M  23.0   167.0    64.0   \n",
       "140         51              Nstor Abad Sanjun   M  23.0   167.0    64.0   \n",
       "141         51              Nstor Abad Sanjun   M  23.0   167.0    64.0   \n",
       "142         51              Nstor Abad Sanjun   M  23.0   167.0    64.0   \n",
       "...        ...                            ...  ..   ...     ...     ...   \n",
       "271024  135528                  Marc Zwiebler   M  32.0   181.0    75.0   \n",
       "271053  135547  Viktoriya Viktorovna Zyabkina   F  23.0   174.0    62.0   \n",
       "271054  135547  Viktoriya Viktorovna Zyabkina   F  23.0   174.0    62.0   \n",
       "271055  135547  Viktoriya Viktorovna Zyabkina   F  23.0   174.0    62.0   \n",
       "271110  135568         Olga Igorevna Zyuzkova   F  33.0   171.0    69.0   \n",
       "\n",
       "              Team  NOC        Games  Year  Season            City  \\\n",
       "80         Romania  ROU  2016 Summer  2016  Summer  Rio de Janeiro   \n",
       "139          Spain  ESP  2016 Summer  2016  Summer  Rio de Janeiro   \n",
       "140          Spain  ESP  2016 Summer  2016  Summer  Rio de Janeiro   \n",
       "141          Spain  ESP  2016 Summer  2016  Summer  Rio de Janeiro   \n",
       "142          Spain  ESP  2016 Summer  2016  Summer  Rio de Janeiro   \n",
       "...            ...  ...          ...   ...     ...             ...   \n",
       "271024     Germany  GER  2016 Summer  2016  Summer  Rio de Janeiro   \n",
       "271053  Kazakhstan  KAZ  2016 Summer  2016  Summer  Rio de Janeiro   \n",
       "271054  Kazakhstan  KAZ  2016 Summer  2016  Summer  Rio de Janeiro   \n",
       "271055  Kazakhstan  KAZ  2016 Summer  2016  Summer  Rio de Janeiro   \n",
       "271110     Belarus  BLR  2016 Summer  2016  Summer  Rio de Janeiro   \n",
       "\n",
       "                Sport                                    Event Medal  \n",
       "80      Weightlifting  Weightlifting Women's Super-Heavyweight   NaN  \n",
       "139        Gymnastics   Gymnastics Men's Individual All-Around   NaN  \n",
       "140        Gymnastics          Gymnastics Men's Floor Exercise   NaN  \n",
       "141        Gymnastics           Gymnastics Men's Parallel Bars   NaN  \n",
       "142        Gymnastics          Gymnastics Men's Horizontal Bar   NaN  \n",
       "...               ...                                      ...   ...  \n",
       "271024      Badminton                  Badminton Men's Singles   NaN  \n",
       "271053      Athletics             Athletics Women's 100 metres   NaN  \n",
       "271054      Athletics             Athletics Women's 200 metres   NaN  \n",
       "271055      Athletics   Athletics Women's 4 x 100 metres Relay   NaN  \n",
       "271110     Basketball            Basketball Women's Basketball   NaN  \n",
       "\n",
       "[13688 rows x 15 columns]"
      ],
      "text/html": "<div>\n<style scoped>\n    .dataframe tbody tr th:only-of-type {\n        vertical-align: middle;\n    }\n\n    .dataframe tbody tr th {\n        vertical-align: top;\n    }\n\n    .dataframe thead th {\n        text-align: right;\n    }\n</style>\n<table border=\"1\" class=\"dataframe\">\n  <thead>\n    <tr style=\"text-align: right;\">\n      <th></th>\n      <th>ID</th>\n      <th>Name</th>\n      <th>Sex</th>\n      <th>Age</th>\n      <th>Height</th>\n      <th>Weight</th>\n      <th>Team</th>\n      <th>NOC</th>\n      <th>Games</th>\n      <th>Year</th>\n      <th>Season</th>\n      <th>City</th>\n      <th>Sport</th>\n      <th>Event</th>\n      <th>Medal</th>\n    </tr>\n  </thead>\n  <tbody>\n    <tr>\n      <th>80</th>\n      <td>22</td>\n      <td>Andreea Aanei</td>\n      <td>F</td>\n      <td>22.0</td>\n      <td>170.0</td>\n      <td>125.0</td>\n      <td>Romania</td>\n      <td>ROU</td>\n      <td>2016 Summer</td>\n      <td>2016</td>\n      <td>Summer</td>\n      <td>Rio de Janeiro</td>\n      <td>Weightlifting</td>\n      <td>Weightlifting Women's Super-Heavyweight</td>\n      <td>NaN</td>\n    </tr>\n    <tr>\n      <th>139</th>\n      <td>51</td>\n      <td>Nstor Abad Sanjun</td>\n      <td>M</td>\n      <td>23.0</td>\n      <td>167.0</td>\n      <td>64.0</td>\n      <td>Spain</td>\n      <td>ESP</td>\n      <td>2016 Summer</td>\n      <td>2016</td>\n      <td>Summer</td>\n      <td>Rio de Janeiro</td>\n      <td>Gymnastics</td>\n      <td>Gymnastics Men's Individual All-Around</td>\n      <td>NaN</td>\n    </tr>\n    <tr>\n      <th>140</th>\n      <td>51</td>\n      <td>Nstor Abad Sanjun</td>\n      <td>M</td>\n      <td>23.0</td>\n      <td>167.0</td>\n      <td>64.0</td>\n      <td>Spain</td>\n      <td>ESP</td>\n      <td>2016 Summer</td>\n      <td>2016</td>\n      <td>Summer</td>\n      <td>Rio de Janeiro</td>\n      <td>Gymnastics</td>\n      <td>Gymnastics Men's Floor Exercise</td>\n      <td>NaN</td>\n    </tr>\n    <tr>\n      <th>141</th>\n      <td>51</td>\n      <td>Nstor Abad Sanjun</td>\n      <td>M</td>\n      <td>23.0</td>\n      <td>167.0</td>\n      <td>64.0</td>\n      <td>Spain</td>\n      <td>ESP</td>\n      <td>2016 Summer</td>\n      <td>2016</td>\n      <td>Summer</td>\n      <td>Rio de Janeiro</td>\n      <td>Gymnastics</td>\n      <td>Gymnastics Men's Parallel Bars</td>\n      <td>NaN</td>\n    </tr>\n    <tr>\n      <th>142</th>\n      <td>51</td>\n      <td>Nstor Abad Sanjun</td>\n      <td>M</td>\n      <td>23.0</td>\n      <td>167.0</td>\n      <td>64.0</td>\n      <td>Spain</td>\n      <td>ESP</td>\n      <td>2016 Summer</td>\n      <td>2016</td>\n      <td>Summer</td>\n      <td>Rio de Janeiro</td>\n      <td>Gymnastics</td>\n      <td>Gymnastics Men's Horizontal Bar</td>\n      <td>NaN</td>\n    </tr>\n    <tr>\n      <th>...</th>\n      <td>...</td>\n      <td>...</td>\n      <td>...</td>\n      <td>...</td>\n      <td>...</td>\n      <td>...</td>\n      <td>...</td>\n      <td>...</td>\n      <td>...</td>\n      <td>...</td>\n      <td>...</td>\n      <td>...</td>\n      <td>...</td>\n      <td>...</td>\n      <td>...</td>\n    </tr>\n    <tr>\n      <th>271024</th>\n      <td>135528</td>\n      <td>Marc Zwiebler</td>\n      <td>M</td>\n      <td>32.0</td>\n      <td>181.0</td>\n      <td>75.0</td>\n      <td>Germany</td>\n      <td>GER</td>\n      <td>2016 Summer</td>\n      <td>2016</td>\n      <td>Summer</td>\n      <td>Rio de Janeiro</td>\n      <td>Badminton</td>\n      <td>Badminton Men's Singles</td>\n      <td>NaN</td>\n    </tr>\n    <tr>\n      <th>271053</th>\n      <td>135547</td>\n      <td>Viktoriya Viktorovna Zyabkina</td>\n      <td>F</td>\n      <td>23.0</td>\n      <td>174.0</td>\n      <td>62.0</td>\n      <td>Kazakhstan</td>\n      <td>KAZ</td>\n      <td>2016 Summer</td>\n      <td>2016</td>\n      <td>Summer</td>\n      <td>Rio de Janeiro</td>\n      <td>Athletics</td>\n      <td>Athletics Women's 100 metres</td>\n      <td>NaN</td>\n    </tr>\n    <tr>\n      <th>271054</th>\n      <td>135547</td>\n      <td>Viktoriya Viktorovna Zyabkina</td>\n      <td>F</td>\n      <td>23.0</td>\n      <td>174.0</td>\n      <td>62.0</td>\n      <td>Kazakhstan</td>\n      <td>KAZ</td>\n      <td>2016 Summer</td>\n      <td>2016</td>\n      <td>Summer</td>\n      <td>Rio de Janeiro</td>\n      <td>Athletics</td>\n      <td>Athletics Women's 200 metres</td>\n      <td>NaN</td>\n    </tr>\n    <tr>\n      <th>271055</th>\n      <td>135547</td>\n      <td>Viktoriya Viktorovna Zyabkina</td>\n      <td>F</td>\n      <td>23.0</td>\n      <td>174.0</td>\n      <td>62.0</td>\n      <td>Kazakhstan</td>\n      <td>KAZ</td>\n      <td>2016 Summer</td>\n      <td>2016</td>\n      <td>Summer</td>\n      <td>Rio de Janeiro</td>\n      <td>Athletics</td>\n      <td>Athletics Women's 4 x 100 metres Relay</td>\n      <td>NaN</td>\n    </tr>\n    <tr>\n      <th>271110</th>\n      <td>135568</td>\n      <td>Olga Igorevna Zyuzkova</td>\n      <td>F</td>\n      <td>33.0</td>\n      <td>171.0</td>\n      <td>69.0</td>\n      <td>Belarus</td>\n      <td>BLR</td>\n      <td>2016 Summer</td>\n      <td>2016</td>\n      <td>Summer</td>\n      <td>Rio de Janeiro</td>\n      <td>Basketball</td>\n      <td>Basketball Women's Basketball</td>\n      <td>NaN</td>\n    </tr>\n  </tbody>\n</table>\n<p>13688 rows × 15 columns</p>\n</div>"
     },
     "metadata": {},
     "execution_count": 71
    }
   ],
   "source": [
    "#Q.1.a Filter the DataFrame to only include the rows corresponding to medal winners from 2016. (In other words, drop the rows if 'Medal'==NaN)\n",
    "olympic_filtered = olympic_data[olympic_data['Year'] >= 2016]\n",
    "olympic_filtered"
   ]
  },
  {
   "cell_type": "code",
   "execution_count": 72,
   "id": "bacterial-monthly",
   "metadata": {},
   "outputs": [
    {
     "output_type": "execute_result",
     "data": {
      "text/plain": [
       "                            Medal\n",
       "Sport                 Year       \n",
       "Archery               2016     24\n",
       "Athletics             2016    192\n",
       "Badminton             2016     24\n",
       "Basketball            2016     72\n",
       "Beach Volleyball      2016     12\n",
       "Boxing                2016     51\n",
       "Canoeing              2016     82\n",
       "Cycling               2016     84\n",
       "Diving                2016     36\n",
       "Equestrianism         2016     45\n",
       "Fencing               2016     65\n",
       "Football              2016    106\n",
       "Golf                  2016      6\n",
       "Gymnastics            2016     66\n",
       "Handball              2016     89\n",
       "Hockey                2016     99\n",
       "Judo                  2016     56\n",
       "Modern Pentathlon     2016      6\n",
       "Rhythmic Gymnastics   2016     18\n",
       "Rowing                2016    144\n",
       "Rugby Sevens          2016     74\n",
       "Sailing               2016     45\n",
       "Shooting              2016     45\n",
       "Swimming              2016    191\n",
       "Synchronized Swimming 2016     32\n",
       "Table Tennis          2016     24\n",
       "Taekwondo             2016     32\n",
       "Tennis                2016     24\n",
       "Trampolining          2016      6\n",
       "Triathlon             2016      6\n",
       "Volleyball            2016     72\n",
       "Water Polo            2016     78\n",
       "Weightlifting         2016     45\n",
       "Wrestling             2016     72"
      ],
      "text/html": "<div>\n<style scoped>\n    .dataframe tbody tr th:only-of-type {\n        vertical-align: middle;\n    }\n\n    .dataframe tbody tr th {\n        vertical-align: top;\n    }\n\n    .dataframe thead th {\n        text-align: right;\n    }\n</style>\n<table border=\"1\" class=\"dataframe\">\n  <thead>\n    <tr style=\"text-align: right;\">\n      <th></th>\n      <th></th>\n      <th>Medal</th>\n    </tr>\n    <tr>\n      <th>Sport</th>\n      <th>Year</th>\n      <th></th>\n    </tr>\n  </thead>\n  <tbody>\n    <tr>\n      <th>Archery</th>\n      <th>2016</th>\n      <td>24</td>\n    </tr>\n    <tr>\n      <th>Athletics</th>\n      <th>2016</th>\n      <td>192</td>\n    </tr>\n    <tr>\n      <th>Badminton</th>\n      <th>2016</th>\n      <td>24</td>\n    </tr>\n    <tr>\n      <th>Basketball</th>\n      <th>2016</th>\n      <td>72</td>\n    </tr>\n    <tr>\n      <th>Beach Volleyball</th>\n      <th>2016</th>\n      <td>12</td>\n    </tr>\n    <tr>\n      <th>Boxing</th>\n      <th>2016</th>\n      <td>51</td>\n    </tr>\n    <tr>\n      <th>Canoeing</th>\n      <th>2016</th>\n      <td>82</td>\n    </tr>\n    <tr>\n      <th>Cycling</th>\n      <th>2016</th>\n      <td>84</td>\n    </tr>\n    <tr>\n      <th>Diving</th>\n      <th>2016</th>\n      <td>36</td>\n    </tr>\n    <tr>\n      <th>Equestrianism</th>\n      <th>2016</th>\n      <td>45</td>\n    </tr>\n    <tr>\n      <th>Fencing</th>\n      <th>2016</th>\n      <td>65</td>\n    </tr>\n    <tr>\n      <th>Football</th>\n      <th>2016</th>\n      <td>106</td>\n    </tr>\n    <tr>\n      <th>Golf</th>\n      <th>2016</th>\n      <td>6</td>\n    </tr>\n    <tr>\n      <th>Gymnastics</th>\n      <th>2016</th>\n      <td>66</td>\n    </tr>\n    <tr>\n      <th>Handball</th>\n      <th>2016</th>\n      <td>89</td>\n    </tr>\n    <tr>\n      <th>Hockey</th>\n      <th>2016</th>\n      <td>99</td>\n    </tr>\n    <tr>\n      <th>Judo</th>\n      <th>2016</th>\n      <td>56</td>\n    </tr>\n    <tr>\n      <th>Modern Pentathlon</th>\n      <th>2016</th>\n      <td>6</td>\n    </tr>\n    <tr>\n      <th>Rhythmic Gymnastics</th>\n      <th>2016</th>\n      <td>18</td>\n    </tr>\n    <tr>\n      <th>Rowing</th>\n      <th>2016</th>\n      <td>144</td>\n    </tr>\n    <tr>\n      <th>Rugby Sevens</th>\n      <th>2016</th>\n      <td>74</td>\n    </tr>\n    <tr>\n      <th>Sailing</th>\n      <th>2016</th>\n      <td>45</td>\n    </tr>\n    <tr>\n      <th>Shooting</th>\n      <th>2016</th>\n      <td>45</td>\n    </tr>\n    <tr>\n      <th>Swimming</th>\n      <th>2016</th>\n      <td>191</td>\n    </tr>\n    <tr>\n      <th>Synchronized Swimming</th>\n      <th>2016</th>\n      <td>32</td>\n    </tr>\n    <tr>\n      <th>Table Tennis</th>\n      <th>2016</th>\n      <td>24</td>\n    </tr>\n    <tr>\n      <th>Taekwondo</th>\n      <th>2016</th>\n      <td>32</td>\n    </tr>\n    <tr>\n      <th>Tennis</th>\n      <th>2016</th>\n      <td>24</td>\n    </tr>\n    <tr>\n      <th>Trampolining</th>\n      <th>2016</th>\n      <td>6</td>\n    </tr>\n    <tr>\n      <th>Triathlon</th>\n      <th>2016</th>\n      <td>6</td>\n    </tr>\n    <tr>\n      <th>Volleyball</th>\n      <th>2016</th>\n      <td>72</td>\n    </tr>\n    <tr>\n      <th>Water Polo</th>\n      <th>2016</th>\n      <td>78</td>\n    </tr>\n    <tr>\n      <th>Weightlifting</th>\n      <th>2016</th>\n      <td>45</td>\n    </tr>\n    <tr>\n      <th>Wrestling</th>\n      <th>2016</th>\n      <td>72</td>\n    </tr>\n  </tbody>\n</table>\n</div>"
     },
     "metadata": {},
     "execution_count": 72
    }
   ],
   "source": [
    "#Q.1.b Find out the number of medals awarded in 2016 for each sport.\n",
    "awards_per_sport = olympic_filtered[['Sport','Year','Medal']]\n",
    "awards_per_sport.groupby(['Sport','Year']).count()"
   ]
  },
  {
   "cell_type": "code",
   "execution_count": 73,
   "id": "thorough-adoption",
   "metadata": {},
   "outputs": [
    {
     "output_type": "execute_result",
     "data": {
      "text/plain": [
       "                Medal\n",
       "Sport     Year       \n",
       "Athletics 2016    192\n",
       "Swimming  2016    191\n",
       "Rowing    2016    144\n",
       "Football  2016    106\n",
       "Hockey    2016     99"
      ],
      "text/html": "<div>\n<style scoped>\n    .dataframe tbody tr th:only-of-type {\n        vertical-align: middle;\n    }\n\n    .dataframe tbody tr th {\n        vertical-align: top;\n    }\n\n    .dataframe thead th {\n        text-align: right;\n    }\n</style>\n<table border=\"1\" class=\"dataframe\">\n  <thead>\n    <tr style=\"text-align: right;\">\n      <th></th>\n      <th></th>\n      <th>Medal</th>\n    </tr>\n    <tr>\n      <th>Sport</th>\n      <th>Year</th>\n      <th></th>\n    </tr>\n  </thead>\n  <tbody>\n    <tr>\n      <th>Athletics</th>\n      <th>2016</th>\n      <td>192</td>\n    </tr>\n    <tr>\n      <th>Swimming</th>\n      <th>2016</th>\n      <td>191</td>\n    </tr>\n    <tr>\n      <th>Rowing</th>\n      <th>2016</th>\n      <td>144</td>\n    </tr>\n    <tr>\n      <th>Football</th>\n      <th>2016</th>\n      <td>106</td>\n    </tr>\n    <tr>\n      <th>Hockey</th>\n      <th>2016</th>\n      <td>99</td>\n    </tr>\n  </tbody>\n</table>\n</div>"
     },
     "metadata": {},
     "execution_count": 73
    }
   ],
   "source": [
    "#Q.1.c Filter the DataFrame one more time to only include the records for the top five sports based on the number of medals in 2016.\n",
    "awards_per_sport_filtered = awards_per_sport.groupby(['Sport','Year']).count()\n",
    "awards_per_sport_sorted = awards_per_sport_filtered.sort_values('Medal', ascending=False)\n",
    "awards_per_sport_sorted.head(5)"
   ]
  },
  {
   "cell_type": "code",
   "execution_count": 74,
   "id": "widespread-found",
   "metadata": {},
   "outputs": [
    {
     "output_type": "execute_result",
     "data": {
      "text/plain": [
       "<AxesSubplot:xlabel='Sport,Year', ylabel='count'>"
      ]
     },
     "metadata": {},
     "execution_count": 74
    },
    {
     "output_type": "display_data",
     "data": {
      "text/plain": "<Figure size 432x288 with 1 Axes>",
      "image/svg+xml": "<?xml version=\"1.0\" encoding=\"utf-8\" standalone=\"no\"?>\r\n<!DOCTYPE svg PUBLIC \"-//W3C//DTD SVG 1.1//EN\"\r\n  \"http://www.w3.org/Graphics/SVG/1.1/DTD/svg11.dtd\">\r\n<!-- Created with matplotlib (https://matplotlib.org/) -->\r\n<svg height=\"346.451004pt\" version=\"1.1\" viewBox=\"0 0 388.965625 346.451004\" width=\"388.965625pt\" xmlns=\"http://www.w3.org/2000/svg\" xmlns:xlink=\"http://www.w3.org/1999/xlink\">\r\n <metadata>\r\n  <rdf:RDF xmlns:cc=\"http://creativecommons.org/ns#\" xmlns:dc=\"http://purl.org/dc/elements/1.1/\" xmlns:rdf=\"http://www.w3.org/1999/02/22-rdf-syntax-ns#\">\r\n   <cc:Work>\r\n    <dc:type rdf:resource=\"http://purl.org/dc/dcmitype/StillImage\"/>\r\n    <dc:date>2021-02-25T10:44:08.227287</dc:date>\r\n    <dc:format>image/svg+xml</dc:format>\r\n    <dc:creator>\r\n     <cc:Agent>\r\n      <dc:title>Matplotlib v3.3.4, https://matplotlib.org/</dc:title>\r\n     </cc:Agent>\r\n    </dc:creator>\r\n   </cc:Work>\r\n  </rdf:RDF>\r\n </metadata>\r\n <defs>\r\n  <style type=\"text/css\">*{stroke-linecap:butt;stroke-linejoin:round;}</style>\r\n </defs>\r\n <g id=\"figure_1\">\r\n  <g id=\"patch_1\">\r\n   <path d=\"M -0 346.451004 \r\nL 388.965625 346.451004 \r\nL 388.965625 0 \r\nL -0 0 \r\nz\r\n\" style=\"fill:none;\"/>\r\n  </g>\r\n  <g id=\"axes_1\">\r\n   <g id=\"patch_2\">\r\n    <path d=\"M 46.965625 226.713504 \r\nL 381.765625 226.713504 \r\nL 381.765625 9.273504 \r\nL 46.965625 9.273504 \r\nz\r\n\" style=\"fill:#ffffff;\"/>\r\n   </g>\r\n   <g id=\"patch_3\">\r\n    <path clip-path=\"url(#pdc583dc1e9)\" d=\"M 63.705625 226.713504 \r\nL 97.185625 226.713504 \r\nL 97.185625 19.62779 \r\nL 63.705625 19.62779 \r\nz\r\n\" style=\"fill:#1f77b4;\"/>\r\n   </g>\r\n   <g id=\"patch_4\">\r\n    <path clip-path=\"url(#pdc583dc1e9)\" d=\"M 130.665625 226.713504 \r\nL 164.145625 226.713504 \r\nL 164.145625 20.706362 \r\nL 130.665625 20.706362 \r\nz\r\n\" style=\"fill:#1f77b4;\"/>\r\n   </g>\r\n   <g id=\"patch_5\">\r\n    <path clip-path=\"url(#pdc583dc1e9)\" d=\"M 197.625625 226.713504 \r\nL 231.105625 226.713504 \r\nL 231.105625 71.399219 \r\nL 197.625625 71.399219 \r\nz\r\n\" style=\"fill:#1f77b4;\"/>\r\n   </g>\r\n   <g id=\"patch_6\">\r\n    <path clip-path=\"url(#pdc583dc1e9)\" d=\"M 264.585625 226.713504 \r\nL 298.065625 226.713504 \r\nL 298.065625 112.384933 \r\nL 264.585625 112.384933 \r\nz\r\n\" style=\"fill:#1f77b4;\"/>\r\n   </g>\r\n   <g id=\"patch_7\">\r\n    <path clip-path=\"url(#pdc583dc1e9)\" d=\"M 331.545625 226.713504 \r\nL 365.025625 226.713504 \r\nL 365.025625 119.934933 \r\nL 331.545625 119.934933 \r\nz\r\n\" style=\"fill:#1f77b4;\"/>\r\n   </g>\r\n   <g id=\"matplotlib.axis_1\">\r\n    <g id=\"xtick_1\">\r\n     <g id=\"line2d_1\">\r\n      <defs>\r\n       <path d=\"M 0 0 \r\nL 0 3.5 \r\n\" id=\"m37ac7c746c\" style=\"stroke:#000000;stroke-width:0.8;\"/>\r\n      </defs>\r\n      <g>\r\n       <use style=\"stroke:#000000;stroke-width:0.8;\" x=\"80.445625\" xlink:href=\"#m37ac7c746c\" y=\"226.713504\"/>\r\n      </g>\r\n     </g>\r\n     <g id=\"text_1\">\r\n      <!-- (Athletics, 2016) -->\r\n      <g transform=\"translate(83.205 316.583817)rotate(-90)scale(0.1 -0.1)\">\r\n       <defs>\r\n        <path d=\"M 31 75.875 \r\nQ 24.46875 64.65625 21.28125 53.65625 \r\nQ 18.109375 42.671875 18.109375 31.390625 \r\nQ 18.109375 20.125 21.3125 9.0625 \r\nQ 24.515625 -2 31 -13.1875 \r\nL 23.1875 -13.1875 \r\nQ 15.875 -1.703125 12.234375 9.375 \r\nQ 8.59375 20.453125 8.59375 31.390625 \r\nQ 8.59375 42.28125 12.203125 53.3125 \r\nQ 15.828125 64.359375 23.1875 75.875 \r\nz\r\n\" id=\"DejaVuSans-40\"/>\r\n        <path d=\"M 34.1875 63.1875 \r\nL 20.796875 26.90625 \r\nL 47.609375 26.90625 \r\nz\r\nM 28.609375 72.90625 \r\nL 39.796875 72.90625 \r\nL 67.578125 0 \r\nL 57.328125 0 \r\nL 50.6875 18.703125 \r\nL 17.828125 18.703125 \r\nL 11.1875 0 \r\nL 0.78125 0 \r\nz\r\n\" id=\"DejaVuSans-65\"/>\r\n        <path d=\"M 18.3125 70.21875 \r\nL 18.3125 54.6875 \r\nL 36.8125 54.6875 \r\nL 36.8125 47.703125 \r\nL 18.3125 47.703125 \r\nL 18.3125 18.015625 \r\nQ 18.3125 11.328125 20.140625 9.421875 \r\nQ 21.96875 7.515625 27.59375 7.515625 \r\nL 36.8125 7.515625 \r\nL 36.8125 0 \r\nL 27.59375 0 \r\nQ 17.1875 0 13.234375 3.875 \r\nQ 9.28125 7.765625 9.28125 18.015625 \r\nL 9.28125 47.703125 \r\nL 2.6875 47.703125 \r\nL 2.6875 54.6875 \r\nL 9.28125 54.6875 \r\nL 9.28125 70.21875 \r\nz\r\n\" id=\"DejaVuSans-116\"/>\r\n        <path d=\"M 54.890625 33.015625 \r\nL 54.890625 0 \r\nL 45.90625 0 \r\nL 45.90625 32.71875 \r\nQ 45.90625 40.484375 42.875 44.328125 \r\nQ 39.84375 48.1875 33.796875 48.1875 \r\nQ 26.515625 48.1875 22.3125 43.546875 \r\nQ 18.109375 38.921875 18.109375 30.90625 \r\nL 18.109375 0 \r\nL 9.078125 0 \r\nL 9.078125 75.984375 \r\nL 18.109375 75.984375 \r\nL 18.109375 46.1875 \r\nQ 21.34375 51.125 25.703125 53.5625 \r\nQ 30.078125 56 35.796875 56 \r\nQ 45.21875 56 50.046875 50.171875 \r\nQ 54.890625 44.34375 54.890625 33.015625 \r\nz\r\n\" id=\"DejaVuSans-104\"/>\r\n        <path d=\"M 9.421875 75.984375 \r\nL 18.40625 75.984375 \r\nL 18.40625 0 \r\nL 9.421875 0 \r\nz\r\n\" id=\"DejaVuSans-108\"/>\r\n        <path d=\"M 56.203125 29.59375 \r\nL 56.203125 25.203125 \r\nL 14.890625 25.203125 \r\nQ 15.484375 15.921875 20.484375 11.0625 \r\nQ 25.484375 6.203125 34.421875 6.203125 \r\nQ 39.59375 6.203125 44.453125 7.46875 \r\nQ 49.3125 8.734375 54.109375 11.28125 \r\nL 54.109375 2.78125 \r\nQ 49.265625 0.734375 44.1875 -0.34375 \r\nQ 39.109375 -1.421875 33.890625 -1.421875 \r\nQ 20.796875 -1.421875 13.15625 6.1875 \r\nQ 5.515625 13.8125 5.515625 26.8125 \r\nQ 5.515625 40.234375 12.765625 48.109375 \r\nQ 20.015625 56 32.328125 56 \r\nQ 43.359375 56 49.78125 48.890625 \r\nQ 56.203125 41.796875 56.203125 29.59375 \r\nz\r\nM 47.21875 32.234375 \r\nQ 47.125 39.59375 43.09375 43.984375 \r\nQ 39.0625 48.390625 32.421875 48.390625 \r\nQ 24.90625 48.390625 20.390625 44.140625 \r\nQ 15.875 39.890625 15.1875 32.171875 \r\nz\r\n\" id=\"DejaVuSans-101\"/>\r\n        <path d=\"M 9.421875 54.6875 \r\nL 18.40625 54.6875 \r\nL 18.40625 0 \r\nL 9.421875 0 \r\nz\r\nM 9.421875 75.984375 \r\nL 18.40625 75.984375 \r\nL 18.40625 64.59375 \r\nL 9.421875 64.59375 \r\nz\r\n\" id=\"DejaVuSans-105\"/>\r\n        <path d=\"M 48.78125 52.59375 \r\nL 48.78125 44.1875 \r\nQ 44.96875 46.296875 41.140625 47.34375 \r\nQ 37.3125 48.390625 33.40625 48.390625 \r\nQ 24.65625 48.390625 19.8125 42.84375 \r\nQ 14.984375 37.3125 14.984375 27.296875 \r\nQ 14.984375 17.28125 19.8125 11.734375 \r\nQ 24.65625 6.203125 33.40625 6.203125 \r\nQ 37.3125 6.203125 41.140625 7.25 \r\nQ 44.96875 8.296875 48.78125 10.40625 \r\nL 48.78125 2.09375 \r\nQ 45.015625 0.34375 40.984375 -0.53125 \r\nQ 36.96875 -1.421875 32.421875 -1.421875 \r\nQ 20.0625 -1.421875 12.78125 6.34375 \r\nQ 5.515625 14.109375 5.515625 27.296875 \r\nQ 5.515625 40.671875 12.859375 48.328125 \r\nQ 20.21875 56 33.015625 56 \r\nQ 37.15625 56 41.109375 55.140625 \r\nQ 45.0625 54.296875 48.78125 52.59375 \r\nz\r\n\" id=\"DejaVuSans-99\"/>\r\n        <path d=\"M 44.28125 53.078125 \r\nL 44.28125 44.578125 \r\nQ 40.484375 46.53125 36.375 47.5 \r\nQ 32.28125 48.484375 27.875 48.484375 \r\nQ 21.1875 48.484375 17.84375 46.4375 \r\nQ 14.5 44.390625 14.5 40.28125 \r\nQ 14.5 37.15625 16.890625 35.375 \r\nQ 19.28125 33.59375 26.515625 31.984375 \r\nL 29.59375 31.296875 \r\nQ 39.15625 29.25 43.1875 25.515625 \r\nQ 47.21875 21.78125 47.21875 15.09375 \r\nQ 47.21875 7.46875 41.1875 3.015625 \r\nQ 35.15625 -1.421875 24.609375 -1.421875 \r\nQ 20.21875 -1.421875 15.453125 -0.5625 \r\nQ 10.6875 0.296875 5.421875 2 \r\nL 5.421875 11.28125 \r\nQ 10.40625 8.6875 15.234375 7.390625 \r\nQ 20.0625 6.109375 24.8125 6.109375 \r\nQ 31.15625 6.109375 34.5625 8.28125 \r\nQ 37.984375 10.453125 37.984375 14.40625 \r\nQ 37.984375 18.0625 35.515625 20.015625 \r\nQ 33.0625 21.96875 24.703125 23.78125 \r\nL 21.578125 24.515625 \r\nQ 13.234375 26.265625 9.515625 29.90625 \r\nQ 5.8125 33.546875 5.8125 39.890625 \r\nQ 5.8125 47.609375 11.28125 51.796875 \r\nQ 16.75 56 26.8125 56 \r\nQ 31.78125 56 36.171875 55.265625 \r\nQ 40.578125 54.546875 44.28125 53.078125 \r\nz\r\n\" id=\"DejaVuSans-115\"/>\r\n        <path d=\"M 11.71875 12.40625 \r\nL 22.015625 12.40625 \r\nL 22.015625 4 \r\nL 14.015625 -11.625 \r\nL 7.71875 -11.625 \r\nL 11.71875 4 \r\nz\r\n\" id=\"DejaVuSans-44\"/>\r\n        <path id=\"DejaVuSans-32\"/>\r\n        <path d=\"M 19.1875 8.296875 \r\nL 53.609375 8.296875 \r\nL 53.609375 0 \r\nL 7.328125 0 \r\nL 7.328125 8.296875 \r\nQ 12.9375 14.109375 22.625 23.890625 \r\nQ 32.328125 33.6875 34.8125 36.53125 \r\nQ 39.546875 41.84375 41.421875 45.53125 \r\nQ 43.3125 49.21875 43.3125 52.78125 \r\nQ 43.3125 58.59375 39.234375 62.25 \r\nQ 35.15625 65.921875 28.609375 65.921875 \r\nQ 23.96875 65.921875 18.8125 64.3125 \r\nQ 13.671875 62.703125 7.8125 59.421875 \r\nL 7.8125 69.390625 \r\nQ 13.765625 71.78125 18.9375 73 \r\nQ 24.125 74.21875 28.421875 74.21875 \r\nQ 39.75 74.21875 46.484375 68.546875 \r\nQ 53.21875 62.890625 53.21875 53.421875 \r\nQ 53.21875 48.921875 51.53125 44.890625 \r\nQ 49.859375 40.875 45.40625 35.40625 \r\nQ 44.1875 33.984375 37.640625 27.21875 \r\nQ 31.109375 20.453125 19.1875 8.296875 \r\nz\r\n\" id=\"DejaVuSans-50\"/>\r\n        <path d=\"M 31.78125 66.40625 \r\nQ 24.171875 66.40625 20.328125 58.90625 \r\nQ 16.5 51.421875 16.5 36.375 \r\nQ 16.5 21.390625 20.328125 13.890625 \r\nQ 24.171875 6.390625 31.78125 6.390625 \r\nQ 39.453125 6.390625 43.28125 13.890625 \r\nQ 47.125 21.390625 47.125 36.375 \r\nQ 47.125 51.421875 43.28125 58.90625 \r\nQ 39.453125 66.40625 31.78125 66.40625 \r\nz\r\nM 31.78125 74.21875 \r\nQ 44.046875 74.21875 50.515625 64.515625 \r\nQ 56.984375 54.828125 56.984375 36.375 \r\nQ 56.984375 17.96875 50.515625 8.265625 \r\nQ 44.046875 -1.421875 31.78125 -1.421875 \r\nQ 19.53125 -1.421875 13.0625 8.265625 \r\nQ 6.59375 17.96875 6.59375 36.375 \r\nQ 6.59375 54.828125 13.0625 64.515625 \r\nQ 19.53125 74.21875 31.78125 74.21875 \r\nz\r\n\" id=\"DejaVuSans-48\"/>\r\n        <path d=\"M 12.40625 8.296875 \r\nL 28.515625 8.296875 \r\nL 28.515625 63.921875 \r\nL 10.984375 60.40625 \r\nL 10.984375 69.390625 \r\nL 28.421875 72.90625 \r\nL 38.28125 72.90625 \r\nL 38.28125 8.296875 \r\nL 54.390625 8.296875 \r\nL 54.390625 0 \r\nL 12.40625 0 \r\nz\r\n\" id=\"DejaVuSans-49\"/>\r\n        <path d=\"M 33.015625 40.375 \r\nQ 26.375 40.375 22.484375 35.828125 \r\nQ 18.609375 31.296875 18.609375 23.390625 \r\nQ 18.609375 15.53125 22.484375 10.953125 \r\nQ 26.375 6.390625 33.015625 6.390625 \r\nQ 39.65625 6.390625 43.53125 10.953125 \r\nQ 47.40625 15.53125 47.40625 23.390625 \r\nQ 47.40625 31.296875 43.53125 35.828125 \r\nQ 39.65625 40.375 33.015625 40.375 \r\nz\r\nM 52.59375 71.296875 \r\nL 52.59375 62.3125 \r\nQ 48.875 64.0625 45.09375 64.984375 \r\nQ 41.3125 65.921875 37.59375 65.921875 \r\nQ 27.828125 65.921875 22.671875 59.328125 \r\nQ 17.53125 52.734375 16.796875 39.40625 \r\nQ 19.671875 43.65625 24.015625 45.921875 \r\nQ 28.375 48.1875 33.59375 48.1875 \r\nQ 44.578125 48.1875 50.953125 41.515625 \r\nQ 57.328125 34.859375 57.328125 23.390625 \r\nQ 57.328125 12.15625 50.6875 5.359375 \r\nQ 44.046875 -1.421875 33.015625 -1.421875 \r\nQ 20.359375 -1.421875 13.671875 8.265625 \r\nQ 6.984375 17.96875 6.984375 36.375 \r\nQ 6.984375 53.65625 15.1875 63.9375 \r\nQ 23.390625 74.21875 37.203125 74.21875 \r\nQ 40.921875 74.21875 44.703125 73.484375 \r\nQ 48.484375 72.75 52.59375 71.296875 \r\nz\r\n\" id=\"DejaVuSans-54\"/>\r\n        <path d=\"M 8.015625 75.875 \r\nL 15.828125 75.875 \r\nQ 23.140625 64.359375 26.78125 53.3125 \r\nQ 30.421875 42.28125 30.421875 31.390625 \r\nQ 30.421875 20.453125 26.78125 9.375 \r\nQ 23.140625 -1.703125 15.828125 -13.1875 \r\nL 8.015625 -13.1875 \r\nQ 14.5 -2 17.703125 9.0625 \r\nQ 20.90625 20.125 20.90625 31.390625 \r\nQ 20.90625 42.671875 17.703125 53.65625 \r\nQ 14.5 64.65625 8.015625 75.875 \r\nz\r\n\" id=\"DejaVuSans-41\"/>\r\n       </defs>\r\n       <use xlink:href=\"#DejaVuSans-40\"/>\r\n       <use x=\"39.013672\" xlink:href=\"#DejaVuSans-65\"/>\r\n       <use x=\"105.671875\" xlink:href=\"#DejaVuSans-116\"/>\r\n       <use x=\"144.880859\" xlink:href=\"#DejaVuSans-104\"/>\r\n       <use x=\"208.259766\" xlink:href=\"#DejaVuSans-108\"/>\r\n       <use x=\"236.042969\" xlink:href=\"#DejaVuSans-101\"/>\r\n       <use x=\"297.566406\" xlink:href=\"#DejaVuSans-116\"/>\r\n       <use x=\"336.775391\" xlink:href=\"#DejaVuSans-105\"/>\r\n       <use x=\"364.558594\" xlink:href=\"#DejaVuSans-99\"/>\r\n       <use x=\"419.539062\" xlink:href=\"#DejaVuSans-115\"/>\r\n       <use x=\"471.638672\" xlink:href=\"#DejaVuSans-44\"/>\r\n       <use x=\"503.425781\" xlink:href=\"#DejaVuSans-32\"/>\r\n       <use x=\"535.212891\" xlink:href=\"#DejaVuSans-50\"/>\r\n       <use x=\"598.835938\" xlink:href=\"#DejaVuSans-48\"/>\r\n       <use x=\"662.458984\" xlink:href=\"#DejaVuSans-49\"/>\r\n       <use x=\"726.082031\" xlink:href=\"#DejaVuSans-54\"/>\r\n       <use x=\"789.705078\" xlink:href=\"#DejaVuSans-41\"/>\r\n      </g>\r\n     </g>\r\n    </g>\r\n    <g id=\"xtick_2\">\r\n     <g id=\"line2d_2\">\r\n      <g>\r\n       <use style=\"stroke:#000000;stroke-width:0.8;\" x=\"147.405625\" xlink:href=\"#m37ac7c746c\" y=\"226.713504\"/>\r\n      </g>\r\n     </g>\r\n     <g id=\"text_2\">\r\n      <!-- (Swimming, 2016) -->\r\n      <g transform=\"translate(150.165 325.572879)rotate(-90)scale(0.1 -0.1)\">\r\n       <defs>\r\n        <path d=\"M 53.515625 70.515625 \r\nL 53.515625 60.890625 \r\nQ 47.90625 63.578125 42.921875 64.890625 \r\nQ 37.9375 66.21875 33.296875 66.21875 \r\nQ 25.25 66.21875 20.875 63.09375 \r\nQ 16.5 59.96875 16.5 54.203125 \r\nQ 16.5 49.359375 19.40625 46.890625 \r\nQ 22.3125 44.4375 30.421875 42.921875 \r\nL 36.375 41.703125 \r\nQ 47.40625 39.59375 52.65625 34.296875 \r\nQ 57.90625 29 57.90625 20.125 \r\nQ 57.90625 9.515625 50.796875 4.046875 \r\nQ 43.703125 -1.421875 29.984375 -1.421875 \r\nQ 24.8125 -1.421875 18.96875 -0.25 \r\nQ 13.140625 0.921875 6.890625 3.21875 \r\nL 6.890625 13.375 \r\nQ 12.890625 10.015625 18.65625 8.296875 \r\nQ 24.421875 6.59375 29.984375 6.59375 \r\nQ 38.421875 6.59375 43.015625 9.90625 \r\nQ 47.609375 13.234375 47.609375 19.390625 \r\nQ 47.609375 24.75 44.3125 27.78125 \r\nQ 41.015625 30.8125 33.5 32.328125 \r\nL 27.484375 33.5 \r\nQ 16.453125 35.6875 11.515625 40.375 \r\nQ 6.59375 45.0625 6.59375 53.421875 \r\nQ 6.59375 63.09375 13.40625 68.65625 \r\nQ 20.21875 74.21875 32.171875 74.21875 \r\nQ 37.3125 74.21875 42.625 73.28125 \r\nQ 47.953125 72.359375 53.515625 70.515625 \r\nz\r\n\" id=\"DejaVuSans-83\"/>\r\n        <path d=\"M 4.203125 54.6875 \r\nL 13.1875 54.6875 \r\nL 24.421875 12.015625 \r\nL 35.59375 54.6875 \r\nL 46.1875 54.6875 \r\nL 57.421875 12.015625 \r\nL 68.609375 54.6875 \r\nL 77.59375 54.6875 \r\nL 63.28125 0 \r\nL 52.6875 0 \r\nL 40.921875 44.828125 \r\nL 29.109375 0 \r\nL 18.5 0 \r\nz\r\n\" id=\"DejaVuSans-119\"/>\r\n        <path d=\"M 52 44.1875 \r\nQ 55.375 50.25 60.0625 53.125 \r\nQ 64.75 56 71.09375 56 \r\nQ 79.640625 56 84.28125 50.015625 \r\nQ 88.921875 44.046875 88.921875 33.015625 \r\nL 88.921875 0 \r\nL 79.890625 0 \r\nL 79.890625 32.71875 \r\nQ 79.890625 40.578125 77.09375 44.375 \r\nQ 74.3125 48.1875 68.609375 48.1875 \r\nQ 61.625 48.1875 57.5625 43.546875 \r\nQ 53.515625 38.921875 53.515625 30.90625 \r\nL 53.515625 0 \r\nL 44.484375 0 \r\nL 44.484375 32.71875 \r\nQ 44.484375 40.625 41.703125 44.40625 \r\nQ 38.921875 48.1875 33.109375 48.1875 \r\nQ 26.21875 48.1875 22.15625 43.53125 \r\nQ 18.109375 38.875 18.109375 30.90625 \r\nL 18.109375 0 \r\nL 9.078125 0 \r\nL 9.078125 54.6875 \r\nL 18.109375 54.6875 \r\nL 18.109375 46.1875 \r\nQ 21.1875 51.21875 25.484375 53.609375 \r\nQ 29.78125 56 35.6875 56 \r\nQ 41.65625 56 45.828125 52.96875 \r\nQ 50 49.953125 52 44.1875 \r\nz\r\n\" id=\"DejaVuSans-109\"/>\r\n        <path d=\"M 54.890625 33.015625 \r\nL 54.890625 0 \r\nL 45.90625 0 \r\nL 45.90625 32.71875 \r\nQ 45.90625 40.484375 42.875 44.328125 \r\nQ 39.84375 48.1875 33.796875 48.1875 \r\nQ 26.515625 48.1875 22.3125 43.546875 \r\nQ 18.109375 38.921875 18.109375 30.90625 \r\nL 18.109375 0 \r\nL 9.078125 0 \r\nL 9.078125 54.6875 \r\nL 18.109375 54.6875 \r\nL 18.109375 46.1875 \r\nQ 21.34375 51.125 25.703125 53.5625 \r\nQ 30.078125 56 35.796875 56 \r\nQ 45.21875 56 50.046875 50.171875 \r\nQ 54.890625 44.34375 54.890625 33.015625 \r\nz\r\n\" id=\"DejaVuSans-110\"/>\r\n        <path d=\"M 45.40625 27.984375 \r\nQ 45.40625 37.75 41.375 43.109375 \r\nQ 37.359375 48.484375 30.078125 48.484375 \r\nQ 22.859375 48.484375 18.828125 43.109375 \r\nQ 14.796875 37.75 14.796875 27.984375 \r\nQ 14.796875 18.265625 18.828125 12.890625 \r\nQ 22.859375 7.515625 30.078125 7.515625 \r\nQ 37.359375 7.515625 41.375 12.890625 \r\nQ 45.40625 18.265625 45.40625 27.984375 \r\nz\r\nM 54.390625 6.78125 \r\nQ 54.390625 -7.171875 48.1875 -13.984375 \r\nQ 42 -20.796875 29.203125 -20.796875 \r\nQ 24.46875 -20.796875 20.265625 -20.09375 \r\nQ 16.0625 -19.390625 12.109375 -17.921875 \r\nL 12.109375 -9.1875 \r\nQ 16.0625 -11.328125 19.921875 -12.34375 \r\nQ 23.78125 -13.375 27.78125 -13.375 \r\nQ 36.625 -13.375 41.015625 -8.765625 \r\nQ 45.40625 -4.15625 45.40625 5.171875 \r\nL 45.40625 9.625 \r\nQ 42.625 4.78125 38.28125 2.390625 \r\nQ 33.9375 0 27.875 0 \r\nQ 17.828125 0 11.671875 7.65625 \r\nQ 5.515625 15.328125 5.515625 27.984375 \r\nQ 5.515625 40.671875 11.671875 48.328125 \r\nQ 17.828125 56 27.875 56 \r\nQ 33.9375 56 38.28125 53.609375 \r\nQ 42.625 51.21875 45.40625 46.390625 \r\nL 45.40625 54.6875 \r\nL 54.390625 54.6875 \r\nz\r\n\" id=\"DejaVuSans-103\"/>\r\n       </defs>\r\n       <use xlink:href=\"#DejaVuSans-40\"/>\r\n       <use x=\"39.013672\" xlink:href=\"#DejaVuSans-83\"/>\r\n       <use x=\"102.490234\" xlink:href=\"#DejaVuSans-119\"/>\r\n       <use x=\"184.277344\" xlink:href=\"#DejaVuSans-105\"/>\r\n       <use x=\"212.060547\" xlink:href=\"#DejaVuSans-109\"/>\r\n       <use x=\"309.472656\" xlink:href=\"#DejaVuSans-109\"/>\r\n       <use x=\"406.884766\" xlink:href=\"#DejaVuSans-105\"/>\r\n       <use x=\"434.667969\" xlink:href=\"#DejaVuSans-110\"/>\r\n       <use x=\"498.046875\" xlink:href=\"#DejaVuSans-103\"/>\r\n       <use x=\"561.523438\" xlink:href=\"#DejaVuSans-44\"/>\r\n       <use x=\"593.310547\" xlink:href=\"#DejaVuSans-32\"/>\r\n       <use x=\"625.097656\" xlink:href=\"#DejaVuSans-50\"/>\r\n       <use x=\"688.720703\" xlink:href=\"#DejaVuSans-48\"/>\r\n       <use x=\"752.34375\" xlink:href=\"#DejaVuSans-49\"/>\r\n       <use x=\"815.966797\" xlink:href=\"#DejaVuSans-54\"/>\r\n       <use x=\"879.589844\" xlink:href=\"#DejaVuSans-41\"/>\r\n      </g>\r\n     </g>\r\n    </g>\r\n    <g id=\"xtick_3\">\r\n     <g id=\"line2d_3\">\r\n      <g>\r\n       <use style=\"stroke:#000000;stroke-width:0.8;\" x=\"214.365625\" xlink:href=\"#m37ac7c746c\" y=\"226.713504\"/>\r\n      </g>\r\n     </g>\r\n     <g id=\"text_3\">\r\n      <!-- (Rowing, 2016) -->\r\n      <g transform=\"translate(217.125 309.582254)rotate(-90)scale(0.1 -0.1)\">\r\n       <defs>\r\n        <path d=\"M 44.390625 34.1875 \r\nQ 47.5625 33.109375 50.5625 29.59375 \r\nQ 53.5625 26.078125 56.59375 19.921875 \r\nL 66.609375 0 \r\nL 56 0 \r\nL 46.6875 18.703125 \r\nQ 43.0625 26.03125 39.671875 28.421875 \r\nQ 36.28125 30.8125 30.421875 30.8125 \r\nL 19.671875 30.8125 \r\nL 19.671875 0 \r\nL 9.8125 0 \r\nL 9.8125 72.90625 \r\nL 32.078125 72.90625 \r\nQ 44.578125 72.90625 50.734375 67.671875 \r\nQ 56.890625 62.453125 56.890625 51.90625 \r\nQ 56.890625 45.015625 53.6875 40.46875 \r\nQ 50.484375 35.9375 44.390625 34.1875 \r\nz\r\nM 19.671875 64.796875 \r\nL 19.671875 38.921875 \r\nL 32.078125 38.921875 \r\nQ 39.203125 38.921875 42.84375 42.21875 \r\nQ 46.484375 45.515625 46.484375 51.90625 \r\nQ 46.484375 58.296875 42.84375 61.546875 \r\nQ 39.203125 64.796875 32.078125 64.796875 \r\nz\r\n\" id=\"DejaVuSans-82\"/>\r\n        <path d=\"M 30.609375 48.390625 \r\nQ 23.390625 48.390625 19.1875 42.75 \r\nQ 14.984375 37.109375 14.984375 27.296875 \r\nQ 14.984375 17.484375 19.15625 11.84375 \r\nQ 23.34375 6.203125 30.609375 6.203125 \r\nQ 37.796875 6.203125 41.984375 11.859375 \r\nQ 46.1875 17.53125 46.1875 27.296875 \r\nQ 46.1875 37.015625 41.984375 42.703125 \r\nQ 37.796875 48.390625 30.609375 48.390625 \r\nz\r\nM 30.609375 56 \r\nQ 42.328125 56 49.015625 48.375 \r\nQ 55.71875 40.765625 55.71875 27.296875 \r\nQ 55.71875 13.875 49.015625 6.21875 \r\nQ 42.328125 -1.421875 30.609375 -1.421875 \r\nQ 18.84375 -1.421875 12.171875 6.21875 \r\nQ 5.515625 13.875 5.515625 27.296875 \r\nQ 5.515625 40.765625 12.171875 48.375 \r\nQ 18.84375 56 30.609375 56 \r\nz\r\n\" id=\"DejaVuSans-111\"/>\r\n       </defs>\r\n       <use xlink:href=\"#DejaVuSans-40\"/>\r\n       <use x=\"39.013672\" xlink:href=\"#DejaVuSans-82\"/>\r\n       <use x=\"103.996094\" xlink:href=\"#DejaVuSans-111\"/>\r\n       <use x=\"165.177734\" xlink:href=\"#DejaVuSans-119\"/>\r\n       <use x=\"246.964844\" xlink:href=\"#DejaVuSans-105\"/>\r\n       <use x=\"274.748047\" xlink:href=\"#DejaVuSans-110\"/>\r\n       <use x=\"338.126953\" xlink:href=\"#DejaVuSans-103\"/>\r\n       <use x=\"401.603516\" xlink:href=\"#DejaVuSans-44\"/>\r\n       <use x=\"433.390625\" xlink:href=\"#DejaVuSans-32\"/>\r\n       <use x=\"465.177734\" xlink:href=\"#DejaVuSans-50\"/>\r\n       <use x=\"528.800781\" xlink:href=\"#DejaVuSans-48\"/>\r\n       <use x=\"592.423828\" xlink:href=\"#DejaVuSans-49\"/>\r\n       <use x=\"656.046875\" xlink:href=\"#DejaVuSans-54\"/>\r\n       <use x=\"719.669922\" xlink:href=\"#DejaVuSans-41\"/>\r\n      </g>\r\n     </g>\r\n    </g>\r\n    <g id=\"xtick_4\">\r\n     <g id=\"line2d_4\">\r\n      <g>\r\n       <use style=\"stroke:#000000;stroke-width:0.8;\" x=\"281.325625\" xlink:href=\"#m37ac7c746c\" y=\"226.713504\"/>\r\n      </g>\r\n     </g>\r\n     <g id=\"text_4\">\r\n      <!-- (Football, 2016) -->\r\n      <g transform=\"translate(284.085 312.902567)rotate(-90)scale(0.1 -0.1)\">\r\n       <defs>\r\n        <path d=\"M 9.8125 72.90625 \r\nL 51.703125 72.90625 \r\nL 51.703125 64.59375 \r\nL 19.671875 64.59375 \r\nL 19.671875 43.109375 \r\nL 48.578125 43.109375 \r\nL 48.578125 34.8125 \r\nL 19.671875 34.8125 \r\nL 19.671875 0 \r\nL 9.8125 0 \r\nz\r\n\" id=\"DejaVuSans-70\"/>\r\n        <path d=\"M 48.6875 27.296875 \r\nQ 48.6875 37.203125 44.609375 42.84375 \r\nQ 40.53125 48.484375 33.40625 48.484375 \r\nQ 26.265625 48.484375 22.1875 42.84375 \r\nQ 18.109375 37.203125 18.109375 27.296875 \r\nQ 18.109375 17.390625 22.1875 11.75 \r\nQ 26.265625 6.109375 33.40625 6.109375 \r\nQ 40.53125 6.109375 44.609375 11.75 \r\nQ 48.6875 17.390625 48.6875 27.296875 \r\nz\r\nM 18.109375 46.390625 \r\nQ 20.953125 51.265625 25.265625 53.625 \r\nQ 29.59375 56 35.59375 56 \r\nQ 45.5625 56 51.78125 48.09375 \r\nQ 58.015625 40.1875 58.015625 27.296875 \r\nQ 58.015625 14.40625 51.78125 6.484375 \r\nQ 45.5625 -1.421875 35.59375 -1.421875 \r\nQ 29.59375 -1.421875 25.265625 0.953125 \r\nQ 20.953125 3.328125 18.109375 8.203125 \r\nL 18.109375 0 \r\nL 9.078125 0 \r\nL 9.078125 75.984375 \r\nL 18.109375 75.984375 \r\nz\r\n\" id=\"DejaVuSans-98\"/>\r\n        <path d=\"M 34.28125 27.484375 \r\nQ 23.390625 27.484375 19.1875 25 \r\nQ 14.984375 22.515625 14.984375 16.5 \r\nQ 14.984375 11.71875 18.140625 8.90625 \r\nQ 21.296875 6.109375 26.703125 6.109375 \r\nQ 34.1875 6.109375 38.703125 11.40625 \r\nQ 43.21875 16.703125 43.21875 25.484375 \r\nL 43.21875 27.484375 \r\nz\r\nM 52.203125 31.203125 \r\nL 52.203125 0 \r\nL 43.21875 0 \r\nL 43.21875 8.296875 \r\nQ 40.140625 3.328125 35.546875 0.953125 \r\nQ 30.953125 -1.421875 24.3125 -1.421875 \r\nQ 15.921875 -1.421875 10.953125 3.296875 \r\nQ 6 8.015625 6 15.921875 \r\nQ 6 25.140625 12.171875 29.828125 \r\nQ 18.359375 34.515625 30.609375 34.515625 \r\nL 43.21875 34.515625 \r\nL 43.21875 35.40625 \r\nQ 43.21875 41.609375 39.140625 45 \r\nQ 35.0625 48.390625 27.6875 48.390625 \r\nQ 23 48.390625 18.546875 47.265625 \r\nQ 14.109375 46.140625 10.015625 43.890625 \r\nL 10.015625 52.203125 \r\nQ 14.9375 54.109375 19.578125 55.046875 \r\nQ 24.21875 56 28.609375 56 \r\nQ 40.484375 56 46.34375 49.84375 \r\nQ 52.203125 43.703125 52.203125 31.203125 \r\nz\r\n\" id=\"DejaVuSans-97\"/>\r\n       </defs>\r\n       <use xlink:href=\"#DejaVuSans-40\"/>\r\n       <use x=\"39.013672\" xlink:href=\"#DejaVuSans-70\"/>\r\n       <use x=\"92.908203\" xlink:href=\"#DejaVuSans-111\"/>\r\n       <use x=\"154.089844\" xlink:href=\"#DejaVuSans-111\"/>\r\n       <use x=\"215.271484\" xlink:href=\"#DejaVuSans-116\"/>\r\n       <use x=\"254.480469\" xlink:href=\"#DejaVuSans-98\"/>\r\n       <use x=\"317.957031\" xlink:href=\"#DejaVuSans-97\"/>\r\n       <use x=\"379.236328\" xlink:href=\"#DejaVuSans-108\"/>\r\n       <use x=\"407.019531\" xlink:href=\"#DejaVuSans-108\"/>\r\n       <use x=\"434.802734\" xlink:href=\"#DejaVuSans-44\"/>\r\n       <use x=\"466.589844\" xlink:href=\"#DejaVuSans-32\"/>\r\n       <use x=\"498.376953\" xlink:href=\"#DejaVuSans-50\"/>\r\n       <use x=\"562\" xlink:href=\"#DejaVuSans-48\"/>\r\n       <use x=\"625.623047\" xlink:href=\"#DejaVuSans-49\"/>\r\n       <use x=\"689.246094\" xlink:href=\"#DejaVuSans-54\"/>\r\n       <use x=\"752.869141\" xlink:href=\"#DejaVuSans-41\"/>\r\n      </g>\r\n     </g>\r\n    </g>\r\n    <g id=\"xtick_5\">\r\n     <g id=\"line2d_5\">\r\n      <g>\r\n       <use style=\"stroke:#000000;stroke-width:0.8;\" x=\"348.285625\" xlink:href=\"#m37ac7c746c\" y=\"226.713504\"/>\r\n      </g>\r\n     </g>\r\n     <g id=\"text_5\">\r\n      <!-- (Hockey, 2016) -->\r\n      <g transform=\"translate(351.045 309.960379)rotate(-90)scale(0.1 -0.1)\">\r\n       <defs>\r\n        <path d=\"M 9.8125 72.90625 \r\nL 19.671875 72.90625 \r\nL 19.671875 43.015625 \r\nL 55.515625 43.015625 \r\nL 55.515625 72.90625 \r\nL 65.375 72.90625 \r\nL 65.375 0 \r\nL 55.515625 0 \r\nL 55.515625 34.71875 \r\nL 19.671875 34.71875 \r\nL 19.671875 0 \r\nL 9.8125 0 \r\nz\r\n\" id=\"DejaVuSans-72\"/>\r\n        <path d=\"M 9.078125 75.984375 \r\nL 18.109375 75.984375 \r\nL 18.109375 31.109375 \r\nL 44.921875 54.6875 \r\nL 56.390625 54.6875 \r\nL 27.390625 29.109375 \r\nL 57.625 0 \r\nL 45.90625 0 \r\nL 18.109375 26.703125 \r\nL 18.109375 0 \r\nL 9.078125 0 \r\nz\r\n\" id=\"DejaVuSans-107\"/>\r\n        <path d=\"M 32.171875 -5.078125 \r\nQ 28.375 -14.84375 24.75 -17.8125 \r\nQ 21.140625 -20.796875 15.09375 -20.796875 \r\nL 7.90625 -20.796875 \r\nL 7.90625 -13.28125 \r\nL 13.1875 -13.28125 \r\nQ 16.890625 -13.28125 18.9375 -11.515625 \r\nQ 21 -9.765625 23.484375 -3.21875 \r\nL 25.09375 0.875 \r\nL 2.984375 54.6875 \r\nL 12.5 54.6875 \r\nL 29.59375 11.921875 \r\nL 46.6875 54.6875 \r\nL 56.203125 54.6875 \r\nz\r\n\" id=\"DejaVuSans-121\"/>\r\n       </defs>\r\n       <use xlink:href=\"#DejaVuSans-40\"/>\r\n       <use x=\"39.013672\" xlink:href=\"#DejaVuSans-72\"/>\r\n       <use x=\"114.208984\" xlink:href=\"#DejaVuSans-111\"/>\r\n       <use x=\"175.390625\" xlink:href=\"#DejaVuSans-99\"/>\r\n       <use x=\"230.371094\" xlink:href=\"#DejaVuSans-107\"/>\r\n       <use x=\"284.65625\" xlink:href=\"#DejaVuSans-101\"/>\r\n       <use x=\"346.179688\" xlink:href=\"#DejaVuSans-121\"/>\r\n       <use x=\"405.359375\" xlink:href=\"#DejaVuSans-44\"/>\r\n       <use x=\"437.146484\" xlink:href=\"#DejaVuSans-32\"/>\r\n       <use x=\"468.933594\" xlink:href=\"#DejaVuSans-50\"/>\r\n       <use x=\"532.556641\" xlink:href=\"#DejaVuSans-48\"/>\r\n       <use x=\"596.179688\" xlink:href=\"#DejaVuSans-49\"/>\r\n       <use x=\"659.802734\" xlink:href=\"#DejaVuSans-54\"/>\r\n       <use x=\"723.425781\" xlink:href=\"#DejaVuSans-41\"/>\r\n      </g>\r\n     </g>\r\n    </g>\r\n    <g id=\"text_6\">\r\n     <!-- Sport,Year -->\r\n     <g transform=\"translate(188.765625 337.171317)scale(0.1 -0.1)\">\r\n      <defs>\r\n       <path d=\"M 18.109375 8.203125 \r\nL 18.109375 -20.796875 \r\nL 9.078125 -20.796875 \r\nL 9.078125 54.6875 \r\nL 18.109375 54.6875 \r\nL 18.109375 46.390625 \r\nQ 20.953125 51.265625 25.265625 53.625 \r\nQ 29.59375 56 35.59375 56 \r\nQ 45.5625 56 51.78125 48.09375 \r\nQ 58.015625 40.1875 58.015625 27.296875 \r\nQ 58.015625 14.40625 51.78125 6.484375 \r\nQ 45.5625 -1.421875 35.59375 -1.421875 \r\nQ 29.59375 -1.421875 25.265625 0.953125 \r\nQ 20.953125 3.328125 18.109375 8.203125 \r\nz\r\nM 48.6875 27.296875 \r\nQ 48.6875 37.203125 44.609375 42.84375 \r\nQ 40.53125 48.484375 33.40625 48.484375 \r\nQ 26.265625 48.484375 22.1875 42.84375 \r\nQ 18.109375 37.203125 18.109375 27.296875 \r\nQ 18.109375 17.390625 22.1875 11.75 \r\nQ 26.265625 6.109375 33.40625 6.109375 \r\nQ 40.53125 6.109375 44.609375 11.75 \r\nQ 48.6875 17.390625 48.6875 27.296875 \r\nz\r\n\" id=\"DejaVuSans-112\"/>\r\n       <path d=\"M 41.109375 46.296875 \r\nQ 39.59375 47.171875 37.8125 47.578125 \r\nQ 36.03125 48 33.890625 48 \r\nQ 26.265625 48 22.1875 43.046875 \r\nQ 18.109375 38.09375 18.109375 28.8125 \r\nL 18.109375 0 \r\nL 9.078125 0 \r\nL 9.078125 54.6875 \r\nL 18.109375 54.6875 \r\nL 18.109375 46.1875 \r\nQ 20.953125 51.171875 25.484375 53.578125 \r\nQ 30.03125 56 36.53125 56 \r\nQ 37.453125 56 38.578125 55.875 \r\nQ 39.703125 55.765625 41.0625 55.515625 \r\nz\r\n\" id=\"DejaVuSans-114\"/>\r\n       <path d=\"M -0.203125 72.90625 \r\nL 10.40625 72.90625 \r\nL 30.609375 42.921875 \r\nL 50.6875 72.90625 \r\nL 61.28125 72.90625 \r\nL 35.5 34.71875 \r\nL 35.5 0 \r\nL 25.59375 0 \r\nL 25.59375 34.71875 \r\nz\r\n\" id=\"DejaVuSans-89\"/>\r\n      </defs>\r\n      <use xlink:href=\"#DejaVuSans-83\"/>\r\n      <use x=\"63.476562\" xlink:href=\"#DejaVuSans-112\"/>\r\n      <use x=\"126.953125\" xlink:href=\"#DejaVuSans-111\"/>\r\n      <use x=\"188.134766\" xlink:href=\"#DejaVuSans-114\"/>\r\n      <use x=\"229.248047\" xlink:href=\"#DejaVuSans-116\"/>\r\n      <use x=\"268.457031\" xlink:href=\"#DejaVuSans-44\"/>\r\n      <use x=\"300.244141\" xlink:href=\"#DejaVuSans-89\"/>\r\n      <use x=\"348.078125\" xlink:href=\"#DejaVuSans-101\"/>\r\n      <use x=\"409.601562\" xlink:href=\"#DejaVuSans-97\"/>\r\n      <use x=\"470.880859\" xlink:href=\"#DejaVuSans-114\"/>\r\n     </g>\r\n    </g>\r\n   </g>\r\n   <g id=\"matplotlib.axis_2\">\r\n    <g id=\"ytick_1\">\r\n     <g id=\"line2d_6\">\r\n      <defs>\r\n       <path d=\"M 0 0 \r\nL -3.5 0 \r\n\" id=\"m17c7bf92f6\" style=\"stroke:#000000;stroke-width:0.8;\"/>\r\n      </defs>\r\n      <g>\r\n       <use style=\"stroke:#000000;stroke-width:0.8;\" x=\"46.965625\" xlink:href=\"#m17c7bf92f6\" y=\"226.713504\"/>\r\n      </g>\r\n     </g>\r\n     <g id=\"text_7\">\r\n      <!-- 0 -->\r\n      <g transform=\"translate(33.603125 230.512723)scale(0.1 -0.1)\">\r\n       <use xlink:href=\"#DejaVuSans-48\"/>\r\n      </g>\r\n     </g>\r\n    </g>\r\n    <g id=\"ytick_2\">\r\n     <g id=\"line2d_7\">\r\n      <g>\r\n       <use style=\"stroke:#000000;stroke-width:0.8;\" x=\"46.965625\" xlink:href=\"#m17c7bf92f6\" y=\"199.749219\"/>\r\n      </g>\r\n     </g>\r\n     <g id=\"text_8\">\r\n      <!-- 25 -->\r\n      <g transform=\"translate(27.240625 203.548437)scale(0.1 -0.1)\">\r\n       <defs>\r\n        <path d=\"M 10.796875 72.90625 \r\nL 49.515625 72.90625 \r\nL 49.515625 64.59375 \r\nL 19.828125 64.59375 \r\nL 19.828125 46.734375 \r\nQ 21.96875 47.46875 24.109375 47.828125 \r\nQ 26.265625 48.1875 28.421875 48.1875 \r\nQ 40.625 48.1875 47.75 41.5 \r\nQ 54.890625 34.8125 54.890625 23.390625 \r\nQ 54.890625 11.625 47.5625 5.09375 \r\nQ 40.234375 -1.421875 26.90625 -1.421875 \r\nQ 22.3125 -1.421875 17.546875 -0.640625 \r\nQ 12.796875 0.140625 7.71875 1.703125 \r\nL 7.71875 11.625 \r\nQ 12.109375 9.234375 16.796875 8.0625 \r\nQ 21.484375 6.890625 26.703125 6.890625 \r\nQ 35.15625 6.890625 40.078125 11.328125 \r\nQ 45.015625 15.765625 45.015625 23.390625 \r\nQ 45.015625 31 40.078125 35.4375 \r\nQ 35.15625 39.890625 26.703125 39.890625 \r\nQ 22.75 39.890625 18.8125 39.015625 \r\nQ 14.890625 38.140625 10.796875 36.28125 \r\nz\r\n\" id=\"DejaVuSans-53\"/>\r\n       </defs>\r\n       <use xlink:href=\"#DejaVuSans-50\"/>\r\n       <use x=\"63.623047\" xlink:href=\"#DejaVuSans-53\"/>\r\n      </g>\r\n     </g>\r\n    </g>\r\n    <g id=\"ytick_3\">\r\n     <g id=\"line2d_8\">\r\n      <g>\r\n       <use style=\"stroke:#000000;stroke-width:0.8;\" x=\"46.965625\" xlink:href=\"#m17c7bf92f6\" y=\"172.784933\"/>\r\n      </g>\r\n     </g>\r\n     <g id=\"text_9\">\r\n      <!-- 50 -->\r\n      <g transform=\"translate(27.240625 176.584152)scale(0.1 -0.1)\">\r\n       <use xlink:href=\"#DejaVuSans-53\"/>\r\n       <use x=\"63.623047\" xlink:href=\"#DejaVuSans-48\"/>\r\n      </g>\r\n     </g>\r\n    </g>\r\n    <g id=\"ytick_4\">\r\n     <g id=\"line2d_9\">\r\n      <g>\r\n       <use style=\"stroke:#000000;stroke-width:0.8;\" x=\"46.965625\" xlink:href=\"#m17c7bf92f6\" y=\"145.820647\"/>\r\n      </g>\r\n     </g>\r\n     <g id=\"text_10\">\r\n      <!-- 75 -->\r\n      <g transform=\"translate(27.240625 149.619866)scale(0.1 -0.1)\">\r\n       <defs>\r\n        <path d=\"M 8.203125 72.90625 \r\nL 55.078125 72.90625 \r\nL 55.078125 68.703125 \r\nL 28.609375 0 \r\nL 18.3125 0 \r\nL 43.21875 64.59375 \r\nL 8.203125 64.59375 \r\nz\r\n\" id=\"DejaVuSans-55\"/>\r\n       </defs>\r\n       <use xlink:href=\"#DejaVuSans-55\"/>\r\n       <use x=\"63.623047\" xlink:href=\"#DejaVuSans-53\"/>\r\n      </g>\r\n     </g>\r\n    </g>\r\n    <g id=\"ytick_5\">\r\n     <g id=\"line2d_10\">\r\n      <g>\r\n       <use style=\"stroke:#000000;stroke-width:0.8;\" x=\"46.965625\" xlink:href=\"#m17c7bf92f6\" y=\"118.856362\"/>\r\n      </g>\r\n     </g>\r\n     <g id=\"text_11\">\r\n      <!-- 100 -->\r\n      <g transform=\"translate(20.878125 122.65558)scale(0.1 -0.1)\">\r\n       <use xlink:href=\"#DejaVuSans-49\"/>\r\n       <use x=\"63.623047\" xlink:href=\"#DejaVuSans-48\"/>\r\n       <use x=\"127.246094\" xlink:href=\"#DejaVuSans-48\"/>\r\n      </g>\r\n     </g>\r\n    </g>\r\n    <g id=\"ytick_6\">\r\n     <g id=\"line2d_11\">\r\n      <g>\r\n       <use style=\"stroke:#000000;stroke-width:0.8;\" x=\"46.965625\" xlink:href=\"#m17c7bf92f6\" y=\"91.892076\"/>\r\n      </g>\r\n     </g>\r\n     <g id=\"text_12\">\r\n      <!-- 125 -->\r\n      <g transform=\"translate(20.878125 95.691295)scale(0.1 -0.1)\">\r\n       <use xlink:href=\"#DejaVuSans-49\"/>\r\n       <use x=\"63.623047\" xlink:href=\"#DejaVuSans-50\"/>\r\n       <use x=\"127.246094\" xlink:href=\"#DejaVuSans-53\"/>\r\n      </g>\r\n     </g>\r\n    </g>\r\n    <g id=\"ytick_7\">\r\n     <g id=\"line2d_12\">\r\n      <g>\r\n       <use style=\"stroke:#000000;stroke-width:0.8;\" x=\"46.965625\" xlink:href=\"#m17c7bf92f6\" y=\"64.92779\"/>\r\n      </g>\r\n     </g>\r\n     <g id=\"text_13\">\r\n      <!-- 150 -->\r\n      <g transform=\"translate(20.878125 68.727009)scale(0.1 -0.1)\">\r\n       <use xlink:href=\"#DejaVuSans-49\"/>\r\n       <use x=\"63.623047\" xlink:href=\"#DejaVuSans-53\"/>\r\n       <use x=\"127.246094\" xlink:href=\"#DejaVuSans-48\"/>\r\n      </g>\r\n     </g>\r\n    </g>\r\n    <g id=\"ytick_8\">\r\n     <g id=\"line2d_13\">\r\n      <g>\r\n       <use style=\"stroke:#000000;stroke-width:0.8;\" x=\"46.965625\" xlink:href=\"#m17c7bf92f6\" y=\"37.963504\"/>\r\n      </g>\r\n     </g>\r\n     <g id=\"text_14\">\r\n      <!-- 175 -->\r\n      <g transform=\"translate(20.878125 41.762723)scale(0.1 -0.1)\">\r\n       <use xlink:href=\"#DejaVuSans-49\"/>\r\n       <use x=\"63.623047\" xlink:href=\"#DejaVuSans-55\"/>\r\n       <use x=\"127.246094\" xlink:href=\"#DejaVuSans-53\"/>\r\n      </g>\r\n     </g>\r\n    </g>\r\n    <g id=\"ytick_9\">\r\n     <g id=\"line2d_14\">\r\n      <g>\r\n       <use style=\"stroke:#000000;stroke-width:0.8;\" x=\"46.965625\" xlink:href=\"#m17c7bf92f6\" y=\"10.999219\"/>\r\n      </g>\r\n     </g>\r\n     <g id=\"text_15\">\r\n      <!-- 200 -->\r\n      <g transform=\"translate(20.878125 14.798437)scale(0.1 -0.1)\">\r\n       <use xlink:href=\"#DejaVuSans-50\"/>\r\n       <use x=\"63.623047\" xlink:href=\"#DejaVuSans-48\"/>\r\n       <use x=\"127.246094\" xlink:href=\"#DejaVuSans-48\"/>\r\n      </g>\r\n     </g>\r\n    </g>\r\n    <g id=\"text_16\">\r\n     <!-- count -->\r\n     <g transform=\"translate(14.798438 132.099754)rotate(-90)scale(0.1 -0.1)\">\r\n      <defs>\r\n       <path d=\"M 8.5 21.578125 \r\nL 8.5 54.6875 \r\nL 17.484375 54.6875 \r\nL 17.484375 21.921875 \r\nQ 17.484375 14.15625 20.5 10.265625 \r\nQ 23.53125 6.390625 29.59375 6.390625 \r\nQ 36.859375 6.390625 41.078125 11.03125 \r\nQ 45.3125 15.671875 45.3125 23.6875 \r\nL 45.3125 54.6875 \r\nL 54.296875 54.6875 \r\nL 54.296875 0 \r\nL 45.3125 0 \r\nL 45.3125 8.40625 \r\nQ 42.046875 3.421875 37.71875 1 \r\nQ 33.40625 -1.421875 27.6875 -1.421875 \r\nQ 18.265625 -1.421875 13.375 4.4375 \r\nQ 8.5 10.296875 8.5 21.578125 \r\nz\r\nM 31.109375 56 \r\nz\r\n\" id=\"DejaVuSans-117\"/>\r\n      </defs>\r\n      <use xlink:href=\"#DejaVuSans-99\"/>\r\n      <use x=\"54.980469\" xlink:href=\"#DejaVuSans-111\"/>\r\n      <use x=\"116.162109\" xlink:href=\"#DejaVuSans-117\"/>\r\n      <use x=\"179.541016\" xlink:href=\"#DejaVuSans-110\"/>\r\n      <use x=\"242.919922\" xlink:href=\"#DejaVuSans-116\"/>\r\n     </g>\r\n    </g>\r\n   </g>\r\n   <g id=\"patch_8\">\r\n    <path d=\"M 46.965625 226.713504 \r\nL 46.965625 9.273504 \r\n\" style=\"fill:none;stroke:#000000;stroke-linecap:square;stroke-linejoin:miter;stroke-width:0.8;\"/>\r\n   </g>\r\n   <g id=\"patch_9\">\r\n    <path d=\"M 381.765625 226.713504 \r\nL 381.765625 9.273504 \r\n\" style=\"fill:none;stroke:#000000;stroke-linecap:square;stroke-linejoin:miter;stroke-width:0.8;\"/>\r\n   </g>\r\n   <g id=\"patch_10\">\r\n    <path d=\"M 46.965625 226.713504 \r\nL 381.765625 226.713504 \r\n\" style=\"fill:none;stroke:#000000;stroke-linecap:square;stroke-linejoin:miter;stroke-width:0.8;\"/>\r\n   </g>\r\n   <g id=\"patch_11\">\r\n    <path d=\"M 46.965625 9.273504 \r\nL 381.765625 9.273504 \r\n\" style=\"fill:none;stroke:#000000;stroke-linecap:square;stroke-linejoin:miter;stroke-width:0.8;\"/>\r\n   </g>\r\n   <g id=\"legend_1\">\r\n    <g id=\"patch_12\">\r\n     <path d=\"M 312.729688 31.951629 \r\nL 374.765625 31.951629 \r\nQ 376.765625 31.951629 376.765625 29.951629 \r\nL 376.765625 16.273504 \r\nQ 376.765625 14.273504 374.765625 14.273504 \r\nL 312.729688 14.273504 \r\nQ 310.729688 14.273504 310.729688 16.273504 \r\nL 310.729688 29.951629 \r\nQ 310.729688 31.951629 312.729688 31.951629 \r\nz\r\n\" style=\"fill:#ffffff;opacity:0.8;stroke:#cccccc;stroke-linejoin:miter;\"/>\r\n    </g>\r\n    <g id=\"patch_13\">\r\n     <path d=\"M 314.729688 25.871942 \r\nL 334.729688 25.871942 \r\nL 334.729688 18.871942 \r\nL 314.729688 18.871942 \r\nz\r\n\" style=\"fill:#1f77b4;\"/>\r\n    </g>\r\n    <g id=\"text_17\">\r\n     <!-- Medal -->\r\n     <g transform=\"translate(342.729688 25.871942)scale(0.1 -0.1)\">\r\n      <defs>\r\n       <path d=\"M 9.8125 72.90625 \r\nL 24.515625 72.90625 \r\nL 43.109375 23.296875 \r\nL 61.8125 72.90625 \r\nL 76.515625 72.90625 \r\nL 76.515625 0 \r\nL 66.890625 0 \r\nL 66.890625 64.015625 \r\nL 48.09375 14.015625 \r\nL 38.1875 14.015625 \r\nL 19.390625 64.015625 \r\nL 19.390625 0 \r\nL 9.8125 0 \r\nz\r\n\" id=\"DejaVuSans-77\"/>\r\n       <path d=\"M 45.40625 46.390625 \r\nL 45.40625 75.984375 \r\nL 54.390625 75.984375 \r\nL 54.390625 0 \r\nL 45.40625 0 \r\nL 45.40625 8.203125 \r\nQ 42.578125 3.328125 38.25 0.953125 \r\nQ 33.9375 -1.421875 27.875 -1.421875 \r\nQ 17.96875 -1.421875 11.734375 6.484375 \r\nQ 5.515625 14.40625 5.515625 27.296875 \r\nQ 5.515625 40.1875 11.734375 48.09375 \r\nQ 17.96875 56 27.875 56 \r\nQ 33.9375 56 38.25 53.625 \r\nQ 42.578125 51.265625 45.40625 46.390625 \r\nz\r\nM 14.796875 27.296875 \r\nQ 14.796875 17.390625 18.875 11.75 \r\nQ 22.953125 6.109375 30.078125 6.109375 \r\nQ 37.203125 6.109375 41.296875 11.75 \r\nQ 45.40625 17.390625 45.40625 27.296875 \r\nQ 45.40625 37.203125 41.296875 42.84375 \r\nQ 37.203125 48.484375 30.078125 48.484375 \r\nQ 22.953125 48.484375 18.875 42.84375 \r\nQ 14.796875 37.203125 14.796875 27.296875 \r\nz\r\n\" id=\"DejaVuSans-100\"/>\r\n      </defs>\r\n      <use xlink:href=\"#DejaVuSans-77\"/>\r\n      <use x=\"86.279297\" xlink:href=\"#DejaVuSans-101\"/>\r\n      <use x=\"147.802734\" xlink:href=\"#DejaVuSans-100\"/>\r\n      <use x=\"211.279297\" xlink:href=\"#DejaVuSans-97\"/>\r\n      <use x=\"272.558594\" xlink:href=\"#DejaVuSans-108\"/>\r\n     </g>\r\n    </g>\r\n   </g>\r\n  </g>\r\n </g>\r\n <defs>\r\n  <clipPath id=\"pdc583dc1e9\">\r\n   <rect height=\"217.44\" width=\"334.8\" x=\"46.965625\" y=\"9.273504\"/>\r\n  </clipPath>\r\n </defs>\r\n</svg>\r\n",
      "image/png": "[encoded data removed]"
     },
     "metadata": {
      "needs_background": "light"
     }
    }
   ],
   "source": [
    "#Q.1.d Generate a bar plot of record counts corresponding to each of the top five sports.\n",
    "barPlot = awards_per_sport_sorted.head(5)\n",
    "barPlot.plot.bar(ylabel= 'count')"
   ]
  },
  {
   "cell_type": "code",
   "execution_count": 75,
   "id": "billion-bunch",
   "metadata": {},
   "outputs": [],
   "source": [
    "#Q.1.e Generate a histogram for the “Age” of all medal winners in the top five sports (2016).\n"
   ]
  },
  {
   "cell_type": "code",
   "execution_count": 76,
   "id": "vietnamese-authority",
   "metadata": {},
   "outputs": [],
   "source": [
    "#Q.1.f Generate a bar plot indicating how many medals were won by each country's team in the top five sports in 2016."
   ]
  },
  {
   "cell_type": "code",
   "execution_count": 77,
   "id": "bearing-biology",
   "metadata": {},
   "outputs": [],
   "source": [
    "#Q.1.g Generate a bar plot indicating the average weight of players, categorized based on gender, winning in the top five sports in 2016."
   ]
  },
  {
   "cell_type": "code",
   "execution_count": 78,
   "id": "ceramic-fraction",
   "metadata": {},
   "outputs": [],
   "source": [
    "#Q.1.h Create a scatter plot with x=height and y=weight."
   ]
  },
  {
   "cell_type": "code",
   "execution_count": 79,
   "id": "informal-product",
   "metadata": {},
   "outputs": [],
   "source": [
    "#Q.1.i Create a joint plot with x=height and y=weight."
   ]
  },
  {
   "cell_type": "code",
   "execution_count": 80,
   "id": "arctic-shadow",
   "metadata": {},
   "outputs": [],
   "source": [
    "#Q.1.j Create two violin plots: 1 for distribution of weight by genders & class of medal."
   ]
  },
  {
   "cell_type": "code",
   "execution_count": 81,
   "id": "certified-series",
   "metadata": {},
   "outputs": [],
   "source": [
    "#Q.1.j(cont) 1 for distribution of height by genders & class of medal."
   ]
  },
  {
   "cell_type": "markdown",
   "id": "quantitative-algorithm",
   "metadata": {},
   "source": [
    "Q.2 We will work with the HPI dataset. The objective is to draw a bar plot depicting the number of countries in each region and a heatmap indicating the number of countries in various ranges of wellbeing and life-expectancy. "
   ]
  },
  {
   "cell_type": "code",
   "execution_count": 82,
   "id": "physical-disclaimer",
   "metadata": {},
   "outputs": [
    {
     "output_type": "execute_result",
     "data": {
      "text/plain": [
       "     HPI Rank     Country              Region  Life Expectancy (years)  \\\n",
       "0           1  Costa Rica            Americas                     79.1   \n",
       "1           2      Mexico            Americas                     76.4   \n",
       "2           3    Colombia            Americas                     73.7   \n",
       "3           4     Vanuatu        Asia Pacific                     71.3   \n",
       "4           5     Vietnam        Asia Pacific                     75.5   \n",
       "..        ...         ...                 ...                      ...   \n",
       "135       136    Mongolia        Asia Pacific                     68.6   \n",
       "136       137       Benin  Sub Saharan Africa                     59.2   \n",
       "137       138        Togo  Sub Saharan Africa                     58.6   \n",
       "138       139  Luxembourg              Europe                     81.1   \n",
       "139       140        Chad  Sub Saharan Africa                     50.8   \n",
       "\n",
       "     Wellbeing (0-10) Inequality of outcomes  \\\n",
       "0                 7.3                    15%   \n",
       "1                 7.3                    19%   \n",
       "2                 6.4                    24%   \n",
       "3                 6.5                    22%   \n",
       "4                 5.5                    19%   \n",
       "..                ...                    ...   \n",
       "135               4.9                    22%   \n",
       "136               3.2                    44%   \n",
       "137               2.9                    43%   \n",
       "138               7.0                     7%   \n",
       "139               4.0                    51%   \n",
       "\n",
       "     Ecological Footprint (gha/capita)  Happy Planet Index  \n",
       "0                                  2.8                44.7  \n",
       "1                                  2.9                40.7  \n",
       "2                                  1.9                40.7  \n",
       "3                                  1.9                40.6  \n",
       "4                                  1.7                40.3  \n",
       "..                                 ...                 ...  \n",
       "135                                6.1                14.3  \n",
       "136                                1.4                13.4  \n",
       "137                                1.1                13.2  \n",
       "138                               15.8                13.2  \n",
       "139                                1.5                12.8  \n",
       "\n",
       "[140 rows x 8 columns]"
      ],
      "text/html": "<div>\n<style scoped>\n    .dataframe tbody tr th:only-of-type {\n        vertical-align: middle;\n    }\n\n    .dataframe tbody tr th {\n        vertical-align: top;\n    }\n\n    .dataframe thead th {\n        text-align: right;\n    }\n</style>\n<table border=\"1\" class=\"dataframe\">\n  <thead>\n    <tr style=\"text-align: right;\">\n      <th></th>\n      <th>HPI Rank</th>\n      <th>Country</th>\n      <th>Region</th>\n      <th>Life Expectancy (years)</th>\n      <th>Wellbeing (0-10)</th>\n      <th>Inequality of outcomes</th>\n      <th>Ecological Footprint (gha/capita)</th>\n      <th>Happy Planet Index</th>\n    </tr>\n  </thead>\n  <tbody>\n    <tr>\n      <th>0</th>\n      <td>1</td>\n      <td>Costa Rica</td>\n      <td>Americas</td>\n      <td>79.1</td>\n      <td>7.3</td>\n      <td>15%</td>\n      <td>2.8</td>\n      <td>44.7</td>\n    </tr>\n    <tr>\n      <th>1</th>\n      <td>2</td>\n      <td>Mexico</td>\n      <td>Americas</td>\n      <td>76.4</td>\n      <td>7.3</td>\n      <td>19%</td>\n      <td>2.9</td>\n      <td>40.7</td>\n    </tr>\n    <tr>\n      <th>2</th>\n      <td>3</td>\n      <td>Colombia</td>\n      <td>Americas</td>\n      <td>73.7</td>\n      <td>6.4</td>\n      <td>24%</td>\n      <td>1.9</td>\n      <td>40.7</td>\n    </tr>\n    <tr>\n      <th>3</th>\n      <td>4</td>\n      <td>Vanuatu</td>\n      <td>Asia Pacific</td>\n      <td>71.3</td>\n      <td>6.5</td>\n      <td>22%</td>\n      <td>1.9</td>\n      <td>40.6</td>\n    </tr>\n    <tr>\n      <th>4</th>\n      <td>5</td>\n      <td>Vietnam</td>\n      <td>Asia Pacific</td>\n      <td>75.5</td>\n      <td>5.5</td>\n      <td>19%</td>\n      <td>1.7</td>\n      <td>40.3</td>\n    </tr>\n    <tr>\n      <th>...</th>\n      <td>...</td>\n      <td>...</td>\n      <td>...</td>\n      <td>...</td>\n      <td>...</td>\n      <td>...</td>\n      <td>...</td>\n      <td>...</td>\n    </tr>\n    <tr>\n      <th>135</th>\n      <td>136</td>\n      <td>Mongolia</td>\n      <td>Asia Pacific</td>\n      <td>68.6</td>\n      <td>4.9</td>\n      <td>22%</td>\n      <td>6.1</td>\n      <td>14.3</td>\n    </tr>\n    <tr>\n      <th>136</th>\n      <td>137</td>\n      <td>Benin</td>\n      <td>Sub Saharan Africa</td>\n      <td>59.2</td>\n      <td>3.2</td>\n      <td>44%</td>\n      <td>1.4</td>\n      <td>13.4</td>\n    </tr>\n    <tr>\n      <th>137</th>\n      <td>138</td>\n      <td>Togo</td>\n      <td>Sub Saharan Africa</td>\n      <td>58.6</td>\n      <td>2.9</td>\n      <td>43%</td>\n      <td>1.1</td>\n      <td>13.2</td>\n    </tr>\n    <tr>\n      <th>138</th>\n      <td>139</td>\n      <td>Luxembourg</td>\n      <td>Europe</td>\n      <td>81.1</td>\n      <td>7.0</td>\n      <td>7%</td>\n      <td>15.8</td>\n      <td>13.2</td>\n    </tr>\n    <tr>\n      <th>139</th>\n      <td>140</td>\n      <td>Chad</td>\n      <td>Sub Saharan Africa</td>\n      <td>50.8</td>\n      <td>4.0</td>\n      <td>51%</td>\n      <td>1.5</td>\n      <td>12.8</td>\n    </tr>\n  </tbody>\n</table>\n<p>140 rows × 8 columns</p>\n</div>"
     },
     "metadata": {},
     "execution_count": 82
    }
   ],
   "source": [
    "#Q.2.a Read from the dataset \"hpi_data_countries.txt\" (it is txt file separated by \\t). Use pandas to read it.\n",
    "hpi_data = pd.read_csv('..\\dataFiles\\hpi_data_countries.txt', delimiter = \"\\t\")\n",
    "hpi_data"
   ]
  },
  {
   "cell_type": "code",
   "execution_count": 83,
   "id": "assigned-stephen",
   "metadata": {},
   "outputs": [],
   "source": [
    "#Q.2.b Count the number of rows for each region to generate a bar chart."
   ]
  },
  {
   "cell_type": "code",
   "execution_count": 84,
   "id": "perfect-paradise",
   "metadata": {},
   "outputs": [],
   "source": [
    "#Q.2.c Use pd.cut to bin the values into different categories.\n",
    "#hpi_df[\"Wellbeing (0-10)(binned)\"] = pd.cut(hpi_df[\"Wellbeing (0-10)\"], bins=np.linspace(2.5,8,12))\n",
    "#hpi_df[\"Life Expectancy (years)(binned)\"] = pd.cut(hpi_df[\"Life Expectancy (years)\"], bins=np.linspace(45,85,9))\n",
    "#Then generat a heatmap using cmap=\"Greens\""
   ]
  }
 ],
 "metadata": {
  "kernelspec": {
   "display_name": "Python 3",
   "language": "python",
   "name": "python3"
  },
  "language_info": {
   "codemirror_mode": {
    "name": "ipython",
    "version": 3
   },
   "file_extension": ".py",
   "mimetype": "text/x-python",
   "name": "python",
   "nbconvert_exporter": "python",
   "pygments_lexer": "ipython3",
   "version": "3.8.5-final"
  }
 },
 "nbformat": 4,
 "nbformat_minor": 5
}