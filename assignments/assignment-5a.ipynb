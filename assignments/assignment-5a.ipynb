{
 "cells": [
  {
   "cell_type": "markdown",
   "id": "indonesian-highlight",
   "metadata": {},
   "source": [
    "# Weekly Assignment 5a\n",
    "## Loan Pham and Brandan Owens"
   ]
  },
  {
   "cell_type": "markdown",
   "id": "imported-assault",
   "metadata": {},
   "source": [
    "Q.1 We'll We'll be working with the 120 years of Olympic History dataset. Download the dataset “athlete_events.csv” and perform the following:"
   ]
  },
  {
   "cell_type": "code",
   "execution_count": 1,
   "id": "sunrise-omega",
   "metadata": {},
   "outputs": [],
   "source": [
    "#Q.1.a Filter the DataFrame to only include the rows corresponding to medal winners from 2016. (In other words, drop the rows if 'Medal'==NaN"
   ]
  },
  {
   "cell_type": "code",
   "execution_count": 2,
   "id": "bacterial-monthly",
   "metadata": {},
   "outputs": [],
   "source": [
    "#Q.1.b Find out the number of medals awarded in 2016 for each sport."
   ]
  },
  {
   "cell_type": "code",
   "execution_count": 3,
   "id": "thorough-adoption",
   "metadata": {},
   "outputs": [],
   "source": [
    "#Q.1.c Filter the DataFrame one more time to only include the records for the top five sports based on the number of medals in 2016."
   ]
  },
  {
   "cell_type": "code",
   "execution_count": 4,
   "id": "widespread-found",
   "metadata": {},
   "outputs": [],
   "source": [
    "#Q.1.d Generate a bar plot of record counts corresponding to each of the top five sports."
   ]
  },
  {
   "cell_type": "code",
   "execution_count": 5,
   "id": "billion-bunch",
   "metadata": {},
   "outputs": [],
   "source": [
    "#Q.1.e Generate a histogram for the “Age” of all medal winners in the top five sports (2016)."
   ]
  },
  {
   "cell_type": "code",
   "execution_count": 6,
   "id": "vietnamese-authority",
   "metadata": {},
   "outputs": [],
   "source": [
    "#Q.1.f Generate a bar plot indicating how many medals were won by each country's team in the top five sports in 2016."
   ]
  },
  {
   "cell_type": "code",
   "execution_count": 7,
   "id": "bearing-biology",
   "metadata": {},
   "outputs": [],
   "source": [
    "#Q.1.g Generate a bar plot indicating the average weight of players, categorized based on gender, winning in the top five sports in 2016."
   ]
  },
  {
   "cell_type": "code",
   "execution_count": 8,
   "id": "ceramic-fraction",
   "metadata": {},
   "outputs": [],
   "source": [
    "#Q.1.h Create a scatter plot with x=height and y=weight."
   ]
  },
  {
   "cell_type": "code",
   "execution_count": 9,
   "id": "informal-product",
   "metadata": {},
   "outputs": [],
   "source": [
    "#Q.1.i Create a joint plot with x=height and y=weight."
   ]
  },
  {
   "cell_type": "code",
   "execution_count": 10,
   "id": "arctic-shadow",
   "metadata": {},
   "outputs": [],
   "source": [
    "#Q.1.j Create two violin plots: 1 for distribution of weight by genders & class of medal."
   ]
  },
  {
   "cell_type": "code",
   "execution_count": 11,
   "id": "certified-series",
   "metadata": {},
   "outputs": [],
   "source": [
    "#Q.1.j(cont) 1 for distribution of height by genders & class of medal."
   ]
  },
  {
   "cell_type": "markdown",
   "id": "quantitative-algorithm",
   "metadata": {},
   "source": [
    "Q.2 We will work with the HPI dataset. The objective is to draw a bar plot depicting the number of countries in each region and a heatmap indicating the number of countries in various ranges of wellbeing and life-expectancy. "
   ]
  },
  {
   "cell_type": "code",
   "execution_count": 12,
   "id": "physical-disclaimer",
   "metadata": {},
   "outputs": [],
   "source": [
    "#Q.2.a Read from the dataset \"hpi_data_countries.txt\" (it is txt file separated by \\t). Use pandas to read it."
   ]
  },
  {
   "cell_type": "code",
   "execution_count": 13,
   "id": "assigned-stephen",
   "metadata": {},
   "outputs": [],
   "source": [
    "#Q.2.b Count the number of rows for each region to generate a bar chart."
   ]
  },
  {
   "cell_type": "code",
   "execution_count": 14,
   "id": "perfect-paradise",
   "metadata": {},
   "outputs": [],
   "source": [
    "#Q.2.c Use pd.cut to bin the values into different categories.\n",
    "#hpi_df[\"Wellbeing (0-10)(binned)\"] = pd.cut(hpi_df[\"Wellbeing (0-10)\"], bins=np.linspace(2.5,8,12))\n",
    "#hpi_df[\"Life Expectancy (years)(binned)\"] = pd.cut(hpi_df[\"Life Expectancy (years)\"], bins=np.linspace(45,85,9))\n",
    "#Then generat a heatmap using cmap=\"Greens\""
   ]
  }
 ],
 "metadata": {
  "kernelspec": {
   "display_name": "Python 3",
   "language": "python",
   "name": "python3"
  },
  "language_info": {
   "codemirror_mode": {
    "name": "ipython",
    "version": 3
   },
   "file_extension": ".py",
   "mimetype": "text/x-python",
   "name": "python",
   "nbconvert_exporter": "python",
   "pygments_lexer": "ipython3",
   "version": "3.8.5"
  }
 },
 "nbformat": 4,
 "nbformat_minor": 5
}
