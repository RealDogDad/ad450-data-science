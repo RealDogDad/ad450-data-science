{
 "cells": [
  {
   "cell_type": "markdown",
   "metadata": {},
   "source": [
    "## Exercise 1 Monte Carlo Simulation"
   ]
  },
  {
   "cell_type": "markdown",
   "metadata": {},
   "source": []
  },
  {
   "cell_type": "code",
   "execution_count": 1,
   "metadata": {},
   "outputs": [],
   "source": [
    "import numpy as np\n",
    "mean10 = []\n",
    "for i in range(0,11):\n",
    "    nums = np.random.randn(100)\n",
    "    mean = np.mean(nums)\n",
    "    mean10.append(mean)"
   ]
  },
  {
   "cell_type": "code",
   "execution_count": 2,
   "metadata": {},
   "outputs": [],
   "source": [
    "mean100 = []\n",
    "for i in range(0,101):\n",
    "    nums = np.random.randn(100)\n",
    "    mean = np.mean(nums)\n",
    "    mean100.append(mean)"
   ]
  },
  {
   "cell_type": "code",
   "execution_count": 3,
   "metadata": {},
   "outputs": [],
   "source": [
    "mean1000 = []\n",
    "for i in range(0,10001):\n",
    "    nums = np.random.randn(1000)\n",
    "    mean = np.mean(nums)\n",
    "    mean1000.append(mean)"
   ]
  },
  {
   "cell_type": "code",
   "execution_count": null,
   "metadata": {
    "scrolled": true
   },
   "outputs": [
    {
     "name": "stderr",
     "output_type": "stream",
     "text": [
      "C:\\Users\\jeric\\anaconda3\\lib\\site-packages\\seaborn\\distributions.py:2557: FutureWarning: `distplot` is a deprecated function and will be removed in a future version. Please adapt your code to use either `displot` (a figure-level function with similar flexibility) or `kdeplot` (an axes-level function for kernel density plots).\n",
      "  warnings.warn(msg, FutureWarning)\n",
      "C:\\Users\\jeric\\anaconda3\\lib\\site-packages\\seaborn\\distributions.py:2557: FutureWarning: `distplot` is a deprecated function and will be removed in a future version. Please adapt your code to use either `displot` (a figure-level function with similar flexibility) or `kdeplot` (an axes-level function for kernel density plots).\n",
      "  warnings.warn(msg, FutureWarning)\n",
      "C:\\Users\\jeric\\anaconda3\\lib\\site-packages\\seaborn\\distributions.py:2557: FutureWarning: `distplot` is a deprecated function and will be removed in a future version. Please adapt your code to use either `displot` (a figure-level function with similar flexibility) or `kdeplot` (an axes-level function for kernel density plots).\n",
      "  warnings.warn(msg, FutureWarning)\n"
     ]
    },
    {
     "data": {
      "text/plain": [
       "<matplotlib.legend.Legend at 0x2115afd4460>"
      ]
     },
     "execution_count": 4,
     "metadata": {},
     "output_type": "execute_result"
    }
   ],
   "source": [
    "import matplotlib.pyplot as plt\n",
    "import seaborn as sns\n",
    "sns.distplot(mean10, hist=False, label = \"iterate 10 times\")\n",
    "sns.distplot(mean100, hist=False, label = \"iterate 100 times\")\n",
    "sns.distplot(mean1000, hist=False, label = \"iterate 1000 times\")\n",
    "plt.legend()"
   ]
  },
  {
   "cell_type": "markdown",
   "metadata": {},
   "source": [
    "### Exercise 2 ANALYZE A MULTILINE STRING AND GENERATE THE UNIQUE WORD COUNT"
   ]
  },
  {
   "cell_type": "code",
   "execution_count": null,
   "metadata": {},
   "outputs": [],
   "source": [
    "# Step 1: Create a mutliline_text variable by copying the text from the first chapter of Pride and Prejudice.\n",
    "\n",
    "multiline_text = \"It is a truth universally acknowledged, that a single man in possession of a good fortune, must be in want of a wife. \\n\\nHowever little known the feelings or views of such a man may be on his first entering a neighbourhood, this truth is so well fixed in the minds of the surrounding families, that he is considered the rightful property of some one or other of their daughters. \\n\\n\\\"My dear Mr. Bennet,\\\" said his lady to him one day, \\\"have you heard that Netherfield Park is let at last?\\\"\\n\\nMr. Bennet replied that he had not. \\n\\n\\\"But it is,\\\" returned she; \\\"for Mrs. Long has just been here, and she told me all about it. \\\"\\n\\nMr. Bennet made no answer. \\n\\n\\\"Do you not want to know who has taken it?\\\" cried his wife impatiently. \\n\\n\\\"You want to tell me, and I have no objection to hearing it. \\\"\\n\\nThis was invitation enough. \\n\\n\\\"Why, my dear, you must know, Mrs. Long says that Netherfield is taken by a young man of large fortune from the north of England; that he came down on Monday in a chaise and four to see the place, and was so much delighted with it, that he agreed with Mr. Morris immediately; that he is to take possession before Michaelmas, and some of his servants are to be in the house by the end of next week. \\\"\\n\\n\\\"What is his name?\\\"\\n\\n\\\"Bingley. \\\"\\n\\n\\\"Is he married or single?\\\"\\n\\n\\\"Oh! Single, my dear, to be sure! A single man of large fortune; four or five thousand a year. What a fine thing for our girls!\\\"\\n\\n\\\"How so? How can it affect them?\\\"\\n\\n\\\"My dear Mr. Bennet,\\\" replied his wife, \\\"how can you be so tiresome! You must know that I am thinking of his marrying one of them. \\\"\\n\\n\\\"Is that his design in settling here?\\\"\\n\\n\\\"Design! Nonsense, how can you talk so! But it is very likely that he may fall in love with one of them, and therefore you must visit him as soon as he comes. \\\"\\n\\n\\\"I see no occasion for that. You and the girls may go, or you may send them by themselves, which perhaps will be still better, for as you are as handsome as any of them, Mr. Bingley may like you the best of the party. \\\"\\n\\n\\\"My dear, you flatter me. I certainly have had my share of beauty, but I do not pretend to be anything extraordinary now. When a woman has five grown-up daughters, she ought to give over thinking of her own beauty. \\\"\\n\\n\\\"In such cases, a woman has not often much beauty to think of. \\\"\\n\\n\\\"But, my dear, you must indeed go and see Mr. Bingley when he comes into the neighbourhood. \\\"\\n\\n\\\"It is more than I engage for, I assure you. \\\"\\n\\n\\\"But consider your daughters. Only think what an establishment it would be for one of them. Sir William and Lady Lucas are determined to go, merely on that account, for in general, you know, they visit no newcomers. Indeed you must go, for it will be impossible for us to visit him if you do not. \\\"\\n\\n\\\"You are over-scrupulous, surely. I dare say Mr. Bingley will be very glad to see you; and I will send a few lines by you to assure him of my hearty consent to his marrying whichever he chooses of the girls; though I must throw in a good word for my little Lizzy. \\\"\\n\\n\\\"I desire you will do no such thing. Lizzy is not a bit better than the others; and I am sure she is not half so handsome as Jane, nor half so good-humoured as Lydia. But you are always giving her the preference. \\\"\\n\\n\\\"They have none of them much to recommend them,\\\" replied he; \\\"they are all silly and ignorant like other girls; but Lizzy has something more of quickness than her sisters. \\\"\\n\\n\\\"Mr. Bennet, how can you abuse your own children in such a way? You take delight in vexing me. You have no compassion for my poor nerves. \\\"\\n\\n\\\"You mistake me, my dear. I have a high respect for your nerves. They are my old friends. I have heard you mention them with consideration these last twenty years at least. \\\"\\n\\n\\\"Ah, you do not know what I suffer. \\\"\\n\\n\\\"But I hope you will get over it, and live to see many young men of four thousand a year come into the neighbourhood. \\\"\\n\\n\\\"It will be no use to us, if twenty such should come, since you will not visit them. \\\"\\n\\n\\\"Depend upon it, my dear, that when there are twenty, I will visit them all. \\\"\\n\\nMr. Bennet was so odd a mixture of quick parts, sarcastic humour, reserve, and caprice, that the experience of three-and-twenty years had been insufficient to make his wife understand his character. Her mind was less difficult to develop. She was a woman of mean understanding, little information, and uncertain temper. When she was discontented, she fancied herself nervous. The business of her life was to get her daughters married; its solace was visiting and news. \\n\"\n",
    "print(multiline_text)"
   ]
  },
  {
   "cell_type": "code",
   "execution_count": null,
   "metadata": {},
   "outputs": [],
   "source": [
    "# Step 2: Find the type and length of the multiline_text string.\n",
    "type(multiline_text)"
   ]
  },
  {
   "cell_type": "code",
   "execution_count": null,
   "metadata": {},
   "outputs": [],
   "source": [
    "len(multiline_text)"
   ]
  },
  {
   "cell_type": "code",
   "execution_count": null,
   "metadata": {
    "scrolled": true
   },
   "outputs": [],
   "source": [
    "# Step 3: Remove all new lines and symbols using the replace function\n",
    "\n",
    "cleaned_multiline_text = multiline_text.replace('\\n', \"\")\n",
    "cleaned_multiline_text = cleaned_multiline_text.replace(\",\", \"\")\n",
    "cleaned_multiline_text = cleaned_multiline_text.replace(\".\", \"\")\n",
    "cleaned_multiline_text = cleaned_multiline_text.replace(\"?\", \"\")\n",
    "cleaned_multiline_text = cleaned_multiline_text.replace(\"!\", \"\")\n",
    "cleaned_multiline_text = cleaned_multiline_text.replace(\"\\\"\", \" \")\n",
    "cleaned_multiline_text = cleaned_multiline_text.replace(\":\",  \"\")\n",
    "cleaned_multiline_text = cleaned_multiline_text.replace(\";\", \"\")\n",
    "\n",
    "print(cleaned_multiline_text)"
   ]
  },
  {
   "cell_type": "code",
   "execution_count": null,
   "metadata": {},
   "outputs": [],
   "source": [
    "# Step 4: Find all of the words in multiline_text using the split function.\n",
    "\n",
    "list_of_words = cleaned_multiline_text.split()\n",
    "list_of_words"
   ]
  },
  {
   "cell_type": "code",
   "execution_count": null,
   "metadata": {},
   "outputs": [],
   "source": [
    "# Step 5: Convert all the words into lower case.\n",
    "\n",
    "lowerCase = [word.lower() for word in list_of_words]\n",
    "print(lowerCase)"
   ]
  },
  {
   "cell_type": "code",
   "execution_count": null,
   "metadata": {},
   "outputs": [],
   "source": [
    "# Step 6: Create a list from this list that will contain only the unique words.\n",
    "\n",
    "unique_words_set = set(list_of_words)\n",
    "unique_words_list = [word for word in unique_words_set]\n",
    "len(unique_words_list)"
   ]
  },
  {
   "cell_type": "code",
   "execution_count": null,
   "metadata": {},
   "outputs": [],
   "source": [
    "# Step 7: Count the number of times the unique word has appeared in the list using the key and value in dict.\n",
    "unique_words_dict = {}\n",
    "for word in list_of_words:\n",
    "    if word in unique_words_dict:\n",
    "        unique_words_dict[word] += 1\n",
    "    else:\n",
    "        unique_words_dict[word] = 1\n",
    "\n",
    "unique_words_dict"
   ]
  },
  {
   "cell_type": "code",
   "execution_count": null,
   "metadata": {
    "scrolled": true
   },
   "outputs": [],
   "source": [
    "# Step 8: Find the top 25 words from the unique words that you have found using the slice function.\n",
    "\n",
    "sol = slice(25)\n",
    "print(unique_words_list[sol])"
   ]
  },
  {
   "cell_type": "code",
   "execution_count": null,
   "metadata": {
    "scrolled": true
   },
   "outputs": [],
   "source": [
    "# Step 9: Sort the list of unique words you created in Step 6.\n",
    "sorted(unique_words_list)"
   ]
  },
  {
   "cell_type": "code",
   "execution_count": null,
   "metadata": {},
   "outputs": [],
   "source": [
    "# Step10:  Create a dictionary to count how many unique words start with “a”, \n",
    "# how many unique words start with ”b”, how many unique words start with “c”... up till how many words start with “z”. \n",
    "\n",
    "StartCharFreqDict = {}\n",
    "for word in unique_words_list:\n",
    "    if word[0] == \"\\\"\":\n",
    "        continue\n",
    "    if word[0].lower() in StartCharFreqDict:\n",
    "        StartCharFreqDict[word[0].lower()] = StartCharFreqDict[word[0].lower()] + 1\n",
    "    else:\n",
    "        StartCharFreqDict[word[0].lower()] = 1\n",
    "print(StartCharFreqDict)"
   ]
  },
  {
   "cell_type": "code",
   "execution_count": null,
   "metadata": {},
   "outputs": [],
   "source": [
    "# Step 11: Now, go back to the mutliline_text, create a dictionary to count number of times each punctuation is used. \n",
    "\n",
    "punctDict = {}\n",
    "for char in multiline_text:\n",
    "    if not char == \"\\n\" and not char.isalnum() and not char == \" \":\n",
    "        if char in punctDict:\n",
    "            punctDict[char] = punctDict[char] + 1\n",
    "        else:\n",
    "            punctDict[char] = 1\n",
    "print(punctDict)"
   ]
  },
  {
   "cell_type": "markdown",
   "metadata": {},
   "source": [
    "#Loan and Brandan"
   ]
  },
  {
   "cell_type": "code",
   "execution_count": null,
   "metadata": {},
   "outputs": [],
   "source": []
  },
  {
   "cell_type": "code",
   "execution_count": null,
   "metadata": {},
   "outputs": [],
   "source": []
  },
  {
   "cell_type": "code",
   "execution_count": null,
   "metadata": {},
   "outputs": [],
   "source": []
  },
  {
   "cell_type": "code",
   "execution_count": null,
   "metadata": {},
   "outputs": [],
   "source": []
  },
  {
   "cell_type": "code",
   "execution_count": null,
   "metadata": {},
   "outputs": [],
   "source": []
  },
  {
   "cell_type": "code",
   "execution_count": null,
   "metadata": {},
   "outputs": [],
   "source": []
  },
  {
   "cell_type": "code",
   "execution_count": null,
   "metadata": {},
   "outputs": [],
   "source": []
  },
  {
   "cell_type": "code",
   "execution_count": null,
   "metadata": {},
   "outputs": [],
   "source": []
  },
  {
   "cell_type": "code",
   "execution_count": null,
   "metadata": {},
   "outputs": [],
   "source": []
  },
  {
   "cell_type": "code",
   "execution_count": null,
   "metadata": {},
   "outputs": [],
   "source": []
  },
  {
   "cell_type": "code",
   "execution_count": null,
   "metadata": {},
   "outputs": [],
   "source": []
  },
  {
   "cell_type": "code",
   "execution_count": null,
   "metadata": {},
   "outputs": [],
   "source": []
  },
  {
   "cell_type": "code",
   "execution_count": null,
   "metadata": {},
   "outputs": [],
   "source": []
  },
  {
   "cell_type": "code",
   "execution_count": null,
   "metadata": {},
   "outputs": [],
   "source": []
  },
  {
   "cell_type": "code",
   "execution_count": null,
   "metadata": {},
   "outputs": [],
   "source": []
  },
  {
   "cell_type": "code",
   "execution_count": null,
   "metadata": {},
   "outputs": [],
   "source": []
  },
  {
   "cell_type": "code",
   "execution_count": null,
   "metadata": {},
   "outputs": [],
   "source": []
  },
  {
   "cell_type": "code",
   "execution_count": null,
   "metadata": {},
   "outputs": [],
   "source": []
  },
  {
   "cell_type": "code",
   "execution_count": null,
   "metadata": {},
   "outputs": [],
   "source": []
  },
  {
   "cell_type": "code",
   "execution_count": null,
   "metadata": {},
   "outputs": [],
   "source": []
  },
  {
   "cell_type": "code",
   "execution_count": null,
   "metadata": {},
   "outputs": [],
   "source": []
  },
  {
   "cell_type": "code",
   "execution_count": null,
   "metadata": {},
   "outputs": [],
   "source": []
  },
  {
   "cell_type": "code",
   "execution_count": null,
   "metadata": {},
   "outputs": [],
   "source": []
  },
  {
   "cell_type": "code",
   "execution_count": null,
   "metadata": {},
   "outputs": [],
   "source": []
  },
  {
   "cell_type": "code",
   "execution_count": null,
   "metadata": {},
   "outputs": [],
   "source": []
  },
  {
   "cell_type": "code",
   "execution_count": null,
   "metadata": {},
   "outputs": [],
   "source": []
  },
  {
   "cell_type": "code",
   "execution_count": null,
   "metadata": {},
   "outputs": [],
   "source": []
  },
  {
   "cell_type": "code",
   "execution_count": null,
   "metadata": {},
   "outputs": [],
   "source": []
  },
  {
   "cell_type": "code",
   "execution_count": null,
   "metadata": {},
   "outputs": [],
   "source": []
  },
  {
   "cell_type": "code",
   "execution_count": null,
   "metadata": {},
   "outputs": [],
   "source": []
  },
  {
   "cell_type": "code",
   "execution_count": null,
   "metadata": {},
   "outputs": [],
   "source": []
  },
  {
   "cell_type": "code",
   "execution_count": null,
   "metadata": {},
   "outputs": [],
   "source": []
  },
  {
   "cell_type": "code",
   "execution_count": null,
   "metadata": {},
   "outputs": [],
   "source": []
  },
  {
   "cell_type": "code",
   "execution_count": null,
   "metadata": {},
   "outputs": [],
   "source": []
  },
  {
   "cell_type": "code",
   "execution_count": null,
   "metadata": {},
   "outputs": [],
   "source": []
  },
  {
   "cell_type": "code",
   "execution_count": null,
   "metadata": {},
   "outputs": [],
   "source": []
  },
  {
   "cell_type": "code",
   "execution_count": null,
   "metadata": {},
   "outputs": [],
   "source": []
  }
 ],
 "metadata": {
  "kernelspec": {
   "display_name": "Python 3",
   "language": "python",
   "name": "python3"
  },
  "language_info": {
   "codemirror_mode": {
    "name": "ipython",
    "version": 3
   },
   "file_extension": ".py",
   "mimetype": "text/x-python",
   "name": "python",
   "nbconvert_exporter": "python",
   "pygments_lexer": "ipython3",
   "version": "3.8.5"
  }
 },
 "nbformat": 4,
 "nbformat_minor": 4
}
