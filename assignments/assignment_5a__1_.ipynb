{
 "cells": [
  {
   "cell_type": "code",
   "execution_count": 57,
   "metadata": {},
   "outputs": [],
   "source": [
    "import pandas as pd\n",
    "import numpy as np\n",
    "import seaborn as sns\n",
    "import matplotlib.pyplot as plt"
   ]
  },
  {
   "cell_type": "markdown",
   "metadata": {},
   "source": [
    "### Q.1 We'll be working with the 120 years of Olympic History dataset. Download the dataset “athlete_events.csv” and perform the following."
   ]
  },
  {
   "cell_type": "markdown",
   "metadata": {},
   "source": [
    "#### (a) Filter the DataFrame to only include the rows corresponding to medal winners from 2016. (In other words, drop the rows if 'Medal'==NaN"
   ]
  },
  {
   "cell_type": "code",
   "execution_count": 2,
   "metadata": {},
   "outputs": [
    {
     "data": {
      "text/html": [
       "<div>\n",
       "<style scoped>\n",
       "    .dataframe tbody tr th:only-of-type {\n",
       "        vertical-align: middle;\n",
       "    }\n",
       "\n",
       "    .dataframe tbody tr th {\n",
       "        vertical-align: top;\n",
       "    }\n",
       "\n",
       "    .dataframe thead th {\n",
       "        text-align: right;\n",
       "    }\n",
       "</style>\n",
       "<table border=\"1\" class=\"dataframe\">\n",
       "  <thead>\n",
       "    <tr style=\"text-align: right;\">\n",
       "      <th></th>\n",
       "      <th>ID</th>\n",
       "      <th>Name</th>\n",
       "      <th>Sex</th>\n",
       "      <th>Age</th>\n",
       "      <th>Height</th>\n",
       "      <th>Weight</th>\n",
       "      <th>Team</th>\n",
       "      <th>NOC</th>\n",
       "      <th>Games</th>\n",
       "      <th>Year</th>\n",
       "      <th>Season</th>\n",
       "      <th>City</th>\n",
       "      <th>Sport</th>\n",
       "      <th>Event</th>\n",
       "      <th>Medal</th>\n",
       "    </tr>\n",
       "  </thead>\n",
       "  <tbody>\n",
       "    <tr>\n",
       "      <th>3</th>\n",
       "      <td>4</td>\n",
       "      <td>Edgar Lindenau Aabye</td>\n",
       "      <td>M</td>\n",
       "      <td>34.0</td>\n",
       "      <td>NaN</td>\n",
       "      <td>NaN</td>\n",
       "      <td>Denmark/Sweden</td>\n",
       "      <td>DEN</td>\n",
       "      <td>1900 Summer</td>\n",
       "      <td>1900</td>\n",
       "      <td>Summer</td>\n",
       "      <td>Paris</td>\n",
       "      <td>Tug-Of-War</td>\n",
       "      <td>Tug-Of-War Men's Tug-Of-War</td>\n",
       "      <td>Gold</td>\n",
       "    </tr>\n",
       "    <tr>\n",
       "      <th>37</th>\n",
       "      <td>15</td>\n",
       "      <td>Arvo Ossian Aaltonen</td>\n",
       "      <td>M</td>\n",
       "      <td>30.0</td>\n",
       "      <td>NaN</td>\n",
       "      <td>NaN</td>\n",
       "      <td>Finland</td>\n",
       "      <td>FIN</td>\n",
       "      <td>1920 Summer</td>\n",
       "      <td>1920</td>\n",
       "      <td>Summer</td>\n",
       "      <td>Antwerpen</td>\n",
       "      <td>Swimming</td>\n",
       "      <td>Swimming Men's 200 metres Breaststroke</td>\n",
       "      <td>Bronze</td>\n",
       "    </tr>\n",
       "    <tr>\n",
       "      <th>38</th>\n",
       "      <td>15</td>\n",
       "      <td>Arvo Ossian Aaltonen</td>\n",
       "      <td>M</td>\n",
       "      <td>30.0</td>\n",
       "      <td>NaN</td>\n",
       "      <td>NaN</td>\n",
       "      <td>Finland</td>\n",
       "      <td>FIN</td>\n",
       "      <td>1920 Summer</td>\n",
       "      <td>1920</td>\n",
       "      <td>Summer</td>\n",
       "      <td>Antwerpen</td>\n",
       "      <td>Swimming</td>\n",
       "      <td>Swimming Men's 400 metres Breaststroke</td>\n",
       "      <td>Bronze</td>\n",
       "    </tr>\n",
       "    <tr>\n",
       "      <th>40</th>\n",
       "      <td>16</td>\n",
       "      <td>Juhamatti Tapio Aaltonen</td>\n",
       "      <td>M</td>\n",
       "      <td>28.0</td>\n",
       "      <td>184.0</td>\n",
       "      <td>85.0</td>\n",
       "      <td>Finland</td>\n",
       "      <td>FIN</td>\n",
       "      <td>2014 Winter</td>\n",
       "      <td>2014</td>\n",
       "      <td>Winter</td>\n",
       "      <td>Sochi</td>\n",
       "      <td>Ice Hockey</td>\n",
       "      <td>Ice Hockey Men's Ice Hockey</td>\n",
       "      <td>Bronze</td>\n",
       "    </tr>\n",
       "    <tr>\n",
       "      <th>41</th>\n",
       "      <td>17</td>\n",
       "      <td>Paavo Johannes Aaltonen</td>\n",
       "      <td>M</td>\n",
       "      <td>28.0</td>\n",
       "      <td>175.0</td>\n",
       "      <td>64.0</td>\n",
       "      <td>Finland</td>\n",
       "      <td>FIN</td>\n",
       "      <td>1948 Summer</td>\n",
       "      <td>1948</td>\n",
       "      <td>Summer</td>\n",
       "      <td>London</td>\n",
       "      <td>Gymnastics</td>\n",
       "      <td>Gymnastics Men's Individual All-Around</td>\n",
       "      <td>Bronze</td>\n",
       "    </tr>\n",
       "  </tbody>\n",
       "</table>\n",
       "</div>"
      ],
      "text/plain": [
       "    ID                      Name Sex   Age  Height  Weight            Team  \\\n",
       "3    4      Edgar Lindenau Aabye   M  34.0     NaN     NaN  Denmark/Sweden   \n",
       "37  15      Arvo Ossian Aaltonen   M  30.0     NaN     NaN         Finland   \n",
       "38  15      Arvo Ossian Aaltonen   M  30.0     NaN     NaN         Finland   \n",
       "40  16  Juhamatti Tapio Aaltonen   M  28.0   184.0    85.0         Finland   \n",
       "41  17   Paavo Johannes Aaltonen   M  28.0   175.0    64.0         Finland   \n",
       "\n",
       "    NOC        Games  Year  Season       City       Sport  \\\n",
       "3   DEN  1900 Summer  1900  Summer      Paris  Tug-Of-War   \n",
       "37  FIN  1920 Summer  1920  Summer  Antwerpen    Swimming   \n",
       "38  FIN  1920 Summer  1920  Summer  Antwerpen    Swimming   \n",
       "40  FIN  2014 Winter  2014  Winter      Sochi  Ice Hockey   \n",
       "41  FIN  1948 Summer  1948  Summer     London  Gymnastics   \n",
       "\n",
       "                                     Event   Medal  \n",
       "3              Tug-Of-War Men's Tug-Of-War    Gold  \n",
       "37  Swimming Men's 200 metres Breaststroke  Bronze  \n",
       "38  Swimming Men's 400 metres Breaststroke  Bronze  \n",
       "40             Ice Hockey Men's Ice Hockey  Bronze  \n",
       "41  Gymnastics Men's Individual All-Around  Bronze  "
      ]
     },
     "execution_count": 2,
     "metadata": {},
     "output_type": "execute_result"
    }
   ],
   "source": [
    "df = pd.read_csv(\"athlete_events.csv\")\n",
    "df = df.dropna(subset=['Medal'])\n",
    "df.head()"
   ]
  },
  {
   "cell_type": "markdown",
   "metadata": {},
   "source": [
    "#### (b) Find out the number of medals awarded in 2016 for each sport."
   ]
  },
  {
   "cell_type": "code",
   "execution_count": 3,
   "metadata": {},
   "outputs": [
    {
     "data": {
      "text/plain": [
       "Sport\n",
       "Archery                   24\n",
       "Athletics                192\n",
       "Badminton                 24\n",
       "Basketball                72\n",
       "Beach Volleyball          12\n",
       "Boxing                    51\n",
       "Canoeing                  82\n",
       "Cycling                   84\n",
       "Diving                    36\n",
       "Equestrianism             45\n",
       "Fencing                   65\n",
       "Football                 106\n",
       "Golf                       6\n",
       "Gymnastics                66\n",
       "Handball                  89\n",
       "Hockey                    99\n",
       "Judo                      56\n",
       "Modern Pentathlon          6\n",
       "Rhythmic Gymnastics       18\n",
       "Rowing                   144\n",
       "Rugby Sevens              74\n",
       "Sailing                   45\n",
       "Shooting                  45\n",
       "Swimming                 191\n",
       "Synchronized Swimming     32\n",
       "Table Tennis              24\n",
       "Taekwondo                 32\n",
       "Tennis                    24\n",
       "Trampolining               6\n",
       "Triathlon                  6\n",
       "Volleyball                72\n",
       "Water Polo                78\n",
       "Weightlifting             45\n",
       "Wrestling                 72\n",
       "Name: Medal, dtype: int64"
      ]
     },
     "execution_count": 3,
     "metadata": {},
     "output_type": "execute_result"
    }
   ],
   "source": [
    "df[df[\"Year\"] == 2016].groupby(['Sport'])['Medal'].count()"
   ]
  },
  {
   "cell_type": "markdown",
   "metadata": {},
   "source": [
    "#### (c) Filter the DataFrame one more time to only include the records for the top five sports based on the number of medals in 2016. "
   ]
  },
  {
   "cell_type": "code",
   "execution_count": 9,
   "metadata": {},
   "outputs": [
    {
     "data": {
      "text/html": [
       "<div>\n",
       "<style scoped>\n",
       "    .dataframe tbody tr th:only-of-type {\n",
       "        vertical-align: middle;\n",
       "    }\n",
       "\n",
       "    .dataframe tbody tr th {\n",
       "        vertical-align: top;\n",
       "    }\n",
       "\n",
       "    .dataframe thead th {\n",
       "        text-align: right;\n",
       "    }\n",
       "</style>\n",
       "<table border=\"1\" class=\"dataframe\">\n",
       "  <thead>\n",
       "    <tr style=\"text-align: right;\">\n",
       "      <th></th>\n",
       "      <th>ID</th>\n",
       "      <th>Name</th>\n",
       "      <th>Sex</th>\n",
       "      <th>Age</th>\n",
       "      <th>Height</th>\n",
       "      <th>Weight</th>\n",
       "      <th>Team</th>\n",
       "      <th>NOC</th>\n",
       "      <th>Games</th>\n",
       "      <th>Year</th>\n",
       "      <th>Season</th>\n",
       "      <th>City</th>\n",
       "      <th>Sport</th>\n",
       "      <th>Event</th>\n",
       "      <th>Medal</th>\n",
       "    </tr>\n",
       "  </thead>\n",
       "  <tbody>\n",
       "    <tr>\n",
       "      <th>158</th>\n",
       "      <td>62</td>\n",
       "      <td>Giovanni Abagnale</td>\n",
       "      <td>M</td>\n",
       "      <td>21.0</td>\n",
       "      <td>198.0</td>\n",
       "      <td>90.0</td>\n",
       "      <td>Italy</td>\n",
       "      <td>ITA</td>\n",
       "      <td>2016 Summer</td>\n",
       "      <td>2016</td>\n",
       "      <td>Summer</td>\n",
       "      <td>Rio de Janeiro</td>\n",
       "      <td>Rowing</td>\n",
       "      <td>Rowing Men's Coxless Pairs</td>\n",
       "      <td>Bronze</td>\n",
       "    </tr>\n",
       "    <tr>\n",
       "      <th>814</th>\n",
       "      <td>465</td>\n",
       "      <td>Matthew \"Matt\" Abood</td>\n",
       "      <td>M</td>\n",
       "      <td>30.0</td>\n",
       "      <td>197.0</td>\n",
       "      <td>92.0</td>\n",
       "      <td>Australia</td>\n",
       "      <td>AUS</td>\n",
       "      <td>2016 Summer</td>\n",
       "      <td>2016</td>\n",
       "      <td>Summer</td>\n",
       "      <td>Rio de Janeiro</td>\n",
       "      <td>Swimming</td>\n",
       "      <td>Swimming Men's 4 x 100 metres Freestyle Relay</td>\n",
       "      <td>Bronze</td>\n",
       "    </tr>\n",
       "    <tr>\n",
       "      <th>1228</th>\n",
       "      <td>690</td>\n",
       "      <td>Chantal Achterberg</td>\n",
       "      <td>F</td>\n",
       "      <td>31.0</td>\n",
       "      <td>172.0</td>\n",
       "      <td>72.0</td>\n",
       "      <td>Netherlands</td>\n",
       "      <td>NED</td>\n",
       "      <td>2016 Summer</td>\n",
       "      <td>2016</td>\n",
       "      <td>Summer</td>\n",
       "      <td>Rio de Janeiro</td>\n",
       "      <td>Rowing</td>\n",
       "      <td>Rowing Women's Quadruple Sculls</td>\n",
       "      <td>Silver</td>\n",
       "    </tr>\n",
       "    <tr>\n",
       "      <th>1529</th>\n",
       "      <td>846</td>\n",
       "      <td>Valerie Kasanita Adams-Vili (-Price)</td>\n",
       "      <td>F</td>\n",
       "      <td>31.0</td>\n",
       "      <td>193.0</td>\n",
       "      <td>120.0</td>\n",
       "      <td>New Zealand</td>\n",
       "      <td>NZL</td>\n",
       "      <td>2016 Summer</td>\n",
       "      <td>2016</td>\n",
       "      <td>Summer</td>\n",
       "      <td>Rio de Janeiro</td>\n",
       "      <td>Athletics</td>\n",
       "      <td>Athletics Women's Shot Put</td>\n",
       "      <td>Silver</td>\n",
       "    </tr>\n",
       "    <tr>\n",
       "      <th>1847</th>\n",
       "      <td>1017</td>\n",
       "      <td>Nathan Ghar-Jun Adrian</td>\n",
       "      <td>M</td>\n",
       "      <td>27.0</td>\n",
       "      <td>198.0</td>\n",
       "      <td>100.0</td>\n",
       "      <td>United States</td>\n",
       "      <td>USA</td>\n",
       "      <td>2016 Summer</td>\n",
       "      <td>2016</td>\n",
       "      <td>Summer</td>\n",
       "      <td>Rio de Janeiro</td>\n",
       "      <td>Swimming</td>\n",
       "      <td>Swimming Men's 50 metres Freestyle</td>\n",
       "      <td>Bronze</td>\n",
       "    </tr>\n",
       "    <tr>\n",
       "      <th>...</th>\n",
       "      <td>...</td>\n",
       "      <td>...</td>\n",
       "      <td>...</td>\n",
       "      <td>...</td>\n",
       "      <td>...</td>\n",
       "      <td>...</td>\n",
       "      <td>...</td>\n",
       "      <td>...</td>\n",
       "      <td>...</td>\n",
       "      <td>...</td>\n",
       "      <td>...</td>\n",
       "      <td>...</td>\n",
       "      <td>...</td>\n",
       "      <td>...</td>\n",
       "      <td>...</td>\n",
       "    </tr>\n",
       "    <tr>\n",
       "      <th>265312</th>\n",
       "      <td>132776</td>\n",
       "      <td>Julius Kiplagat Yego</td>\n",
       "      <td>M</td>\n",
       "      <td>27.0</td>\n",
       "      <td>175.0</td>\n",
       "      <td>94.0</td>\n",
       "      <td>Kenya</td>\n",
       "      <td>KEN</td>\n",
       "      <td>2016 Summer</td>\n",
       "      <td>2016</td>\n",
       "      <td>Summer</td>\n",
       "      <td>Rio de Janeiro</td>\n",
       "      <td>Athletics</td>\n",
       "      <td>Athletics Men's Javelin Throw</td>\n",
       "      <td>Silver</td>\n",
       "    </tr>\n",
       "    <tr>\n",
       "      <th>267136</th>\n",
       "      <td>133648</td>\n",
       "      <td>Shelina Laura Zadorsky</td>\n",
       "      <td>F</td>\n",
       "      <td>23.0</td>\n",
       "      <td>172.0</td>\n",
       "      <td>67.0</td>\n",
       "      <td>Canada</td>\n",
       "      <td>CAN</td>\n",
       "      <td>2016 Summer</td>\n",
       "      <td>2016</td>\n",
       "      <td>Summer</td>\n",
       "      <td>Rio de Janeiro</td>\n",
       "      <td>Football</td>\n",
       "      <td>Football Women's Football</td>\n",
       "      <td>Bronze</td>\n",
       "    </tr>\n",
       "    <tr>\n",
       "      <th>268247</th>\n",
       "      <td>134211</td>\n",
       "      <td>Jos Carlos Cracco Neto</td>\n",
       "      <td>M</td>\n",
       "      <td>22.0</td>\n",
       "      <td>170.0</td>\n",
       "      <td>69.0</td>\n",
       "      <td>Brazil</td>\n",
       "      <td>BRA</td>\n",
       "      <td>2016 Summer</td>\n",
       "      <td>2016</td>\n",
       "      <td>Summer</td>\n",
       "      <td>Rio de Janeiro</td>\n",
       "      <td>Football</td>\n",
       "      <td>Football Men's Football</td>\n",
       "      <td>Gold</td>\n",
       "    </tr>\n",
       "    <tr>\n",
       "      <th>268944</th>\n",
       "      <td>134559</td>\n",
       "      <td>Zhang Wenxiu</td>\n",
       "      <td>F</td>\n",
       "      <td>30.0</td>\n",
       "      <td>183.0</td>\n",
       "      <td>105.0</td>\n",
       "      <td>China</td>\n",
       "      <td>CHN</td>\n",
       "      <td>2016 Summer</td>\n",
       "      <td>2016</td>\n",
       "      <td>Summer</td>\n",
       "      <td>Rio de Janeiro</td>\n",
       "      <td>Athletics</td>\n",
       "      <td>Athletics Women's Hammer Throw</td>\n",
       "      <td>Silver</td>\n",
       "    </tr>\n",
       "    <tr>\n",
       "      <th>271019</th>\n",
       "      <td>135525</td>\n",
       "      <td>Martin Zwicker</td>\n",
       "      <td>M</td>\n",
       "      <td>29.0</td>\n",
       "      <td>175.0</td>\n",
       "      <td>64.0</td>\n",
       "      <td>Germany</td>\n",
       "      <td>GER</td>\n",
       "      <td>2016 Summer</td>\n",
       "      <td>2016</td>\n",
       "      <td>Summer</td>\n",
       "      <td>Rio de Janeiro</td>\n",
       "      <td>Hockey</td>\n",
       "      <td>Hockey Men's Hockey</td>\n",
       "      <td>Bronze</td>\n",
       "    </tr>\n",
       "  </tbody>\n",
       "</table>\n",
       "<p>732 rows × 15 columns</p>\n",
       "</div>"
      ],
      "text/plain": [
       "            ID                                  Name Sex   Age  Height  \\\n",
       "158         62                     Giovanni Abagnale   M  21.0   198.0   \n",
       "814        465                  Matthew \"Matt\" Abood   M  30.0   197.0   \n",
       "1228       690                    Chantal Achterberg   F  31.0   172.0   \n",
       "1529       846  Valerie Kasanita Adams-Vili (-Price)   F  31.0   193.0   \n",
       "1847      1017                Nathan Ghar-Jun Adrian   M  27.0   198.0   \n",
       "...        ...                                   ...  ..   ...     ...   \n",
       "265312  132776                  Julius Kiplagat Yego   M  27.0   175.0   \n",
       "267136  133648                Shelina Laura Zadorsky   F  23.0   172.0   \n",
       "268247  134211                Jos Carlos Cracco Neto   M  22.0   170.0   \n",
       "268944  134559                          Zhang Wenxiu   F  30.0   183.0   \n",
       "271019  135525                        Martin Zwicker   M  29.0   175.0   \n",
       "\n",
       "        Weight           Team  NOC        Games  Year  Season            City  \\\n",
       "158       90.0          Italy  ITA  2016 Summer  2016  Summer  Rio de Janeiro   \n",
       "814       92.0      Australia  AUS  2016 Summer  2016  Summer  Rio de Janeiro   \n",
       "1228      72.0    Netherlands  NED  2016 Summer  2016  Summer  Rio de Janeiro   \n",
       "1529     120.0    New Zealand  NZL  2016 Summer  2016  Summer  Rio de Janeiro   \n",
       "1847     100.0  United States  USA  2016 Summer  2016  Summer  Rio de Janeiro   \n",
       "...        ...            ...  ...          ...   ...     ...             ...   \n",
       "265312    94.0          Kenya  KEN  2016 Summer  2016  Summer  Rio de Janeiro   \n",
       "267136    67.0         Canada  CAN  2016 Summer  2016  Summer  Rio de Janeiro   \n",
       "268247    69.0         Brazil  BRA  2016 Summer  2016  Summer  Rio de Janeiro   \n",
       "268944   105.0          China  CHN  2016 Summer  2016  Summer  Rio de Janeiro   \n",
       "271019    64.0        Germany  GER  2016 Summer  2016  Summer  Rio de Janeiro   \n",
       "\n",
       "            Sport                                          Event   Medal  \n",
       "158        Rowing                     Rowing Men's Coxless Pairs  Bronze  \n",
       "814      Swimming  Swimming Men's 4 x 100 metres Freestyle Relay  Bronze  \n",
       "1228       Rowing                Rowing Women's Quadruple Sculls  Silver  \n",
       "1529    Athletics                     Athletics Women's Shot Put  Silver  \n",
       "1847     Swimming             Swimming Men's 50 metres Freestyle  Bronze  \n",
       "...           ...                                            ...     ...  \n",
       "265312  Athletics                  Athletics Men's Javelin Throw  Silver  \n",
       "267136   Football                      Football Women's Football  Bronze  \n",
       "268247   Football                        Football Men's Football    Gold  \n",
       "268944  Athletics                 Athletics Women's Hammer Throw  Silver  \n",
       "271019     Hockey                            Hockey Men's Hockey  Bronze  \n",
       "\n",
       "[732 rows x 15 columns]"
      ]
     },
     "execution_count": 9,
     "metadata": {},
     "output_type": "execute_result"
    }
   ],
   "source": [
    "top5 = df[df[\"Year\"] == 2016]\n",
    "top5 = top5.groupby(['Sport'])['Medal'].count().nlargest(5)\n",
    "names = []\n",
    "for sport in top5.index:\n",
    "    names.append(sport)\n",
    "    \n",
    "top5df = df[df['Sport'].isin(names)]\n",
    "top5df = top5df[top5df['Year'] == 2016]\n",
    "top5df"
   ]
  },
  {
   "cell_type": "markdown",
   "metadata": {},
   "source": [
    "#### (d) Generate a bar plot of record counts corresponding to each of the top five sports. The graph should look like this."
   ]
  },
  {
   "cell_type": "code",
   "execution_count": 200,
   "metadata": {},
   "outputs": [
    {
     "data": {
      "text/plain": [
       "<AxesSubplot:xlabel='Sport'>"
      ]
     },
     "execution_count": 200,
     "metadata": {},
     "output_type": "execute_result"
    },
    {
     "data": {
      "image/png": "[encoded data removed]",
      "text/plain": [
       "<Figure size 432x288 with 1 Axes>"
      ]
     },
     "metadata": {
      "needs_background": "light"
     },
     "output_type": "display_data"
    }
   ],
   "source": [
    "barCount = top5df.groupby(['Sport'])['Medal'].count()\n",
    "barCount.plot.bar(x=top5df['Sport'], y=top5df['Medal'], rot=0)"
   ]
  },
  {
   "cell_type": "markdown",
   "metadata": {},
   "source": [
    "#### (e) Generate a histogram for the “Age” of all medal winners in the top five sports (2016). The graph should look like this."
   ]
  },
  {
   "cell_type": "code",
   "execution_count": 190,
   "metadata": {},
   "outputs": [
    {
     "data": {
      "image/png": "[encoded data removed]",
      "text/plain": [
       "<Figure size 432x288 with 1 Axes>"
      ]
     },
     "metadata": {
      "needs_background": "light"
     },
     "output_type": "display_data"
    }
   ],
   "source": [
    "e = plt.hist(top5df['Age'], bins=16)"
   ]
  },
  {
   "cell_type": "markdown",
   "metadata": {},
   "source": [
    "#### (f)  Generate a bar plot indicating how many medals were won by each country's team in the top five sports in 2016. The output should look like this."
   ]
  },
  {
   "cell_type": "code",
   "execution_count": 139,
   "metadata": {},
   "outputs": [
    {
     "data": {
      "image/png": "[encoded data removed]",
      "text/plain": [
       "<Figure size 432x288 with 1 Axes>"
      ]
     },
     "metadata": {
      "needs_background": "light"
     },
     "output_type": "display_data"
    }
   ],
   "source": [
    "countryMedal = top5df.groupby(['Team'])['Medal'].count()\n",
    "f = countryMedal.plot.bar()"
   ]
  },
  {
   "cell_type": "markdown",
   "metadata": {},
   "source": [
    "#### (g) Generate a bar plot indicating the average weight of players, categorized based on gender, winning in the top five sports in 2016. The output should look like this."
   ]
  },
  {
   "cell_type": "code",
   "execution_count": 174,
   "metadata": {},
   "outputs": [
    {
     "data": {
      "image/png": "[encoded data removed]",
      "text/plain": [
       "<Figure size 432x288 with 1 Axes>"
      ]
     },
     "metadata": {
      "needs_background": "light"
     },
     "output_type": "display_data"
    }
   ],
   "source": [
    "\n",
    "g = sns.barplot(x=top5df['Sport'], y=top5df['Weight'], hue=top5df['Sex'], data=top5df)\n",
    "\n"
   ]
  },
  {
   "cell_type": "markdown",
   "metadata": {},
   "source": [
    "#### (h) Create a scatter plot with x=height and y=weight."
   ]
  },
  {
   "cell_type": "code",
   "execution_count": 137,
   "metadata": {},
   "outputs": [
    {
     "data": {
      "image/png": "[encoded data removed]",
      "text/plain": [
       "<Figure size 432x288 with 1 Axes>"
      ]
     },
     "metadata": {
      "needs_background": "light"
     },
     "output_type": "display_data"
    }
   ],
   "source": [
    "h = plt.scatter(x=top5df['Height'], y=top5df['Weight'])"
   ]
  },
  {
   "cell_type": "markdown",
   "metadata": {},
   "source": [
    "#### (i)  create a joint plot with x=height and y=weight."
   ]
  },
  {
   "cell_type": "code",
   "execution_count": 136,
   "metadata": {},
   "outputs": [
    {
     "data": {
      "image/png": "[encoded data removed]",
      "text/plain": [
       "<Figure size 432x432 with 3 Axes>"
      ]
     },
     "metadata": {
      "needs_background": "light"
     },
     "output_type": "display_data"
    }
   ],
   "source": [
    "i = sns.jointplot(x=top5df['Height'], y=top5df['Weight'])"
   ]
  },
  {
   "cell_type": "markdown",
   "metadata": {},
   "source": [
    "#### (j)  Create two violin plots: One for the distribution of weight by genders and the classes of medals.The other for the distribution of height by genders and the classes of medals."
   ]
  },
  {
   "cell_type": "code",
   "execution_count": 189,
   "metadata": {},
   "outputs": [
    {
     "data": {
      "image/png": "[encoded data removed]",
      "text/plain": [
       "<Figure size 432x288 with 1 Axes>"
      ]
     },
     "metadata": {
      "needs_background": "light"
     },
     "output_type": "display_data"
    }
   ],
   "source": [
    "j = sns.violinplot(x=top5df['Medal'], y=top5df['Weight'], hue=top5df['Sex'], data=top5df)"
   ]
  },
  {
   "cell_type": "markdown",
   "metadata": {},
   "source": [
    "### Q.2 We will work with the HPI dataset. The objective is to draw a bar plot depicting the number of countries in each region and a heatmap indicating the number of countries in various ranges of wellbeing and life-expectancy. "
   ]
  },
  {
   "cell_type": "markdown",
   "metadata": {},
   "source": [
    "#### (a) Read from the dataset \"hpi_data_countries.txt\" (it is txt file separated by \\t). You can use pandas to read it."
   ]
  },
  {
   "cell_type": "code",
   "execution_count": 476,
   "metadata": {},
   "outputs": [
    {
     "data": {
      "text/html": [
       "<div>\n",
       "<style scoped>\n",
       "    .dataframe tbody tr th:only-of-type {\n",
       "        vertical-align: middle;\n",
       "    }\n",
       "\n",
       "    .dataframe tbody tr th {\n",
       "        vertical-align: top;\n",
       "    }\n",
       "\n",
       "    .dataframe thead th {\n",
       "        text-align: right;\n",
       "    }\n",
       "</style>\n",
       "<table border=\"1\" class=\"dataframe\">\n",
       "  <thead>\n",
       "    <tr style=\"text-align: right;\">\n",
       "      <th></th>\n",
       "      <th>HPI Rank</th>\n",
       "      <th>Country</th>\n",
       "      <th>Region</th>\n",
       "      <th>Life Expectancy (years)</th>\n",
       "      <th>Wellbeing (0-10)</th>\n",
       "      <th>Inequality of outcomes</th>\n",
       "      <th>Ecological Footprint (gha/capita)</th>\n",
       "      <th>Happy Planet Index</th>\n",
       "    </tr>\n",
       "  </thead>\n",
       "  <tbody>\n",
       "    <tr>\n",
       "      <th>0</th>\n",
       "      <td>1</td>\n",
       "      <td>Costa Rica</td>\n",
       "      <td>Americas</td>\n",
       "      <td>79.1</td>\n",
       "      <td>7.3</td>\n",
       "      <td>15%</td>\n",
       "      <td>2.8</td>\n",
       "      <td>44.7</td>\n",
       "    </tr>\n",
       "    <tr>\n",
       "      <th>1</th>\n",
       "      <td>2</td>\n",
       "      <td>Mexico</td>\n",
       "      <td>Americas</td>\n",
       "      <td>76.4</td>\n",
       "      <td>7.3</td>\n",
       "      <td>19%</td>\n",
       "      <td>2.9</td>\n",
       "      <td>40.7</td>\n",
       "    </tr>\n",
       "    <tr>\n",
       "      <th>2</th>\n",
       "      <td>3</td>\n",
       "      <td>Colombia</td>\n",
       "      <td>Americas</td>\n",
       "      <td>73.7</td>\n",
       "      <td>6.4</td>\n",
       "      <td>24%</td>\n",
       "      <td>1.9</td>\n",
       "      <td>40.7</td>\n",
       "    </tr>\n",
       "    <tr>\n",
       "      <th>3</th>\n",
       "      <td>4</td>\n",
       "      <td>Vanuatu</td>\n",
       "      <td>Asia Pacific</td>\n",
       "      <td>71.3</td>\n",
       "      <td>6.5</td>\n",
       "      <td>22%</td>\n",
       "      <td>1.9</td>\n",
       "      <td>40.6</td>\n",
       "    </tr>\n",
       "    <tr>\n",
       "      <th>4</th>\n",
       "      <td>5</td>\n",
       "      <td>Vietnam</td>\n",
       "      <td>Asia Pacific</td>\n",
       "      <td>75.5</td>\n",
       "      <td>5.5</td>\n",
       "      <td>19%</td>\n",
       "      <td>1.7</td>\n",
       "      <td>40.3</td>\n",
       "    </tr>\n",
       "    <tr>\n",
       "      <th>...</th>\n",
       "      <td>...</td>\n",
       "      <td>...</td>\n",
       "      <td>...</td>\n",
       "      <td>...</td>\n",
       "      <td>...</td>\n",
       "      <td>...</td>\n",
       "      <td>...</td>\n",
       "      <td>...</td>\n",
       "    </tr>\n",
       "    <tr>\n",
       "      <th>135</th>\n",
       "      <td>136</td>\n",
       "      <td>Mongolia</td>\n",
       "      <td>Asia Pacific</td>\n",
       "      <td>68.6</td>\n",
       "      <td>4.9</td>\n",
       "      <td>22%</td>\n",
       "      <td>6.1</td>\n",
       "      <td>14.3</td>\n",
       "    </tr>\n",
       "    <tr>\n",
       "      <th>136</th>\n",
       "      <td>137</td>\n",
       "      <td>Benin</td>\n",
       "      <td>Sub Saharan Africa</td>\n",
       "      <td>59.2</td>\n",
       "      <td>3.2</td>\n",
       "      <td>44%</td>\n",
       "      <td>1.4</td>\n",
       "      <td>13.4</td>\n",
       "    </tr>\n",
       "    <tr>\n",
       "      <th>137</th>\n",
       "      <td>138</td>\n",
       "      <td>Togo</td>\n",
       "      <td>Sub Saharan Africa</td>\n",
       "      <td>58.6</td>\n",
       "      <td>2.9</td>\n",
       "      <td>43%</td>\n",
       "      <td>1.1</td>\n",
       "      <td>13.2</td>\n",
       "    </tr>\n",
       "    <tr>\n",
       "      <th>138</th>\n",
       "      <td>139</td>\n",
       "      <td>Luxembourg</td>\n",
       "      <td>Europe</td>\n",
       "      <td>81.1</td>\n",
       "      <td>7.0</td>\n",
       "      <td>7%</td>\n",
       "      <td>15.8</td>\n",
       "      <td>13.2</td>\n",
       "    </tr>\n",
       "    <tr>\n",
       "      <th>139</th>\n",
       "      <td>140</td>\n",
       "      <td>Chad</td>\n",
       "      <td>Sub Saharan Africa</td>\n",
       "      <td>50.8</td>\n",
       "      <td>4.0</td>\n",
       "      <td>51%</td>\n",
       "      <td>1.5</td>\n",
       "      <td>12.8</td>\n",
       "    </tr>\n",
       "  </tbody>\n",
       "</table>\n",
       "<p>140 rows × 8 columns</p>\n",
       "</div>"
      ],
      "text/plain": [
       "     HPI Rank     Country              Region  Life Expectancy (years)  \\\n",
       "0           1  Costa Rica            Americas                     79.1   \n",
       "1           2      Mexico            Americas                     76.4   \n",
       "2           3    Colombia            Americas                     73.7   \n",
       "3           4     Vanuatu        Asia Pacific                     71.3   \n",
       "4           5     Vietnam        Asia Pacific                     75.5   \n",
       "..        ...         ...                 ...                      ...   \n",
       "135       136    Mongolia        Asia Pacific                     68.6   \n",
       "136       137       Benin  Sub Saharan Africa                     59.2   \n",
       "137       138        Togo  Sub Saharan Africa                     58.6   \n",
       "138       139  Luxembourg              Europe                     81.1   \n",
       "139       140        Chad  Sub Saharan Africa                     50.8   \n",
       "\n",
       "     Wellbeing (0-10) Inequality of outcomes  \\\n",
       "0                 7.3                    15%   \n",
       "1                 7.3                    19%   \n",
       "2                 6.4                    24%   \n",
       "3                 6.5                    22%   \n",
       "4                 5.5                    19%   \n",
       "..                ...                    ...   \n",
       "135               4.9                    22%   \n",
       "136               3.2                    44%   \n",
       "137               2.9                    43%   \n",
       "138               7.0                     7%   \n",
       "139               4.0                    51%   \n",
       "\n",
       "     Ecological Footprint (gha/capita)  Happy Planet Index  \n",
       "0                                  2.8                44.7  \n",
       "1                                  2.9                40.7  \n",
       "2                                  1.9                40.7  \n",
       "3                                  1.9                40.6  \n",
       "4                                  1.7                40.3  \n",
       "..                                 ...                 ...  \n",
       "135                                6.1                14.3  \n",
       "136                                1.4                13.4  \n",
       "137                                1.1                13.2  \n",
       "138                               15.8                13.2  \n",
       "139                                1.5                12.8  \n",
       "\n",
       "[140 rows x 8 columns]"
      ]
     },
     "execution_count": 476,
     "metadata": {},
     "output_type": "execute_result"
    }
   ],
   "source": [
    "hpi_df = pd.read_csv('hpi_data_countries.txt', sep='\\t')\n",
    "hpi_df"
   ]
  },
  {
   "cell_type": "markdown",
   "metadata": {},
   "source": [
    "#### (b) Count the number of rows for each region to generate the following bar chart."
   ]
  },
  {
   "cell_type": "code",
   "execution_count": 477,
   "metadata": {},
   "outputs": [
    {
     "data": {
      "text/plain": [
       "<AxesSubplot:xlabel='Region'>"
      ]
     },
     "execution_count": 477,
     "metadata": {},
     "output_type": "execute_result"
    },
    {
     "data": {
      "image/png": "[encoded data removed]",
      "text/plain": [
       "<Figure size 432x288 with 1 Axes>"
      ]
     },
     "metadata": {
      "needs_background": "light"
     },
     "output_type": "display_data"
    }
   ],
   "source": [
    "region_count = hpi_df.groupby(\"Region\")[\"Region\"].count()\n",
    "region_count.plot.bar()"
   ]
  },
  {
   "cell_type": "markdown",
   "metadata": {},
   "source": [
    "#### (c) we use pd.cut to bin the values into different categories. Then, generate the following heatmap."
   ]
  },
  {
   "cell_type": "code",
   "execution_count": 520,
   "metadata": {},
   "outputs": [
    {
     "data": {
      "text/plain": [
       "<AxesSubplot:xlabel='Wellbeing (0-10)(binned)', ylabel='Life Expectancy (years)(binned)'>"
      ]
     },
     "execution_count": 520,
     "metadata": {},
     "output_type": "execute_result"
    },
    {
     "data": {
      "image/png": "[encoded data removed]",
      "text/plain": [
       "<Figure size 432x288 with 2 Axes>"
      ]
     },
     "metadata": {
      "needs_background": "light"
     },
     "output_type": "display_data"
    }
   ],
   "source": [
    "hpi_df[\"Wellbeing (0-10)(binned)\"] = pd.cut(hpi_df[\"Wellbeing (0-10)\"], bins=np.linspace(2.5,8,12))\n",
    "hpi_df[\"Life Expectancy (years)(binned)\"] = pd.cut(hpi_df[\"Life Expectancy (years)\"], bins=np.linspace(45,85,9))\n",
    "\n",
    "new_df = hpi_df.groupby([\"Wellbeing (0-10)(binned)\", \"Life Expectancy (years)(binned)\"]).size().unstack(level=0)\n",
    "new_df = new_df.sort_values(ascending=False, by=\"Life Expectancy (years)(binned)\")\n",
    "\n",
    "sns.heatmap(new_df, cmap=\"Greens\")"
   ]
  },
  {
   "cell_type": "code",
   "execution_count": null,
   "metadata": {},
   "outputs": [],
   "source": []
  },
  {
   "cell_type": "code",
   "execution_count": null,
   "metadata": {},
   "outputs": [],
   "source": []
  },
  {
   "cell_type": "code",
   "execution_count": null,
   "metadata": {},
   "outputs": [],
   "source": []
  },
  {
   "cell_type": "code",
   "execution_count": null,
   "metadata": {},
   "outputs": [],
   "source": []
  }
 ],
 "metadata": {
  "kernelspec": {
   "display_name": "Python 3",
   "language": "python",
   "name": "python3"
  },
  "language_info": {
   "codemirror_mode": {
    "name": "ipython",
    "version": 3
   },
   "file_extension": ".py",
   "mimetype": "text/x-python",
   "name": "python",
   "nbconvert_exporter": "python",
   "pygments_lexer": "ipython3",
   "version": "3.8.5"
  }
 },
 "nbformat": 4,
 "nbformat_minor": 4
}
