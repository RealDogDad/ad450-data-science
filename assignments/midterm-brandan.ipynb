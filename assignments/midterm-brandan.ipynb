{
 "cells": [
  {
   "cell_type": "markdown",
   "metadata": {},
   "source": [
    "## Midterm Exam\n",
    "### Brandon Ownes and Loan Pham"
   ]
  },
  {
   "cell_type": "markdown",
   "metadata": {},
   "source": [
    "### Q.1"
   ]
  },
  {
   "cell_type": "code",
   "execution_count": 132,
   "metadata": {},
   "outputs": [],
   "source": [
    "import pandas as pd\n",
    "import matplotlib.pyplot as plt\n",
    "import numpy as np\n",
    "import string"
   ]
  },
  {
   "cell_type": "code",
   "execution_count": 133,
   "metadata": {},
   "outputs": [
    {
     "output_type": "execute_result",
     "data": {
      "text/plain": [
       "array([-1.56035211, -0.0309776 , -0.62092842, -1.46458049,  1.41194612,\n",
       "       -0.47673214, -0.78046921,  1.07026774, -1.2822926 , -1.3274789 ,\n",
       "        0.12633764,  0.86219372,  0.69673696, -0.33456518, -0.99752606,\n",
       "        1.59890829,  3.31407535,  0.98777046,  0.12386626,  0.74278539,\n",
       "       -0.39395585,  0.14811582, -0.41223445, -0.16071506,  0.13953147,\n",
       "        0.28546937, -0.28126199,  1.71090732, -0.14976664,  0.69030672,\n",
       "        1.09520951,  1.3384087 , -1.36898167,  0.48642763,  0.75352168,\n",
       "        0.36346459, -0.31471048,  1.37328117, -0.62441716,  0.375754  ,\n",
       "       -0.20041632,  0.74303806,  0.85736196, -1.50618929, -1.66635217,\n",
       "       -0.2189948 , -0.35885843,  0.37852769,  0.68421537, -1.16785607])"
      ]
     },
     "metadata": {},
     "execution_count": 133
    }
   ],
   "source": [
    "# (a) Set random seed to be 50.\n",
    "\n",
    "np.random.seed(50)\n",
    "np.random.randn(50)"
   ]
  },
  {
   "cell_type": "code",
   "execution_count": 134,
   "metadata": {
    "scrolled": true
   },
   "outputs": [
    {
     "output_type": "execute_result",
     "data": {
      "text/plain": [
       "     i  ii  iii  iv index\n",
       "0   22  25   -1   6     A\n",
       "1   23   9    6  21     B\n",
       "2   26  21   14  27     C\n",
       "3   10  17    9  18     D\n",
       "4    0   1   -2  -2     E\n",
       "5   -1  25   23  23     F\n",
       "6   -1  26   -1   0     G\n",
       "7   13   4   22  23     H\n",
       "8   12  -5    2  -4     I\n",
       "9   21  11    8  -2     J\n",
       "10   3  21   16  -5     K\n",
       "11   6  -1   23   7     L\n",
       "12  22  -4   16   7     M\n",
       "13  22   8    9  27     N\n",
       "14   2   9    8  16     O\n",
       "15  -4  -3    1   9     P\n",
       "16   3  17    7  14     Q\n",
       "17  -2  -5   -5  11     R\n",
       "18  16   9   -5  14     S\n",
       "19  -2  25    3  27     T\n",
       "20   1  21   27  -1     U\n",
       "21  10  -1    9  10     V\n",
       "22  26  11   -1  13     W\n",
       "23  17  24   27  26     X\n",
       "24  -5   9    2  17     Y\n",
       "25   6  17   20  -3     Z"
      ],
      "text/html": "<div>\n<style scoped>\n    .dataframe tbody tr th:only-of-type {\n        vertical-align: middle;\n    }\n\n    .dataframe tbody tr th {\n        vertical-align: top;\n    }\n\n    .dataframe thead th {\n        text-align: right;\n    }\n</style>\n<table border=\"1\" class=\"dataframe\">\n  <thead>\n    <tr style=\"text-align: right;\">\n      <th></th>\n      <th>i</th>\n      <th>ii</th>\n      <th>iii</th>\n      <th>iv</th>\n      <th>index</th>\n    </tr>\n  </thead>\n  <tbody>\n    <tr>\n      <th>0</th>\n      <td>22</td>\n      <td>25</td>\n      <td>-1</td>\n      <td>6</td>\n      <td>A</td>\n    </tr>\n    <tr>\n      <th>1</th>\n      <td>23</td>\n      <td>9</td>\n      <td>6</td>\n      <td>21</td>\n      <td>B</td>\n    </tr>\n    <tr>\n      <th>2</th>\n      <td>26</td>\n      <td>21</td>\n      <td>14</td>\n      <td>27</td>\n      <td>C</td>\n    </tr>\n    <tr>\n      <th>3</th>\n      <td>10</td>\n      <td>17</td>\n      <td>9</td>\n      <td>18</td>\n      <td>D</td>\n    </tr>\n    <tr>\n      <th>4</th>\n      <td>0</td>\n      <td>1</td>\n      <td>-2</td>\n      <td>-2</td>\n      <td>E</td>\n    </tr>\n    <tr>\n      <th>5</th>\n      <td>-1</td>\n      <td>25</td>\n      <td>23</td>\n      <td>23</td>\n      <td>F</td>\n    </tr>\n    <tr>\n      <th>6</th>\n      <td>-1</td>\n      <td>26</td>\n      <td>-1</td>\n      <td>0</td>\n      <td>G</td>\n    </tr>\n    <tr>\n      <th>7</th>\n      <td>13</td>\n      <td>4</td>\n      <td>22</td>\n      <td>23</td>\n      <td>H</td>\n    </tr>\n    <tr>\n      <th>8</th>\n      <td>12</td>\n      <td>-5</td>\n      <td>2</td>\n      <td>-4</td>\n      <td>I</td>\n    </tr>\n    <tr>\n      <th>9</th>\n      <td>21</td>\n      <td>11</td>\n      <td>8</td>\n      <td>-2</td>\n      <td>J</td>\n    </tr>\n    <tr>\n      <th>10</th>\n      <td>3</td>\n      <td>21</td>\n      <td>16</td>\n      <td>-5</td>\n      <td>K</td>\n    </tr>\n    <tr>\n      <th>11</th>\n      <td>6</td>\n      <td>-1</td>\n      <td>23</td>\n      <td>7</td>\n      <td>L</td>\n    </tr>\n    <tr>\n      <th>12</th>\n      <td>22</td>\n      <td>-4</td>\n      <td>16</td>\n      <td>7</td>\n      <td>M</td>\n    </tr>\n    <tr>\n      <th>13</th>\n      <td>22</td>\n      <td>8</td>\n      <td>9</td>\n      <td>27</td>\n      <td>N</td>\n    </tr>\n    <tr>\n      <th>14</th>\n      <td>2</td>\n      <td>9</td>\n      <td>8</td>\n      <td>16</td>\n      <td>O</td>\n    </tr>\n    <tr>\n      <th>15</th>\n      <td>-4</td>\n      <td>-3</td>\n      <td>1</td>\n      <td>9</td>\n      <td>P</td>\n    </tr>\n    <tr>\n      <th>16</th>\n      <td>3</td>\n      <td>17</td>\n      <td>7</td>\n      <td>14</td>\n      <td>Q</td>\n    </tr>\n    <tr>\n      <th>17</th>\n      <td>-2</td>\n      <td>-5</td>\n      <td>-5</td>\n      <td>11</td>\n      <td>R</td>\n    </tr>\n    <tr>\n      <th>18</th>\n      <td>16</td>\n      <td>9</td>\n      <td>-5</td>\n      <td>14</td>\n      <td>S</td>\n    </tr>\n    <tr>\n      <th>19</th>\n      <td>-2</td>\n      <td>25</td>\n      <td>3</td>\n      <td>27</td>\n      <td>T</td>\n    </tr>\n    <tr>\n      <th>20</th>\n      <td>1</td>\n      <td>21</td>\n      <td>27</td>\n      <td>-1</td>\n      <td>U</td>\n    </tr>\n    <tr>\n      <th>21</th>\n      <td>10</td>\n      <td>-1</td>\n      <td>9</td>\n      <td>10</td>\n      <td>V</td>\n    </tr>\n    <tr>\n      <th>22</th>\n      <td>26</td>\n      <td>11</td>\n      <td>-1</td>\n      <td>13</td>\n      <td>W</td>\n    </tr>\n    <tr>\n      <th>23</th>\n      <td>17</td>\n      <td>24</td>\n      <td>27</td>\n      <td>26</td>\n      <td>X</td>\n    </tr>\n    <tr>\n      <th>24</th>\n      <td>-5</td>\n      <td>9</td>\n      <td>2</td>\n      <td>17</td>\n      <td>Y</td>\n    </tr>\n    <tr>\n      <th>25</th>\n      <td>6</td>\n      <td>17</td>\n      <td>20</td>\n      <td>-3</td>\n      <td>Z</td>\n    </tr>\n  </tbody>\n</table>\n</div>"
     },
     "metadata": {},
     "execution_count": 134
    }
   ],
   "source": [
    "# (b) Create a dataframe with four columns of data:-Each column has 26 random integers between -5 and 28\n",
    "#     -The name of the columns = ['i','ii','iii','iv']-Create an index column and the values are from “A” to “Z”\n",
    "n = 26\n",
    "ix = list(string.ascii_uppercase)\n",
    "df = pd.DataFrame(dict(\n",
    "    i =np.random.randint(-5, 28, size=n),\n",
    "    ii =np.random.randint(-5, 28, size=n),\n",
    "    iii = np.random.randint(-5, 28, size=n),\n",
    "    iv = np.random.randint(-5, 28, size=n), index = ix))\n",
    "df"
   ]
  },
  {
   "cell_type": "code",
   "execution_count": 135,
   "metadata": {},
   "outputs": [
    {
     "output_type": "execute_result",
     "data": {
      "text/plain": [
       "    iii  iv index\n",
       "6    -1   0     G\n",
       "7    22  23     H\n",
       "8     2  -4     I\n",
       "9     8  -2     J\n",
       "10   16  -5     K\n",
       "11   23   7     L\n",
       "12   16   7     M\n",
       "13    9  27     N\n",
       "14    8  16     O\n",
       "15    1   9     P\n",
       "16    7  14     Q"
      ],
      "text/html": "<div>\n<style scoped>\n    .dataframe tbody tr th:only-of-type {\n        vertical-align: middle;\n    }\n\n    .dataframe tbody tr th {\n        vertical-align: top;\n    }\n\n    .dataframe thead th {\n        text-align: right;\n    }\n</style>\n<table border=\"1\" class=\"dataframe\">\n  <thead>\n    <tr style=\"text-align: right;\">\n      <th></th>\n      <th>iii</th>\n      <th>iv</th>\n      <th>index</th>\n    </tr>\n  </thead>\n  <tbody>\n    <tr>\n      <th>6</th>\n      <td>-1</td>\n      <td>0</td>\n      <td>G</td>\n    </tr>\n    <tr>\n      <th>7</th>\n      <td>22</td>\n      <td>23</td>\n      <td>H</td>\n    </tr>\n    <tr>\n      <th>8</th>\n      <td>2</td>\n      <td>-4</td>\n      <td>I</td>\n    </tr>\n    <tr>\n      <th>9</th>\n      <td>8</td>\n      <td>-2</td>\n      <td>J</td>\n    </tr>\n    <tr>\n      <th>10</th>\n      <td>16</td>\n      <td>-5</td>\n      <td>K</td>\n    </tr>\n    <tr>\n      <th>11</th>\n      <td>23</td>\n      <td>7</td>\n      <td>L</td>\n    </tr>\n    <tr>\n      <th>12</th>\n      <td>16</td>\n      <td>7</td>\n      <td>M</td>\n    </tr>\n    <tr>\n      <th>13</th>\n      <td>9</td>\n      <td>27</td>\n      <td>N</td>\n    </tr>\n    <tr>\n      <th>14</th>\n      <td>8</td>\n      <td>16</td>\n      <td>O</td>\n    </tr>\n    <tr>\n      <th>15</th>\n      <td>1</td>\n      <td>9</td>\n      <td>P</td>\n    </tr>\n    <tr>\n      <th>16</th>\n      <td>7</td>\n      <td>14</td>\n      <td>Q</td>\n    </tr>\n  </tbody>\n</table>\n</div>"
     },
     "metadata": {},
     "execution_count": 135
    }
   ],
   "source": [
    "# (c) access the values in rows from “G” to “Q” and columns from “ii” to “iv”.\n",
    "\n",
    "df.iloc[6:17, 2:5]"
   ]
  },
  {
   "cell_type": "code",
   "execution_count": 136,
   "metadata": {},
   "outputs": [
    {
     "output_type": "stream",
     "name": "stdout",
     "text": [
      "[ 0  6 14  9  0 23  0 22  2  8 16 23 16  9  8  1  7  0  0  3 27  9  0 27\n  2 20]\n"
     ]
    }
   ],
   "source": [
    "# (d) Replace the negative values of “iii” with 0.\n",
    "\n",
    "num = df[\"iii\"]\n",
    "print(np.where(num < 0, 0, num))"
   ]
  },
  {
   "cell_type": "code",
   "execution_count": 137,
   "metadata": {},
   "outputs": [
    {
     "output_type": "display_data",
     "data": {
      "text/plain": "     i  ii  iii  iv index\n0   22  25   -1   6     A\n1   23   9    6  21     B\n2   26  21   14  27     C\n3   10  17    9  18     D\n4   20   1   -2  -2     E\n5   -1  25   23  23     F\n6   20  26   -1   0     G\n7   13   4   22  23     H\n8   20  -5    2  -4     I\n9   20  11    8  -2     J\n10  20  21   16  -5     K\n11   6  -1   23   7     L\n12  22  -4   16   7     M\n13  22   8    9  27     N\n14   2   9    8  16     O\n15  -4  -3    1   9     P\n16   3  17    7  14     Q\n17  -2  -5   -5  11     R\n18  16   9   -5  14     S\n19  -2  25    3  27     T\n20  20  21   27  -1     U\n21  10  -1    9  10     V\n22  26  11   -1  13     W\n23  17  24   27  26     X\n24  -5   9    2  17     Y\n25  20  17   20  -3     Z",
      "text/html": "<div>\n<style scoped>\n    .dataframe tbody tr th:only-of-type {\n        vertical-align: middle;\n    }\n\n    .dataframe tbody tr th {\n        vertical-align: top;\n    }\n\n    .dataframe thead th {\n        text-align: right;\n    }\n</style>\n<table border=\"1\" class=\"dataframe\">\n  <thead>\n    <tr style=\"text-align: right;\">\n      <th></th>\n      <th>i</th>\n      <th>ii</th>\n      <th>iii</th>\n      <th>iv</th>\n      <th>index</th>\n    </tr>\n  </thead>\n  <tbody>\n    <tr>\n      <th>0</th>\n      <td>22</td>\n      <td>25</td>\n      <td>-1</td>\n      <td>6</td>\n      <td>A</td>\n    </tr>\n    <tr>\n      <th>1</th>\n      <td>23</td>\n      <td>9</td>\n      <td>6</td>\n      <td>21</td>\n      <td>B</td>\n    </tr>\n    <tr>\n      <th>2</th>\n      <td>26</td>\n      <td>21</td>\n      <td>14</td>\n      <td>27</td>\n      <td>C</td>\n    </tr>\n    <tr>\n      <th>3</th>\n      <td>10</td>\n      <td>17</td>\n      <td>9</td>\n      <td>18</td>\n      <td>D</td>\n    </tr>\n    <tr>\n      <th>4</th>\n      <td>20</td>\n      <td>1</td>\n      <td>-2</td>\n      <td>-2</td>\n      <td>E</td>\n    </tr>\n    <tr>\n      <th>5</th>\n      <td>-1</td>\n      <td>25</td>\n      <td>23</td>\n      <td>23</td>\n      <td>F</td>\n    </tr>\n    <tr>\n      <th>6</th>\n      <td>20</td>\n      <td>26</td>\n      <td>-1</td>\n      <td>0</td>\n      <td>G</td>\n    </tr>\n    <tr>\n      <th>7</th>\n      <td>13</td>\n      <td>4</td>\n      <td>22</td>\n      <td>23</td>\n      <td>H</td>\n    </tr>\n    <tr>\n      <th>8</th>\n      <td>20</td>\n      <td>-5</td>\n      <td>2</td>\n      <td>-4</td>\n      <td>I</td>\n    </tr>\n    <tr>\n      <th>9</th>\n      <td>20</td>\n      <td>11</td>\n      <td>8</td>\n      <td>-2</td>\n      <td>J</td>\n    </tr>\n    <tr>\n      <th>10</th>\n      <td>20</td>\n      <td>21</td>\n      <td>16</td>\n      <td>-5</td>\n      <td>K</td>\n    </tr>\n    <tr>\n      <th>11</th>\n      <td>6</td>\n      <td>-1</td>\n      <td>23</td>\n      <td>7</td>\n      <td>L</td>\n    </tr>\n    <tr>\n      <th>12</th>\n      <td>22</td>\n      <td>-4</td>\n      <td>16</td>\n      <td>7</td>\n      <td>M</td>\n    </tr>\n    <tr>\n      <th>13</th>\n      <td>22</td>\n      <td>8</td>\n      <td>9</td>\n      <td>27</td>\n      <td>N</td>\n    </tr>\n    <tr>\n      <th>14</th>\n      <td>2</td>\n      <td>9</td>\n      <td>8</td>\n      <td>16</td>\n      <td>O</td>\n    </tr>\n    <tr>\n      <th>15</th>\n      <td>-4</td>\n      <td>-3</td>\n      <td>1</td>\n      <td>9</td>\n      <td>P</td>\n    </tr>\n    <tr>\n      <th>16</th>\n      <td>3</td>\n      <td>17</td>\n      <td>7</td>\n      <td>14</td>\n      <td>Q</td>\n    </tr>\n    <tr>\n      <th>17</th>\n      <td>-2</td>\n      <td>-5</td>\n      <td>-5</td>\n      <td>11</td>\n      <td>R</td>\n    </tr>\n    <tr>\n      <th>18</th>\n      <td>16</td>\n      <td>9</td>\n      <td>-5</td>\n      <td>14</td>\n      <td>S</td>\n    </tr>\n    <tr>\n      <th>19</th>\n      <td>-2</td>\n      <td>25</td>\n      <td>3</td>\n      <td>27</td>\n      <td>T</td>\n    </tr>\n    <tr>\n      <th>20</th>\n      <td>20</td>\n      <td>21</td>\n      <td>27</td>\n      <td>-1</td>\n      <td>U</td>\n    </tr>\n    <tr>\n      <th>21</th>\n      <td>10</td>\n      <td>-1</td>\n      <td>9</td>\n      <td>10</td>\n      <td>V</td>\n    </tr>\n    <tr>\n      <th>22</th>\n      <td>26</td>\n      <td>11</td>\n      <td>-1</td>\n      <td>13</td>\n      <td>W</td>\n    </tr>\n    <tr>\n      <th>23</th>\n      <td>17</td>\n      <td>24</td>\n      <td>27</td>\n      <td>26</td>\n      <td>X</td>\n    </tr>\n    <tr>\n      <th>24</th>\n      <td>-5</td>\n      <td>9</td>\n      <td>2</td>\n      <td>17</td>\n      <td>Y</td>\n    </tr>\n    <tr>\n      <th>25</th>\n      <td>20</td>\n      <td>17</td>\n      <td>20</td>\n      <td>-3</td>\n      <td>Z</td>\n    </tr>\n  </tbody>\n</table>\n</div>"
     },
     "metadata": {}
    }
   ],
   "source": [
    "# (e) If “iv” < 0, replace the values of “i” with 20.\n",
    "df.loc[df['iv'] <= 0,'i'] = 20\n",
    "display(df)\n",
    "\n"
   ]
  },
  {
   "cell_type": "code",
   "execution_count": 138,
   "metadata": {},
   "outputs": [
    {
     "output_type": "execute_result",
     "data": {
      "text/plain": [
       "[6, 21, 27, 18, -2, 23, 0, -4, -5, 7, 16, 9, 14, 11, -1, 10, 13, 26, 17, -3]"
      ]
     },
     "metadata": {},
     "execution_count": 138
    }
   ],
   "source": [
    "# (f)  Create a list of unique values of “iv” \n",
    "\n",
    "list(df['iv'].unique())\n"
   ]
  },
  {
   "cell_type": "code",
   "execution_count": 139,
   "metadata": {},
   "outputs": [
    {
     "output_type": "execute_result",
     "data": {
      "text/plain": [
       "17.047619047619047"
      ]
     },
     "metadata": {},
     "execution_count": 139
    }
   ],
   "source": [
    "# (g) For all values greater than 0 in column “i”, find the mean.\n",
    "\n",
    "col_i = df[df[\"i\"]>0].mean()\n",
    "col_i.loc[\"i\"]"
   ]
  },
  {
   "cell_type": "code",
   "execution_count": 140,
   "metadata": {},
   "outputs": [
    {
     "output_type": "display_data",
     "data": {
      "text/plain": "     i  ii  iii  iv index\n0   22  25   -1   6     A\n1   23   9    6  21     B\n2   26  21   14  27     C\n3   10  17    9  18     D\n4   20   1   -2  -2     E\n5   -1  25   23  23     F\n7   13   4   22  23     H\n8   20  -5    2  -4     I\n9   20  11    8  -2     J\n10  20  21   16  -5     K\n11   6  -1   23   7     L\n12  22  -4   16   7     M\n13  22   8    9  27     N\n14   2   9    8  16     O\n15  -4  -3    1   9     P\n16   3  17    7  14     Q\n17  -2  -5   -5  11     R\n18  16   9   -5  14     S\n19  -2  25    3  27     T\n20  20  21   27  -1     U\n21  10  -1    9  10     V\n22  26  11   -1  13     W\n23  17  24   27  26     X\n24  -5   9    2  17     Y\n25  20  17   20  -3     Z",
      "text/html": "<div>\n<style scoped>\n    .dataframe tbody tr th:only-of-type {\n        vertical-align: middle;\n    }\n\n    .dataframe tbody tr th {\n        vertical-align: top;\n    }\n\n    .dataframe thead th {\n        text-align: right;\n    }\n</style>\n<table border=\"1\" class=\"dataframe\">\n  <thead>\n    <tr style=\"text-align: right;\">\n      <th></th>\n      <th>i</th>\n      <th>ii</th>\n      <th>iii</th>\n      <th>iv</th>\n      <th>index</th>\n    </tr>\n  </thead>\n  <tbody>\n    <tr>\n      <th>0</th>\n      <td>22</td>\n      <td>25</td>\n      <td>-1</td>\n      <td>6</td>\n      <td>A</td>\n    </tr>\n    <tr>\n      <th>1</th>\n      <td>23</td>\n      <td>9</td>\n      <td>6</td>\n      <td>21</td>\n      <td>B</td>\n    </tr>\n    <tr>\n      <th>2</th>\n      <td>26</td>\n      <td>21</td>\n      <td>14</td>\n      <td>27</td>\n      <td>C</td>\n    </tr>\n    <tr>\n      <th>3</th>\n      <td>10</td>\n      <td>17</td>\n      <td>9</td>\n      <td>18</td>\n      <td>D</td>\n    </tr>\n    <tr>\n      <th>4</th>\n      <td>20</td>\n      <td>1</td>\n      <td>-2</td>\n      <td>-2</td>\n      <td>E</td>\n    </tr>\n    <tr>\n      <th>5</th>\n      <td>-1</td>\n      <td>25</td>\n      <td>23</td>\n      <td>23</td>\n      <td>F</td>\n    </tr>\n    <tr>\n      <th>7</th>\n      <td>13</td>\n      <td>4</td>\n      <td>22</td>\n      <td>23</td>\n      <td>H</td>\n    </tr>\n    <tr>\n      <th>8</th>\n      <td>20</td>\n      <td>-5</td>\n      <td>2</td>\n      <td>-4</td>\n      <td>I</td>\n    </tr>\n    <tr>\n      <th>9</th>\n      <td>20</td>\n      <td>11</td>\n      <td>8</td>\n      <td>-2</td>\n      <td>J</td>\n    </tr>\n    <tr>\n      <th>10</th>\n      <td>20</td>\n      <td>21</td>\n      <td>16</td>\n      <td>-5</td>\n      <td>K</td>\n    </tr>\n    <tr>\n      <th>11</th>\n      <td>6</td>\n      <td>-1</td>\n      <td>23</td>\n      <td>7</td>\n      <td>L</td>\n    </tr>\n    <tr>\n      <th>12</th>\n      <td>22</td>\n      <td>-4</td>\n      <td>16</td>\n      <td>7</td>\n      <td>M</td>\n    </tr>\n    <tr>\n      <th>13</th>\n      <td>22</td>\n      <td>8</td>\n      <td>9</td>\n      <td>27</td>\n      <td>N</td>\n    </tr>\n    <tr>\n      <th>14</th>\n      <td>2</td>\n      <td>9</td>\n      <td>8</td>\n      <td>16</td>\n      <td>O</td>\n    </tr>\n    <tr>\n      <th>15</th>\n      <td>-4</td>\n      <td>-3</td>\n      <td>1</td>\n      <td>9</td>\n      <td>P</td>\n    </tr>\n    <tr>\n      <th>16</th>\n      <td>3</td>\n      <td>17</td>\n      <td>7</td>\n      <td>14</td>\n      <td>Q</td>\n    </tr>\n    <tr>\n      <th>17</th>\n      <td>-2</td>\n      <td>-5</td>\n      <td>-5</td>\n      <td>11</td>\n      <td>R</td>\n    </tr>\n    <tr>\n      <th>18</th>\n      <td>16</td>\n      <td>9</td>\n      <td>-5</td>\n      <td>14</td>\n      <td>S</td>\n    </tr>\n    <tr>\n      <th>19</th>\n      <td>-2</td>\n      <td>25</td>\n      <td>3</td>\n      <td>27</td>\n      <td>T</td>\n    </tr>\n    <tr>\n      <th>20</th>\n      <td>20</td>\n      <td>21</td>\n      <td>27</td>\n      <td>-1</td>\n      <td>U</td>\n    </tr>\n    <tr>\n      <th>21</th>\n      <td>10</td>\n      <td>-1</td>\n      <td>9</td>\n      <td>10</td>\n      <td>V</td>\n    </tr>\n    <tr>\n      <th>22</th>\n      <td>26</td>\n      <td>11</td>\n      <td>-1</td>\n      <td>13</td>\n      <td>W</td>\n    </tr>\n    <tr>\n      <th>23</th>\n      <td>17</td>\n      <td>24</td>\n      <td>27</td>\n      <td>26</td>\n      <td>X</td>\n    </tr>\n    <tr>\n      <th>24</th>\n      <td>-5</td>\n      <td>9</td>\n      <td>2</td>\n      <td>17</td>\n      <td>Y</td>\n    </tr>\n    <tr>\n      <th>25</th>\n      <td>20</td>\n      <td>17</td>\n      <td>20</td>\n      <td>-3</td>\n      <td>Z</td>\n    </tr>\n  </tbody>\n</table>\n</div>"
     },
     "metadata": {}
    }
   ],
   "source": [
    "# (h) Drop all the rows with “ii” > 25.\n",
    "df.dropna()\n",
    "df.drop(df[df['ii'] > 25].index, inplace=True)\n",
    "display(df)"
   ]
  },
  {
   "source": [
    "## Q.2"
   ],
   "cell_type": "markdown",
   "metadata": {}
  },
  {
   "cell_type": "code",
   "execution_count": 141,
   "metadata": {},
   "outputs": [
    {
     "output_type": "execute_result",
     "data": {
      "text/plain": [
       "      Unnamed: 0            Region/Country/Area  Year  \\\n",
       "0              0  Total, all countries or areas  2005   \n",
       "1              1  Total, all countries or areas  2005   \n",
       "2              2  Total, all countries or areas  2005   \n",
       "3              3  Total, all countries or areas  2005   \n",
       "4              4  Total, all countries or areas  2005   \n",
       "...          ...                            ...   ...   \n",
       "8157        8157                       Zimbabwe  2013   \n",
       "8158        8158                       Zimbabwe  2013   \n",
       "8159        8159                       Zimbabwe  2015   \n",
       "8160        8160                       Zimbabwe  2015   \n",
       "8161        8161                       Zimbabwe  2015   \n",
       "\n",
       "                                                   Data  \\\n",
       "0     Students enrolled in primary education (thousa...   \n",
       "1              Gross enrollement ratio - Primary (male)   \n",
       "2             Gross enrollment ratio - Primary (female)   \n",
       "3     Students enrolled in secondary education (thou...   \n",
       "4             Gross enrollment ratio - Secondary (male)   \n",
       "...                                                 ...   \n",
       "8157           Gross enrollment ratio - Tertiary (male)   \n",
       "8158         Gross enrollment ratio - Tertiary (female)   \n",
       "8159  Students enrolled in tertiary education (thous...   \n",
       "8160           Gross enrollment ratio - Tertiary (male)   \n",
       "8161         Gross enrollment ratio - Tertiary (female)   \n",
       "\n",
       "     Enrollments (Thousands)  \n",
       "0                    678,990  \n",
       "1                      104.8  \n",
       "2                       99.8  \n",
       "3                    509,100  \n",
       "4                       65.7  \n",
       "...                      ...  \n",
       "8157                     6.5  \n",
       "8158                     5.5  \n",
       "8159                     136  \n",
       "8160                     8.9  \n",
       "8161                     8.0  \n",
       "\n",
       "[8162 rows x 5 columns]"
      ],
      "text/html": "<div>\n<style scoped>\n    .dataframe tbody tr th:only-of-type {\n        vertical-align: middle;\n    }\n\n    .dataframe tbody tr th {\n        vertical-align: top;\n    }\n\n    .dataframe thead th {\n        text-align: right;\n    }\n</style>\n<table border=\"1\" class=\"dataframe\">\n  <thead>\n    <tr style=\"text-align: right;\">\n      <th></th>\n      <th>Unnamed: 0</th>\n      <th>Region/Country/Area</th>\n      <th>Year</th>\n      <th>Data</th>\n      <th>Enrollments (Thousands)</th>\n    </tr>\n  </thead>\n  <tbody>\n    <tr>\n      <th>0</th>\n      <td>0</td>\n      <td>Total, all countries or areas</td>\n      <td>2005</td>\n      <td>Students enrolled in primary education (thousa...</td>\n      <td>678,990</td>\n    </tr>\n    <tr>\n      <th>1</th>\n      <td>1</td>\n      <td>Total, all countries or areas</td>\n      <td>2005</td>\n      <td>Gross enrollement ratio - Primary (male)</td>\n      <td>104.8</td>\n    </tr>\n    <tr>\n      <th>2</th>\n      <td>2</td>\n      <td>Total, all countries or areas</td>\n      <td>2005</td>\n      <td>Gross enrollment ratio - Primary (female)</td>\n      <td>99.8</td>\n    </tr>\n    <tr>\n      <th>3</th>\n      <td>3</td>\n      <td>Total, all countries or areas</td>\n      <td>2005</td>\n      <td>Students enrolled in secondary education (thou...</td>\n      <td>509,100</td>\n    </tr>\n    <tr>\n      <th>4</th>\n      <td>4</td>\n      <td>Total, all countries or areas</td>\n      <td>2005</td>\n      <td>Gross enrollment ratio - Secondary (male)</td>\n      <td>65.7</td>\n    </tr>\n    <tr>\n      <th>...</th>\n      <td>...</td>\n      <td>...</td>\n      <td>...</td>\n      <td>...</td>\n      <td>...</td>\n    </tr>\n    <tr>\n      <th>8157</th>\n      <td>8157</td>\n      <td>Zimbabwe</td>\n      <td>2013</td>\n      <td>Gross enrollment ratio - Tertiary (male)</td>\n      <td>6.5</td>\n    </tr>\n    <tr>\n      <th>8158</th>\n      <td>8158</td>\n      <td>Zimbabwe</td>\n      <td>2013</td>\n      <td>Gross enrollment ratio - Tertiary (female)</td>\n      <td>5.5</td>\n    </tr>\n    <tr>\n      <th>8159</th>\n      <td>8159</td>\n      <td>Zimbabwe</td>\n      <td>2015</td>\n      <td>Students enrolled in tertiary education (thous...</td>\n      <td>136</td>\n    </tr>\n    <tr>\n      <th>8160</th>\n      <td>8160</td>\n      <td>Zimbabwe</td>\n      <td>2015</td>\n      <td>Gross enrollment ratio - Tertiary (male)</td>\n      <td>8.9</td>\n    </tr>\n    <tr>\n      <th>8161</th>\n      <td>8161</td>\n      <td>Zimbabwe</td>\n      <td>2015</td>\n      <td>Gross enrollment ratio - Tertiary (female)</td>\n      <td>8.0</td>\n    </tr>\n  </tbody>\n</table>\n<p>8162 rows × 5 columns</p>\n</div>"
     },
     "metadata": {},
     "execution_count": 141
    }
   ],
   "source": [
    "# (a) Read in “Education.csv”. \n",
    "edu = income_data = pd.read_csv(\"../dataFiles/Education.csv\")\n",
    "edu"
   ]
  },
  {
   "cell_type": "code",
   "execution_count": 142,
   "metadata": {},
   "outputs": [
    {
     "output_type": "display_data",
     "data": {
      "text/plain": "      Unnamed: 0            Region/Country/Area  Year  \\\n0              0  Total, all countries or areas  2005   \n1              1  Total, all countries or areas  2005   \n2              2  Total, all countries or areas  2005   \n3              3  Total, all countries or areas  2005   \n4              4  Total, all countries or areas  2005   \n...          ...                            ...   ...   \n8157        8157                       Zimbabwe  2013   \n8158        8158                       Zimbabwe  2013   \n8159        8159                       Zimbabwe  2015   \n8160        8160                       Zimbabwe  2015   \n8161        8161                       Zimbabwe  2015   \n\n                                                   Data  \\\n0     Students enrolled in primary education (thousa...   \n1              Gross enrollement ratio - Primary (male)   \n2             Gross enrollment ratio - Primary (female)   \n3     Students enrolled in secondary education (thou...   \n4             Gross enrollment ratio - Secondary (male)   \n...                                                 ...   \n8157           Gross enrollment ratio - Tertiary (male)   \n8158         Gross enrollment ratio - Tertiary (female)   \n8159  Students enrolled in tertiary education (thous...   \n8160           Gross enrollment ratio - Tertiary (male)   \n8161         Gross enrollment ratio - Tertiary (female)   \n\n     Enrollments (Thousands)  \n0                     678990  \n1                      104.8  \n2                       99.8  \n3                     509100  \n4                       65.7  \n...                      ...  \n8157                     6.5  \n8158                     5.5  \n8159                     136  \n8160                     8.9  \n8161                     8.0  \n\n[8162 rows x 5 columns]",
      "text/html": "<div>\n<style scoped>\n    .dataframe tbody tr th:only-of-type {\n        vertical-align: middle;\n    }\n\n    .dataframe tbody tr th {\n        vertical-align: top;\n    }\n\n    .dataframe thead th {\n        text-align: right;\n    }\n</style>\n<table border=\"1\" class=\"dataframe\">\n  <thead>\n    <tr style=\"text-align: right;\">\n      <th></th>\n      <th>Unnamed: 0</th>\n      <th>Region/Country/Area</th>\n      <th>Year</th>\n      <th>Data</th>\n      <th>Enrollments (Thousands)</th>\n    </tr>\n  </thead>\n  <tbody>\n    <tr>\n      <th>0</th>\n      <td>0</td>\n      <td>Total, all countries or areas</td>\n      <td>2005</td>\n      <td>Students enrolled in primary education (thousa...</td>\n      <td>678990</td>\n    </tr>\n    <tr>\n      <th>1</th>\n      <td>1</td>\n      <td>Total, all countries or areas</td>\n      <td>2005</td>\n      <td>Gross enrollement ratio - Primary (male)</td>\n      <td>104.8</td>\n    </tr>\n    <tr>\n      <th>2</th>\n      <td>2</td>\n      <td>Total, all countries or areas</td>\n      <td>2005</td>\n      <td>Gross enrollment ratio - Primary (female)</td>\n      <td>99.8</td>\n    </tr>\n    <tr>\n      <th>3</th>\n      <td>3</td>\n      <td>Total, all countries or areas</td>\n      <td>2005</td>\n      <td>Students enrolled in secondary education (thou...</td>\n      <td>509100</td>\n    </tr>\n    <tr>\n      <th>4</th>\n      <td>4</td>\n      <td>Total, all countries or areas</td>\n      <td>2005</td>\n      <td>Gross enrollment ratio - Secondary (male)</td>\n      <td>65.7</td>\n    </tr>\n    <tr>\n      <th>...</th>\n      <td>...</td>\n      <td>...</td>\n      <td>...</td>\n      <td>...</td>\n      <td>...</td>\n    </tr>\n    <tr>\n      <th>8157</th>\n      <td>8157</td>\n      <td>Zimbabwe</td>\n      <td>2013</td>\n      <td>Gross enrollment ratio - Tertiary (male)</td>\n      <td>6.5</td>\n    </tr>\n    <tr>\n      <th>8158</th>\n      <td>8158</td>\n      <td>Zimbabwe</td>\n      <td>2013</td>\n      <td>Gross enrollment ratio - Tertiary (female)</td>\n      <td>5.5</td>\n    </tr>\n    <tr>\n      <th>8159</th>\n      <td>8159</td>\n      <td>Zimbabwe</td>\n      <td>2015</td>\n      <td>Students enrolled in tertiary education (thous...</td>\n      <td>136</td>\n    </tr>\n    <tr>\n      <th>8160</th>\n      <td>8160</td>\n      <td>Zimbabwe</td>\n      <td>2015</td>\n      <td>Gross enrollment ratio - Tertiary (male)</td>\n      <td>8.9</td>\n    </tr>\n    <tr>\n      <th>8161</th>\n      <td>8161</td>\n      <td>Zimbabwe</td>\n      <td>2015</td>\n      <td>Gross enrollment ratio - Tertiary (female)</td>\n      <td>8.0</td>\n    </tr>\n  </tbody>\n</table>\n<p>8162 rows × 5 columns</p>\n</div>"
     },
     "metadata": {}
    }
   ],
   "source": [
    "# (b) The data of the column “Enrollments (Thousands)” are not numbers, convert them into numbers by removing the “,”.\n",
    "edu[\"Enrollments (Thousands)\"].replace(',','',regex=True,inplace=True)\n",
    "display(edu)"
   ]
  },
  {
   "cell_type": "code",
   "execution_count": 143,
   "metadata": {},
   "outputs": [
    {
     "output_type": "execute_result",
     "data": {
      "text/plain": [
       "['Students enrolled in primary education (thousands)',\n",
       " 'Gross enrollement ratio - Primary (male)',\n",
       " 'Gross enrollment ratio - Primary (female)',\n",
       " 'Students enrolled in secondary education (thousands)',\n",
       " 'Gross enrollment ratio - Secondary (male)',\n",
       " 'Gross enrollment ratio - Secondary (female)',\n",
       " 'Students enrolled in tertiary education (thousands)',\n",
       " 'Gross enrollment ratio - Tertiary (male)',\n",
       " 'Gross enrollment ratio - Tertiary (female)']"
      ]
     },
     "metadata": {},
     "execution_count": 143
    }
   ],
   "source": [
    "# (c) Find the unique values in the column “Data”, and then create a list.\n",
    "list(edu[\"Data\"].unique())"
   ]
  },
  {
   "cell_type": "code",
   "execution_count": 144,
   "metadata": {},
   "outputs": [
    {
     "output_type": "error",
     "ename": "SyntaxError",
     "evalue": "invalid syntax (<ipython-input-144-f16b4ecdd7f4>, line 3)",
     "traceback": [
      "\u001b[1;36m  File \u001b[1;32m\"<ipython-input-144-f16b4ecdd7f4>\"\u001b[1;36m, line \u001b[1;32m3\u001b[0m\n\u001b[1;33m    df2.rename(columns ={\"India\":'Region/Country/Area',\"Students enrolled in primary education (thousands)\":'Data', inplace=True)\u001b[0m\n\u001b[1;37m                                                                                                                           ^\u001b[0m\n\u001b[1;31mSyntaxError\u001b[0m\u001b[1;31m:\u001b[0m invalid syntax\n"
     ]
    }
   ],
   "source": [
    "# (d) Create a new dataframe, df2, of primary students’ enrollment in India by filtering and selecting from the original dataframe.-'Region/Country/Area' == “India”.-'Data' == “Students enrolled in primary education (thousands)”\n",
    "df2=edu[['Region/Country/Area', 'Data']]\n",
    "df2.rename(columns ={\"India\":'Region/Country/Area',\"Students enrolled in primary education (thousands)\":'Data'}, inplace=True)\n",
    "df2"
   ]
  },
  {
   "cell_type": "code",
   "execution_count": 96,
   "metadata": {},
   "outputs": [],
   "source": [
    "# (e) From df2, create a series with index = “Year”, and values = “Enrollments (Thousands)”."
   ]
  },
  {
   "cell_type": "code",
   "execution_count": 97,
   "metadata": {},
   "outputs": [],
   "source": [
    "# (f)  Between “Year” = 2003 and “Year” = 2016, insert the missing years to the series. Fill the missing values of primary students’ enrollment with the average of the enrollment values."
   ]
  },
  {
   "source": [
    "## Q.3"
   ],
   "cell_type": "markdown",
   "metadata": {}
  },
  {
   "cell_type": "code",
   "execution_count": 98,
   "metadata": {},
   "outputs": [],
   "source": [
    "#(a)  Use the file “university_towns.txt” to generate a dataframe. The dataframe contains the information of the of towns and the states they are in. Pay attention to the following when you process the file “university_towns.txt\" The head of the dataframe should contain [\"State\",\"RegionName\"]\n",
    "#-read each line of the file, if the last six characters of the line are [edit], the line contains a State.-All the lines following the State are RegionName of that State until you come to another line with [edit].-For the line with RegionName, remove every character from “(“ to the end."
   ]
  },
  {
   "cell_type": "code",
   "execution_count": 99,
   "metadata": {},
   "outputs": [],
   "source": [
    "# (b)  Read in the file “City_Zhvi_AllHomes.csv”. The dataframe shows the mean housing values of each RegionName in each month starting from 1996-04 and ending in 2018-01"
   ]
  },
  {
   "cell_type": "code",
   "execution_count": 100,
   "metadata": {},
   "outputs": [],
   "source": [
    "# (c)  Group by “State” and find the mean housing values in 2018-01"
   ]
  },
  {
   "cell_type": "code",
   "execution_count": 101,
   "metadata": {},
   "outputs": [],
   "source": [
    "# (d)  Generate a series which shows the percentage change in housing price between 2000-01 and 2018-01 for each State and RegionName. Set State and RegionName as index. Arrange the series in descending order of values. [Some rows have the same RegionName but the States are different.]"
   ]
  },
  {
   "cell_type": "code",
   "execution_count": 102,
   "metadata": {},
   "outputs": [],
   "source": [
    "# (e)  The current dataframe shows the housing values in each month. Convert it to show the housing value of each year for each RegionName. (the housing value of each year is obtained by averaging the monthly housing values.)"
   ]
  },
  {
   "source": [
    "## Q.4"
   ],
   "cell_type": "markdown",
   "metadata": {}
  },
  {
   "cell_type": "code",
   "execution_count": 103,
   "metadata": {},
   "outputs": [],
   "source": [
    "# (a)  Read in the file “gdplev.xlsx”  (It is an excel file, not csv file. You need to skip some rows.)"
   ]
  },
  {
   "cell_type": "code",
   "execution_count": 104,
   "metadata": {},
   "outputs": [],
   "source": [
    "# (b)  Look at the column “GDP in billions of current dollars”. Find the year and the quarter that the recession starts.(A recession is defined as starting with two consecutive quarters of GDP decline)"
   ]
  },
  {
   "cell_type": "code",
   "execution_count": 105,
   "metadata": {},
   "outputs": [],
   "source": [
    "# (c)  For the recession in part (c), find the year and the quarter that it ends. (Look at the column “GDP in billions of current dollars”. A recession is defined as ending with two consecutive quarters of GDP growth.)"
   ]
  },
  {
   "cell_type": "code",
   "execution_count": null,
   "metadata": {},
   "outputs": [],
   "source": []
  }
 ],
 "metadata": {
  "kernelspec": {
   "display_name": "Python 3",
   "language": "python",
   "name": "python3"
  },
  "language_info": {
   "codemirror_mode": {
    "name": "ipython",
    "version": 3
   },
   "file_extension": ".py",
   "mimetype": "text/x-python",
   "name": "python",
   "nbconvert_exporter": "python",
   "pygments_lexer": "ipython3",
   "version": "3.8.5-final"
  }
 },
 "nbformat": 4,
 "nbformat_minor": 4
}