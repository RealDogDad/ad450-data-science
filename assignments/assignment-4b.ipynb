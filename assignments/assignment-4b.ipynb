{
 "cells": [
  {
   "cell_type": "markdown",
   "metadata": {},
   "source": [
    "## Module 4: Cleaning data with pandas\n",
    "## Weekly Assignment 4B\n",
    "### Brandan Owens and Loan Pham"
   ]
  },
  {
   "cell_type": "markdown",
   "metadata": {},
   "source": [
    "### Q.1 Download the dataset \"adult_income_data.csv\" "
   ]
  },
  {
   "cell_type": "code",
   "execution_count": 586,
   "metadata": {},
   "outputs": [],
   "source": [
    "import pandas as pd\n",
    "import matplotlib.pyplot as plt\n",
    "import numpy as np"
   ]
  },
  {
   "cell_type": "code",
   "execution_count": 587,
   "metadata": {},
   "outputs": [
    {
     "output_type": "execute_result",
     "data": {
      "text/plain": [
       "   39          State-gov   77516   Bachelors  13           Never-married  \\\n",
       "0  50   Self-emp-not-inc   83311   Bachelors  13      Married-civ-spouse   \n",
       "1  38            Private  215646     HS-grad   9                Divorced   \n",
       "2  53            Private  234721        11th   7      Married-civ-spouse   \n",
       "3  28            Private  338409   Bachelors  13      Married-civ-spouse   \n",
       "4  37            Private  284582     Masters  14      Married-civ-spouse   \n",
       "5  49            Private  160187         9th   5   Married-spouse-absent   \n",
       "6  52   Self-emp-not-inc  209642     HS-grad   9      Married-civ-spouse   \n",
       "7  31            Private   45781     Masters  14           Never-married   \n",
       "\n",
       "         Adm-clerical   Not-in-family     Male   2174  0  40   United-States  \\\n",
       "0     Exec-managerial         Husband     Male      0  0  13   United-States   \n",
       "1   Handlers-cleaners   Not-in-family     Male      0  0  40   United-States   \n",
       "2   Handlers-cleaners         Husband     Male      0  0  40   United-States   \n",
       "3      Prof-specialty            Wife   Female      0  0  40            Cuba   \n",
       "4     Exec-managerial            Wife   Female      0  0  40   United-States   \n",
       "5       Other-service   Not-in-family   Female      0  0  16         Jamaica   \n",
       "6     Exec-managerial         Husband     Male      0  0  45   United-States   \n",
       "7      Prof-specialty   Not-in-family   Female  14084  0  50   United-States   \n",
       "\n",
       "    <=50K  \n",
       "0   <=50K  \n",
       "1   <=50K  \n",
       "2   <=50K  \n",
       "3   <=50K  \n",
       "4   <=50K  \n",
       "5   <=50K  \n",
       "6    >50K  \n",
       "7    >50K  "
      ],
      "text/html": "<div>\n<style scoped>\n    .dataframe tbody tr th:only-of-type {\n        vertical-align: middle;\n    }\n\n    .dataframe tbody tr th {\n        vertical-align: top;\n    }\n\n    .dataframe thead th {\n        text-align: right;\n    }\n</style>\n<table border=\"1\" class=\"dataframe\">\n  <thead>\n    <tr style=\"text-align: right;\">\n      <th></th>\n      <th>39</th>\n      <th>State-gov</th>\n      <th>77516</th>\n      <th>Bachelors</th>\n      <th>13</th>\n      <th>Never-married</th>\n      <th>Adm-clerical</th>\n      <th>Not-in-family</th>\n      <th>Male</th>\n      <th>2174</th>\n      <th>0</th>\n      <th>40</th>\n      <th>United-States</th>\n      <th>&lt;=50K</th>\n    </tr>\n  </thead>\n  <tbody>\n    <tr>\n      <th>0</th>\n      <td>50</td>\n      <td>Self-emp-not-inc</td>\n      <td>83311</td>\n      <td>Bachelors</td>\n      <td>13</td>\n      <td>Married-civ-spouse</td>\n      <td>Exec-managerial</td>\n      <td>Husband</td>\n      <td>Male</td>\n      <td>0</td>\n      <td>0</td>\n      <td>13</td>\n      <td>United-States</td>\n      <td>&lt;=50K</td>\n    </tr>\n    <tr>\n      <th>1</th>\n      <td>38</td>\n      <td>Private</td>\n      <td>215646</td>\n      <td>HS-grad</td>\n      <td>9</td>\n      <td>Divorced</td>\n      <td>Handlers-cleaners</td>\n      <td>Not-in-family</td>\n      <td>Male</td>\n      <td>0</td>\n      <td>0</td>\n      <td>40</td>\n      <td>United-States</td>\n      <td>&lt;=50K</td>\n    </tr>\n    <tr>\n      <th>2</th>\n      <td>53</td>\n      <td>Private</td>\n      <td>234721</td>\n      <td>11th</td>\n      <td>7</td>\n      <td>Married-civ-spouse</td>\n      <td>Handlers-cleaners</td>\n      <td>Husband</td>\n      <td>Male</td>\n      <td>0</td>\n      <td>0</td>\n      <td>40</td>\n      <td>United-States</td>\n      <td>&lt;=50K</td>\n    </tr>\n    <tr>\n      <th>3</th>\n      <td>28</td>\n      <td>Private</td>\n      <td>338409</td>\n      <td>Bachelors</td>\n      <td>13</td>\n      <td>Married-civ-spouse</td>\n      <td>Prof-specialty</td>\n      <td>Wife</td>\n      <td>Female</td>\n      <td>0</td>\n      <td>0</td>\n      <td>40</td>\n      <td>Cuba</td>\n      <td>&lt;=50K</td>\n    </tr>\n    <tr>\n      <th>4</th>\n      <td>37</td>\n      <td>Private</td>\n      <td>284582</td>\n      <td>Masters</td>\n      <td>14</td>\n      <td>Married-civ-spouse</td>\n      <td>Exec-managerial</td>\n      <td>Wife</td>\n      <td>Female</td>\n      <td>0</td>\n      <td>0</td>\n      <td>40</td>\n      <td>United-States</td>\n      <td>&lt;=50K</td>\n    </tr>\n    <tr>\n      <th>5</th>\n      <td>49</td>\n      <td>Private</td>\n      <td>160187</td>\n      <td>9th</td>\n      <td>5</td>\n      <td>Married-spouse-absent</td>\n      <td>Other-service</td>\n      <td>Not-in-family</td>\n      <td>Female</td>\n      <td>0</td>\n      <td>0</td>\n      <td>16</td>\n      <td>Jamaica</td>\n      <td>&lt;=50K</td>\n    </tr>\n    <tr>\n      <th>6</th>\n      <td>52</td>\n      <td>Self-emp-not-inc</td>\n      <td>209642</td>\n      <td>HS-grad</td>\n      <td>9</td>\n      <td>Married-civ-spouse</td>\n      <td>Exec-managerial</td>\n      <td>Husband</td>\n      <td>Male</td>\n      <td>0</td>\n      <td>0</td>\n      <td>45</td>\n      <td>United-States</td>\n      <td>&gt;50K</td>\n    </tr>\n    <tr>\n      <th>7</th>\n      <td>31</td>\n      <td>Private</td>\n      <td>45781</td>\n      <td>Masters</td>\n      <td>14</td>\n      <td>Never-married</td>\n      <td>Prof-specialty</td>\n      <td>Not-in-family</td>\n      <td>Female</td>\n      <td>14084</td>\n      <td>0</td>\n      <td>50</td>\n      <td>United-States</td>\n      <td>&gt;50K</td>\n    </tr>\n  </tbody>\n</table>\n</div>"
     },
     "metadata": {},
     "execution_count": 587
    }
   ],
   "source": [
    "# (a) read in the dataset with pd.read_csv. Show the first 8 records, what’s wrong with the process of importing the dataset.\n",
    "income_data = pd.read_csv(\"../dataFiles/adult_income_data.csv\")\n",
    "income_data.head(8)  "
   ]
  },
  {
   "cell_type": "code",
   "execution_count": 588,
   "metadata": {
    "scrolled": true
   },
   "outputs": [
    {
     "output_type": "execute_result",
     "data": {
      "text/plain": [
       "   0                  1       2           3   4                    5   \\\n",
       "0  39          State-gov   77516   Bachelors  13        Never-married   \n",
       "1  50   Self-emp-not-inc   83311   Bachelors  13   Married-civ-spouse   \n",
       "2  38            Private  215646     HS-grad   9             Divorced   \n",
       "3  53            Private  234721        11th   7   Married-civ-spouse   \n",
       "4  28            Private  338409   Bachelors  13   Married-civ-spouse   \n",
       "\n",
       "                   6               7        8     9   10  11              12  \\\n",
       "0        Adm-clerical   Not-in-family     Male  2174   0  40   United-States   \n",
       "1     Exec-managerial         Husband     Male     0   0  13   United-States   \n",
       "2   Handlers-cleaners   Not-in-family     Male     0   0  40   United-States   \n",
       "3   Handlers-cleaners         Husband     Male     0   0  40   United-States   \n",
       "4      Prof-specialty            Wife   Female     0   0  40            Cuba   \n",
       "\n",
       "       13  \n",
       "0   <=50K  \n",
       "1   <=50K  \n",
       "2   <=50K  \n",
       "3   <=50K  \n",
       "4   <=50K  "
      ],
      "text/html": "<div>\n<style scoped>\n    .dataframe tbody tr th:only-of-type {\n        vertical-align: middle;\n    }\n\n    .dataframe tbody tr th {\n        vertical-align: top;\n    }\n\n    .dataframe thead th {\n        text-align: right;\n    }\n</style>\n<table border=\"1\" class=\"dataframe\">\n  <thead>\n    <tr style=\"text-align: right;\">\n      <th></th>\n      <th>0</th>\n      <th>1</th>\n      <th>2</th>\n      <th>3</th>\n      <th>4</th>\n      <th>5</th>\n      <th>6</th>\n      <th>7</th>\n      <th>8</th>\n      <th>9</th>\n      <th>10</th>\n      <th>11</th>\n      <th>12</th>\n      <th>13</th>\n    </tr>\n  </thead>\n  <tbody>\n    <tr>\n      <th>0</th>\n      <td>39</td>\n      <td>State-gov</td>\n      <td>77516</td>\n      <td>Bachelors</td>\n      <td>13</td>\n      <td>Never-married</td>\n      <td>Adm-clerical</td>\n      <td>Not-in-family</td>\n      <td>Male</td>\n      <td>2174</td>\n      <td>0</td>\n      <td>40</td>\n      <td>United-States</td>\n      <td>&lt;=50K</td>\n    </tr>\n    <tr>\n      <th>1</th>\n      <td>50</td>\n      <td>Self-emp-not-inc</td>\n      <td>83311</td>\n      <td>Bachelors</td>\n      <td>13</td>\n      <td>Married-civ-spouse</td>\n      <td>Exec-managerial</td>\n      <td>Husband</td>\n      <td>Male</td>\n      <td>0</td>\n      <td>0</td>\n      <td>13</td>\n      <td>United-States</td>\n      <td>&lt;=50K</td>\n    </tr>\n    <tr>\n      <th>2</th>\n      <td>38</td>\n      <td>Private</td>\n      <td>215646</td>\n      <td>HS-grad</td>\n      <td>9</td>\n      <td>Divorced</td>\n      <td>Handlers-cleaners</td>\n      <td>Not-in-family</td>\n      <td>Male</td>\n      <td>0</td>\n      <td>0</td>\n      <td>40</td>\n      <td>United-States</td>\n      <td>&lt;=50K</td>\n    </tr>\n    <tr>\n      <th>3</th>\n      <td>53</td>\n      <td>Private</td>\n      <td>234721</td>\n      <td>11th</td>\n      <td>7</td>\n      <td>Married-civ-spouse</td>\n      <td>Handlers-cleaners</td>\n      <td>Husband</td>\n      <td>Male</td>\n      <td>0</td>\n      <td>0</td>\n      <td>40</td>\n      <td>United-States</td>\n      <td>&lt;=50K</td>\n    </tr>\n    <tr>\n      <th>4</th>\n      <td>28</td>\n      <td>Private</td>\n      <td>338409</td>\n      <td>Bachelors</td>\n      <td>13</td>\n      <td>Married-civ-spouse</td>\n      <td>Prof-specialty</td>\n      <td>Wife</td>\n      <td>Female</td>\n      <td>0</td>\n      <td>0</td>\n      <td>40</td>\n      <td>Cuba</td>\n      <td>&lt;=50K</td>\n    </tr>\n  </tbody>\n</table>\n</div>"
     },
     "metadata": {},
     "execution_count": 588
    }
   ],
   "source": [
    "# (b) read the dataset again and bear in mind that the dataset has no header (use header = None).\n",
    "income_data = pd.read_csv(\"../dataFiles/adult_income_data.csv\", header = None)\n",
    "income_data.head()"
   ]
  },
  {
   "cell_type": "code",
   "execution_count": 589,
   "metadata": {
    "scrolled": true
   },
   "outputs": [
    {
     "output_type": "execute_result",
     "data": {
      "text/plain": [
       "   age          workclass  fnlwgt   education  education-num  \\\n",
       "0   39          State-gov   77516   Bachelors             13   \n",
       "1   50   Self-emp-not-inc   83311   Bachelors             13   \n",
       "2   38            Private  215646     HS-grad              9   \n",
       "3   53            Private  234721        11th              7   \n",
       "4   28            Private  338409   Bachelors             13   \n",
       "\n",
       "        marital-status          occupation    relationship      sex  \\\n",
       "0        Never-married        Adm-clerical   Not-in-family     Male   \n",
       "1   Married-civ-spouse     Exec-managerial         Husband     Male   \n",
       "2             Divorced   Handlers-cleaners   Not-in-family     Male   \n",
       "3   Married-civ-spouse   Handlers-cleaners         Husband     Male   \n",
       "4   Married-civ-spouse      Prof-specialty            Wife   Female   \n",
       "\n",
       "   capital-gain  capital-loss  hours-per-week  native-country wage_category  \n",
       "0          2174             0              40   United-States         <=50K  \n",
       "1             0             0              13   United-States         <=50K  \n",
       "2             0             0              40   United-States         <=50K  \n",
       "3             0             0              40   United-States         <=50K  \n",
       "4             0             0              40            Cuba         <=50K  "
      ],
      "text/html": "<div>\n<style scoped>\n    .dataframe tbody tr th:only-of-type {\n        vertical-align: middle;\n    }\n\n    .dataframe tbody tr th {\n        vertical-align: top;\n    }\n\n    .dataframe thead th {\n        text-align: right;\n    }\n</style>\n<table border=\"1\" class=\"dataframe\">\n  <thead>\n    <tr style=\"text-align: right;\">\n      <th></th>\n      <th>age</th>\n      <th>workclass</th>\n      <th>fnlwgt</th>\n      <th>education</th>\n      <th>education-num</th>\n      <th>marital-status</th>\n      <th>occupation</th>\n      <th>relationship</th>\n      <th>sex</th>\n      <th>capital-gain</th>\n      <th>capital-loss</th>\n      <th>hours-per-week</th>\n      <th>native-country</th>\n      <th>wage_category</th>\n    </tr>\n  </thead>\n  <tbody>\n    <tr>\n      <th>0</th>\n      <td>39</td>\n      <td>State-gov</td>\n      <td>77516</td>\n      <td>Bachelors</td>\n      <td>13</td>\n      <td>Never-married</td>\n      <td>Adm-clerical</td>\n      <td>Not-in-family</td>\n      <td>Male</td>\n      <td>2174</td>\n      <td>0</td>\n      <td>40</td>\n      <td>United-States</td>\n      <td>&lt;=50K</td>\n    </tr>\n    <tr>\n      <th>1</th>\n      <td>50</td>\n      <td>Self-emp-not-inc</td>\n      <td>83311</td>\n      <td>Bachelors</td>\n      <td>13</td>\n      <td>Married-civ-spouse</td>\n      <td>Exec-managerial</td>\n      <td>Husband</td>\n      <td>Male</td>\n      <td>0</td>\n      <td>0</td>\n      <td>13</td>\n      <td>United-States</td>\n      <td>&lt;=50K</td>\n    </tr>\n    <tr>\n      <th>2</th>\n      <td>38</td>\n      <td>Private</td>\n      <td>215646</td>\n      <td>HS-grad</td>\n      <td>9</td>\n      <td>Divorced</td>\n      <td>Handlers-cleaners</td>\n      <td>Not-in-family</td>\n      <td>Male</td>\n      <td>0</td>\n      <td>0</td>\n      <td>40</td>\n      <td>United-States</td>\n      <td>&lt;=50K</td>\n    </tr>\n    <tr>\n      <th>3</th>\n      <td>53</td>\n      <td>Private</td>\n      <td>234721</td>\n      <td>11th</td>\n      <td>7</td>\n      <td>Married-civ-spouse</td>\n      <td>Handlers-cleaners</td>\n      <td>Husband</td>\n      <td>Male</td>\n      <td>0</td>\n      <td>0</td>\n      <td>40</td>\n      <td>United-States</td>\n      <td>&lt;=50K</td>\n    </tr>\n    <tr>\n      <th>4</th>\n      <td>28</td>\n      <td>Private</td>\n      <td>338409</td>\n      <td>Bachelors</td>\n      <td>13</td>\n      <td>Married-civ-spouse</td>\n      <td>Prof-specialty</td>\n      <td>Wife</td>\n      <td>Female</td>\n      <td>0</td>\n      <td>0</td>\n      <td>40</td>\n      <td>Cuba</td>\n      <td>&lt;=50K</td>\n    </tr>\n  </tbody>\n</table>\n</div>"
     },
     "metadata": {},
     "execution_count": 589
    }
   ],
   "source": [
    "# (c) name the columns. Refer to the \"adult_income_names.txt\"\n",
    "names=[]\n",
    "with open(\"../dataFiles/adult_income_names.txt\",\"r\") as f:\n",
    "    for line in f:\n",
    "        f.readline()\n",
    "        var = line.split(\":\")[0]\n",
    "        names.append(var)\n",
    "names\n",
    "income_data.columns = names\n",
    "income_data.head()"
   ]
  },
  {
   "cell_type": "code",
   "execution_count": null,
   "metadata": {},
   "outputs": [],
   "source": []
  },
  {
   "cell_type": "code",
   "execution_count": 590,
   "metadata": {
    "scrolled": true
   },
   "outputs": [
    {
     "output_type": "execute_result",
     "data": {
      "text/plain": [
       "                age        fnlwgt  education-num  capital-gain  capital-loss  \\\n",
       "count  32561.000000  3.256100e+04   32561.000000  32561.000000  32561.000000   \n",
       "mean      38.581647  1.897784e+05      10.080679   1077.648844     87.303830   \n",
       "std       13.640433  1.055500e+05       2.572720   7385.292085    402.960219   \n",
       "min       17.000000  1.228500e+04       1.000000      0.000000      0.000000   \n",
       "25%       28.000000  1.178270e+05       9.000000      0.000000      0.000000   \n",
       "50%       37.000000  1.783560e+05      10.000000      0.000000      0.000000   \n",
       "75%       48.000000  2.370510e+05      12.000000      0.000000      0.000000   \n",
       "max       90.000000  1.484705e+06      16.000000  99999.000000   4356.000000   \n",
       "\n",
       "       hours-per-week  \n",
       "count    32561.000000  \n",
       "mean        40.437456  \n",
       "std         12.347429  \n",
       "min          1.000000  \n",
       "25%         40.000000  \n",
       "50%         40.000000  \n",
       "75%         45.000000  \n",
       "max         99.000000  "
      ],
      "text/html": "<div>\n<style scoped>\n    .dataframe tbody tr th:only-of-type {\n        vertical-align: middle;\n    }\n\n    .dataframe tbody tr th {\n        vertical-align: top;\n    }\n\n    .dataframe thead th {\n        text-align: right;\n    }\n</style>\n<table border=\"1\" class=\"dataframe\">\n  <thead>\n    <tr style=\"text-align: right;\">\n      <th></th>\n      <th>age</th>\n      <th>fnlwgt</th>\n      <th>education-num</th>\n      <th>capital-gain</th>\n      <th>capital-loss</th>\n      <th>hours-per-week</th>\n    </tr>\n  </thead>\n  <tbody>\n    <tr>\n      <th>count</th>\n      <td>32561.000000</td>\n      <td>3.256100e+04</td>\n      <td>32561.000000</td>\n      <td>32561.000000</td>\n      <td>32561.000000</td>\n      <td>32561.000000</td>\n    </tr>\n    <tr>\n      <th>mean</th>\n      <td>38.581647</td>\n      <td>1.897784e+05</td>\n      <td>10.080679</td>\n      <td>1077.648844</td>\n      <td>87.303830</td>\n      <td>40.437456</td>\n    </tr>\n    <tr>\n      <th>std</th>\n      <td>13.640433</td>\n      <td>1.055500e+05</td>\n      <td>2.572720</td>\n      <td>7385.292085</td>\n      <td>402.960219</td>\n      <td>12.347429</td>\n    </tr>\n    <tr>\n      <th>min</th>\n      <td>17.000000</td>\n      <td>1.228500e+04</td>\n      <td>1.000000</td>\n      <td>0.000000</td>\n      <td>0.000000</td>\n      <td>1.000000</td>\n    </tr>\n    <tr>\n      <th>25%</th>\n      <td>28.000000</td>\n      <td>1.178270e+05</td>\n      <td>9.000000</td>\n      <td>0.000000</td>\n      <td>0.000000</td>\n      <td>40.000000</td>\n    </tr>\n    <tr>\n      <th>50%</th>\n      <td>37.000000</td>\n      <td>1.783560e+05</td>\n      <td>10.000000</td>\n      <td>0.000000</td>\n      <td>0.000000</td>\n      <td>40.000000</td>\n    </tr>\n    <tr>\n      <th>75%</th>\n      <td>48.000000</td>\n      <td>2.370510e+05</td>\n      <td>12.000000</td>\n      <td>0.000000</td>\n      <td>0.000000</td>\n      <td>45.000000</td>\n    </tr>\n    <tr>\n      <th>max</th>\n      <td>90.000000</td>\n      <td>1.484705e+06</td>\n      <td>16.000000</td>\n      <td>99999.000000</td>\n      <td>4356.000000</td>\n      <td>99.000000</td>\n    </tr>\n  </tbody>\n</table>\n</div>"
     },
     "metadata": {},
     "execution_count": 590
    }
   ],
   "source": [
    "# (d) get the statistical summary of the dataset.\n",
    "income_data.describe()"
   ]
  },
  {
   "cell_type": "code",
   "execution_count": 591,
   "metadata": {},
   "outputs": [
    {
     "output_type": "execute_result",
     "data": {
      "text/plain": [
       "   age   education          occupation\n",
       "0   39   Bachelors        Adm-clerical\n",
       "1   50   Bachelors     Exec-managerial\n",
       "2   38     HS-grad   Handlers-cleaners\n",
       "3   53        11th   Handlers-cleaners\n",
       "4   28   Bachelors      Prof-specialty"
      ],
      "text/html": "<div>\n<style scoped>\n    .dataframe tbody tr th:only-of-type {\n        vertical-align: middle;\n    }\n\n    .dataframe tbody tr th {\n        vertical-align: top;\n    }\n\n    .dataframe thead th {\n        text-align: right;\n    }\n</style>\n<table border=\"1\" class=\"dataframe\">\n  <thead>\n    <tr style=\"text-align: right;\">\n      <th></th>\n      <th>age</th>\n      <th>education</th>\n      <th>occupation</th>\n    </tr>\n  </thead>\n  <tbody>\n    <tr>\n      <th>0</th>\n      <td>39</td>\n      <td>Bachelors</td>\n      <td>Adm-clerical</td>\n    </tr>\n    <tr>\n      <th>1</th>\n      <td>50</td>\n      <td>Bachelors</td>\n      <td>Exec-managerial</td>\n    </tr>\n    <tr>\n      <th>2</th>\n      <td>38</td>\n      <td>HS-grad</td>\n      <td>Handlers-cleaners</td>\n    </tr>\n    <tr>\n      <th>3</th>\n      <td>53</td>\n      <td>11th</td>\n      <td>Handlers-cleaners</td>\n    </tr>\n    <tr>\n      <th>4</th>\n      <td>28</td>\n      <td>Bachelors</td>\n      <td>Prof-specialty</td>\n    </tr>\n  </tbody>\n</table>\n</div>"
     },
     "metadata": {},
     "execution_count": 591
    }
   ],
   "source": [
    "# (e) Create a DataFrame with only age, education, and occupation\n",
    "\n",
    "income_data_filtered = income_data[['age','education','occupation']]\n",
    "income_data_filtered.head()"
   ]
  },
  {
   "cell_type": "code",
   "execution_count": 592,
   "metadata": {},
   "outputs": [
    {
     "output_type": "execute_result",
     "data": {
      "text/plain": [
       "16390"
      ]
     },
     "metadata": {},
     "execution_count": 592
    }
   ],
   "source": [
    "# (g) Find the number of people who are aged between 30 and 50\n",
    "\n",
    "income_data_filtered = income_data_filtered[income_data['age'].between(30, 50)]\n",
    "len(income_data_filtered.index) #len(data.index) is fastest counter"
   ]
  },
  {
   "cell_type": "code",
   "execution_count": 593,
   "metadata": {},
   "outputs": [
    {
     "output_type": "execute_result",
     "data": {
      "text/plain": [
       "    age   education          occupation  capital-gain\n",
       "0    39   Bachelors        Adm-clerical          2174\n",
       "8    31     Masters      Prof-specialty         14084\n",
       "9    42   Bachelors     Exec-managerial          5178\n",
       "59   30     HS-grad   Machine-op-inspct          5013\n",
       "60   30   Bachelors               Sales          2407"
      ],
      "text/html": "<div>\n<style scoped>\n    .dataframe tbody tr th:only-of-type {\n        vertical-align: middle;\n    }\n\n    .dataframe tbody tr th {\n        vertical-align: top;\n    }\n\n    .dataframe thead th {\n        text-align: right;\n    }\n</style>\n<table border=\"1\" class=\"dataframe\">\n  <thead>\n    <tr style=\"text-align: right;\">\n      <th></th>\n      <th>age</th>\n      <th>education</th>\n      <th>occupation</th>\n      <th>capital-gain</th>\n    </tr>\n  </thead>\n  <tbody>\n    <tr>\n      <th>0</th>\n      <td>39</td>\n      <td>Bachelors</td>\n      <td>Adm-clerical</td>\n      <td>2174</td>\n    </tr>\n    <tr>\n      <th>8</th>\n      <td>31</td>\n      <td>Masters</td>\n      <td>Prof-specialty</td>\n      <td>14084</td>\n    </tr>\n    <tr>\n      <th>9</th>\n      <td>42</td>\n      <td>Bachelors</td>\n      <td>Exec-managerial</td>\n      <td>5178</td>\n    </tr>\n    <tr>\n      <th>59</th>\n      <td>30</td>\n      <td>HS-grad</td>\n      <td>Machine-op-inspct</td>\n      <td>5013</td>\n    </tr>\n    <tr>\n      <th>60</th>\n      <td>30</td>\n      <td>Bachelors</td>\n      <td>Sales</td>\n      <td>2407</td>\n    </tr>\n  </tbody>\n</table>\n</div>"
     },
     "metadata": {},
     "execution_count": 593
    }
   ],
   "source": [
    "# (h) Find the number of people who are aged between 30 and 50, and made positive capital gain.\n",
    "\n",
    "income_data_filtered = income_data[['age','education','occupation','capital-gain']]\n",
    "income_data_filtered = income_data_filtered[(income_data['age'] >= 30) & (income_data_filtered['age'] <= 50)  & (income_data_filtered['capital-gain'] > 0)]\n",
    "income_data_filtered.head()"
   ]
  },
  {
   "cell_type": "code",
   "execution_count": 594,
   "metadata": {},
   "outputs": [
    {
     "output_type": "execute_result",
     "data": {
      "text/plain": [
       "occupation\n",
       " ?                    35\n",
       " Adm-clerical         35\n",
       " Armed-Forces         29\n",
       " Craft-repair         38\n",
       " Exec-managerial      41\n",
       " Farming-fishing      39\n",
       " Handlers-cleaners    29\n",
       " Machine-op-inspct    36\n",
       " Other-service        32\n",
       " Priv-house-serv      40\n",
       " Prof-specialty       40\n",
       " Protective-serv      36\n",
       " Sales                35\n",
       " Tech-support         36\n",
       " Transport-moving     39\n",
       "Name: age, dtype: int64"
      ]
     },
     "metadata": {},
     "execution_count": 594
    }
   ],
   "source": [
    "# (i)  group by \"occupation\", show the median age of each group.\n",
    "\n",
    "grouped = income_data.groupby('occupation')['age'].median()\n",
    "grouped"
   ]
  },
  {
   "cell_type": "code",
   "execution_count": 595,
   "metadata": {},
   "outputs": [
    {
     "output_type": "display_data",
     "data": {
      "text/plain": "   age workclass          occupation education\n0   51   Private   Machine-op-inspct   HS-grad\n1   19   Private               Sales      11th\n2   40   Private     Exec-managerial   HS-grad\n3   17   Private   Handlers-cleaners      10th\n4   61   Private        Craft-repair   7th-8th",
      "text/html": "<div>\n<style scoped>\n    .dataframe tbody tr th:only-of-type {\n        vertical-align: middle;\n    }\n\n    .dataframe tbody tr th {\n        vertical-align: top;\n    }\n\n    .dataframe thead th {\n        text-align: right;\n    }\n</style>\n<table border=\"1\" class=\"dataframe\">\n  <thead>\n    <tr style=\"text-align: right;\">\n      <th></th>\n      <th>age</th>\n      <th>workclass</th>\n      <th>occupation</th>\n      <th>education</th>\n    </tr>\n  </thead>\n  <tbody>\n    <tr>\n      <th>0</th>\n      <td>51</td>\n      <td>Private</td>\n      <td>Machine-op-inspct</td>\n      <td>HS-grad</td>\n    </tr>\n    <tr>\n      <th>1</th>\n      <td>19</td>\n      <td>Private</td>\n      <td>Sales</td>\n      <td>11th</td>\n    </tr>\n    <tr>\n      <th>2</th>\n      <td>40</td>\n      <td>Private</td>\n      <td>Exec-managerial</td>\n      <td>HS-grad</td>\n    </tr>\n    <tr>\n      <th>3</th>\n      <td>17</td>\n      <td>Private</td>\n      <td>Handlers-cleaners</td>\n      <td>10th</td>\n    </tr>\n    <tr>\n      <th>4</th>\n      <td>61</td>\n      <td>Private</td>\n      <td>Craft-repair</td>\n      <td>7th-8th</td>\n    </tr>\n  </tbody>\n</table>\n</div>"
     },
     "metadata": {}
    }
   ],
   "source": [
    "# (j)  use the following codes to create two dataframes\n",
    "df1 = income_data[['age', 'workclass', 'occupation']].sample(5,random_state=101)\n",
    "df2 = income_data[['education','occupation']].sample(5,random_state=101)\n",
    "# merge df1 with df2. The key is  'occupation'\n",
    "occupation_data = pd.merge(df1,df2,on='occupation')\n",
    "display(occupation_data)"
   ]
  },
  {
   "cell_type": "code",
   "execution_count": 596,
   "metadata": {
    "tags": []
   },
   "outputs": [
    {
     "output_type": "display_data",
     "data": {
      "text/plain": "              Country Energy Supply Energy Supply per Capita  % Renewable\n          Afghanistan           321                       10    78.669280\n              Albania           102                       35   100.000000\n              Algeria          1959                       51     0.551010\n       American Samoa           ...                      ...     0.641026\n              Andorra             9                      121    88.695650\n               Angola           642                       27    70.909090\n             Anguilla             2                      136     0.000000\n  Antigua and Barbuda             8                       84     0.000000\n            Argentina          3378                       79    24.064520\n              Armenia           143                       48    28.236060\n                Aruba            12                      120    14.870690\n           Australia1          5386                      231    11.810810\n              Austria          1391                      164    72.452820\n           Azerbaijan           567                       60     6.384345\n              Bahamas            45                      118     0.000000\n              Bahrain           574                      425     0.000000\n           Bangladesh          1625                       10     1.966329\n             Barbados            19                       69     0.000000\n              Belarus          1142                      120     0.463389",
      "text/html": "<div>\n<style scoped>\n    .dataframe tbody tr th:only-of-type {\n        vertical-align: middle;\n    }\n\n    .dataframe tbody tr th {\n        vertical-align: top;\n    }\n\n    .dataframe thead th {\n        text-align: right;\n    }\n</style>\n<table border=\"1\" class=\"dataframe\">\n  <thead>\n    <tr style=\"text-align: right;\">\n      <th></th>\n      <th>Country</th>\n      <th>Energy Supply</th>\n      <th>Energy Supply per Capita</th>\n      <th>% Renewable</th>\n    </tr>\n  </thead>\n  <tbody>\n    <tr>\n      <th></th>\n      <td>Afghanistan</td>\n      <td>321</td>\n      <td>10</td>\n      <td>78.669280</td>\n    </tr>\n    <tr>\n      <th></th>\n      <td>Albania</td>\n      <td>102</td>\n      <td>35</td>\n      <td>100.000000</td>\n    </tr>\n    <tr>\n      <th></th>\n      <td>Algeria</td>\n      <td>1959</td>\n      <td>51</td>\n      <td>0.551010</td>\n    </tr>\n    <tr>\n      <th></th>\n      <td>American Samoa</td>\n      <td>...</td>\n      <td>...</td>\n      <td>0.641026</td>\n    </tr>\n    <tr>\n      <th></th>\n      <td>Andorra</td>\n      <td>9</td>\n      <td>121</td>\n      <td>88.695650</td>\n    </tr>\n    <tr>\n      <th></th>\n      <td>Angola</td>\n      <td>642</td>\n      <td>27</td>\n      <td>70.909090</td>\n    </tr>\n    <tr>\n      <th></th>\n      <td>Anguilla</td>\n      <td>2</td>\n      <td>136</td>\n      <td>0.000000</td>\n    </tr>\n    <tr>\n      <th></th>\n      <td>Antigua and Barbuda</td>\n      <td>8</td>\n      <td>84</td>\n      <td>0.000000</td>\n    </tr>\n    <tr>\n      <th></th>\n      <td>Argentina</td>\n      <td>3378</td>\n      <td>79</td>\n      <td>24.064520</td>\n    </tr>\n    <tr>\n      <th></th>\n      <td>Armenia</td>\n      <td>143</td>\n      <td>48</td>\n      <td>28.236060</td>\n    </tr>\n    <tr>\n      <th></th>\n      <td>Aruba</td>\n      <td>12</td>\n      <td>120</td>\n      <td>14.870690</td>\n    </tr>\n    <tr>\n      <th></th>\n      <td>Australia1</td>\n      <td>5386</td>\n      <td>231</td>\n      <td>11.810810</td>\n    </tr>\n    <tr>\n      <th></th>\n      <td>Austria</td>\n      <td>1391</td>\n      <td>164</td>\n      <td>72.452820</td>\n    </tr>\n    <tr>\n      <th></th>\n      <td>Azerbaijan</td>\n      <td>567</td>\n      <td>60</td>\n      <td>6.384345</td>\n    </tr>\n    <tr>\n      <th></th>\n      <td>Bahamas</td>\n      <td>45</td>\n      <td>118</td>\n      <td>0.000000</td>\n    </tr>\n    <tr>\n      <th></th>\n      <td>Bahrain</td>\n      <td>574</td>\n      <td>425</td>\n      <td>0.000000</td>\n    </tr>\n    <tr>\n      <th></th>\n      <td>Bangladesh</td>\n      <td>1625</td>\n      <td>10</td>\n      <td>1.966329</td>\n    </tr>\n    <tr>\n      <th></th>\n      <td>Barbados</td>\n      <td>19</td>\n      <td>69</td>\n      <td>0.000000</td>\n    </tr>\n    <tr>\n      <th></th>\n      <td>Belarus</td>\n      <td>1142</td>\n      <td>120</td>\n      <td>0.463389</td>\n    </tr>\n  </tbody>\n</table>\n</div>"
     },
     "metadata": {}
    }
   ],
   "source": [
    "#Q.2.a Read in dataset 'Energy Indicators.xls'. Exclude the footer & header info, the first two columns and change the labels to reflect ['Country','Energy Supply','Energy Supply per Capita','% Renewable']. Be sure to remove everything but the characters in 'Country'. \n",
    "\n",
    "header_names = ['toDelete','Country','Energy Supply','Energy Supply per Capita','% Renewable']\n",
    "energy_data = pd.read_excel(\"../dataFiles/Energy Indicators.xls\", skipfooter=246, skiprows=18, header=None, names=header_names, keep_default_na=False)\n",
    "energy_data.drop(columns='toDelete', inplace=True)\n",
    "display(energy_data)\n"
   ]
  },
  {
   "cell_type": "code",
   "execution_count": 597,
   "metadata": {},
   "outputs": [
    {
     "output_type": "display_data",
     "data": {
      "text/plain": "              Country Energy Supply Energy Supply per Capita  % Renewable\n          Afghanistan           321                       10    78.669280\n              Albania           102                       35   100.000000\n              Algeria          1959                       51     0.551010\n       American Samoa           ...                      ...     0.641026\n              Andorra             9                      121    88.695650\n               Angola           642                       27    70.909090\n             Anguilla             2                      136     0.000000\n  Antigua and Barbuda             8                       84     0.000000\n            Argentina          3378                       79    24.064520\n              Armenia           143                       48    28.236060\n                Aruba            12                      120    14.870690\n            Australia          5386                      231    11.810810\n              Austria          1391                      164    72.452820\n           Azerbaijan           567                       60     6.384345\n              Bahamas            45                      118     0.000000\n              Bahrain           574                      425     0.000000\n           Bangladesh          1625                       10     1.966329\n             Barbados            19                       69     0.000000\n              Belarus          1142                      120     0.463389",
      "text/html": "<div>\n<style scoped>\n    .dataframe tbody tr th:only-of-type {\n        vertical-align: middle;\n    }\n\n    .dataframe tbody tr th {\n        vertical-align: top;\n    }\n\n    .dataframe thead th {\n        text-align: right;\n    }\n</style>\n<table border=\"1\" class=\"dataframe\">\n  <thead>\n    <tr style=\"text-align: right;\">\n      <th></th>\n      <th>Country</th>\n      <th>Energy Supply</th>\n      <th>Energy Supply per Capita</th>\n      <th>% Renewable</th>\n    </tr>\n  </thead>\n  <tbody>\n    <tr>\n      <th></th>\n      <td>Afghanistan</td>\n      <td>321</td>\n      <td>10</td>\n      <td>78.669280</td>\n    </tr>\n    <tr>\n      <th></th>\n      <td>Albania</td>\n      <td>102</td>\n      <td>35</td>\n      <td>100.000000</td>\n    </tr>\n    <tr>\n      <th></th>\n      <td>Algeria</td>\n      <td>1959</td>\n      <td>51</td>\n      <td>0.551010</td>\n    </tr>\n    <tr>\n      <th></th>\n      <td>American Samoa</td>\n      <td>...</td>\n      <td>...</td>\n      <td>0.641026</td>\n    </tr>\n    <tr>\n      <th></th>\n      <td>Andorra</td>\n      <td>9</td>\n      <td>121</td>\n      <td>88.695650</td>\n    </tr>\n    <tr>\n      <th></th>\n      <td>Angola</td>\n      <td>642</td>\n      <td>27</td>\n      <td>70.909090</td>\n    </tr>\n    <tr>\n      <th></th>\n      <td>Anguilla</td>\n      <td>2</td>\n      <td>136</td>\n      <td>0.000000</td>\n    </tr>\n    <tr>\n      <th></th>\n      <td>Antigua and Barbuda</td>\n      <td>8</td>\n      <td>84</td>\n      <td>0.000000</td>\n    </tr>\n    <tr>\n      <th></th>\n      <td>Argentina</td>\n      <td>3378</td>\n      <td>79</td>\n      <td>24.064520</td>\n    </tr>\n    <tr>\n      <th></th>\n      <td>Armenia</td>\n      <td>143</td>\n      <td>48</td>\n      <td>28.236060</td>\n    </tr>\n    <tr>\n      <th></th>\n      <td>Aruba</td>\n      <td>12</td>\n      <td>120</td>\n      <td>14.870690</td>\n    </tr>\n    <tr>\n      <th></th>\n      <td>Australia</td>\n      <td>5386</td>\n      <td>231</td>\n      <td>11.810810</td>\n    </tr>\n    <tr>\n      <th></th>\n      <td>Austria</td>\n      <td>1391</td>\n      <td>164</td>\n      <td>72.452820</td>\n    </tr>\n    <tr>\n      <th></th>\n      <td>Azerbaijan</td>\n      <td>567</td>\n      <td>60</td>\n      <td>6.384345</td>\n    </tr>\n    <tr>\n      <th></th>\n      <td>Bahamas</td>\n      <td>45</td>\n      <td>118</td>\n      <td>0.000000</td>\n    </tr>\n    <tr>\n      <th></th>\n      <td>Bahrain</td>\n      <td>574</td>\n      <td>425</td>\n      <td>0.000000</td>\n    </tr>\n    <tr>\n      <th></th>\n      <td>Bangladesh</td>\n      <td>1625</td>\n      <td>10</td>\n      <td>1.966329</td>\n    </tr>\n    <tr>\n      <th></th>\n      <td>Barbados</td>\n      <td>19</td>\n      <td>69</td>\n      <td>0.000000</td>\n    </tr>\n    <tr>\n      <th></th>\n      <td>Belarus</td>\n      <td>1142</td>\n      <td>120</td>\n      <td>0.463389</td>\n    </tr>\n  </tbody>\n</table>\n</div>"
     },
     "metadata": {}
    }
   ],
   "source": [
    "#Q.2.a.continue Rename the following countries [\"Republic of Korea\":\"South Korea\",\"United States of America\":\"United States\",\"United Kingdom of Great Britain and Northern Ireland\":\"United Kingdom\",\"China, Hong Kong Special Administrative Region\":\"Hong Kong\",\"Bolivia (Plurinational State of)\":\"Bolivia\",\"Switzerland17\":\"Switzerland\"].\n",
    "replacement_names = {\n",
    "    \"Republic of Korea\":\"South Korea\",\n",
    "    \"Australia1\":\"Australia\",\n",
    "    \"United States of America\":\"United States\",\n",
    "    \"United Kingdom of Great Britain and Northern Ireland\":\"United Kingdom\",\n",
    "    \"China, Hong Kong Special Administrative Region\":\"Hong Kong\",\n",
    "    \"Bolivia (Plurinational State of)\":\"Bolivia\",\n",
    "    \"Switzerland17\":\"Switzerland\"\n",
    "    }\n",
    "energy_data[\"Country\"].replace(replacement_names, inplace=True)\n",
    "display(energy_data)\n"
   ]
  },
  {
   "cell_type": "code",
   "execution_count": 598,
   "metadata": {},
   "outputs": [
    {
     "output_type": "display_data",
     "data": {
      "text/plain": "               0    1                  2               3                4   \\\n0           Aruba  ABW  GDP (current US$)  NY.GDP.MKTP.CD                    \n1     Afghanistan  AFG  GDP (current US$)  NY.GDP.MKTP.CD  537777811111111   \n2          Angola  AGO  GDP (current US$)  NY.GDP.MKTP.CD                    \n3         Albania  ALB  GDP (current US$)  NY.GDP.MKTP.CD                    \n4         Andorra  AND  GDP (current US$)  NY.GDP.MKTP.CD                    \n..            ...  ...                ...             ...              ...   \n259        Kosovo  XKX  GDP (current US$)  NY.GDP.MKTP.CD                    \n260   Yemen, Rep.  YEM  GDP (current US$)  NY.GDP.MKTP.CD                    \n261  South Africa  ZAF  GDP (current US$)  NY.GDP.MKTP.CD   75752484950301   \n262        Zambia  ZMB  GDP (current US$)  NY.GDP.MKTP.CD        713000000   \n263      Zimbabwe  ZWE  GDP (current US$)  NY.GDP.MKTP.CD       1052990400   \n\n                  5                6                7                8   \\\n0                                                                         \n1    548888895555556  546666677777778  751111191111111  800000044444444   \n2                                                                         \n3                                                                         \n4                                                                         \n..               ...              ...              ...              ...   \n259                                                                       \n260                                                                       \n261  797284054318914  849783004339913  942321153576928  103737925241495   \n262  696285714285714  693142857142857  718714285714286  839428571428571   \n263       1096646600       1117601600       1159511700       1217138000   \n\n                  9   ...               52               53               54  \\\n0                     ...  279196089385475  249893296089385  246770391061453   \n1    100666663777778  ...  101905298824878  124869435057381  159368006362487   \n2                     ...  841780327160971  754923848013695  824709131207314   \n3                     ...  128813526877773  120442129038168   11926953258916   \n4                     ...  400735315658415  366053070297305  335569536423841   \n..               ...  ...              ...              ...              ...   \n259                   ...  568748820858357  565379272020006  582993377483444   \n260                   ...  269108513617555  251302741242524   30906749533221   \n261  113341733165337  ...   287099991516.9  297216730668942  375298134440469   \n262  108285714285714  ...  179108586379048  153283423039575   20265556273582   \n263       1311435800  ...       4415702800  862157360835314  101418597096169   \n\n                  55               56               57               58  \\\n0    258446368715084                                                      \n1    179302393998149  205365427367297  202642539741138  206161042976662   \n2    104115923082737  115398371427673  124912063308202  126776874216703   \n3    128908675385302  123197847872987   12776277515.48  132282443571813   \n4    344206283013622  316461518694591  328158523632501  335073636725488   \n..               ...              ...              ...              ...   \n259  664929107589658  647372478478736  707209240573553  738689133607536   \n260   32726417878391  353931481272755  404152334361767  432285839350365   \n261  416878162440887  396332598448215  366810014300222  351119102947143   \n262  234600983397453  255033706992015  280454604421876  271506306072032   \n263  120984507488603  142424902524289  154517686585469  158910492359908   \n\n                  59               60 61  \n0                                         \n1    192155621789798  194690222076357     \n2    102962245246708  953351117412025     \n3     11335264966561  118638659780942     \n4    281148940889431  285851769911504     \n..               ...              ... ..  \n259  644050127536875  664988888888889     \n260  377339199362465  273176053460714     \n261  317610719411483  295456189492005     \n262   21154394545895  210639896825243     \n263  163046678070657  166199604019038     \n\n[264 rows x 62 columns]",
      "text/html": "<div>\n<style scoped>\n    .dataframe tbody tr th:only-of-type {\n        vertical-align: middle;\n    }\n\n    .dataframe tbody tr th {\n        vertical-align: top;\n    }\n\n    .dataframe thead th {\n        text-align: right;\n    }\n</style>\n<table border=\"1\" class=\"dataframe\">\n  <thead>\n    <tr style=\"text-align: right;\">\n      <th></th>\n      <th>0</th>\n      <th>1</th>\n      <th>2</th>\n      <th>3</th>\n      <th>4</th>\n      <th>5</th>\n      <th>6</th>\n      <th>7</th>\n      <th>8</th>\n      <th>9</th>\n      <th>...</th>\n      <th>52</th>\n      <th>53</th>\n      <th>54</th>\n      <th>55</th>\n      <th>56</th>\n      <th>57</th>\n      <th>58</th>\n      <th>59</th>\n      <th>60</th>\n      <th>61</th>\n    </tr>\n  </thead>\n  <tbody>\n    <tr>\n      <th>0</th>\n      <td>Aruba</td>\n      <td>ABW</td>\n      <td>GDP (current US$)</td>\n      <td>NY.GDP.MKTP.CD</td>\n      <td></td>\n      <td></td>\n      <td></td>\n      <td></td>\n      <td></td>\n      <td></td>\n      <td>...</td>\n      <td>279196089385475</td>\n      <td>249893296089385</td>\n      <td>246770391061453</td>\n      <td>258446368715084</td>\n      <td></td>\n      <td></td>\n      <td></td>\n      <td></td>\n      <td></td>\n      <td></td>\n    </tr>\n    <tr>\n      <th>1</th>\n      <td>Afghanistan</td>\n      <td>AFG</td>\n      <td>GDP (current US$)</td>\n      <td>NY.GDP.MKTP.CD</td>\n      <td>537777811111111</td>\n      <td>548888895555556</td>\n      <td>546666677777778</td>\n      <td>751111191111111</td>\n      <td>800000044444444</td>\n      <td>100666663777778</td>\n      <td>...</td>\n      <td>101905298824878</td>\n      <td>124869435057381</td>\n      <td>159368006362487</td>\n      <td>179302393998149</td>\n      <td>205365427367297</td>\n      <td>202642539741138</td>\n      <td>206161042976662</td>\n      <td>192155621789798</td>\n      <td>194690222076357</td>\n      <td></td>\n    </tr>\n    <tr>\n      <th>2</th>\n      <td>Angola</td>\n      <td>AGO</td>\n      <td>GDP (current US$)</td>\n      <td>NY.GDP.MKTP.CD</td>\n      <td></td>\n      <td></td>\n      <td></td>\n      <td></td>\n      <td></td>\n      <td></td>\n      <td>...</td>\n      <td>841780327160971</td>\n      <td>754923848013695</td>\n      <td>824709131207314</td>\n      <td>104115923082737</td>\n      <td>115398371427673</td>\n      <td>124912063308202</td>\n      <td>126776874216703</td>\n      <td>102962245246708</td>\n      <td>953351117412025</td>\n      <td></td>\n    </tr>\n    <tr>\n      <th>3</th>\n      <td>Albania</td>\n      <td>ALB</td>\n      <td>GDP (current US$)</td>\n      <td>NY.GDP.MKTP.CD</td>\n      <td></td>\n      <td></td>\n      <td></td>\n      <td></td>\n      <td></td>\n      <td></td>\n      <td>...</td>\n      <td>128813526877773</td>\n      <td>120442129038168</td>\n      <td>11926953258916</td>\n      <td>128908675385302</td>\n      <td>123197847872987</td>\n      <td>12776277515.48</td>\n      <td>132282443571813</td>\n      <td>11335264966561</td>\n      <td>118638659780942</td>\n      <td></td>\n    </tr>\n    <tr>\n      <th>4</th>\n      <td>Andorra</td>\n      <td>AND</td>\n      <td>GDP (current US$)</td>\n      <td>NY.GDP.MKTP.CD</td>\n      <td></td>\n      <td></td>\n      <td></td>\n      <td></td>\n      <td></td>\n      <td></td>\n      <td>...</td>\n      <td>400735315658415</td>\n      <td>366053070297305</td>\n      <td>335569536423841</td>\n      <td>344206283013622</td>\n      <td>316461518694591</td>\n      <td>328158523632501</td>\n      <td>335073636725488</td>\n      <td>281148940889431</td>\n      <td>285851769911504</td>\n      <td></td>\n    </tr>\n    <tr>\n      <th>...</th>\n      <td>...</td>\n      <td>...</td>\n      <td>...</td>\n      <td>...</td>\n      <td>...</td>\n      <td>...</td>\n      <td>...</td>\n      <td>...</td>\n      <td>...</td>\n      <td>...</td>\n      <td>...</td>\n      <td>...</td>\n      <td>...</td>\n      <td>...</td>\n      <td>...</td>\n      <td>...</td>\n      <td>...</td>\n      <td>...</td>\n      <td>...</td>\n      <td>...</td>\n      <td>...</td>\n    </tr>\n    <tr>\n      <th>259</th>\n      <td>Kosovo</td>\n      <td>XKX</td>\n      <td>GDP (current US$)</td>\n      <td>NY.GDP.MKTP.CD</td>\n      <td></td>\n      <td></td>\n      <td></td>\n      <td></td>\n      <td></td>\n      <td></td>\n      <td>...</td>\n      <td>568748820858357</td>\n      <td>565379272020006</td>\n      <td>582993377483444</td>\n      <td>664929107589658</td>\n      <td>647372478478736</td>\n      <td>707209240573553</td>\n      <td>738689133607536</td>\n      <td>644050127536875</td>\n      <td>664988888888889</td>\n      <td></td>\n    </tr>\n    <tr>\n      <th>260</th>\n      <td>Yemen, Rep.</td>\n      <td>YEM</td>\n      <td>GDP (current US$)</td>\n      <td>NY.GDP.MKTP.CD</td>\n      <td></td>\n      <td></td>\n      <td></td>\n      <td></td>\n      <td></td>\n      <td></td>\n      <td>...</td>\n      <td>269108513617555</td>\n      <td>251302741242524</td>\n      <td>30906749533221</td>\n      <td>32726417878391</td>\n      <td>353931481272755</td>\n      <td>404152334361767</td>\n      <td>432285839350365</td>\n      <td>377339199362465</td>\n      <td>273176053460714</td>\n      <td></td>\n    </tr>\n    <tr>\n      <th>261</th>\n      <td>South Africa</td>\n      <td>ZAF</td>\n      <td>GDP (current US$)</td>\n      <td>NY.GDP.MKTP.CD</td>\n      <td>75752484950301</td>\n      <td>797284054318914</td>\n      <td>849783004339913</td>\n      <td>942321153576928</td>\n      <td>103737925241495</td>\n      <td>113341733165337</td>\n      <td>...</td>\n      <td>287099991516.9</td>\n      <td>297216730668942</td>\n      <td>375298134440469</td>\n      <td>416878162440887</td>\n      <td>396332598448215</td>\n      <td>366810014300222</td>\n      <td>351119102947143</td>\n      <td>317610719411483</td>\n      <td>295456189492005</td>\n      <td></td>\n    </tr>\n    <tr>\n      <th>262</th>\n      <td>Zambia</td>\n      <td>ZMB</td>\n      <td>GDP (current US$)</td>\n      <td>NY.GDP.MKTP.CD</td>\n      <td>713000000</td>\n      <td>696285714285714</td>\n      <td>693142857142857</td>\n      <td>718714285714286</td>\n      <td>839428571428571</td>\n      <td>108285714285714</td>\n      <td>...</td>\n      <td>179108586379048</td>\n      <td>153283423039575</td>\n      <td>20265556273582</td>\n      <td>234600983397453</td>\n      <td>255033706992015</td>\n      <td>280454604421876</td>\n      <td>271506306072032</td>\n      <td>21154394545895</td>\n      <td>210639896825243</td>\n      <td></td>\n    </tr>\n    <tr>\n      <th>263</th>\n      <td>Zimbabwe</td>\n      <td>ZWE</td>\n      <td>GDP (current US$)</td>\n      <td>NY.GDP.MKTP.CD</td>\n      <td>1052990400</td>\n      <td>1096646600</td>\n      <td>1117601600</td>\n      <td>1159511700</td>\n      <td>1217138000</td>\n      <td>1311435800</td>\n      <td>...</td>\n      <td>4415702800</td>\n      <td>862157360835314</td>\n      <td>101418597096169</td>\n      <td>120984507488603</td>\n      <td>142424902524289</td>\n      <td>154517686585469</td>\n      <td>158910492359908</td>\n      <td>163046678070657</td>\n      <td>166199604019038</td>\n      <td></td>\n    </tr>\n  </tbody>\n</table>\n<p>264 rows × 62 columns</p>\n</div>"
     },
     "metadata": {}
    }
   ],
   "source": [
    "#Q.2.b Load the GDP Data from \"world_bank.xlsx\". Exclude the header, rename the following countries [\"Korea, Rep.\":\"South Korea\",\"Iran, Islamic Rep.\":\"Iran\",\"Hong Kong SAR, China\":\"Hong Kong\"]\n",
    "replacement_names = {\n",
    "    \"Korea, Rep.\":\"South Korea\",\n",
    "    \"Iran, Islamic Rep.\":\"Iran\",\n",
    "    \"Hong Kong SAR, China\":\"Hong Kong\"\n",
    "}\n",
    "gdp_data = pd.read_excel(\"../dataFiles/world_bank.xlsx\", skiprows=5, header=None, keep_default_na=False)\n",
    "gdp_data[0].replace(replacement_names, inplace=True)\n",
    "display(gdp_data)"
   ]
  },
  {
   "cell_type": "code",
   "execution_count": 599,
   "metadata": {},
   "outputs": [],
   "source": [
    "#Q.2.c Load the dataset scimagojr.xlsx"
   ]
  },
  {
   "cell_type": "code",
   "execution_count": 600,
   "metadata": {},
   "outputs": [],
   "source": [
    "#Q.2.d Join the three datasets, retain only the last 10 years of GDP data and only the top 15 countries by Scimagojr 'Rank'"
   ]
  },
  {
   "cell_type": "code",
   "execution_count": 601,
   "metadata": {},
   "outputs": [],
   "source": [
    "#Q.2.e What is the average GDP over the last 10 years for each country? "
   ]
  },
  {
   "cell_type": "code",
   "execution_count": 602,
   "metadata": {},
   "outputs": [],
   "source": [
    "#Q.2.f By how much had the GDP changed over the 10-year span for the country with the 6th largest average GDP?"
   ]
  },
  {
   "cell_type": "code",
   "execution_count": 603,
   "metadata": {},
   "outputs": [],
   "source": [
    "#Q.2.g Create a new column that is the ration of Self-Citations to Total Citations. What is the maximum value for this new column, and what country has the highest ratio?"
   ]
  }
 ],
 "metadata": {
  "kernelspec": {
   "display_name": "Python 3",
   "language": "python",
   "name": "python3"
  },
  "language_info": {
   "codemirror_mode": {
    "name": "ipython",
    "version": 3
   },
   "file_extension": ".py",
   "mimetype": "text/x-python",
   "name": "python",
   "nbconvert_exporter": "python",
   "pygments_lexer": "ipython3",
   "version": "3.8.5-final"
  }
 },
 "nbformat": 4,
 "nbformat_minor": 4
}