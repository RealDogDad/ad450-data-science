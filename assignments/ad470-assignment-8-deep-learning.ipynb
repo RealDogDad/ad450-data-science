{
 "cells": [
  {
   "cell_type": "markdown",
   "metadata": {},
   "source": [
    "#### Q1(a)  Import the necessary packages."
   ]
  },
  {
   "cell_type": "code",
   "execution_count": 32,
   "metadata": {},
   "outputs": [],
   "source": [
    "import numpy as np\n",
    "import pandas as pd\n",
    "import seaborn as sns\n",
    "import matplotlib.pyplot as plt\n",
    "import scipy.io\n",
    "from sklearn.preprocessing import StandardScaler\n",
    "\n",
    "import tensorflow\n",
    "from tensorflow import keras\n",
    "from tensorflow.keras import layers\n",
    "from tensorflow.keras.models import Sequential\n",
    "from tensorflow.keras.layers import Dense"
   ]
  },
  {
   "cell_type": "markdown",
   "metadata": {},
   "source": [
    "#### (b) Import the reuters dataset with the following line of code:"
   ]
  },
  {
   "cell_type": "code",
   "execution_count": 19,
   "metadata": {},
   "outputs": [],
   "source": [
    "from tensorflow.keras.datasets import reuters"
   ]
  },
  {
   "cell_type": "markdown",
   "metadata": {},
   "source": [
    "#### (c) Split the datasets into training and test sets with the following line of code. Specify the num_words = 500, and size of test set = 0.2.(num_words: the most common words appearing in the reuters news.)"
   ]
  },
  {
   "cell_type": "code",
   "execution_count": 20,
   "metadata": {},
   "outputs": [],
   "source": [
    "(x_train, y_train), (x_test, y_test) = reuters.load_data(num_words=500, test_split=0.2)"
   ]
  },
  {
   "cell_type": "code",
   "execution_count": 21,
   "metadata": {},
   "outputs": [
    {
     "data": {
      "text/plain": [
       "array([list([1, 2, 2, 8, 43, 10, 447, 5, 25, 207, 270, 5, 2, 111, 16, 369, 186, 90, 67, 7, 89, 5, 19, 102, 6, 19, 124, 15, 90, 67, 84, 22, 482, 26, 7, 48, 4, 49, 8, 2, 39, 209, 154, 6, 151, 6, 83, 11, 15, 22, 155, 11, 15, 7, 48, 9, 2, 2, 2, 6, 258, 6, 272, 11, 15, 22, 134, 44, 11, 15, 16, 8, 197, 2, 90, 67, 52, 29, 209, 30, 32, 132, 6, 109, 15, 17, 12]),\n",
       "       list([1, 2, 2, 2, 2, 56, 2, 2, 9, 56, 2, 2, 81, 5, 2, 57, 366, 2, 132, 20, 2, 7, 2, 49, 2, 2, 2, 2, 2, 2, 8, 7, 10, 241, 16, 2, 129, 231, 2, 5, 4, 2, 2, 2, 2, 2, 7, 48, 34, 191, 44, 35, 2, 2, 17, 12]),\n",
       "       list([1, 53, 12, 284, 15, 14, 272, 26, 53, 2, 32, 2, 15, 14, 272, 26, 39, 2, 70, 11, 14, 12, 2, 18, 180, 183, 187, 70, 11, 14, 102, 32, 11, 29, 53, 44, 2, 15, 14, 19, 2, 15, 53, 2, 47, 2, 15, 14, 19, 132, 15, 39, 2, 32, 11, 14, 147, 72, 11, 180, 183, 187, 44, 11, 14, 102, 19, 11, 123, 186, 90, 67, 2, 4, 78, 13, 68, 467, 2, 110, 59, 89, 90, 67, 2, 55, 2, 92, 2, 80, 2, 46, 2, 220, 13, 4, 346, 48, 235, 2, 5, 211, 5, 2, 7, 2, 81, 5, 187, 11, 15, 9, 2, 201, 5, 47, 2, 18, 478, 2, 5, 2, 7, 232, 2, 71, 5, 160, 63, 11, 9, 2, 81, 5, 102, 59, 11, 17, 12]),\n",
       "       ...,\n",
       "       list([1, 141, 2, 387, 81, 8, 16, 2, 10, 340, 2, 2, 31, 56, 2, 2, 9, 2, 71, 9, 2, 2, 2, 2, 2, 2, 2, 2, 244, 2, 4, 49, 8, 4, 2, 2, 33, 2, 9, 2, 340, 2, 2, 9, 2, 22, 2, 2, 2, 83, 35, 15, 257, 6, 57, 2, 7, 4, 2, 2, 5, 2, 2, 2, 4, 49, 8, 16, 369, 2, 6, 2, 7, 124, 407, 17, 12]),\n",
       "       list([1, 53, 46, 2, 26, 14, 74, 132, 26, 39, 46, 258, 2, 18, 14, 74, 134, 2, 18, 88, 2, 72, 11, 14, 2, 32, 11, 123, 383, 89, 39, 46, 235, 10, 2, 2, 5, 258, 44, 11, 15, 22, 2, 9, 42, 92, 131, 2, 5, 69, 312, 11, 15, 22, 222, 2, 2, 383, 48, 39, 74, 235, 10, 2, 276, 5, 61, 32, 11, 15, 21, 4, 211, 5, 126, 2, 42, 92, 131, 46, 19, 352, 11, 15, 22, 2, 220, 9, 42, 92, 131, 276, 5, 59, 61, 11, 15, 22, 10, 455, 7, 2, 137, 336, 2, 6, 2, 142, 2, 2, 43, 359, 5, 4, 326, 2, 364, 17, 12]),\n",
       "       list([1, 227, 2, 91, 2, 125, 2, 21, 4, 2, 76, 7, 4, 2, 481, 2, 2, 2, 2, 9, 111, 149, 8, 7, 10, 76, 223, 51, 4, 417, 8, 2, 91, 2, 2, 340, 7, 194, 2, 6, 2, 21, 127, 2, 2, 2, 6, 2, 4, 329, 433, 7, 65, 87, 2, 10, 2, 2, 290, 9, 21, 2, 16, 2, 24, 4, 76, 209, 30, 2, 2, 2, 8, 4, 60, 8, 4, 2, 308, 40, 2, 129, 2, 295, 277, 2, 9, 24, 286, 2, 234, 222, 9, 4, 2, 2, 2, 114, 2, 2, 7, 4, 113, 17, 12])],\n",
       "      dtype=object)"
      ]
     },
     "execution_count": 21,
     "metadata": {},
     "output_type": "execute_result"
    }
   ],
   "source": [
    "x_train"
   ]
  },
  {
   "cell_type": "markdown",
   "metadata": {},
   "source": [
    "#### (d) We don’t need to create word tokens since the words in the news are already converted into word indices. Pad the sequences so the all sequences have the same length. Set the length = 100."
   ]
  },
  {
   "cell_type": "code",
   "execution_count": 39,
   "metadata": {},
   "outputs": [],
   "source": [
    "from tensorflow.keras.preprocessing.text import Tokenizer\n",
    "from tensorflow.keras.preprocessing.sequence import pad_sequences\n",
    "\n",
    "#word_index = reuters.word_index\n",
    "sequences = np.array(x_train)\n",
    "padded = pad_sequences(sequences,maxlen=100,padding=\"pre\")\n",
    "\n",
    "test_sequences = np.array(x_test)\n",
    "test_padded = pad_sequences(test_sequences,maxlen=100,padding=\"pre\")"
   ]
  },
  {
   "cell_type": "markdown",
   "metadata": {},
   "source": [
    "#### (e) One hot encode y_train and y_test. There are 46 categories."
   ]
  },
  {
   "cell_type": "code",
   "execution_count": 26,
   "metadata": {},
   "outputs": [],
   "source": [
    "from tensorflow.keras.utils import to_categorical\n",
    "y_train_final = to_categorical(y_train, 46)\n",
    "y_test_final = to_categorical(y_test, 46)"
   ]
  },
  {
   "cell_type": "markdown",
   "metadata": {},
   "source": [
    "#### (f) (i)  Build a Sequential neural network."
   ]
  },
  {
   "cell_type": "code",
   "execution_count": 34,
   "metadata": {},
   "outputs": [],
   "source": [
    "model = keras.Sequential([\n",
    "    layers.Embedding(500, 32, input_length=100),\n",
    "    layers.Flatten(),\n",
    "    layers.Dense(512, activation='relu'),\n",
    "    layers.Dense(46, activation='softmax'),\n",
    "])"
   ]
  },
  {
   "cell_type": "markdown",
   "metadata": {},
   "source": [
    "#### (ii)   compile the neural network."
   ]
  },
  {
   "cell_type": "code",
   "execution_count": 35,
   "metadata": {},
   "outputs": [],
   "source": [
    "model.compile(optimizer = 'adam', loss = 'categorical_crossentropy', metrics = ['accuracy'])"
   ]
  },
  {
   "cell_type": "markdown",
   "metadata": {},
   "source": [
    "#### (iii)  Fit the model on training set. Use x_test and y_test_final as your validation_data. epochs = 10, batch_size = 32"
   ]
  },
  {
   "cell_type": "code",
   "execution_count": 41,
   "metadata": {},
   "outputs": [
    {
     "name": "stdout",
     "output_type": "stream",
     "text": [
      "Epoch 1/10\n",
      "281/281 [==============================] - 3s 10ms/step - loss: 0.5415 - accuracy: 0.8704 - val_loss: 1.4949 - val_accuracy: 0.6665\n",
      "Epoch 2/10\n",
      "281/281 [==============================] - 3s 9ms/step - loss: 0.2683 - accuracy: 0.9413 - val_loss: 1.5737 - val_accuracy: 0.6612\n",
      "Epoch 3/10\n",
      "281/281 [==============================] - 3s 9ms/step - loss: 0.2224 - accuracy: 0.9477 - val_loss: 1.6950 - val_accuracy: 0.6483\n",
      "Epoch 4/10\n",
      "281/281 [==============================] - 3s 10ms/step - loss: 0.1948 - accuracy: 0.9520 - val_loss: 1.6628 - val_accuracy: 0.6616\n",
      "Epoch 5/10\n",
      "281/281 [==============================] - 3s 10ms/step - loss: 0.1790 - accuracy: 0.9517 - val_loss: 1.6804 - val_accuracy: 0.6607\n",
      "Epoch 6/10\n",
      "281/281 [==============================] - 3s 9ms/step - loss: 0.1769 - accuracy: 0.9498 - val_loss: 1.7105 - val_accuracy: 0.6541\n",
      "Epoch 7/10\n",
      "281/281 [==============================] - 3s 10ms/step - loss: 0.1611 - accuracy: 0.9534 - val_loss: 1.7381 - val_accuracy: 0.6558\n",
      "Epoch 8/10\n",
      "281/281 [==============================] - 3s 10ms/step - loss: 0.1541 - accuracy: 0.9536 - val_loss: 1.6961 - val_accuracy: 0.6576\n",
      "Epoch 9/10\n",
      "281/281 [==============================] - 3s 9ms/step - loss: 0.1494 - accuracy: 0.9512 - val_loss: 1.7345 - val_accuracy: 0.6647\n",
      "Epoch 10/10\n",
      "281/281 [==============================] - 3s 9ms/step - loss: 0.1380 - accuracy: 0.9525 - val_loss: 1.7135 - val_accuracy: 0.6558\n"
     ]
    }
   ],
   "source": [
    "history = model.fit(\n",
    "    padded, y_train_final,\n",
    "    validation_data=(test_padded,y_test_final),\n",
    "    epochs=10, \n",
    "    batch_size=32,\n",
    ")"
   ]
  },
  {
   "cell_type": "code",
   "execution_count": 45,
   "metadata": {},
   "outputs": [
    {
     "name": "stdout",
     "output_type": "stream",
     "text": [
      "71/71 - 0s - loss: 1.7135 - accuracy: 0.6558\n"
     ]
    }
   ],
   "source": [
    "test_loss, test_acc = model.evaluate(test_padded,  y_test_final, verbose=2)"
   ]
  },
  {
   "cell_type": "markdown",
   "metadata": {},
   "source": [
    "#### (iv) Plot the values of training loss and validation loss over epochs. Use another graph to plot the values of training accuracy and validation accuracy over epochs."
   ]
  },
  {
   "cell_type": "code",
   "execution_count": 42,
   "metadata": {},
   "outputs": [
    {
     "data": {
      "image/png": "[encoded data removed]",
      "text/plain": [
       "<Figure size 432x288 with 1 Axes>"
      ]
     },
     "metadata": {
      "needs_background": "light"
     },
     "output_type": "display_data"
    }
   ],
   "source": [
    "history_dict = history.history\n",
    "loss_values = history_dict['loss']\n",
    "val_loss_values = history_dict['val_loss']\n",
    "\n",
    "epochs = range(1, len(loss_values) + 1)\n",
    "\n",
    "plt.plot(epochs, loss_values, 'bo', label='Training Loss')\n",
    "plt.plot(epochs, val_loss_values, 'b', label='Validation Loss')\n",
    "plt.title('Training and Validation Loss')\n",
    "plt.xlabel('Epochs')\n",
    "plt.ylabel('Loss')\n",
    "plt.legend()\n",
    "plt.show()"
   ]
  },
  {
   "cell_type": "code",
   "execution_count": 43,
   "metadata": {},
   "outputs": [
    {
     "data": {
      "image/png": "[encoded data removed]",
      "text/plain": [
       "<Figure size 432x288 with 1 Axes>"
      ]
     },
     "metadata": {
      "needs_background": "light"
     },
     "output_type": "display_data"
    }
   ],
   "source": [
    "acc = history_dict['accuracy']\n",
    "val_acc = history_dict['val_accuracy']\n",
    "\n",
    "plt.plot(epochs, acc, 'bo', label='Training Accuracy')\n",
    "plt.plot(epochs, val_acc, 'b', label='Validation Accuracy')\n",
    "plt.title('Training and Validation Accuracy')\n",
    "plt.xlabel('Epochs')\n",
    "plt.ylabel('Accuracy')\n",
    "plt.legend()\n",
    "plt.show()"
   ]
  },
  {
   "cell_type": "markdown",
   "metadata": {},
   "source": [
    "#### (g) (i)  Build a Sequential neural network."
   ]
  },
  {
   "cell_type": "code",
   "execution_count": 46,
   "metadata": {},
   "outputs": [],
   "source": [
    "model = keras.Sequential([\n",
    "    layers.Embedding(500, 32, input_length=100),\n",
    "    layers.LSTM(32),\n",
    "    layers.Dense(512, activation='relu'),\n",
    "    layers.Dense(46, activation='softmax'),\n",
    "])"
   ]
  },
  {
   "cell_type": "markdown",
   "metadata": {},
   "source": [
    "#### (ii)   compile the neural network."
   ]
  },
  {
   "cell_type": "code",
   "execution_count": 47,
   "metadata": {},
   "outputs": [],
   "source": [
    "model.compile(optimizer = 'adam', loss = 'categorical_crossentropy', metrics = ['accuracy'])"
   ]
  },
  {
   "cell_type": "markdown",
   "metadata": {},
   "source": [
    "#### (iii)  Fit the model on training set. Use x_test and y_test as your validation_data. epochs = 30, batch_size = 32"
   ]
  },
  {
   "cell_type": "code",
   "execution_count": 48,
   "metadata": {},
   "outputs": [
    {
     "name": "stdout",
     "output_type": "stream",
     "text": [
      "Epoch 1/30\n",
      "281/281 [==============================] - 9s 26ms/step - loss: 2.6439 - accuracy: 0.3620 - val_loss: 1.8315 - val_accuracy: 0.5463\n",
      "Epoch 2/30\n",
      "281/281 [==============================] - 7s 23ms/step - loss: 1.7415 - accuracy: 0.5407 - val_loss: 1.7769 - val_accuracy: 0.5392\n",
      "Epoch 3/30\n",
      "281/281 [==============================] - 7s 24ms/step - loss: 1.6548 - accuracy: 0.5625 - val_loss: 1.6491 - val_accuracy: 0.5779\n",
      "Epoch 4/30\n",
      "281/281 [==============================] - 7s 24ms/step - loss: 1.5534 - accuracy: 0.5977 - val_loss: 1.5319 - val_accuracy: 0.6140\n",
      "Epoch 5/30\n",
      "281/281 [==============================] - 7s 23ms/step - loss: 1.3950 - accuracy: 0.6403 - val_loss: 1.4640 - val_accuracy: 0.6371\n",
      "Epoch 6/30\n",
      "281/281 [==============================] - 7s 23ms/step - loss: 1.3080 - accuracy: 0.6605 - val_loss: 1.3861 - val_accuracy: 0.6483\n",
      "Epoch 7/30\n",
      "281/281 [==============================] - 7s 23ms/step - loss: 1.2768 - accuracy: 0.6747 - val_loss: 1.3719 - val_accuracy: 0.6492\n",
      "Epoch 8/30\n",
      "281/281 [==============================] - 7s 23ms/step - loss: 1.2012 - accuracy: 0.6939 - val_loss: 1.3810 - val_accuracy: 0.6549\n",
      "Epoch 9/30\n",
      "281/281 [==============================] - 7s 24ms/step - loss: 1.1585 - accuracy: 0.7053 - val_loss: 1.3447 - val_accuracy: 0.6656\n",
      "Epoch 10/30\n",
      "281/281 [==============================] - 7s 23ms/step - loss: 1.1455 - accuracy: 0.7076 - val_loss: 1.3379 - val_accuracy: 0.6643\n",
      "Epoch 11/30\n",
      "281/281 [==============================] - 7s 24ms/step - loss: 1.1288 - accuracy: 0.7126 - val_loss: 1.3132 - val_accuracy: 0.6670\n",
      "Epoch 12/30\n",
      "281/281 [==============================] - 7s 24ms/step - loss: 1.1154 - accuracy: 0.7126 - val_loss: 1.3020 - val_accuracy: 0.6830\n",
      "Epoch 13/30\n",
      "281/281 [==============================] - 7s 24ms/step - loss: 1.0937 - accuracy: 0.7213 - val_loss: 1.3266 - val_accuracy: 0.6785\n",
      "Epoch 14/30\n",
      "281/281 [==============================] - 7s 24ms/step - loss: 1.0477 - accuracy: 0.7340 - val_loss: 1.3142 - val_accuracy: 0.6781\n",
      "Epoch 15/30\n",
      "281/281 [==============================] - 7s 24ms/step - loss: 1.0301 - accuracy: 0.7380 - val_loss: 1.3511 - val_accuracy: 0.6799\n",
      "Epoch 16/30\n",
      "281/281 [==============================] - 7s 24ms/step - loss: 1.0231 - accuracy: 0.7427 - val_loss: 1.3254 - val_accuracy: 0.6839\n",
      "Epoch 17/30\n",
      "281/281 [==============================] - 7s 23ms/step - loss: 0.9975 - accuracy: 0.7462 - val_loss: 1.3208 - val_accuracy: 0.6808\n",
      "Epoch 18/30\n",
      "281/281 [==============================] - 7s 24ms/step - loss: 1.0077 - accuracy: 0.7448 - val_loss: 1.2853 - val_accuracy: 0.6883\n",
      "Epoch 19/30\n",
      "281/281 [==============================] - 7s 24ms/step - loss: 0.9723 - accuracy: 0.7539 - val_loss: 1.2992 - val_accuracy: 0.6892\n",
      "Epoch 20/30\n",
      "281/281 [==============================] - 7s 24ms/step - loss: 0.9617 - accuracy: 0.7566 - val_loss: 1.3383 - val_accuracy: 0.6732\n",
      "Epoch 21/30\n",
      "281/281 [==============================] - 7s 23ms/step - loss: 0.9779 - accuracy: 0.7526 - val_loss: 1.3049 - val_accuracy: 0.6932\n",
      "Epoch 22/30\n",
      "281/281 [==============================] - 7s 23ms/step - loss: 0.9277 - accuracy: 0.7586 - val_loss: 1.2735 - val_accuracy: 0.6923\n",
      "Epoch 23/30\n",
      "281/281 [==============================] - 7s 24ms/step - loss: 0.9307 - accuracy: 0.7649 - val_loss: 1.2802 - val_accuracy: 0.6986\n",
      "Epoch 24/30\n",
      "281/281 [==============================] - 7s 24ms/step - loss: 0.9172 - accuracy: 0.7707 - val_loss: 1.3137 - val_accuracy: 0.6870\n",
      "Epoch 25/30\n",
      "281/281 [==============================] - 7s 23ms/step - loss: 0.8583 - accuracy: 0.7821 - val_loss: 1.3047 - val_accuracy: 0.6963\n",
      "Epoch 26/30\n",
      "281/281 [==============================] - 7s 24ms/step - loss: 0.8618 - accuracy: 0.7771 - val_loss: 1.3212 - val_accuracy: 0.6923\n",
      "Epoch 27/30\n",
      "281/281 [==============================] - 7s 24ms/step - loss: 0.8792 - accuracy: 0.7726 - val_loss: 1.3435 - val_accuracy: 0.6834\n",
      "Epoch 28/30\n",
      "281/281 [==============================] - 7s 24ms/step - loss: 0.8414 - accuracy: 0.7863 - val_loss: 1.3742 - val_accuracy: 0.6915\n",
      "Epoch 29/30\n",
      "281/281 [==============================] - 7s 23ms/step - loss: 0.8585 - accuracy: 0.7788 - val_loss: 1.3661 - val_accuracy: 0.6843\n",
      "Epoch 30/30\n",
      "281/281 [==============================] - 7s 24ms/step - loss: 0.8205 - accuracy: 0.7932 - val_loss: 1.3528 - val_accuracy: 0.6937\n"
     ]
    }
   ],
   "source": [
    "history = model.fit(\n",
    "    padded, y_train_final,\n",
    "    validation_data=(test_padded,y_test_final),\n",
    "    epochs=30, \n",
    "    batch_size=32,\n",
    ")"
   ]
  },
  {
   "cell_type": "code",
   "execution_count": 49,
   "metadata": {},
   "outputs": [
    {
     "name": "stdout",
     "output_type": "stream",
     "text": [
      "71/71 - 0s - loss: 1.3528 - accuracy: 0.6937\n"
     ]
    }
   ],
   "source": [
    "test_loss, test_acc = model.evaluate(test_padded,  y_test_final, verbose=2)"
   ]
  },
  {
   "cell_type": "markdown",
   "metadata": {},
   "source": [
    "#### (iv) Plot the values of training loss and validation loss over epochs. Use another graph to plot the values of training accuracy and validation accuracy over epochs."
   ]
  },
  {
   "cell_type": "code",
   "execution_count": 50,
   "metadata": {},
   "outputs": [
    {
     "data": {
      "image/png": "[encoded data removed]",
      "text/plain": [
       "<Figure size 432x288 with 1 Axes>"
      ]
     },
     "metadata": {
      "needs_background": "light"
     },
     "output_type": "display_data"
    }
   ],
   "source": [
    "history_dict = history.history\n",
    "loss_values = history_dict['loss']\n",
    "val_loss_values = history_dict['val_loss']\n",
    "\n",
    "epochs = range(1, len(loss_values) + 1)\n",
    "\n",
    "plt.plot(epochs, loss_values, 'bo', label='Training Loss')\n",
    "plt.plot(epochs, val_loss_values, 'b', label='Validation Loss')\n",
    "plt.title('Training and Validation Loss')\n",
    "plt.xlabel('Epochs')\n",
    "plt.ylabel('Loss')\n",
    "plt.legend()\n",
    "plt.show()"
   ]
  },
  {
   "cell_type": "code",
   "execution_count": 51,
   "metadata": {},
   "outputs": [
    {
     "data": {
      "image/png": "[encoded data removed]",
      "text/plain": [
       "<Figure size 432x288 with 1 Axes>"
      ]
     },
     "metadata": {
      "needs_background": "light"
     },
     "output_type": "display_data"
    }
   ],
   "source": [
    "acc = history_dict['accuracy']\n",
    "val_acc = history_dict['val_accuracy']\n",
    "\n",
    "plt.plot(epochs, acc, 'bo', label='Training Accuracy')\n",
    "plt.plot(epochs, val_acc, 'b', label='Validation Accuracy')\n",
    "plt.title('Training and Validation Accuracy')\n",
    "plt.xlabel('Epochs')\n",
    "plt.ylabel('Accuracy')\n",
    "plt.legend()\n",
    "plt.show()"
   ]
  },
  {
   "cell_type": "code",
   "execution_count": null,
   "metadata": {},
   "outputs": [],
   "source": []
  }
 ],
 "metadata": {
  "kernelspec": {
   "display_name": "Python 3",
   "language": "python",
   "name": "python3"
  },
  "language_info": {
   "codemirror_mode": {
    "name": "ipython",
    "version": 3
   },
   "file_extension": ".py",
   "mimetype": "text/x-python",
   "name": "python",
   "nbconvert_exporter": "python",
   "pygments_lexer": "ipython3",
   "version": "3.8.5"
  }
 },
 "nbformat": 4,
 "nbformat_minor": 4
}
