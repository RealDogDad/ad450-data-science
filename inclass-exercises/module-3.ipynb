{
 "cells": [
  {
   "cell_type": "markdown",
   "metadata": {},
   "source": [
    "### In-class exercises Module 3 Answers (Handling arrays with numpy)"
   ]
  },
  {
   "cell_type": "code",
   "execution_count": null,
   "metadata": {},
   "outputs": [],
   "source": [
    "# Q.1\n",
    "import numpy as np\n",
    "np.b<TAB>"
   ]
  },
  {
   "cell_type": "code",
   "execution_count": 1,
   "metadata": {},
   "outputs": [
    {
     "data": {
      "text/plain": [
       "array([  2,   4,   6,   8,  10,  12,  14,  16,  18,  20,  22,  24,  26,\n",
       "        28,  30,  32,  34,  36,  38,  40,  42,  44,  46,  48,  50,  52,\n",
       "        54,  56,  58,  60,  62,  64,  66,  68,  70,  72,  74,  76,  78,\n",
       "        80,  82,  84,  86,  88,  90,  92,  94,  96,  98, 100])"
      ]
     },
     "execution_count": 1,
     "metadata": {},
     "output_type": "execute_result"
    }
   ],
   "source": [
    "# Q.2\n",
    "import numpy as np\n",
    "list1 = [2*i for i in range(1,51)]\n",
    "array1 = np.array(list1)\n",
    "array1"
   ]
  },
  {
   "cell_type": "code",
   "execution_count": 2,
   "metadata": {},
   "outputs": [
    {
     "name": "stdout",
     "output_type": "stream",
     "text": [
      "[[[ 7  2  5]\n",
      "  [ 5  9 11]\n",
      "  [ 5  7  4]\n",
      "  [ 6  9  8]\n",
      "  [10 10  3]]\n",
      "\n",
      " [[ 8  9  9]\n",
      "  [10  3  7]\n",
      "  [11 10 11]\n",
      "  [ 6  5  2]\n",
      "  [ 5  7  2]]\n",
      "\n",
      " [[ 4  5 10]\n",
      "  [ 3  5  5]\n",
      "  [ 5  9  2]\n",
      "  [ 3 11 11]\n",
      "  [ 2  6  9]]\n",
      "\n",
      " [[ 5  4  9]\n",
      "  [ 4  2  2]\n",
      "  [ 6  7  7]\n",
      "  [ 8 10  6]\n",
      "  [ 3  6 11]]]\n",
      "dimension =  3  shape =  (4, 5, 3)  data type is  int32\n"
     ]
    }
   ],
   "source": [
    "# Q.3\n",
    "np.random.seed(0)\n",
    "x = np.random.randint(2,12, size=(4,5,3))\n",
    "print(x)\n",
    "print(\"dimension = \",x.ndim, \" shape = \",x.shape, \" data type is \", x.dtype)"
   ]
  },
  {
   "cell_type": "code",
   "execution_count": 3,
   "metadata": {},
   "outputs": [
    {
     "data": {
      "text/plain": [
       "array([[ 2.16171737, -0.95693143,  0.06731083,  0.20649884, -0.45688133,\n",
       "        -1.05997576,  0.61495732,  1.42966077, -0.21195226, -0.08033726],\n",
       "       [ 0.40539778,  0.11860659,  1.25441407,  1.41910204, -0.74385608,\n",
       "        -2.5174371 , -1.50709602,  1.14907613, -1.19357825,  1.14104245],\n",
       "       [ 1.50944508,  1.06777513, -0.68658948,  0.01487332, -0.3756659 ,\n",
       "        -0.03822364,  0.36797447, -0.0447237 , -0.30237513, -2.2244036 ],\n",
       "       [ 0.72400636,  0.35900276,  1.07612104,  0.19214083,  0.85292596,\n",
       "         0.01835718,  0.42830357,  0.99627783, -0.49114966,  0.71267817],\n",
       "       [ 1.11334035, -2.15367459, -0.41611148, -1.07089699,  0.22113881,\n",
       "        -1.12305712, -1.05075796,  1.01207905,  1.54371643, -0.40211489],\n",
       "       [ 0.8647491 , -0.22686923,  0.81116027,  0.28779461, -0.53846816,\n",
       "         1.9084621 , -0.475776  ,  1.44073112, -1.14907568,  0.80571455],\n",
       "       [ 1.75610703,  0.97297991, -1.55111911,  0.19114348,  1.60477607,\n",
       "        -1.42002593, -2.44378268, -2.05633855, -0.99225755,  1.01128532],\n",
       "       [ 1.40044008, -0.65499168, -0.25579069, -0.71438561, -0.50083877,\n",
       "         0.05564534, -0.48896178, -0.37992245,  0.25973465, -1.68134864],\n",
       "       [-0.91679481, -0.1192241 , -0.44627728, -2.14335544,  0.01003777,\n",
       "        -0.55822259,  0.48090565, -0.57414201, -0.2524676 ,  1.03984679],\n",
       "       [-0.02347953,  0.08942229, -0.59432737, -0.10569679,  0.74279571,\n",
       "        -0.75498153, -0.13828271, -2.12492027, -1.03001883, -0.51745186]])"
      ]
     },
     "execution_count": 3,
     "metadata": {},
     "output_type": "execute_result"
    }
   ],
   "source": [
    "# Q.4\n",
    "x = np.random.randn(100)\n",
    "x_reshaped = x.reshape(10,10)\n",
    "x_reshaped"
   ]
  },
  {
   "cell_type": "code",
   "execution_count": 4,
   "metadata": {},
   "outputs": [
    {
     "data": {
      "text/plain": [
       "array([[ 2.16171737, -0.95693143,  0.06731083,  0.20649884, -0.45688133,\n",
       "        -1.05997576,  0.61495732,  1.42966077, -0.21195226, -0.08033726],\n",
       "       [ 1.50944508,  1.06777513, -0.68658948,  0.01487332, -0.3756659 ,\n",
       "        -0.03822364,  0.36797447, -0.0447237 , -0.30237513, -2.2244036 ],\n",
       "       [ 1.11334035, -2.15367459, -0.41611148, -1.07089699,  0.22113881,\n",
       "        -1.12305712, -1.05075796,  1.01207905,  1.54371643, -0.40211489],\n",
       "       [ 1.75610703,  0.97297991, -1.55111911,  0.19114348,  1.60477607,\n",
       "        -1.42002593, -2.44378268, -2.05633855, -0.99225755,  1.01128532],\n",
       "       [-0.91679481, -0.1192241 , -0.44627728, -2.14335544,  0.01003777,\n",
       "        -0.55822259,  0.48090565, -0.57414201, -0.2524676 ,  1.03984679]])"
      ]
     },
     "execution_count": 4,
     "metadata": {},
     "output_type": "execute_result"
    }
   ],
   "source": [
    "# Q.4\n",
    "x_reshaped[::2]"
   ]
  },
  {
   "cell_type": "code",
   "execution_count": 5,
   "metadata": {},
   "outputs": [
    {
     "data": {
      "text/plain": [
       "1.1410424458433976"
      ]
     },
     "execution_count": 5,
     "metadata": {},
     "output_type": "execute_result"
    }
   ],
   "source": [
    "# Q.4\n",
    "x_reshaped[1,-1]"
   ]
  },
  {
   "cell_type": "code",
   "execution_count": 6,
   "metadata": {},
   "outputs": [
    {
     "data": {
      "text/plain": [
       "array([[ 2.16171737],\n",
       "       [-0.95693143],\n",
       "       [ 0.06731083],\n",
       "       [ 0.20649884],\n",
       "       [-0.45688133],\n",
       "       [-1.05997576],\n",
       "       [ 0.61495732],\n",
       "       [ 1.42966077],\n",
       "       [-0.21195226],\n",
       "       [-0.08033726],\n",
       "       [ 0.40539778],\n",
       "       [ 0.11860659],\n",
       "       [ 1.25441407],\n",
       "       [ 1.41910204],\n",
       "       [-0.74385608],\n",
       "       [-2.5174371 ],\n",
       "       [-1.50709602],\n",
       "       [ 1.14907613],\n",
       "       [-1.19357825],\n",
       "       [ 1.14104245],\n",
       "       [ 1.50944508],\n",
       "       [ 1.06777513],\n",
       "       [-0.68658948],\n",
       "       [ 0.01487332],\n",
       "       [-0.3756659 ],\n",
       "       [-0.03822364],\n",
       "       [ 0.36797447],\n",
       "       [-0.0447237 ],\n",
       "       [-0.30237513],\n",
       "       [-2.2244036 ],\n",
       "       [ 0.72400636],\n",
       "       [ 0.35900276],\n",
       "       [ 1.07612104],\n",
       "       [ 0.19214083],\n",
       "       [ 0.85292596],\n",
       "       [ 0.01835718],\n",
       "       [ 0.42830357],\n",
       "       [ 0.99627783],\n",
       "       [-0.49114966],\n",
       "       [ 0.71267817],\n",
       "       [ 1.11334035],\n",
       "       [-2.15367459],\n",
       "       [-0.41611148],\n",
       "       [-1.07089699],\n",
       "       [ 0.22113881],\n",
       "       [-1.12305712],\n",
       "       [-1.05075796],\n",
       "       [ 1.01207905],\n",
       "       [ 1.54371643],\n",
       "       [-0.40211489],\n",
       "       [ 0.8647491 ],\n",
       "       [-0.22686923],\n",
       "       [ 0.81116027],\n",
       "       [ 0.28779461],\n",
       "       [-0.53846816],\n",
       "       [ 1.9084621 ],\n",
       "       [-0.475776  ],\n",
       "       [ 1.44073112],\n",
       "       [-1.14907568],\n",
       "       [ 0.80571455],\n",
       "       [ 1.75610703],\n",
       "       [ 0.97297991],\n",
       "       [-1.55111911],\n",
       "       [ 0.19114348],\n",
       "       [ 1.60477607],\n",
       "       [-1.42002593],\n",
       "       [-2.44378268],\n",
       "       [-2.05633855],\n",
       "       [-0.99225755],\n",
       "       [ 1.01128532],\n",
       "       [ 1.40044008],\n",
       "       [-0.65499168],\n",
       "       [-0.25579069],\n",
       "       [-0.71438561],\n",
       "       [-0.50083877],\n",
       "       [ 0.05564534],\n",
       "       [-0.48896178],\n",
       "       [-0.37992245],\n",
       "       [ 0.25973465],\n",
       "       [-1.68134864],\n",
       "       [-0.91679481],\n",
       "       [-0.1192241 ],\n",
       "       [-0.44627728],\n",
       "       [-2.14335544],\n",
       "       [ 0.01003777],\n",
       "       [-0.55822259],\n",
       "       [ 0.48090565],\n",
       "       [-0.57414201],\n",
       "       [-0.2524676 ],\n",
       "       [ 1.03984679],\n",
       "       [-0.02347953],\n",
       "       [ 0.08942229],\n",
       "       [-0.59432737],\n",
       "       [-0.10569679],\n",
       "       [ 0.74279571],\n",
       "       [-0.75498153],\n",
       "       [-0.13828271],\n",
       "       [-2.12492027],\n",
       "       [-1.03001883],\n",
       "       [-0.51745186]])"
      ]
     },
     "execution_count": 6,
     "metadata": {},
     "output_type": "execute_result"
    }
   ],
   "source": [
    "# Q.4\n",
    "x[:,np.newaxis]"
   ]
  },
  {
   "cell_type": "code",
   "execution_count": 7,
   "metadata": {},
   "outputs": [
    {
     "data": {
      "text/plain": [
       "array([[0.        , 0.26315789, 0.52631579, 0.78947368, 1.05263158,\n",
       "        1.31578947, 1.57894737, 1.84210526, 2.10526316, 2.36842105,\n",
       "        2.63157895, 2.89473684, 3.15789474, 3.42105263, 3.68421053,\n",
       "        3.94736842, 4.21052632, 4.47368421, 4.73684211, 5.        ],\n",
       "       [0.        , 0.26315789, 0.52631579, 0.78947368, 1.05263158,\n",
       "        1.31578947, 1.57894737, 1.84210526, 2.10526316, 2.36842105,\n",
       "        2.63157895, 2.89473684, 3.15789474, 3.42105263, 3.68421053,\n",
       "        3.94736842, 4.21052632, 4.47368421, 4.73684211, 5.        ]])"
      ]
     },
     "execution_count": 7,
     "metadata": {},
     "output_type": "execute_result"
    }
   ],
   "source": [
    "# Q.5\n",
    "x = np.linspace(0,5,20)\n",
    "x = np.array([x])          # this step converts x into a 2 dimensional array, which allows for horizontal stacking.\n",
    "np.concatenate((x,x))\n"
   ]
  },
  {
   "cell_type": "code",
   "execution_count": 8,
   "metadata": {},
   "outputs": [
    {
     "data": {
      "text/plain": [
       "array([[0.        , 0.26315789, 0.52631579, 0.78947368, 1.05263158,\n",
       "        1.31578947, 1.57894737, 1.84210526, 2.10526316, 2.36842105,\n",
       "        2.63157895, 2.89473684, 3.15789474, 3.42105263, 3.68421053,\n",
       "        3.94736842, 4.21052632, 4.47368421, 4.73684211, 5.        ,\n",
       "        0.        , 0.26315789, 0.52631579, 0.78947368, 1.05263158,\n",
       "        1.31578947, 1.57894737, 1.84210526, 2.10526316, 2.36842105,\n",
       "        2.63157895, 2.89473684, 3.15789474, 3.42105263, 3.68421053,\n",
       "        3.94736842, 4.21052632, 4.47368421, 4.73684211, 5.        ]])"
      ]
     },
     "execution_count": 8,
     "metadata": {},
     "output_type": "execute_result"
    }
   ],
   "source": [
    "#Q.5 \n",
    "np.concatenate((x,x),axis=1)"
   ]
  },
  {
   "cell_type": "code",
   "execution_count": 9,
   "metadata": {},
   "outputs": [
    {
     "name": "stdout",
     "output_type": "stream",
     "text": [
      "[[0.         0.26315789 0.52631579 0.78947368 1.05263158 1.31578947\n",
      "  1.57894737 1.84210526 2.10526316 2.36842105 2.63157895 2.89473684\n",
      "  3.15789474 3.42105263 3.68421053 3.94736842 4.21052632 4.47368421\n",
      "  4.73684211 5.        ]\n",
      " [0.         0.26315789 0.52631579 0.78947368 1.05263158 1.31578947\n",
      "  1.57894737 1.84210526 2.10526316 2.36842105 2.63157895 2.89473684\n",
      "  3.15789474 3.42105263 3.68421053 3.94736842 4.21052632 4.47368421\n",
      "  4.73684211 5.        ]]\n",
      "[[0.         0.26315789 0.52631579 0.78947368 1.05263158 1.31578947\n",
      "  1.57894737 1.84210526 2.10526316 2.36842105 2.63157895 2.89473684\n",
      "  3.15789474 3.42105263 3.68421053 3.94736842 4.21052632 4.47368421\n",
      "  4.73684211 5.         0.         0.26315789 0.52631579 0.78947368\n",
      "  1.05263158 1.31578947 1.57894737 1.84210526 2.10526316 2.36842105\n",
      "  2.63157895 2.89473684 3.15789474 3.42105263 3.68421053 3.94736842\n",
      "  4.21052632 4.47368421 4.73684211 5.        ]]\n"
     ]
    },
    {
     "data": {
      "text/plain": [
       "[array([0.        , 0.26315789, 0.52631579, 0.78947368]),\n",
       " array([1.05263158, 1.31578947, 1.57894737, 1.84210526]),\n",
       " array([2.10526316, 2.36842105, 2.63157895, 2.89473684]),\n",
       " array([3.15789474, 3.42105263, 3.68421053, 3.94736842]),\n",
       " array([4.21052632, 4.47368421, 4.73684211, 5.        ])]"
      ]
     },
     "execution_count": 9,
     "metadata": {},
     "output_type": "execute_result"
    }
   ],
   "source": [
    "#Q.5\n",
    "print(np.vstack((x,x)))\n",
    "print(np.hstack((x,x)))\n",
    "x = np.linspace(0,5,20)         # convert x back to a one dimensional array.\n",
    "np.split(x,5)"
   ]
  },
  {
   "cell_type": "code",
   "execution_count": 10,
   "metadata": {},
   "outputs": [
    {
     "data": {
      "image/png": "[encoded data removed]",
      "text/plain": [
       "<Figure size 432x288 with 1 Axes>"
      ]
     },
     "metadata": {
      "needs_background": "light"
     },
     "output_type": "display_data"
    }
   ],
   "source": [
    "# Q.6\n",
    "import matplotlib.pyplot as plt\n",
    "x = np.linspace(-6,6,100)\n",
    "y1 = np.sqrt(36 - x**2)\n",
    "y2 = -np.sqrt(36 - x**2)\n",
    "plt.plot(x,y1, \"b\")          # set the color of the line as blue\n",
    "plt.plot(x,y2, \"b\")          # set the color of the line as blue  \n",
    "plt.gca().set_aspect('equal') \n",
    "plt.show()"
   ]
  },
  {
   "cell_type": "code",
   "execution_count": 11,
   "metadata": {},
   "outputs": [
    {
     "data": {
      "text/plain": [
       "[<matplotlib.lines.Line2D at 0x274ffe732b0>]"
      ]
     },
     "execution_count": 11,
     "metadata": {},
     "output_type": "execute_result"
    },
    {
     "data": {
      "image/png": "[encoded data removed]",
      "text/plain": [
       "<Figure size 432x288 with 1 Axes>"
      ]
     },
     "metadata": {
      "needs_background": "light"
     },
     "output_type": "display_data"
    }
   ],
   "source": [
    "# Q.7\n",
    "import matplotlib.pyplot as plt\n",
    "x = np.arange(-10,10,step = 0.01)\n",
    "y = np.log(np.abs(x))\n",
    "plt.plot(x,y)"
   ]
  },
  {
   "cell_type": "code",
   "execution_count": 12,
   "metadata": {},
   "outputs": [
    {
     "data": {
      "text/plain": [
       "30000.0"
      ]
     },
     "execution_count": 12,
     "metadata": {},
     "output_type": "execute_result"
    }
   ],
   "source": [
    "# Q.8\n",
    "x1 = np.ones(1000)*30\n",
    "x2 = np.zeros(1000)\n",
    "np.sum(x1)"
   ]
  },
  {
   "cell_type": "code",
   "execution_count": 13,
   "metadata": {},
   "outputs": [
    {
     "data": {
      "text/plain": [
       "[<matplotlib.lines.Line2D at 0x274fff0b4c0>]"
      ]
     },
     "execution_count": 13,
     "metadata": {},
     "output_type": "execute_result"
    },
    {
     "data": {
      "image/png": "[encoded data removed]",
      "text/plain": [
       "<Figure size 432x288 with 1 Axes>"
      ]
     },
     "metadata": {
      "needs_background": "light"
     },
     "output_type": "display_data"
    }
   ],
   "source": [
    "# Q.9\n",
    "import numpy as np\n",
    "import matplotlib.pyplot as plt\n",
    "array1 = np.random.randn(1000)\n",
    "plt.plot(array1)"
   ]
  },
  {
   "cell_type": "code",
   "execution_count": 14,
   "metadata": {},
   "outputs": [
    {
     "name": "stdout",
     "output_type": "stream",
     "text": [
      "mean =  0.01058348994819763\n",
      "min =  -3.2674226073190913\n",
      "max =  2.970699859957829\n",
      "standard dev =  1.0084731206191273\n"
     ]
    }
   ],
   "source": [
    "# Q.9\n",
    "print (\"mean = \", array1.mean())\n",
    "print (\"min = \", array1.min())\n",
    "print (\"max = \", array1.max())\n",
    "print (\"standard dev = \", array1.std())"
   ]
  },
  {
   "cell_type": "code",
   "execution_count": 15,
   "metadata": {},
   "outputs": [
    {
     "name": "stdout",
     "output_type": "stream",
     "text": [
      "[[ 57  50  15  57   3 100  60  39  85  29  53  67]\n",
      " [ 56  75  79  45  90  79  97  11   5  30  58  68]\n",
      " [ 59  32  37  43  60  45  29  27  27  29  72  75]\n",
      " [ 97  78  38  11  74  89  32  50  40  70  30  22]\n",
      " [ 75  35  84  68  63   4  49  29  63  61  91  83]\n",
      " [ 90  26  73  50  95  94  17  71  56  35  73  92]\n",
      " [ 47  48  71  67  71  62  72  37   5  97  55  92]\n",
      " [ 46  38  49   8  65  66  62  16  61  66  11  31]]\n",
      "97\n",
      "[65.875 47.75  55.75  43.625 65.125 67.375 52.25  35.    42.75  52.125\n",
      " 55.375 66.25 ]\n",
      "[51.25       57.75       44.58333333 52.58333333 58.75       64.33333333\n",
      " 60.33333333 43.25      ]\n"
     ]
    }
   ],
   "source": [
    "# Q.10\n",
    "array2 = np.random.randint(0,101,size=(8,12))\n",
    "print(array2)\n",
    "print(array2[1].max())\n",
    "\n",
    "print(array2.mean(axis=0))   # to find mean of each column, we collpase axis=0\n",
    "print(array2.mean(axis=1))   # to find mean of each row, we collpase axis=1"
   ]
  },
  {
   "cell_type": "code",
   "execution_count": 16,
   "metadata": {},
   "outputs": [
    {
     "name": "stdout",
     "output_type": "stream",
     "text": [
      "mean of google price in 2017 = 921.7808373439834\n",
      "max google price in 2017 = 1077.1400146484375\n",
      "min google price in 2017 = 786.1400146484375\n",
      "standard deviation google price in 2017 = 77.0785577630438\n"
     ]
    }
   ],
   "source": [
    "# Q.11\n",
    "import numpy as np\n",
    "from pandas_datareader import data\n",
    "\n",
    "goog = data.DataReader('GOOG', start='2017', end='2018',\n",
    "                       data_source='yahoo')\n",
    "goog_price = np.array(goog[\"Close\"])\n",
    "print (\"mean of google price in 2017 =\", goog_price.mean())\n",
    "print (\"max google price in 2017 =\", goog_price.max())\n",
    "print (\"min google price in 2017 =\", goog_price.min())\n",
    "print (\"standard deviation google price in 2017 =\", goog_price.std())"
   ]
  },
  {
   "cell_type": "code",
   "execution_count": 17,
   "metadata": {},
   "outputs": [
    {
     "name": "stdout",
     "output_type": "stream",
     "text": [
      "number of days in 2017, such that the closing price is higher than the closing price of last trading day in 2016 =  251\n"
     ]
    }
   ],
   "source": [
    "# Q.11\n",
    "goog_2016lastday = data.DataReader('GOOG', start = \"2016-12-30\", end=\"2017-01-01\",\n",
    "                       data_source=\"yahoo\")\n",
    "\n",
    "goog_2016lastday_price = np.array(goog_2016lastday[\"Close\"])\n",
    "print(\"number of days in 2017, such that the closing price is higher than the closing price of last trading day in 2016 = \",\n",
    "       np.sum(goog_price>goog_2016lastday_price))\n"
   ]
  },
  {
   "cell_type": "code",
   "execution_count": 18,
   "metadata": {},
   "outputs": [
    {
     "name": "stdout",
     "output_type": "stream",
     "text": [
      "shape = (365,)\n",
      "sample size = 365\n"
     ]
    },
    {
     "data": {
      "text/plain": [
       "<matplotlib.legend.Legend at 0x2748b256220>"
      ]
     },
     "execution_count": 18,
     "metadata": {},
     "output_type": "execute_result"
    },
    {
     "data": {
      "image/png": "[encoded data removed]",
      "text/plain": [
       "<Figure size 432x288 with 1 Axes>"
      ]
     },
     "metadata": {},
     "output_type": "display_data"
    }
   ],
   "source": [
    "# Q.12\n",
    "import pandas as pd\n",
    "import matplotlib.pyplot as plt\n",
    "import seaborn; seaborn.set() \n",
    "data = pd.read_csv(\"Seattle2014.csv\")\n",
    "\n",
    "TMIN = np.array(data[\"TMIN\"])\n",
    "\n",
    "print(\"shape =\",TMIN.shape)\n",
    "print(\"sample size =\",TMIN.shape[0])\n",
    "plt.hist(TMIN, label=\"min temperature\")\n",
    "plt.legend()"
   ]
  },
  {
   "cell_type": "code",
   "execution_count": 19,
   "metadata": {},
   "outputs": [
    {
     "name": "stdout",
     "output_type": "stream",
     "text": [
      "number of days which min temperature is greater than 100 = 158\n",
      "standard deviation of temperatures in summer days = 14.891460184140996\n"
     ]
    }
   ],
   "source": [
    "# Q.12\n",
    "print(\"number of days which min temperature is greater than 100 =\",np.sum([TMIN>100]))\n",
    "days = np.arange(365)\n",
    "summer = (days > 172) & (days < 262)\n",
    "print(\"standard deviation of temperatures in summer days =\",\n",
    "      np.std(TMIN[summer]))"
   ]
  },
  {
   "cell_type": "code",
   "execution_count": 20,
   "metadata": {},
   "outputs": [
    {
     "data": {
      "text/plain": [
       "array([178, 178, 178, 172, 172, 167, 167, 161, 161, 161, 156, 156, 156,\n",
       "       156, 156, 156, 156, 156, 156, 150, 150, 150, 150, 150, 150, 150,\n",
       "       150, 150, 150, 150, 150, 150, 150, 150, 150, 144, 144, 144, 144,\n",
       "       144, 144, 144, 144, 144, 144, 144, 144, 144, 144, 139, 139, 139,\n",
       "       139, 139, 139, 139, 139, 139, 139, 139, 139, 139, 139, 139, 139,\n",
       "       139, 139, 133, 133, 133, 133, 133, 133, 133, 133, 133, 133, 133,\n",
       "       133, 133, 133, 133, 133, 133, 133, 128, 128, 128, 128, 128, 128,\n",
       "       128, 128, 128, 128, 128, 128, 128, 128, 122, 122, 122, 122, 122,\n",
       "       122, 122, 122, 122, 122, 122, 117, 117, 117, 117, 117, 117, 117,\n",
       "       117, 117, 117, 117, 117, 117, 117, 117, 117, 117, 117, 111, 111,\n",
       "       111, 111, 111, 111, 111, 111, 111, 111, 111, 111, 111, 111, 111,\n",
       "       111, 111, 111, 106, 106, 106, 106, 106, 106, 106, 106, 106, 106,\n",
       "       106, 106, 100, 100, 100, 100, 100, 100, 100, 100, 100, 100, 100,\n",
       "       100, 100, 100, 100, 100, 100, 100,  94,  94,  94,  94,  94,  94,\n",
       "        94,  94,  94,  89,  89,  89,  89,  89,  89,  89,  89,  89,  89,\n",
       "        83,  83,  83,  83,  83,  83,  83,  83,  83,  83,  83,  83,  78,\n",
       "        78,  78,  78,  78,  78,  78,  78,  78,  72,  72,  72,  72,  72,\n",
       "        72,  72,  72,  72,  72,  72,  72,  72,  72,  72,  72,  67,  67,\n",
       "        67,  67,  67,  67,  67,  67,  67,  67,  67,  67,  61,  61,  61,\n",
       "        61,  61,  61,  61,  61,  61,  61,  61,  61,  61,  56,  56,  56,\n",
       "        56,  56,  56,  56,  56,  56,  56,  56,  56,  56,  56,  56,  56,\n",
       "        56,  56,  56,  56,  50,  50,  50,  50,  50,  50,  50,  50,  44,\n",
       "        44,  44,  44,  44,  44,  44,  44,  44,  44,  44,  44,  39,  39,\n",
       "        39,  39,  39,  39,  39,  39,  39,  33,  33,  33,  33,  33,  33,\n",
       "        33,  28,  28,  28,  28,  28,  28,  28,  28,  28,  28,  28,  28,\n",
       "        22,  22,  22,  17,  17,  17,  17,  17,  11,  11,  11,  11,  11,\n",
       "         6,   6,   6,   6,   6,   0,   0,   0,   0,  -5,  -5,  -5,  -5,\n",
       "       -16, -21, -21, -21, -21, -21, -27, -32, -32, -43, -49, -49, -55,\n",
       "       -60], dtype=int64)"
      ]
     },
     "execution_count": 20,
     "metadata": {},
     "output_type": "execute_result"
    }
   ],
   "source": [
    "# Q.12\n",
    "TMIN.sort()            # first sort an array in an ascending order\n",
    "TMIN[::-1]            # then sort in a descending order"
   ]
  },
  {
   "cell_type": "code",
   "execution_count": 21,
   "metadata": {},
   "outputs": [],
   "source": [
    "# Q.13\n",
    "np.random.seed(1234)\n",
    "x = np.random.randn(1000)\n",
    "y = np.random.randn(1000)\n",
    "z = [max(a,b) for a,b in zip(x,y)]\n",
    "z = np.array(z)"
   ]
  },
  {
   "cell_type": "code",
   "execution_count": 22,
   "metadata": {},
   "outputs": [
    {
     "name": "stdout",
     "output_type": "stream",
     "text": [
      "data type =  float64\n",
      "sample size =  59437\n",
      "number of people with salary > 90k = 5330\n",
      "max salary 367000.0\n",
      "median salary 10000.0\n",
      "standard deviation of salary 46452.421146927\n"
     ]
    },
    {
     "data": {
      "image/png": "[encoded data removed]",
      "text/plain": [
       "<Figure size 432x288 with 1 Axes>"
      ]
     },
     "metadata": {},
     "output_type": "display_data"
    }
   ],
   "source": [
    "# Q.14\n",
    "data = pd.read_csv(\"salary.csv\")\n",
    "salary=np.array(data[\"Salary\"])\n",
    "print(\"data type = \",salary.dtype)\n",
    "print(\"sample size = \",salary.shape[0])\n",
    "plt.hist(salary)\n",
    "print(\"number of people with salary > 90k =\", np.sum([salary>90000]))\n",
    "print(\"max salary\", np.max(salary))\n",
    "print(\"median salary\", np.median(salary))\n",
    "print(\"standard deviation of salary\", np.std(salary))\n"
   ]
  },
  {
   "cell_type": "code",
   "execution_count": 23,
   "metadata": {},
   "outputs": [
    {
     "name": "stdout",
     "output_type": "stream",
     "text": [
      "[     0.      0.      0. ... 365000. 365000. 367000.]\n"
     ]
    }
   ],
   "source": [
    "# Q.14\n",
    "salary.sort()\n",
    "print(salary)"
   ]
  },
  {
   "cell_type": "code",
   "execution_count": 24,
   "metadata": {},
   "outputs": [
    {
     "data": {
      "image/png": "[encoded data removed]",
      "text/plain": [
       "<Figure size 432x288 with 1 Axes>"
      ]
     },
     "metadata": {},
     "output_type": "display_data"
    }
   ],
   "source": [
    "# Q.15 (a)\n",
    "x = np.linspace(-10,10,100)\n",
    "y1 = np.sqrt(100-x**2)\n",
    "y2 = -np.sqrt(100-x**2)\n",
    "\n",
    "plt.plot(x,y1, \"b\")          # set the color of the line as blue\n",
    "plt.plot(x,y2, \"b\")          # set the color of the line as blue  \n",
    "plt.gca().set_aspect('equal') "
   ]
  },
  {
   "cell_type": "code",
   "execution_count": 25,
   "metadata": {},
   "outputs": [
    {
     "data": {
      "text/plain": [
       "[<matplotlib.lines.Line2D at 0x2748b3cd910>]"
      ]
     },
     "execution_count": 25,
     "metadata": {},
     "output_type": "execute_result"
    },
    {
     "data": {
      "image/png": "[encoded data removed]",
      "text/plain": [
       "<Figure size 432x288 with 1 Axes>"
      ]
     },
     "metadata": {},
     "output_type": "display_data"
    }
   ],
   "source": [
    "# Q.15 (b)\n",
    "x = np.linspace(-2*np.pi, 2*np.pi, 100)\n",
    "y = np.cos(x)\n",
    "plt.plot(x,y)"
   ]
  },
  {
   "cell_type": "code",
   "execution_count": 26,
   "metadata": {},
   "outputs": [
    {
     "data": {
      "text/plain": [
       "<matplotlib.legend.Legend at 0x2748b42a460>"
      ]
     },
     "execution_count": 26,
     "metadata": {},
     "output_type": "execute_result"
    },
    {
     "data": {
      "image/png": "[encoded data removed]",
      "text/plain": [
       "<Figure size 432x288 with 1 Axes>"
      ]
     },
     "metadata": {},
     "output_type": "display_data"
    }
   ],
   "source": [
    "# Q.15 (c)\n",
    "x = np.linspace(-2, 2, 100)\n",
    "y2 = x**2\n",
    "y3 = x**3\n",
    "plt.plot(x,y2, label=\"square function\")\n",
    "plt.plot(x,y3, label=\"cubic function\")\n",
    "plt.legend()"
   ]
  },
  {
   "cell_type": "code",
   "execution_count": 27,
   "metadata": {},
   "outputs": [
    {
     "data": {
      "text/plain": [
       "<matplotlib.colorbar.Colorbar at 0x2748b383e80>"
      ]
     },
     "execution_count": 27,
     "metadata": {},
     "output_type": "execute_result"
    },
    {
     "data": {
      "image/png": "[encoded data removed]",
      "text/plain": [
       "<Figure size 432x288 with 2 Axes>"
      ]
     },
     "metadata": {},
     "output_type": "display_data"
    }
   ],
   "source": [
    "# Q.16\n",
    "import numpy as np\n",
    "import matplotlib.pyplot as plt\n",
    "a = np.arange(-5,5,0.01)\n",
    "b = np.arange(-5,5,0.01)\n",
    "x,y = np.meshgrid(a,b)\n",
    "z = np.sqrt(x**2 + y**2)\n",
    "plt.imshow(z,extent=[-5,5,-5,5], cmap=plt.cm.gray)\n",
    "plt.colorbar()"
   ]
  }
 ],
 "metadata": {
  "kernelspec": {
   "display_name": "Python 3",
   "language": "python",
   "name": "python3"
  },
  "language_info": {
   "codemirror_mode": {
    "name": "ipython",
    "version": 3
   },
   "file_extension": ".py",
   "mimetype": "text/x-python",
   "name": "python",
   "nbconvert_exporter": "python",
   "pygments_lexer": "ipython3",
   "version": "3.8.3"
  }
 },
 "nbformat": 4,
 "nbformat_minor": 2
}
