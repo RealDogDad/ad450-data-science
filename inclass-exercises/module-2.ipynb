{
 "cells": [
  {
   "cell_type": "markdown",
   "metadata": {},
   "source": [
    "### In-class exercise Module 2 Answers (Python Basics)"
   ]
  },
  {
   "cell_type": "code",
   "execution_count": 1,
   "metadata": {},
   "outputs": [],
   "source": [
    "# Q.1\n",
    "import numpy as np\n",
    "array1 = np.random.randn(100)"
   ]
  },
  {
   "cell_type": "code",
   "execution_count": 3,
   "metadata": {},
   "outputs": [
    {
     "data": {
      "image/png": "[encoded data removed]",
      "text/plain": [
       "<Figure size 432x288 with 1 Axes>"
      ]
     },
     "metadata": {
      "needs_background": "light"
     },
     "output_type": "display_data"
    }
   ],
   "source": [
    "# Q.2\n",
    "import matplotlib.pyplot as plt\n",
    "plt.plot(array1)\n",
    "plt.show()        # use plt.show() to show the plot"
   ]
  },
  {
   "cell_type": "code",
   "execution_count": 4,
   "metadata": {},
   "outputs": [
    {
     "data": {
      "text/plain": [
       "<re.Match object; span=(14, 19), match='apple'>"
      ]
     },
     "execution_count": 4,
     "metadata": {},
     "output_type": "execute_result"
    }
   ],
   "source": [
    "# Q.3\n",
    "import re\n",
    "re.search(r\"apple\", \"I love eating apples\")"
   ]
  },
  {
   "cell_type": "code",
   "execution_count": 5,
   "metadata": {},
   "outputs": [
    {
     "data": {
      "text/plain": [
       "30"
      ]
     },
     "execution_count": 5,
     "metadata": {},
     "output_type": "execute_result"
    }
   ],
   "source": [
    "# Q.4\n",
    "def multiply(a,b):\n",
    "    return a*b\n",
    "\n",
    "multiply(3,10)    "
   ]
  },
  {
   "cell_type": "code",
   "execution_count": 6,
   "metadata": {},
   "outputs": [
    {
     "name": "stdout",
     "output_type": "stream",
     "text": [
      "30\n"
     ]
    }
   ],
   "source": [
    "# Q.5\n",
    "multiply = lambda a,b : a*b\n",
    "print(multiply(3,10))"
   ]
  },
  {
   "cell_type": "code",
   "execution_count": 7,
   "metadata": {},
   "outputs": [
    {
     "name": "stdout",
     "output_type": "stream",
     "text": [
      "40\n",
      "39\n",
      "38\n",
      "37\n",
      "36\n",
      "35\n",
      "34\n",
      "33\n",
      "32\n",
      "31\n",
      "30\n",
      "29\n",
      "28\n",
      "27\n",
      "26\n",
      "25\n",
      "24\n"
     ]
    }
   ],
   "source": [
    "# Q.6\n",
    "list1 = list(range(6,31))      # create a list from the range function. To include 30, it should go up to 31\n",
    "list2 = list(range(16,41))\n",
    "list2.reverse()                # reverse the order of list2\n",
    "\n",
    "for a,b in zip(list1,list2):   # use zip function to put the combine the two lists     \n",
    "    if b>a:\n",
    "        print(b)"
   ]
  },
  {
   "cell_type": "code",
   "execution_count": 8,
   "metadata": {},
   "outputs": [
    {
     "data": {
      "text/plain": [
       "['Thomson', 'Wright', 'White', 'Young', 'Payne', 'Brown']"
      ]
     },
     "execution_count": 8,
     "metadata": {},
     "output_type": "execute_result"
    }
   ],
   "source": [
    "# Q.7\n",
    "names = [(\"Thomson\", \"Alex\"), (\"Wright\", \"Bob\"), (\"White\", \"Carol\"), (\"Young\", \"Tim\"), (\"Payne\", \"Sam\"), (\"Brown\", \"Mary\")]\n",
    "last_names=[]\n",
    "for a,b in names:\n",
    "    last_names.append(a)\n",
    "\n",
    "last_names"
   ]
  },
  {
   "cell_type": "code",
   "execution_count": 9,
   "metadata": {},
   "outputs": [
    {
     "data": {
      "text/plain": [
       "[(1, 2),\n",
       " (1, 3),\n",
       " (1, 4),\n",
       " (1, 5),\n",
       " (1, 6),\n",
       " (1, 7),\n",
       " (1, 8),\n",
       " (1, 9),\n",
       " (1, 10),\n",
       " (1, 11),\n",
       " (2, 2),\n",
       " (2, 3),\n",
       " (2, 4),\n",
       " (2, 5),\n",
       " (2, 6),\n",
       " (2, 7),\n",
       " (2, 8),\n",
       " (2, 9),\n",
       " (2, 10),\n",
       " (2, 11),\n",
       " (3, 2),\n",
       " (3, 3),\n",
       " (3, 4),\n",
       " (3, 5),\n",
       " (3, 6),\n",
       " (3, 7),\n",
       " (3, 8),\n",
       " (3, 9),\n",
       " (3, 10),\n",
       " (3, 11),\n",
       " (4, 2),\n",
       " (4, 3),\n",
       " (4, 4),\n",
       " (4, 5),\n",
       " (4, 6),\n",
       " (4, 7),\n",
       " (4, 8),\n",
       " (4, 9),\n",
       " (4, 10),\n",
       " (4, 11),\n",
       " (5, 2),\n",
       " (5, 3),\n",
       " (5, 4),\n",
       " (5, 5),\n",
       " (5, 6),\n",
       " (5, 7),\n",
       " (5, 8),\n",
       " (5, 9),\n",
       " (5, 10),\n",
       " (5, 11),\n",
       " (6, 2),\n",
       " (6, 3),\n",
       " (6, 4),\n",
       " (6, 5),\n",
       " (6, 6),\n",
       " (6, 7),\n",
       " (6, 8),\n",
       " (6, 9),\n",
       " (6, 10),\n",
       " (6, 11),\n",
       " (7, 2),\n",
       " (7, 3),\n",
       " (7, 4),\n",
       " (7, 5),\n",
       " (7, 6),\n",
       " (7, 7),\n",
       " (7, 8),\n",
       " (7, 9),\n",
       " (7, 10),\n",
       " (7, 11),\n",
       " (8, 2),\n",
       " (8, 3),\n",
       " (8, 4),\n",
       " (8, 5),\n",
       " (8, 6),\n",
       " (8, 7),\n",
       " (8, 8),\n",
       " (8, 9),\n",
       " (8, 10),\n",
       " (8, 11),\n",
       " (9, 2),\n",
       " (9, 3),\n",
       " (9, 4),\n",
       " (9, 5),\n",
       " (9, 6),\n",
       " (9, 7),\n",
       " (9, 8),\n",
       " (9, 9),\n",
       " (9, 10),\n",
       " (9, 11),\n",
       " (10, 2),\n",
       " (10, 3),\n",
       " (10, 4),\n",
       " (10, 5),\n",
       " (10, 6),\n",
       " (10, 7),\n",
       " (10, 8),\n",
       " (10, 9),\n",
       " (10, 10),\n",
       " (10, 11)]"
      ]
     },
     "execution_count": 9,
     "metadata": {},
     "output_type": "execute_result"
    }
   ],
   "source": [
    "# Q.8\n",
    "list1 = []\n",
    "for x in range(1,11):\n",
    "    for y in range(2,12):\n",
    "        list1.append((x,y))\n",
    "\n",
    "list1\n"
   ]
  },
  {
   "cell_type": "code",
   "execution_count": 10,
   "metadata": {},
   "outputs": [
    {
     "name": "stdout",
     "output_type": "stream",
     "text": [
      "0 Alice\n",
      "2 Charlie\n",
      "3 Debbie\n",
      "6 Cathy\n",
      "7 Linda\n"
     ]
    }
   ],
   "source": [
    "# Q.9\n",
    "names = [\"Alice\", \"Bob\", \"Charlie\", \"Debbie\", \"John\", \"Sam\", \"Cathy\", \"Linda\", \"Yoyo\"]\n",
    "\n",
    "for i,j in enumerate(names):\n",
    "    if len(j)>4:\n",
    "        print(i,j)\n",
    "    "
   ]
  },
  {
   "cell_type": "code",
   "execution_count": 11,
   "metadata": {},
   "outputs": [
    {
     "name": "stdout",
     "output_type": "stream",
     "text": [
      "0 Alice\n",
      "2 Charlie\n",
      "3 Debbie\n",
      "7 Linda\n",
      "8 Yoyo\n"
     ]
    }
   ],
   "source": [
    "# Q.10\n",
    "names = [\"Alice\", \"Bob\", \"Charlie\", \"Debbie\", \"John\", \"Sam\", \"Cathy\", \"Linda\", \"Yoyo\"]\n",
    "import re\n",
    "\n",
    "for i,j in enumerate(names):\n",
    "    if re.search(r\"[aeiou]$\",j):\n",
    "        print(i,j)\n",
    "    "
   ]
  },
  {
   "cell_type": "code",
   "execution_count": 12,
   "metadata": {},
   "outputs": [
    {
     "data": {
      "text/plain": [
       "[('Mary', 'Brown'), ('James', 'White'), ('Peter', 'Reed'), ('Yoyo', 'Holt')]"
      ]
     },
     "execution_count": 12,
     "metadata": {},
     "output_type": "execute_result"
    }
   ],
   "source": [
    "# Q.11\n",
    "first_name=[\"Mary\",\"James\",\"Peter\",\"Yoyo\"]\n",
    "last_name=[\"Brown\",\"White\",\"Reed\",\"Holt\"]\n",
    "\n",
    "names = zip(first_name, last_name)\n",
    "list(names)"
   ]
  },
  {
   "cell_type": "code",
   "execution_count": 13,
   "metadata": {},
   "outputs": [
    {
     "data": {
      "text/plain": [
       "[('Mary', 45), ('James', 30), ('Peter', 65)]"
      ]
     },
     "execution_count": 13,
     "metadata": {},
     "output_type": "execute_result"
    }
   ],
   "source": [
    "# Q.12\n",
    "info = [('Mary', 45), ('James', 30), ('Peter', 65), ('Yoyo', 5), ('Tom',25)] \n",
    "list1 = []\n",
    "for i,j in info:\n",
    "    if j > 28:\n",
    "        list1.append((i,j))\n",
    "\n",
    "list1"
   ]
  },
  {
   "cell_type": "code",
   "execution_count": 14,
   "metadata": {},
   "outputs": [
    {
     "name": "stdout",
     "output_type": "stream",
     "text": [
      "[1, 2, 3, 4, 5]\n",
      "(1, 5)\n",
      "[95, 96, 97, 98, 99]\n",
      "[2, 4, 6, 8, 10, 12, 14, 16, 18, 20, 22, 24, 26, 28, 30, 32, 34, 36, 38, 40, 42, 44, 46, 48, 50, 52, 54, 56, 58, 60, 62, 64, 66, 68, 70, 72, 74, 76, 78, 80, 82, 84, 86, 88, 90, 92, 94, 96, 98]\n",
      "[99, 98, 97, 96, 95, 94, 93, 92, 91, 90, 89, 88, 87, 86, 85, 84, 83, 82, 81, 80, 79, 78, 77, 76, 75, 74, 73, 72, 71, 70, 69, 68, 67, 66, 65, 64, 63, 62, 61, 60, 59, 58, 57, 56, 55, 54, 53, 52, 51, 50, 49, 48, 47, 46, 45, 44, 43, 42, 41, 40, 39, 38, 37, 36, 35, 34, 33, 32, 31, 30, 29, 28, 27, 26, 25, 24, 23, 22, 21, 20, 19, 18, 17, 16, 15, 14, 13, 12, 11, 10, 9, 8, 7, 6, 5, 4, 3, 2, 1, 0]\n"
     ]
    }
   ],
   "source": [
    "# Q.13\n",
    "list1 = list(range(100))\n",
    "print(list1[1:6])\n",
    "print((list1[1],list1[5]))\n",
    "print(list1[-5:])\n",
    "print(list1[2::2])\n",
    "print(list1[::-1])"
   ]
  },
  {
   "cell_type": "code",
   "execution_count": 15,
   "metadata": {},
   "outputs": [
    {
     "name": "stdout",
     "output_type": "stream",
     "text": [
      "[100, 81, 64, 49, 36, 25, 16, 9, 4, 1]\n",
      "True\n",
      "False\n"
     ]
    }
   ],
   "source": [
    "# Q.14\n",
    "list1 = [i**2 for i in range(1,11)]\n",
    "list1.reverse()\n",
    "print(list1)\n",
    "print(25 in list1)\n",
    "print(45 in list1)"
   ]
  },
  {
   "cell_type": "code",
   "execution_count": 16,
   "metadata": {},
   "outputs": [
    {
     "name": "stdout",
     "output_type": "stream",
     "text": [
      "[17  8 21 17 22  2  3  9  4  5 18 23  7 24  5  2 21 23  7 24  5 22 19  4\n",
      "  9  6  9 28  9 21 22 20 11  7  7 20 11  4 13  8  0 19 10  7  9  3  7 19\n",
      " 13  9 29  9 29 21 14  4  2 11  1 27 14  6  8 18 17 25  3 23  2 13 29  8\n",
      "  0 19 12  5  1 24 17 29 12 28 25 29  5 17 16  6 27 24  3 20 27  4 17  8\n",
      "  5 16 29  5]\n",
      "[21, 3, 9, 18, 24, 21, 24, 9, 6, 9, 9, 21, 0, 9, 3, 9, 9, 21, 27, 6, 18, 3, 0, 12, 24, 12, 6, 27, 24, 3, 27]\n",
      "[0, 0, 3, 3, 3, 3, 6, 6, 6, 9, 9, 9, 9, 9, 9, 9, 12, 12, 18, 18, 21, 21, 21, 21, 24, 24, 24, 24, 27, 27, 27]\n"
     ]
    }
   ],
   "source": [
    "# Q.15\n",
    "import numpy as np\n",
    "list1 = np.random.randint(0,30,100)\n",
    "list2 = []\n",
    "for i in list1:\n",
    "    if i%3 == 0:            # use % to find the remainder\n",
    "        list2.append(i)\n",
    "\n",
    "print(list1)\n",
    "print(list2)\n",
    "list2.sort()\n",
    "print(list2)\n"
   ]
  },
  {
   "cell_type": "code",
   "execution_count": 17,
   "metadata": {},
   "outputs": [
    {
     "name": "stdout",
     "output_type": "stream",
     "text": [
      "Name John\n",
      "Age 45\n",
      "Income 50000\n",
      "Children ('Peter', 'Sam')\n",
      "Years of experience 16.5\n",
      "\n",
      "Name Sam\n",
      "Age 50\n",
      "Income 60000\n",
      "Children ('Tom', 'Mary')\n",
      "Years of experience 20\n"
     ]
    }
   ],
   "source": [
    "# Q.16\n",
    "dict1 ={\"Name\" : [\"John\",\"Sam\"],\n",
    "        \"Age\": [45,50],\n",
    "        \"Income\": [50000, 60000],\n",
    "        \"Children\": [(\"Peter\",\"Sam\") , (\"Tom\",\"Mary\")],\n",
    "        \"Years of experience\":[16.5,20]}\n",
    "\n",
    "for k,v in dict1.items():\n",
    "    print(k,v[0])\n",
    "    \n",
    "print()           # print a blank line\n",
    "\n",
    "for k,v in dict1.items():\n",
    "    print(k,v[1])"
   ]
  },
  {
   "cell_type": "code",
   "execution_count": 18,
   "metadata": {},
   "outputs": [
    {
     "data": {
      "text/plain": [
       "{0: 0, 1: 1, 2: 4, 3: 9, 4: 16, 5: 25, 6: 36, 7: 49, 8: 64, 9: 81}"
      ]
     },
     "execution_count": 18,
     "metadata": {},
     "output_type": "execute_result"
    }
   ],
   "source": [
    "# Q.17\n",
    "{i:i**2 for i in range(10)}"
   ]
  },
  {
   "cell_type": "code",
   "execution_count": 19,
   "metadata": {},
   "outputs": [
    {
     "name": "stdout",
     "output_type": "stream",
     "text": [
      "llo Worl\n",
      "27\n",
      "Hi World! I am learning data wrangling\n",
      "['Hello', 'World!', 'I', 'am', 'learning', 'data', 'wrangling']\n",
      "Hello|World!|I|am|learning|data|wrangling\n"
     ]
    }
   ],
   "source": [
    "# Q.18\n",
    "str_1 = \"Hello World! I am learning data wrangling\"\n",
    "print(str_1[2:10])\n",
    "print(str_1.find(\"data\"))\n",
    "print(str_1.replace(\"Hello\",\"Hi\"))\n",
    "list1 = str_1.split(\" \")\n",
    "print(list1)\n",
    "print(\"|\".join(list1))"
   ]
  }
 ],
 "metadata": {
  "kernelspec": {
   "display_name": "Python 3",
   "language": "python",
   "name": "python3"
  },
  "language_info": {
   "codemirror_mode": {
    "name": "ipython",
    "version": 3
   },
   "file_extension": ".py",
   "mimetype": "text/x-python",
   "name": "python",
   "nbconvert_exporter": "python",
   "pygments_lexer": "ipython3",
   "version": "3.7.3"
  }
 },
 "nbformat": 4,
 "nbformat_minor": 2
}
