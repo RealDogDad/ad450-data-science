{
 "cells": [
  {
   "cell_type": "markdown",
   "metadata": {},
   "source": [
    "#### Python basics\n",
    "1. import modules\n",
    "2. functions\n",
    "    - lambda functions\n",
    "3. if...elif...else\n",
    "4. for...in loop\n",
    "5. enumerate and zip"
   ]
  },
  {
   "cell_type": "code",
   "execution_count": 2,
   "metadata": {},
   "outputs": [
    {
     "data": {
      "text/plain": [
       "'E:\\\\DataScience\\\\Python'"
      ]
     },
     "execution_count": 2,
     "metadata": {},
     "output_type": "execute_result"
    }
   ],
   "source": [
    "pwd"
   ]
  },
  {
   "cell_type": "code",
   "execution_count": 3,
   "metadata": {},
   "outputs": [],
   "source": [
    "import os"
   ]
  },
  {
   "cell_type": "code",
   "execution_count": 4,
   "metadata": {},
   "outputs": [],
   "source": [
    "os.chdir(\"E:\\\\\")"
   ]
  },
  {
   "cell_type": "code",
   "execution_count": 5,
   "metadata": {},
   "outputs": [
    {
     "data": {
      "text/plain": [
       "'E:\\\\'"
      ]
     },
     "execution_count": 5,
     "metadata": {},
     "output_type": "execute_result"
    }
   ],
   "source": [
    "os.getcwd()"
   ]
  },
  {
   "cell_type": "code",
   "execution_count": 6,
   "metadata": {},
   "outputs": [],
   "source": [
    "os.chdir('E:\\\\DataScience\\\\Python')"
   ]
  },
  {
   "cell_type": "code",
   "execution_count": 7,
   "metadata": {},
   "outputs": [
    {
     "data": {
      "text/plain": [
       "'E:\\\\DataScience\\\\Python'"
      ]
     },
     "execution_count": 7,
     "metadata": {},
     "output_type": "execute_result"
    }
   ],
   "source": [
    "pwd"
   ]
  },
  {
   "cell_type": "code",
   "execution_count": null,
   "metadata": {},
   "outputs": [],
   "source": [
    "## ipynb    file extension  .ipynb    interactive python notebook\n",
    "import pandas as pd\n",
    "pd?"
   ]
  },
  {
   "cell_type": "code",
   "execution_count": 10,
   "metadata": {},
   "outputs": [],
   "source": [
    "## you don't want to import the entire module\n",
    "from sklearn.linear_model import LinearRegression"
   ]
  },
  {
   "cell_type": "code",
   "execution_count": null,
   "metadata": {},
   "outputs": [],
   "source": [
    "!pip install sklearn --upgrade"
   ]
  },
  {
   "cell_type": "markdown",
   "metadata": {},
   "source": [
    "# function"
   ]
  },
  {
   "cell_type": "code",
   "execution_count": 11,
   "metadata": {},
   "outputs": [
    {
     "data": {
      "text/plain": [
       "900"
      ]
     },
     "execution_count": 11,
     "metadata": {},
     "output_type": "execute_result"
    }
   ],
   "source": [
    "def efg(x,y):\n",
    "    z =x*y\n",
    "    return z**2   # square of z\n",
    "\n",
    "efg(5,6)"
   ]
  },
  {
   "cell_type": "code",
   "execution_count": 13,
   "metadata": {},
   "outputs": [
    {
     "data": {
      "text/plain": [
       "51"
      ]
     },
     "execution_count": 13,
     "metadata": {},
     "output_type": "execute_result"
    }
   ],
   "source": [
    "# the above function takes 2 arguments, what about if we don't know how many\n",
    "# arguments are there?\n",
    "\n",
    "def mysum(x):\n",
    "    result = 0\n",
    "    for i in x:\n",
    "        result += i\n",
    "    return result\n",
    "\n",
    "list1 = [1,2,3,45]    # x= list1=[1,2,3]\n",
    "mysum(list1)"
   ]
  },
  {
   "cell_type": "code",
   "execution_count": 17,
   "metadata": {},
   "outputs": [
    {
     "data": {
      "text/plain": [
       "21"
      ]
     },
     "execution_count": 17,
     "metadata": {},
     "output_type": "execute_result"
    }
   ],
   "source": [
    "# *args (* = unpacking)\n",
    "def mysum(*abc):\n",
    "    result = 0\n",
    "    for i in abc:\n",
    "        result += i\n",
    "    return result\n",
    "\n",
    "mysum(1,2,3,4,5,6)   #abc = 1,2,3,4,5,6"
   ]
  },
  {
   "cell_type": "code",
   "execution_count": 22,
   "metadata": {},
   "outputs": [
    {
     "data": {
      "text/plain": [
       "'Real  Python is boring'"
      ]
     },
     "execution_count": 22,
     "metadata": {},
     "output_type": "execute_result"
    }
   ],
   "source": [
    "## **kwargs       keyword arguments\n",
    "def concat(**hij):\n",
    "    result = \"\"\n",
    "    for i in hij.values():  # you get the values, not the keys.\n",
    "        result += i\n",
    "    return result\n",
    "\n",
    "concat(a = \"Real \", b= \" Python\",c= \" is\", d=\" boring\")\n",
    "# hij = a=\"Real \", b=\" Python\", c= \" is\", d = \" boring\""
   ]
  },
  {
   "cell_type": "markdown",
   "metadata": {},
   "source": [
    "### lambda funcation"
   ]
  },
  {
   "cell_type": "code",
   "execution_count": 25,
   "metadata": {},
   "outputs": [
    {
     "data": {
      "text/plain": [
       "3"
      ]
     },
     "execution_count": 25,
     "metadata": {},
     "output_type": "execute_result"
    }
   ],
   "source": [
    "## nameless function\n",
    "(lambda x:x+1)(2)"
   ]
  },
  {
   "cell_type": "code",
   "execution_count": 26,
   "metadata": {},
   "outputs": [
    {
     "data": {
      "text/plain": [
       "7"
      ]
     },
     "execution_count": 26,
     "metadata": {},
     "output_type": "execute_result"
    }
   ],
   "source": [
    "(lambda x,y:x+y)(2,5)"
   ]
  },
  {
   "cell_type": "code",
   "execution_count": 27,
   "metadata": {},
   "outputs": [
    {
     "data": {
      "text/plain": [
       "6"
      ]
     },
     "execution_count": 27,
     "metadata": {},
     "output_type": "execute_result"
    }
   ],
   "source": [
    "add_two = lambda x:x+2\n",
    "add_two(4)"
   ]
  },
  {
   "cell_type": "code",
   "execution_count": null,
   "metadata": {},
   "outputs": [],
   "source": [
    "(lambda first, last: f'my name is {first} {last}') (\"John\", \"James\")\n",
    "# labmda function,\n",
    "# arguments: first, last = John, James\n",
    "# f''     f-string formatting"
   ]
  },
  {
   "cell_type": "markdown",
   "metadata": {},
   "source": [
    "in-class ex. Q.4\n",
    "Define a function which returns the product of two numbers, name the function as “multiply”. Use the function to obtain the product of 3 and 10."
   ]
  },
  {
   "cell_type": "code",
   "execution_count": 31,
   "metadata": {},
   "outputs": [
    {
     "data": {
      "text/plain": [
       "30"
      ]
     },
     "execution_count": 31,
     "metadata": {},
     "output_type": "execute_result"
    }
   ],
   "source": [
    "def multiply(*x):\n",
    "    result = 1\n",
    "    for i in x:\n",
    "        result = result*i\n",
    "    return result\n",
    "\n",
    "multiply(3,10)"
   ]
  },
  {
   "cell_type": "code",
   "execution_count": 33,
   "metadata": {},
   "outputs": [
    {
     "data": {
      "text/plain": [
       "30"
      ]
     },
     "execution_count": 33,
     "metadata": {},
     "output_type": "execute_result"
    }
   ],
   "source": [
    "def multiply(x,y):\n",
    "    return x*y\n",
    "    \n",
    "multiply(3,10)"
   ]
  },
  {
   "cell_type": "code",
   "execution_count": 35,
   "metadata": {},
   "outputs": [
    {
     "name": "stdout",
     "output_type": "stream",
     "text": [
      "2 is equal to 2\n"
     ]
    }
   ],
   "source": [
    "a,b = 2,2\n",
    "if a<b:\n",
    "    print(a, \" is less than\", b)\n",
    "elif a>b:\n",
    "    print(a, \" is greater than\", b)\n",
    "else:\n",
    "    print (a, \"is equal to\", b)"
   ]
  },
  {
   "cell_type": "markdown",
   "metadata": {},
   "source": [
    "## two loops\n",
    "- while loops (web crawling)\n",
    "- for... in loops"
   ]
  },
  {
   "cell_type": "code",
   "execution_count": 36,
   "metadata": {},
   "outputs": [
    {
     "name": "stdout",
     "output_type": "stream",
     "text": [
      "the number is 0\n",
      "the number is 1\n",
      "the number is 2\n",
      "the number is 3\n",
      "the number is 4\n",
      "the number is 5\n",
      "the number is 6\n",
      "the number is 7\n",
      "the number is 8\n",
      "the number is 9\n"
     ]
    }
   ],
   "source": [
    "for x in range(10):      # range is not a list, range is an iterator\n",
    "    print(f'the number is {x}')  # f-string formatting"
   ]
  },
  {
   "cell_type": "markdown",
   "metadata": {},
   "source": [
    "7. Create the following list\n",
    "names = [(\"Thomson\", \"Alex\"), (\"Wright\", \"Bob\"), (\"White\", \"Carol\"), (\"Young\", \"Tim\"), (\"Payne\", \"Sam\"), (\"Brown\", \"Mary\")]\n",
    "The first element of each pair is the last name\n",
    "Use a “for…in” loop to create a list of last names. \n",
    "You may also need  .append()\n"
   ]
  },
  {
   "cell_type": "code",
   "execution_count": 37,
   "metadata": {},
   "outputs": [
    {
     "data": {
      "text/plain": [
       "['Thomson', 'Wright', 'White', 'Young', 'Payne', 'Brown']"
      ]
     },
     "execution_count": 37,
     "metadata": {},
     "output_type": "execute_result"
    }
   ],
   "source": [
    "names = [(\"Thomson\", \"Alex\"), (\"Wright\", \"Bob\"), \n",
    "         (\"White\", \"Carol\"), (\"Young\", \"Tim\"), (\"Payne\", \"Sam\"), \n",
    "         (\"Brown\", \"Mary\")]\n",
    "\n",
    "last_names = []\n",
    "for a,b in names:\n",
    "    last_names.append(a)\n",
    "\n",
    "last_names"
   ]
  },
  {
   "cell_type": "markdown",
   "metadata": {},
   "source": [
    "### enumerate and zip functions"
   ]
  },
  {
   "cell_type": "code",
   "execution_count": 39,
   "metadata": {},
   "outputs": [
    {
     "data": {
      "text/plain": [
       "[(0, 'Mary'), (1, 'John'), (2, 'Peter')]"
      ]
     },
     "execution_count": 39,
     "metadata": {},
     "output_type": "execute_result"
    }
   ],
   "source": [
    "names = [\"Mary\", \"John\", \"Peter\"]\n",
    "list(enumerate(names))    #enumerate will give you the index and the value"
   ]
  },
  {
   "cell_type": "code",
   "execution_count": 41,
   "metadata": {},
   "outputs": [
    {
     "name": "stdout",
     "output_type": "stream",
     "text": [
      "0 Mary\n",
      "1 John\n",
      "2 Peter\n"
     ]
    }
   ],
   "source": [
    "for i, name in enumerate(names):\n",
    "    print (i, name)"
   ]
  },
  {
   "cell_type": "code",
   "execution_count": 44,
   "metadata": {},
   "outputs": [
    {
     "data": {
      "text/plain": [
       "<enumerate at 0x180ea502d40>"
      ]
     },
     "execution_count": 44,
     "metadata": {},
     "output_type": "execute_result"
    }
   ],
   "source": [
    "### zip function\n",
    "list1 = ['a','b','c']\n",
    "list2 = [1,2,3]\n",
    "zip(list1,list2)\n",
    "enumerate(list1)"
   ]
  },
  {
   "cell_type": "markdown",
   "metadata": {},
   "source": [
    "9. create the following list\n",
    "names = [\"Alice\", \"Bob\", \"Charlie\", \"Debbie\", \"John\", \"Sam\", \"Cathy\", \"Linda\", \"Yoyo\"]\n",
    "Find the name with more than 4 characters, print out the name and the corresponding index. (You need len() ,  which measures the length of a variable)\n"
   ]
  },
  {
   "cell_type": "code",
   "execution_count": 46,
   "metadata": {},
   "outputs": [
    {
     "name": "stdout",
     "output_type": "stream",
     "text": [
      "name 0 Alice\n",
      "name 2 Charlie\n",
      "name 3 Debbie\n",
      "name 6 Cathy\n",
      "name 7 Linda\n"
     ]
    }
   ],
   "source": [
    "names = [\"Alice\", \"Bob\", \"Charlie\", \n",
    "         \"Debbie\", \"John\", \"Sam\", \n",
    "         \"Cathy\", \"Linda\", \"Yoyo\"]\n",
    "\n",
    "for i,j in enumerate(names):\n",
    "    if len(j) > 4:\n",
    "        print (f'name {i} {j}')"
   ]
  },
  {
   "cell_type": "markdown",
   "metadata": {},
   "source": [
    "11. Create the following lists\n",
    "first_name=[\"Mary\",\"James\",\"Peter\",\"Yoyo\"]\n",
    "last_name=[\"Brown\",\"White\",\"Reed\",\"Holt\"]\n",
    "Use “zip” function to combine the above two lists and create a list of pairs, with the first name and then the last name in each pair.\n"
   ]
  },
  {
   "cell_type": "code",
   "execution_count": 47,
   "metadata": {},
   "outputs": [
    {
     "data": {
      "text/plain": [
       "[('Mary', 'Brown'), ('James', 'White'), ('Peter', 'Reed'), ('Yoyo', 'Holt')]"
      ]
     },
     "execution_count": 47,
     "metadata": {},
     "output_type": "execute_result"
    }
   ],
   "source": [
    "first_name=[\"Mary\",\"James\",\"Peter\",\"Yoyo\"]\n",
    "last_name=[\"Brown\",\"White\",\"Reed\",\"Holt\"]\n",
    "\n",
    "list(zip(first_name, last_name))"
   ]
  },
  {
   "cell_type": "markdown",
   "metadata": {},
   "source": [
    "### data structures\n",
    "- list\n",
    "- dict\n",
    "- strings"
   ]
  },
  {
   "cell_type": "code",
   "execution_count": 48,
   "metadata": {},
   "outputs": [
    {
     "data": {
      "text/plain": [
       "5"
      ]
     },
     "execution_count": 48,
     "metadata": {},
     "output_type": "execute_result"
    }
   ],
   "source": [
    "list1 = [2,3,4,5,6]\n",
    "len(list1)"
   ]
  },
  {
   "cell_type": "code",
   "execution_count": 49,
   "metadata": {},
   "outputs": [],
   "source": [
    "list2 = [\"a\",\"b\",[1,2,3], 3,4,5]"
   ]
  },
  {
   "cell_type": "code",
   "execution_count": 51,
   "metadata": {},
   "outputs": [
    {
     "data": {
      "text/plain": [
       "[0, 1, 2, 3, 4, 5, 6, 7, 8, 9, 10, 11, 12, 13, 14, 15, 16, 17, 18, 19]"
      ]
     },
     "execution_count": 51,
     "metadata": {},
     "output_type": "execute_result"
    }
   ],
   "source": [
    "list(range(20))"
   ]
  },
  {
   "cell_type": "code",
   "execution_count": 53,
   "metadata": {},
   "outputs": [
    {
     "data": {
      "text/plain": [
       "[0, 1, 2, 3, 4]"
      ]
     },
     "execution_count": 53,
     "metadata": {},
     "output_type": "execute_result"
    }
   ],
   "source": [
    "list1 = list(range(5))\n",
    "list1"
   ]
  },
  {
   "cell_type": "code",
   "execution_count": 54,
   "metadata": {},
   "outputs": [
    {
     "data": {
      "text/plain": [
       "[100, 1, 2, 3, 4]"
      ]
     },
     "execution_count": 54,
     "metadata": {},
     "output_type": "execute_result"
    }
   ],
   "source": [
    "list1[0] = 100\n",
    "list1"
   ]
  },
  {
   "cell_type": "code",
   "execution_count": 58,
   "metadata": {},
   "outputs": [
    {
     "data": {
      "text/plain": [
       "[0, 1, 2, 3, 4]"
      ]
     },
     "execution_count": 58,
     "metadata": {},
     "output_type": "execute_result"
    }
   ],
   "source": [
    "list1=list(range(5))\n",
    "list1"
   ]
  },
  {
   "cell_type": "code",
   "execution_count": 59,
   "metadata": {},
   "outputs": [
    {
     "data": {
      "text/plain": [
       "[0, 1, 2, 3, 4]"
      ]
     },
     "execution_count": 59,
     "metadata": {},
     "output_type": "execute_result"
    }
   ],
   "source": [
    "list2 = list1.copy()\n",
    "list2[0]=100\n",
    "list1"
   ]
  },
  {
   "cell_type": "code",
   "execution_count": 60,
   "metadata": {},
   "outputs": [],
   "source": [
    "x = 1,2,3,56  # a tuple, not a list"
   ]
  },
  {
   "cell_type": "code",
   "execution_count": 63,
   "metadata": {},
   "outputs": [],
   "source": [
    "x = [1,2,3,56]   # x is a list \n",
    "y = 1,2,3,56     # y is a tuple"
   ]
  },
  {
   "cell_type": "code",
   "execution_count": 64,
   "metadata": {},
   "outputs": [
    {
     "data": {
      "text/plain": [
       "[100, 2, 3, 56]"
      ]
     },
     "execution_count": 64,
     "metadata": {},
     "output_type": "execute_result"
    }
   ],
   "source": [
    "x[0] = 100\n",
    "x"
   ]
  },
  {
   "cell_type": "code",
   "execution_count": 65,
   "metadata": {},
   "outputs": [
    {
     "ename": "TypeError",
     "evalue": "'tuple' object does not support item assignment",
     "output_type": "error",
     "traceback": [
      "\u001b[1;31m---------------------------------------------------------------------------\u001b[0m",
      "\u001b[1;31mTypeError\u001b[0m                                 Traceback (most recent call last)",
      "\u001b[1;32m<ipython-input-65-3df45f2c554c>\u001b[0m in \u001b[0;36m<module>\u001b[1;34m\u001b[0m\n\u001b[1;32m----> 1\u001b[1;33m \u001b[0my\u001b[0m\u001b[1;33m[\u001b[0m\u001b[1;36m0\u001b[0m\u001b[1;33m]\u001b[0m \u001b[1;33m=\u001b[0m \u001b[1;36m100\u001b[0m\u001b[1;33m\u001b[0m\u001b[1;33m\u001b[0m\u001b[0m\n\u001b[0m\u001b[0;32m      2\u001b[0m \u001b[0my\u001b[0m\u001b[1;33m\u001b[0m\u001b[1;33m\u001b[0m\u001b[0m\n",
      "\u001b[1;31mTypeError\u001b[0m: 'tuple' object does not support item assignment"
     ]
    }
   ],
   "source": [
    "y[0] = 100\n",
    "y"
   ]
  },
  {
   "cell_type": "code",
   "execution_count": 66,
   "metadata": {},
   "outputs": [
    {
     "ename": "TypeError",
     "evalue": "can only concatenate list (not \"int\") to list",
     "output_type": "error",
     "traceback": [
      "\u001b[1;31m---------------------------------------------------------------------------\u001b[0m",
      "\u001b[1;31mTypeError\u001b[0m                                 Traceback (most recent call last)",
      "\u001b[1;32m<ipython-input-66-b964418e4e09>\u001b[0m in \u001b[0;36m<module>\u001b[1;34m\u001b[0m\n\u001b[0;32m      1\u001b[0m \u001b[0mx\u001b[0m \u001b[1;33m=\u001b[0m \u001b[1;33m[\u001b[0m\u001b[1;36m1\u001b[0m\u001b[1;33m,\u001b[0m\u001b[1;36m2\u001b[0m\u001b[1;33m,\u001b[0m\u001b[1;36m3\u001b[0m\u001b[1;33m,\u001b[0m\u001b[1;36m56\u001b[0m\u001b[1;33m]\u001b[0m\u001b[1;33m\u001b[0m\u001b[1;33m\u001b[0m\u001b[0m\n\u001b[1;32m----> 2\u001b[1;33m \u001b[0mx\u001b[0m\u001b[1;33m+\u001b[0m\u001b[1;36m1\u001b[0m\u001b[1;33m\u001b[0m\u001b[1;33m\u001b[0m\u001b[0m\n\u001b[0m",
      "\u001b[1;31mTypeError\u001b[0m: can only concatenate list (not \"int\") to list"
     ]
    }
   ],
   "source": [
    "x = [1,2,3,56]\n",
    "x+1   ## no, list does not allow this opeartion"
   ]
  },
  {
   "cell_type": "code",
   "execution_count": 74,
   "metadata": {},
   "outputs": [
    {
     "name": "stdout",
     "output_type": "stream",
     "text": [
      "0\n",
      "99\n",
      "[1, 2, 3, 4]\n",
      "[90, 91, 92, 93, 94, 95, 96, 97, 98]\n",
      "[0, 2, 4, 6, 8, 10, 12, 14, 16, 18, 20, 22, 24, 26, 28, 30, 32, 34, 36, 38, 40, 42, 44, 46, 48, 50, 52, 54, 56, 58, 60, 62, 64, 66, 68, 70, 72, 74, 76, 78, 80, 82, 84, 86, 88, 90, 92, 94, 96, 98]\n"
     ]
    }
   ],
   "source": [
    "list1 = list(range(100))\n",
    "print(list1[0])\n",
    "print(list1[-1])    # last element\n",
    "print(list1[1:5])    # from 2nd element to the 5th element\n",
    "print(list1[90:-1])\n",
    "print(list1[0::2])   # get all the even numbers"
   ]
  },
  {
   "cell_type": "markdown",
   "metadata": {},
   "source": [
    "14.\n",
    "Create a list of integers which are the squares of integers from 1 to 10. Sort the list in descending order.\n",
    "Check if 25 and 45 are in the list or not. (use  25 in list1  to check)\n"
   ]
  },
  {
   "cell_type": "code",
   "execution_count": 76,
   "metadata": {},
   "outputs": [
    {
     "data": {
      "text/plain": [
       "True"
      ]
     },
     "execution_count": 76,
     "metadata": {},
     "output_type": "execute_result"
    }
   ],
   "source": [
    "list1 = [i**2 for i in range(1,11)]\n",
    "list1\n",
    "25 in list1"
   ]
  },
  {
   "cell_type": "code",
   "execution_count": 77,
   "metadata": {},
   "outputs": [
    {
     "data": {
      "text/plain": [
       "False"
      ]
     },
     "execution_count": 77,
     "metadata": {},
     "output_type": "execute_result"
    }
   ],
   "source": [
    "45 in list1"
   ]
  },
  {
   "cell_type": "code",
   "execution_count": 83,
   "metadata": {},
   "outputs": [
    {
     "data": {
      "text/plain": [
       "[100, 81, 64, 49, 36, 25, 16, 9, 4, 1]"
      ]
     },
     "execution_count": 83,
     "metadata": {},
     "output_type": "execute_result"
    }
   ],
   "source": [
    "list1.sort()\n",
    "list1.reverse()\n",
    "list1"
   ]
  },
  {
   "cell_type": "markdown",
   "metadata": {},
   "source": [
    "15. Import the module random.\n",
    "Use “np.random.randint(0,30,100)” to generate a list of 100 integers. Each integer is between 0 and 30. From this list, extract the integers divisible by 3 to create another list. Finally sort the list in ascending order.\n"
   ]
  },
  {
   "cell_type": "code",
   "execution_count": 85,
   "metadata": {},
   "outputs": [
    {
     "name": "stdout",
     "output_type": "stream",
     "text": [
      "[3, 21, 18, 15, 6, 15, 18, 6, 24, 3, 27, 27, 21, 18, 3, 12, 12, 27, 9, 15, 6, 15, 9, 12, 27, 24, 15, 27, 3]\n",
      "[3, 3, 3, 3, 6, 6, 6, 9, 9, 12, 12, 12, 15, 15, 15, 15, 15, 18, 18, 18, 21, 21, 24, 24, 27, 27, 27, 27, 27]\n"
     ]
    }
   ],
   "source": [
    "import numpy as np\n",
    "list1 = np.random.randint(0,30,100)\n",
    "list2 = []   # empty list\n",
    "for i in list1:\n",
    "    if i%3 == 0:\n",
    "        list2.append(i)\n",
    "print(list2)\n",
    "list2.sort()\n",
    "## list2.reverse() for descending oder\n",
    "print(list2)"
   ]
  },
  {
   "cell_type": "markdown",
   "metadata": {},
   "source": [
    "### dictionary\n",
    "- items = (keys, values)"
   ]
  },
  {
   "cell_type": "code",
   "execution_count": 86,
   "metadata": {},
   "outputs": [],
   "source": [
    "dict1 ={\"key1\":1,\n",
    "       \"key2\":2,\n",
    "       \"key3\":3,\n",
    "       \"key4\":4}"
   ]
  },
  {
   "cell_type": "code",
   "execution_count": 88,
   "metadata": {},
   "outputs": [
    {
     "data": {
      "text/plain": [
       "dict_items([('key1', 1), ('key2', 2), ('key3', 3), ('key4', 4)])"
      ]
     },
     "execution_count": 88,
     "metadata": {},
     "output_type": "execute_result"
    }
   ],
   "source": [
    "dict1.items()"
   ]
  },
  {
   "cell_type": "code",
   "execution_count": 89,
   "metadata": {},
   "outputs": [
    {
     "data": {
      "text/plain": [
       "dict_values([1, 2, 3, 4])"
      ]
     },
     "execution_count": 89,
     "metadata": {},
     "output_type": "execute_result"
    }
   ],
   "source": [
    "dict1.values()"
   ]
  },
  {
   "cell_type": "code",
   "execution_count": 90,
   "metadata": {},
   "outputs": [
    {
     "data": {
      "text/plain": [
       "dict_keys(['key1', 'key2', 'key3', 'key4'])"
      ]
     },
     "execution_count": 90,
     "metadata": {},
     "output_type": "execute_result"
    }
   ],
   "source": [
    "dict1.keys()"
   ]
  },
  {
   "cell_type": "code",
   "execution_count": 91,
   "metadata": {},
   "outputs": [
    {
     "data": {
      "text/plain": [
       "3"
      ]
     },
     "execution_count": 91,
     "metadata": {},
     "output_type": "execute_result"
    }
   ],
   "source": [
    "dict1['key3']"
   ]
  },
  {
   "cell_type": "code",
   "execution_count": 92,
   "metadata": {},
   "outputs": [],
   "source": [
    "dict2 = {\"Boston\":\"MA\",\"Seattle\":\"WA\",\"Chicago\":\"IL\",\n",
    "        \"Miami\":\"Fl\"}"
   ]
  },
  {
   "cell_type": "code",
   "execution_count": 93,
   "metadata": {},
   "outputs": [
    {
     "data": {
      "text/plain": [
       "'Fl'"
      ]
     },
     "execution_count": 93,
     "metadata": {},
     "output_type": "execute_result"
    }
   ],
   "source": [
    "dict2[\"Miami\"]"
   ]
  },
  {
   "cell_type": "code",
   "execution_count": 94,
   "metadata": {},
   "outputs": [
    {
     "data": {
      "text/plain": [
       "50"
      ]
     },
     "execution_count": 94,
     "metadata": {},
     "output_type": "execute_result"
    }
   ],
   "source": [
    "dict3 = {\"Name\":\"Peter\",\"Age\":50,\"years of experience\":20}\n",
    "dict3[\"Age\"]"
   ]
  },
  {
   "cell_type": "code",
   "execution_count": 95,
   "metadata": {},
   "outputs": [
    {
     "name": "stdout",
     "output_type": "stream",
     "text": [
      "Peter\n",
      "50\n",
      "20\n"
     ]
    }
   ],
   "source": [
    "for i in dict3.values():\n",
    "    print(i)"
   ]
  },
  {
   "cell_type": "markdown",
   "metadata": {},
   "source": [
    "17. Create the following output.\n",
    "{0: 0, 1: 1, 2: 4, 3: 9, 4: 16, 5: 25, 6: 36, 7: 49, 8: 64, 9: 81}\n",
    "value is the square of the key.\n"
   ]
  },
  {
   "cell_type": "code",
   "execution_count": 96,
   "metadata": {},
   "outputs": [
    {
     "data": {
      "text/plain": [
       "{0: 0, 1: 1, 2: 4, 3: 9, 4: 16, 5: 25, 6: 36, 7: 49, 8: 64, 9: 81}"
      ]
     },
     "execution_count": 96,
     "metadata": {},
     "output_type": "execute_result"
    }
   ],
   "source": [
    "{i:i**2 for i in range(10)}"
   ]
  },
  {
   "cell_type": "markdown",
   "metadata": {},
   "source": [
    "16.\n",
    "Create the following dict.\n",
    "dict1 ={\"Name\" : [\"John\",\"Sam\"],\n",
    "        \"Age\": [45,50],\n",
    "        \"Income\": [50000, 60000],\n",
    "        \"Children\": [(\"Peter\",\"Sam\") , (\"Tom\",\"Mary\")],\n",
    "        \"Years of experience\":[16.5,20]}\n",
    "There are two employees who are John and Sam.\n",
    "Use “for…in” loop to print the information of John only. Then print the information of Sam only. \n"
   ]
  },
  {
   "cell_type": "code",
   "execution_count": 99,
   "metadata": {},
   "outputs": [
    {
     "name": "stdout",
     "output_type": "stream",
     "text": [
      "Name Sam\n",
      "Age 50\n",
      "Income 60000\n",
      "Children ('Tom', 'Mary')\n",
      "Years of experience 20\n"
     ]
    }
   ],
   "source": [
    "dict1 ={\"Name\" : [\"John\",\"Sam\"],\n",
    "        \"Age\": [45,50],\n",
    "        \"Income\": [50000, 60000],\n",
    "        \"Children\": [(\"Peter\",\"Sam\") , (\"Tom\",\"Mary\")],\n",
    "        \"Years of experience\":[16.5,20]}\n",
    "\n",
    "for i,j in dict1.items():\n",
    "    print(i, j[1])      # j[1] second element in each pair."
   ]
  },
  {
   "cell_type": "markdown",
   "metadata": {},
   "source": [
    "### strings"
   ]
  },
  {
   "cell_type": "code",
   "execution_count": 1,
   "metadata": {},
   "outputs": [
    {
     "data": {
      "text/plain": [
       "6"
      ]
     },
     "execution_count": 1,
     "metadata": {},
     "output_type": "execute_result"
    }
   ],
   "source": [
    "string1 = \"MARKET\"\n",
    "len(string1)"
   ]
  },
  {
   "cell_type": "code",
   "execution_count": 2,
   "metadata": {},
   "outputs": [
    {
     "data": {
      "text/plain": [
       "'M'"
      ]
     },
     "execution_count": 2,
     "metadata": {},
     "output_type": "execute_result"
    }
   ],
   "source": [
    "string1[0]"
   ]
  },
  {
   "cell_type": "code",
   "execution_count": 3,
   "metadata": {},
   "outputs": [
    {
     "data": {
      "text/plain": [
       "'T'"
      ]
     },
     "execution_count": 3,
     "metadata": {},
     "output_type": "execute_result"
    }
   ],
   "source": [
    "string1[-1]"
   ]
  },
  {
   "cell_type": "code",
   "execution_count": 4,
   "metadata": {},
   "outputs": [
    {
     "data": {
      "text/plain": [
       "{0: 'M', 1: 'A', 2: 'R', 3: 'K', 4: 'E', 5: 'T'}"
      ]
     },
     "execution_count": 4,
     "metadata": {},
     "output_type": "execute_result"
    }
   ],
   "source": [
    "dict1 = {}\n",
    "for i,j in enumerate(string1):\n",
    "    dict1[i] = j\n",
    "\n",
    "dict1"
   ]
  },
  {
   "cell_type": "code",
   "execution_count": 5,
   "metadata": {},
   "outputs": [
    {
     "data": {
      "text/plain": [
       "{'A': 1, 'E': 4, 'K': 3, 'M': 0, 'R': 2, 'T': 5}"
      ]
     },
     "execution_count": 5,
     "metadata": {},
     "output_type": "execute_result"
    }
   ],
   "source": [
    "{v:k for k,v in sorted(dict1.items(), key=lambda abc:abc[1])}"
   ]
  },
  {
   "cell_type": "markdown",
   "metadata": {},
   "source": [
    "Step 1. Create an empty list, mean10, to store the mean of the random numbers.\n",
    "Step 2. Create a list of 100 random numbers sampled from a standard normal distribution. (Use “np.random.randn(100)”)\n",
    "Step 3. append the mean of the random numbers to the list, mean10.\n",
    "Step 4. Use for … in loop to repeat step 2 and step 3 10 times. mean10 will become a list with 10 mean values.\n",
    "Step 5. Do the same thing again but iterate 100 times. Store the 100 mean values in the list mean100.\n",
    "Step 6. Do the same thing again but iterate 1000 times. Store the 1000 mean values in the list mean1000.\n"
   ]
  },
  {
   "cell_type": "code",
   "execution_count": 113,
   "metadata": {},
   "outputs": [
    {
     "data": {
      "text/plain": [
       "[0.0659916864497318,\n",
       " -0.08997121292233025,\n",
       " 0.11435420734106287,\n",
       " -0.17220532015776538,\n",
       " -0.05812803127725659,\n",
       " -0.04315237936885777,\n",
       " -0.05257923484651293,\n",
       " 0.008045191998504871,\n",
       " 0.01748207743747882,\n",
       " -0.0905182975877617,\n",
       " -0.06354367938787558,\n",
       " 0.024635572826610413,\n",
       " 0.151001677882727,\n",
       " 0.05812794358175832,\n",
       " -0.08031405440482679,\n",
       " -0.08160360918137308,\n",
       " 0.03332445300312031,\n",
       " 0.1173616838359064,\n",
       " -0.1470289135366354,\n",
       " -0.1304349986570488,\n",
       " 0.05235006162241227,\n",
       " -0.01797022995687804,\n",
       " -0.06418181976186978,\n",
       " -0.08131109634483444,\n",
       " -0.011220166036728617,\n",
       " -0.16151194994288395,\n",
       " 0.06522828627761515,\n",
       " -0.12170349084466063,\n",
       " -0.04841740957097488,\n",
       " 0.1518566853145826,\n",
       " 0.1851478153146959,\n",
       " 0.011334405767338627,\n",
       " -0.07864369042634319,\n",
       " -0.12047204915507592,\n",
       " -0.09696410258900619,\n",
       " 0.06408964457258783,\n",
       " -0.023850583479822333,\n",
       " 0.24283826367216765,\n",
       " 0.10509046358233846,\n",
       " 0.010908455308660628,\n",
       " 0.13252038805987604,\n",
       " 0.02171659888739458,\n",
       " -0.09108958659565991,\n",
       " 0.09950269672890404,\n",
       " 0.01927737422399616,\n",
       " -0.0181529179014057,\n",
       " 0.0851544590742369,\n",
       " -0.15891468747603332,\n",
       " -0.0603927078068197,\n",
       " 0.03518619338310175,\n",
       " 0.06402908611694548,\n",
       " 0.03533292910714061,\n",
       " 0.057049295747263494,\n",
       " -0.013733250666571415,\n",
       " -0.037024706152694986,\n",
       " 0.16793565277917527,\n",
       " 0.029983530950720136,\n",
       " -0.09862279647085682,\n",
       " -0.1084628952614776,\n",
       " -0.029234984136167007,\n",
       " 0.03117987259011052,\n",
       " -0.08422117903953566,\n",
       " -0.058549529218216316,\n",
       " -0.0766262672353257,\n",
       " 0.32790195941508465,\n",
       " -0.03520851926479306,\n",
       " 0.08935764432026864,\n",
       " -0.015928867627813596,\n",
       " 0.02868046894712589,\n",
       " 0.03245240969034046,\n",
       " -0.020559825116006732,\n",
       " 0.0034916874938846014,\n",
       " 0.18178457975047388,\n",
       " -0.1233269963244417,\n",
       " 0.024001566208370448,\n",
       " 0.22385941802766993,\n",
       " -0.16672462155442835,\n",
       " -0.04308783020139361,\n",
       " -0.06601278907808429,\n",
       " 0.05358938924633134,\n",
       " -0.020212138637622966,\n",
       " 0.27283747175485945,\n",
       " 0.06348475298619177,\n",
       " -0.04331634890570496,\n",
       " 0.03873500924349755,\n",
       " 0.04644392318051574,\n",
       " 0.05671543384524798,\n",
       " 0.004995323818559605,\n",
       " -0.1382280291137756,\n",
       " -0.019382719928436227,\n",
       " -0.05686950876617228,\n",
       " 0.05825689096892834,\n",
       " 0.06353318927289618,\n",
       " 0.059816137814153125,\n",
       " 0.007897684112919993,\n",
       " -0.0009104274055714673,\n",
       " -0.1020362589783851,\n",
       " 0.2392743617202196,\n",
       " 0.04478080882646319,\n",
       " -0.03467310632123844]"
      ]
     },
     "execution_count": 113,
     "metadata": {},
     "output_type": "execute_result"
    }
   ],
   "source": [
    "mean10 = []    #empty list\n",
    "for i in range(10):     # iterate 10 times\n",
    "    list1=np.random.randn(100)    # create a list of 100 numbers\n",
    "    mean10.append(list1.mean())   \n",
    "    # calculate the mean of 100 numbers and then append it to mean10\n",
    "mean10      # each number is a mean of 100 random numbers\n",
    "\n",
    "mean100 = []\n",
    "\n",
    "for i in range(100):\n",
    "    list1 = np.random.randn(100)\n",
    "    mean100.append(list1.mean())\n",
    "    \n",
    "mean100  # there will be 100 numbers"
   ]
  },
  {
   "cell_type": "markdown",
   "metadata": {},
   "source": [
    "Step 1: Create a mutliline_text variable by copying the text from the first chapter of Pride and Prejudice.\n",
    "Step 2: Find the type and length of the multiline_text string.\n",
    "Step 3: Remove all new lines and symbols using the replace function.\n",
    "Step 4: Find all of the words in multiline_text using the split function.\n",
    "Step 5: Convert all the words into lower case. \n",
    "Step 6: Create a list from this list that will contain only the unique words.\n",
    "Step 7: Count the number of times the unique word has appeared in the list using the key and value in dict.\n",
    "Step 8: Find the top 25 words from the unique words that you have found using the slice function.\n"
   ]
  },
  {
   "cell_type": "code",
   "execution_count": 114,
   "metadata": {},
   "outputs": [],
   "source": [
    "multiline_text=\"\"\"It is a truth universally acknowledged, that a single man in possession of a good fortune, must be in want of a wife.\n",
    "\n",
    "However little known the feelings or views of such a man may be on his first entering a neighbourhood, this truth is so well fixed in the minds of the surrounding families, that he is considered the rightful property of some one or other of their daughters.\n",
    "\n",
    "\"My dear Mr. Bennet,\" said his lady to him one day, \"have you heard that Netherfield Park is let at last?\"\n",
    "\n",
    "Mr. Bennet replied that he had not.\n",
    "\n",
    "\"But it is,\" returned she; \"for Mrs. Long has just been here, and she told me all about it.\"\n",
    "\n",
    "Mr. Bennet made no answer.\n",
    "\n",
    "\"Do you not want to know who has taken it?\" cried his wife impatiently.\n",
    "\n",
    "\"You want to tell me, and I have no objection to hearing it.\"\n",
    "\n",
    "This was invitation enough.\n",
    "\n",
    "\"Why, my dear, you must know, Mrs. Long says that Netherfield is taken by a young man of large fortune from the north of England; that he came down on Monday in a chaise and four to see the place, and was so much delighted with it, that he agreed with Mr. Morris immediately; that he is to take possession before Michaelmas, and some of his servants are to be in the house by the end of next week.\"\n",
    "\n",
    "\"What is his name?\"\n",
    "\n",
    "\"Bingley.\"\n",
    "\n",
    "\"Is he married or single?\"\n",
    "\n",
    "\"Oh! Single, my dear, to be sure! A single man of large fortune; four or five thousand a year. What a fine thing for our girls!\"\n",
    "\n",
    "\"How so? How can it affect them?\"\n",
    "\n",
    "\"My dear Mr. Bennet,\" replied his wife, \"how can you be so tiresome! You must know that I am thinking of his marrying one of them.\"\n",
    "\n",
    "\"Is that his design in settling here?\"\n",
    "\n",
    "\"Design! Nonsense, how can you talk so! But it is very likely that he may fall in love with one of them, and therefore you must visit him as soon as he comes.\"\n",
    "\n",
    "\"I see no occasion for that. You and the girls may go, or you may send them by themselves, which perhaps will be still better, for as you are as handsome as any of them, Mr. Bingley may like you the best of the party.\"\n",
    "\n",
    "\"My dear, you flatter me. I certainly have had my share of beauty, but I do not pretend to be anything extraordinary now. When a woman has five grown-up daughters, she ought to give over thinking of her own beauty.\"\n",
    "\n",
    "\"In such cases, a woman has not often much beauty to think of.\"\n",
    "\n",
    "\"But, my dear, you must indeed go and see Mr. Bingley when he comes into the neighbourhood.\"\n",
    "\n",
    "\"It is more than I engage for, I assure you.\"\n",
    "\n",
    "\"But consider your daughters. Only think what an establishment it would be for one of them. Sir William and Lady Lucas are determined to go, merely on that account, for in general, you know, they visit no newcomers. Indeed you must go, for it will be impossible for us to visit him if you do not.\"\n",
    "\n",
    "\"You are over-scrupulous, surely. I dare say Mr. Bingley will be very glad to see you; and I will send a few lines by you to assure him of my hearty consent to his marrying whichever he chooses of the girls; though I must throw in a good word for my little Lizzy.\"\n",
    "\n",
    "\"I desire you will do no such thing. Lizzy is not a bit better than the others; and I am sure she is not half so handsome as Jane, nor half so good-humoured as Lydia. But you are always giving her the preference.\"\n",
    "\n",
    "\"They have none of them much to recommend them,\" replied he; \"they are all silly and ignorant like other girls; but Lizzy has something more of quickness than her sisters.\"\n",
    "\n",
    "\"Mr. Bennet, how can you abuse your own children in such a way? You take delight in vexing me. You have no compassion for my poor nerves.\"\n",
    "\n",
    "\"You mistake me, my dear. I have a high respect for your nerves. They are my old friends. I have heard you mention them with consideration these last twenty years at least.\"\n",
    "\n",
    "\"Ah, you do not know what I suffer.\"\n",
    "\n",
    "\"But I hope you will get over it, and live to see many young men of four thousand a year come into the neighbourhood.\"\n",
    "\n",
    "\"It will be no use to us, if twenty such should come, since you will not visit them.\"\n",
    "\n",
    "\"Depend upon it, my dear, that when there are twenty, I will visit them all.\"\n",
    "\n",
    "Mr. Bennet was so odd a mixture of quick parts, sarcastic humour, reserve, and caprice, that the experience of three-and-twenty years had been insufficient to make his wife understand his character. Her mind was less difficult to develop. She was a woman of mean understanding, little information, and uncertain temper. When she was discontented, she fancied herself nervous. The business of her life was to get her daughters married; its solace was visiting and news. \"\"\""
   ]
  },
  {
   "cell_type": "code",
   "execution_count": 115,
   "metadata": {},
   "outputs": [
    {
     "data": {
      "text/plain": [
       "str"
      ]
     },
     "execution_count": 115,
     "metadata": {},
     "output_type": "execute_result"
    }
   ],
   "source": [
    "type(multiline_text)"
   ]
  },
  {
   "cell_type": "code",
   "execution_count": 116,
   "metadata": {},
   "outputs": [
    {
     "data": {
      "text/plain": [
       "4475"
      ]
     },
     "execution_count": 116,
     "metadata": {},
     "output_type": "execute_result"
    }
   ],
   "source": [
    "len(multiline_text)"
   ]
  },
  {
   "cell_type": "code",
   "execution_count": 117,
   "metadata": {},
   "outputs": [
    {
     "data": {
      "text/plain": [
       "'It is a truth universally acknowledged, that a single man in possession of a good fortune, must be in want of a wife.However little known the feelings or views of such a man may be on his first entering a neighbourhood, this truth is so well fixed in the minds of the surrounding families, that he is considered the rightful property of some one or other of their daughters.\"My dear Mr. Bennet,\" said his lady to him one day, \"have you heard that Netherfield Park is let at last?\"Mr. Bennet replied that he had not.\"But it is,\" returned she; \"for Mrs. Long has just been here, and she told me all about it.\"Mr. Bennet made no answer.\"Do you not want to know who has taken it?\" cried his wife impatiently.\"You want to tell me, and I have no objection to hearing it.\"This was invitation enough.\"Why, my dear, you must know, Mrs. Long says that Netherfield is taken by a young man of large fortune from the north of England; that he came down on Monday in a chaise and four to see the place, and was so much delighted with it, that he agreed with Mr. Morris immediately; that he is to take possession before Michaelmas, and some of his servants are to be in the house by the end of next week.\"\"What is his name?\"\"Bingley.\"\"Is he married or single?\"\"Oh! Single, my dear, to be sure! A single man of large fortune; four or five thousand a year. What a fine thing for our girls!\"\"How so? How can it affect them?\"\"My dear Mr. Bennet,\" replied his wife, \"how can you be so tiresome! You must know that I am thinking of his marrying one of them.\"\"Is that his design in settling here?\"\"Design! Nonsense, how can you talk so! But it is very likely that he may fall in love with one of them, and therefore you must visit him as soon as he comes.\"\"I see no occasion for that. You and the girls may go, or you may send them by themselves, which perhaps will be still better, for as you are as handsome as any of them, Mr. Bingley may like you the best of the party.\"\"My dear, you flatter me. I certainly have had my share of beauty, but I do not pretend to be anything extraordinary now. When a woman has five grown-up daughters, she ought to give over thinking of her own beauty.\"\"In such cases, a woman has not often much beauty to think of.\"\"But, my dear, you must indeed go and see Mr. Bingley when he comes into the neighbourhood.\"\"It is more than I engage for, I assure you.\"\"But consider your daughters. Only think what an establishment it would be for one of them. Sir William and Lady Lucas are determined to go, merely on that account, for in general, you know, they visit no newcomers. Indeed you must go, for it will be impossible for us to visit him if you do not.\"\"You are over-scrupulous, surely. I dare say Mr. Bingley will be very glad to see you; and I will send a few lines by you to assure him of my hearty consent to his marrying whichever he chooses of the girls; though I must throw in a good word for my little Lizzy.\"\"I desire you will do no such thing. Lizzy is not a bit better than the others; and I am sure she is not half so handsome as Jane, nor half so good-humoured as Lydia. But you are always giving her the preference.\"\"They have none of them much to recommend them,\" replied he; \"they are all silly and ignorant like other girls; but Lizzy has something more of quickness than her sisters.\"\"Mr. Bennet, how can you abuse your own children in such a way? You take delight in vexing me. You have no compassion for my poor nerves.\"\"You mistake me, my dear. I have a high respect for your nerves. They are my old friends. I have heard you mention them with consideration these last twenty years at least.\"\"Ah, you do not know what I suffer.\"\"But I hope you will get over it, and live to see many young men of four thousand a year come into the neighbourhood.\"\"It will be no use to us, if twenty such should come, since you will not visit them.\"\"Depend upon it, my dear, that when there are twenty, I will visit them all.\"Mr. Bennet was so odd a mixture of quick parts, sarcastic humour, reserve, and caprice, that the experience of three-and-twenty years had been insufficient to make his wife understand his character. Her mind was less difficult to develop. She was a woman of mean understanding, little information, and uncertain temper. When she was discontented, she fancied herself nervous. The business of her life was to get her daughters married; its solace was visiting and news. '"
      ]
     },
     "execution_count": 117,
     "metadata": {},
     "output_type": "execute_result"
    }
   ],
   "source": [
    "### Step 3: Remove all new lines and symbols using the replace function.\n",
    "multiline_text = multiline_text.replace(\"\\n\", \"\")\n",
    "multiline_text"
   ]
  },
  {
   "cell_type": "code",
   "execution_count": 120,
   "metadata": {},
   "outputs": [
    {
     "data": {
      "text/plain": [
       "'it is a truth universally acknowledged  that a single man in possession of a good fortune  must be in want of a wife however little known the feelings or views of such a man may be on his first entering a neighbourhood  this truth is so well fixed in the minds of the surrounding families  that he is considered the rightful property of some one or other of their daughters  my dear mr  bennet   said his lady to him one day   have you heard that netherfield park is let at last  mr  bennet replied that he had not  but it is   returned she   for mrs  long has just been here  and she told me all about it  mr  bennet made no answer  do you not want to know who has taken it   cried his wife impatiently  you want to tell me  and i have no objection to hearing it  this was invitation enough  why  my dear  you must know  mrs  long says that netherfield is taken by a young man of large fortune from the north of england  that he came down on monday in a chaise and four to see the place  and was so much delighted with it  that he agreed with mr  morris immediately  that he is to take possession before michaelmas  and some of his servants are to be in the house by the end of next week   what is his name   bingley   is he married or single   oh  single  my dear  to be sure  a single man of large fortune  four or five thousand a year  what a fine thing for our girls   how so  how can it affect them   my dear mr  bennet   replied his wife   how can you be so tiresome  you must know that i am thinking of his marrying one of them   is that his design in settling here   design  nonsense  how can you talk so  but it is very likely that he may fall in love with one of them  and therefore you must visit him as soon as he comes   i see no occasion for that  you and the girls may go  or you may send them by themselves  which perhaps will be still better  for as you are as handsome as any of them  mr  bingley may like you the best of the party   my dear  you flatter me  i certainly have had my share of beauty  but i do not pretend to be anything extraordinary now  when a woman has five grown up daughters  she ought to give over thinking of her own beauty   in such cases  a woman has not often much beauty to think of   but  my dear  you must indeed go and see mr  bingley when he comes into the neighbourhood   it is more than i engage for  i assure you   but consider your daughters  only think what an establishment it would be for one of them  sir william and lady lucas are determined to go  merely on that account  for in general  you know  they visit no newcomers  indeed you must go  for it will be impossible for us to visit him if you do not   you are over scrupulous  surely  i dare say mr  bingley will be very glad to see you  and i will send a few lines by you to assure him of my hearty consent to his marrying whichever he chooses of the girls  though i must throw in a good word for my little lizzy   i desire you will do no such thing  lizzy is not a bit better than the others  and i am sure she is not half so handsome as jane  nor half so good humoured as lydia  but you are always giving her the preference   they have none of them much to recommend them   replied he   they are all silly and ignorant like other girls  but lizzy has something more of quickness than her sisters   mr  bennet  how can you abuse your own children in such a way  you take delight in vexing me  you have no compassion for my poor nerves   you mistake me  my dear  i have a high respect for your nerves  they are my old friends  i have heard you mention them with consideration these last twenty years at least   ah  you do not know what i suffer   but i hope you will get over it  and live to see many young men of four thousand a year come into the neighbourhood   it will be no use to us  if twenty such should come  since you will not visit them   depend upon it  my dear  that when there are twenty  i will visit them all  mr  bennet was so odd a mixture of quick parts  sarcastic humour  reserve  and caprice  that the experience of three and twenty years had been insufficient to make his wife understand his character  her mind was less difficult to develop  she was a woman of mean understanding  little information  and uncertain temper  when she was discontented  she fancied herself nervous  the business of her life was to get her daughters married  its solace was visiting and news  '"
      ]
     },
     "execution_count": 120,
     "metadata": {},
     "output_type": "execute_result"
    }
   ],
   "source": [
    "cleaned_line = \"\"   ## empty string\n",
    "for i in multiline_text:\n",
    "    if i == \" \":\n",
    "        cleaned_line += i\n",
    "    elif i.isalnum():\n",
    "        cleaned_line += i\n",
    "    else:\n",
    "        cleaned_line += \" \"\n",
    "cleaned_line = cleaned_line.lower()\n",
    "cleaned_line"
   ]
  },
  {
   "cell_type": "code",
   "execution_count": null,
   "metadata": {},
   "outputs": [],
   "source": []
  }
 ],
 "metadata": {
  "kernelspec": {
   "display_name": "Python 3",
   "language": "python",
   "name": "python3"
  },
  "language_info": {
   "codemirror_mode": {
    "name": "ipython",
    "version": 3
   },
   "file_extension": ".py",
   "mimetype": "text/x-python",
   "name": "python",
   "nbconvert_exporter": "python",
   "pygments_lexer": "ipython3",
   "version": "3.8.5"
  }
 },
 "nbformat": 4,
 "nbformat_minor": 4
}
