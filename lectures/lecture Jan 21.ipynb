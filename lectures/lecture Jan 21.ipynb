{
 "cells": [
  {
   "cell_type": "code",
   "execution_count": 1,
   "metadata": {},
   "outputs": [
    {
     "data": {
      "text/plain": [
       "{0: 'M', 1: 'A', 2: 'R', 3: 'K', 4: 'E', 5: 'T'}"
      ]
     },
     "execution_count": 1,
     "metadata": {},
     "output_type": "execute_result"
    }
   ],
   "source": [
    "x = \"MARKET\"\n",
    "dict1 = {i:j for i, j in enumerate(x)}\n",
    "dict1"
   ]
  },
  {
   "cell_type": "code",
   "execution_count": 2,
   "metadata": {},
   "outputs": [
    {
     "data": {
      "text/plain": [
       "{'M': 0, 'A': 1, 'R': 2, 'K': 3, 'E': 4, 'T': 5}"
      ]
     },
     "execution_count": 2,
     "metadata": {},
     "output_type": "execute_result"
    }
   ],
   "source": [
    "## change swap values with keys.\n",
    "# {'M':0, 'A':1, ...} \n",
    "dict2= {v:k for k,v in dict1.items()}\n",
    "dict2"
   ]
  },
  {
   "cell_type": "code",
   "execution_count": 4,
   "metadata": {},
   "outputs": [
    {
     "data": {
      "text/plain": [
       "{'A': 1, 'E': 4, 'K': 3, 'M': 0, 'R': 2, 'T': 5}"
      ]
     },
     "execution_count": 4,
     "metadata": {},
     "output_type": "execute_result"
    }
   ],
   "source": [
    "dict3 = {v:k for k,v in sorted(dict1.items(), key = lambda abc:abc[1])}\n",
    "## we swap key and values, we sort in ascending order of values of dict1\n",
    "dict3"
   ]
  },
  {
   "cell_type": "code",
   "execution_count": 5,
   "metadata": {},
   "outputs": [
    {
     "data": {
      "text/plain": [
       "{'M': 0, 'A': 1, 'R': 2, 'K': 3, 'E': 4, 'T': 5}"
      ]
     },
     "execution_count": 5,
     "metadata": {},
     "output_type": "execute_result"
    }
   ],
   "source": [
    "dict4 = {v:k for k,v in sorted(dict1.items(), key = lambda abc:abc[0])}\n",
    "## we swap key and values, we sort in ascending order of keys of dict1\n",
    "dict4"
   ]
  },
  {
   "cell_type": "markdown",
   "metadata": {},
   "source": [
    "#### handling numerical arrays using numpy\n",
    "- numpy: numerical python\n",
    "- numpy: just for numerical arrays\n",
    "- use numpy to:\n",
    "    1. create an array\n",
    "    2. slicing and indexing (similar to slicing, indexing for list)\n",
    "    3. aggregation (find the sum, median, standard deviation, max, min)\n",
    "    4. numpy array is very important for deep learning."
   ]
  },
  {
   "cell_type": "code",
   "execution_count": 6,
   "metadata": {},
   "outputs": [
    {
     "data": {
      "text/plain": [
       "[0, 1, 2, 3, 4, 5, 6, 7, 8, 9]"
      ]
     },
     "execution_count": 6,
     "metadata": {},
     "output_type": "execute_result"
    }
   ],
   "source": [
    "list1 = list(range(10))   # range(10) is an iterator, not a list.\n",
    "list1"
   ]
  },
  {
   "cell_type": "code",
   "execution_count": 7,
   "metadata": {},
   "outputs": [],
   "source": [
    "# arrays from different from lists\n",
    "import numpy as np"
   ]
  },
  {
   "cell_type": "code",
   "execution_count": 8,
   "metadata": {},
   "outputs": [
    {
     "data": {
      "text/plain": [
       "array([0, 1, 2, 3, 4, 5, 6, 7, 8, 9])"
      ]
     },
     "execution_count": 8,
     "metadata": {},
     "output_type": "execute_result"
    }
   ],
   "source": [
    "# use numpy to create an array.\n",
    "array1 = np.arange(10)     # not range\n",
    "array1"
   ]
  },
  {
   "cell_type": "code",
   "execution_count": 9,
   "metadata": {},
   "outputs": [
    {
     "ename": "TypeError",
     "evalue": "can only concatenate list (not \"int\") to list",
     "output_type": "error",
     "traceback": [
      "\u001b[1;31m---------------------------------------------------------------------------\u001b[0m",
      "\u001b[1;31mTypeError\u001b[0m                                 Traceback (most recent call last)",
      "\u001b[1;32m<ipython-input-9-bf85d9dba1e0>\u001b[0m in \u001b[0;36m<module>\u001b[1;34m\u001b[0m\n\u001b[1;32m----> 1\u001b[1;33m \u001b[0mlist1\u001b[0m \u001b[1;33m+\u001b[0m \u001b[1;36m1\u001b[0m \u001b[1;31m# it is a list, you cannot do that\u001b[0m\u001b[1;33m\u001b[0m\u001b[1;33m\u001b[0m\u001b[0m\n\u001b[0m",
      "\u001b[1;31mTypeError\u001b[0m: can only concatenate list (not \"int\") to list"
     ]
    }
   ],
   "source": [
    "list1 + 1 # it is a list, you cannot do that "
   ]
  },
  {
   "cell_type": "code",
   "execution_count": 10,
   "metadata": {},
   "outputs": [
    {
     "data": {
      "text/plain": [
       "array([ 1,  2,  3,  4,  5,  6,  7,  8,  9, 10])"
      ]
     },
     "execution_count": 10,
     "metadata": {},
     "output_type": "execute_result"
    }
   ],
   "source": [
    "array1 + 1"
   ]
  },
  {
   "cell_type": "code",
   "execution_count": 11,
   "metadata": {},
   "outputs": [
    {
     "data": {
      "text/plain": [
       "array([ 0,  2,  4,  6,  8, 10, 12, 14, 16, 18])"
      ]
     },
     "execution_count": 11,
     "metadata": {},
     "output_type": "execute_result"
    }
   ],
   "source": [
    "2*array1"
   ]
  },
  {
   "cell_type": "code",
   "execution_count": 12,
   "metadata": {},
   "outputs": [
    {
     "data": {
      "text/plain": [
       "array([0, 1, 2, 3, 4, 5, 6, 7, 8, 9])"
      ]
     },
     "execution_count": 12,
     "metadata": {},
     "output_type": "execute_result"
    }
   ],
   "source": [
    "# convert a list into an numpy array. # list should only contain numbers.\n",
    "list1= list(range(10))\n",
    "array1 = np.array(list1)  # to convert a list into a numpy array.\n",
    "array1"
   ]
  },
  {
   "cell_type": "code",
   "execution_count": 13,
   "metadata": {},
   "outputs": [
    {
     "data": {
      "text/plain": [
       "array([1, 2, 3, 4, 5])"
      ]
     },
     "execution_count": 13,
     "metadata": {},
     "output_type": "execute_result"
    }
   ],
   "source": [
    "x = 1,2,3,4,5     # x is a tuple.\n",
    "array1 = np.array(x)   # convert a tuple into an array.\n",
    "array1"
   ]
  },
  {
   "cell_type": "code",
   "execution_count": 15,
   "metadata": {},
   "outputs": [
    {
     "name": "stdout",
     "output_type": "stream",
     "text": [
      "[0 1 2 3 4 5 6 7 8 9]\n",
      "[ 1  2  3  4  5  6  7  8  9 10]\n",
      "[2.  2.5 3.  3.5 4.  4.5]\n"
     ]
    }
   ],
   "source": [
    "# np.arange()      # numpy returns numerical arrays.\n",
    "print(np.arange(10))\n",
    "print(np.arange(1,11))\n",
    "print(np.arange(2,5, step=0.5))"
   ]
  },
  {
   "cell_type": "code",
   "execution_count": 16,
   "metadata": {},
   "outputs": [
    {
     "data": {
      "text/plain": [
       "array([0.        , 0.11111111, 0.22222222, 0.33333333, 0.44444444,\n",
       "       0.55555556, 0.66666667, 0.77777778, 0.88888889, 1.        ])"
      ]
     },
     "execution_count": 16,
     "metadata": {},
     "output_type": "execute_result"
    }
   ],
   "source": [
    "# np.linspace()   \n",
    "np.linspace(0,1,10)     \n",
    "# between 0 and 1, both included, the array contains  10 numbers.\n",
    "# divide the interval 0 to 1 using 10 numbers in equal intervals\n",
    "# we can use when you draw a graph. "
   ]
  },
  {
   "cell_type": "code",
   "execution_count": 22,
   "metadata": {},
   "outputs": [
    {
     "data": {
      "text/plain": [
       "60"
      ]
     },
     "execution_count": 22,
     "metadata": {},
     "output_type": "execute_result"
    }
   ],
   "source": [
    "### very useful to create random numbers.\n",
    "x = np.random.randint(2,100)   # random integer between 2 and 99\n",
    "x"
   ]
  },
  {
   "cell_type": "code",
   "execution_count": 30,
   "metadata": {},
   "outputs": [
    {
     "data": {
      "text/plain": [
       "87"
      ]
     },
     "execution_count": 30,
     "metadata": {},
     "output_type": "execute_result"
    }
   ],
   "source": [
    "## you want to create the same random number every time you run it.\n",
    "np.random.seed(56)\n",
    "x = np.random.randint(2,100)\n",
    "x"
   ]
  },
  {
   "cell_type": "code",
   "execution_count": 34,
   "metadata": {},
   "outputs": [
    {
     "data": {
      "text/plain": [
       "64"
      ]
     },
     "execution_count": 34,
     "metadata": {},
     "output_type": "execute_result"
    }
   ],
   "source": [
    "np.random.seed()\n",
    "x = np.random.randint(2,100)\n",
    "x"
   ]
  },
  {
   "cell_type": "code",
   "execution_count": 36,
   "metadata": {},
   "outputs": [
    {
     "data": {
      "text/plain": [
       "array([92, 19, 65, 88, 52, 73, 87, 79, 87, 39, 32, 82, 33,  2, 67, 43, 37,\n",
       "       41, 81, 32])"
      ]
     },
     "execution_count": 36,
     "metadata": {},
     "output_type": "execute_result"
    }
   ],
   "source": [
    "x = np.random.randint(2,100, 20)  \n",
    "# create an array with 20 intergers between 2 and 99\n",
    "x"
   ]
  },
  {
   "cell_type": "code",
   "execution_count": 37,
   "metadata": {},
   "outputs": [
    {
     "data": {
      "text/plain": [
       "array([-0.0890121 , -1.21103641,  2.35567325,  1.34842416, -1.43657481,\n",
       "       -1.23547557, -1.04294482,  1.19547276,  0.18240071,  0.90035014])"
      ]
     },
     "execution_count": 37,
     "metadata": {},
     "output_type": "execute_result"
    }
   ],
   "source": [
    "np.random.randn(10)  \n",
    "# create an array of 10 numbers, \n",
    "# each number is drawn from standard normal distribution"
   ]
  },
  {
   "cell_type": "code",
   "execution_count": 38,
   "metadata": {},
   "outputs": [],
   "source": [
    "x = np.random.randint(2,100, 20) "
   ]
  },
  {
   "cell_type": "code",
   "execution_count": 39,
   "metadata": {},
   "outputs": [
    {
     "data": {
      "text/plain": [
       "(20,)"
      ]
     },
     "execution_count": 39,
     "metadata": {},
     "output_type": "execute_result"
    }
   ],
   "source": [
    "x.shape    # a 1*20 vector, 1 row and 20 columns"
   ]
  },
  {
   "cell_type": "code",
   "execution_count": 41,
   "metadata": {},
   "outputs": [
    {
     "data": {
      "text/plain": [
       "array([[21, 16, 40,  5, 39],\n",
       "       [54,  5,  9, 93, 13],\n",
       "       [84, 88, 53,  5, 62],\n",
       "       [84, 81, 28, 29, 93]])"
      ]
     },
     "execution_count": 41,
     "metadata": {},
     "output_type": "execute_result"
    }
   ],
   "source": [
    "x= x.reshape((4,5))   # 4 rows and 5 columns\n",
    "x"
   ]
  },
  {
   "cell_type": "code",
   "execution_count": 42,
   "metadata": {},
   "outputs": [
    {
     "data": {
      "text/plain": [
       "(4, 5)"
      ]
     },
     "execution_count": 42,
     "metadata": {},
     "output_type": "execute_result"
    }
   ],
   "source": [
    "x.shape"
   ]
  },
  {
   "cell_type": "code",
   "execution_count": 43,
   "metadata": {},
   "outputs": [
    {
     "data": {
      "text/plain": [
       "2"
      ]
     },
     "execution_count": 43,
     "metadata": {},
     "output_type": "execute_result"
    }
   ],
   "source": [
    "x.ndim   # number of dimensions"
   ]
  },
  {
   "cell_type": "code",
   "execution_count": 44,
   "metadata": {},
   "outputs": [
    {
     "data": {
      "text/plain": [
       "dtype('int32')"
      ]
     },
     "execution_count": 44,
     "metadata": {},
     "output_type": "execute_result"
    }
   ],
   "source": [
    "x.dtype      # data type"
   ]
  },
  {
   "cell_type": "code",
   "execution_count": 45,
   "metadata": {},
   "outputs": [
    {
     "data": {
      "text/plain": [
       "numpy.ndarray"
      ]
     },
     "execution_count": 45,
     "metadata": {},
     "output_type": "execute_result"
    }
   ],
   "source": [
    "type(x)     # type(x)    different from x.dtype"
   ]
  },
  {
   "cell_type": "code",
   "execution_count": 46,
   "metadata": {},
   "outputs": [
    {
     "data": {
      "text/plain": [
       "20"
      ]
     },
     "execution_count": 46,
     "metadata": {},
     "output_type": "execute_result"
    }
   ],
   "source": [
    "x.size     # total number of elements"
   ]
  },
  {
   "cell_type": "code",
   "execution_count": 47,
   "metadata": {},
   "outputs": [
    {
     "name": "stdout",
     "output_type": "stream",
     "text": [
      "(4, 5)\n",
      "2\n",
      "int32\n",
      "20\n"
     ]
    }
   ],
   "source": [
    "print (x.shape)\n",
    "print (x.ndim)\n",
    "print (x.dtype)\n",
    "print (x.size)"
   ]
  },
  {
   "cell_type": "code",
   "execution_count": 51,
   "metadata": {},
   "outputs": [
    {
     "data": {
      "text/plain": [
       "(20,)"
      ]
     },
     "execution_count": 51,
     "metadata": {},
     "output_type": "execute_result"
    }
   ],
   "source": [
    "x = np.random.randint(2,100, 20)   # 20 integers\n",
    "x.shape    # a vector "
   ]
  },
  {
   "cell_type": "code",
   "execution_count": 52,
   "metadata": {},
   "outputs": [
    {
     "data": {
      "text/plain": [
       "(1, 20)"
      ]
     },
     "execution_count": 52,
     "metadata": {},
     "output_type": "execute_result"
    }
   ],
   "source": [
    "y=x.reshape((1,20))    # convert into 1*20 array\n",
    "y.shape     # 1*20 array"
   ]
  },
  {
   "cell_type": "code",
   "execution_count": 53,
   "metadata": {},
   "outputs": [
    {
     "data": {
      "text/plain": [
       "array([32, 94, 54, 90, 62, 22, 70, 94, 47, 98, 82, 85, 22, 35, 20, 18,  9,\n",
       "       59,  3, 42])"
      ]
     },
     "execution_count": 53,
     "metadata": {},
     "output_type": "execute_result"
    }
   ],
   "source": [
    "x    # a vector"
   ]
  },
  {
   "cell_type": "code",
   "execution_count": 54,
   "metadata": {},
   "outputs": [
    {
     "data": {
      "text/plain": [
       "array([[32, 94, 54, 90, 62, 22, 70, 94, 47, 98, 82, 85, 22, 35, 20, 18,\n",
       "         9, 59,  3, 42]])"
      ]
     },
     "execution_count": 54,
     "metadata": {},
     "output_type": "execute_result"
    }
   ],
   "source": [
    "y    # 1*20 array"
   ]
  },
  {
   "cell_type": "markdown",
   "metadata": {},
   "source": [
    "in-class ex. Q.3. \n",
    "- set the random seed to be 0. \t\tUse np.random.seed()\n",
    "- create a 4x5x3 array of random integers. The integers should range from 2 to 11. Use np.random.randint( , ,size=)\n",
    "- print (a) number of dimension, (b) shape, (c) data type of the array.\n"
   ]
  },
  {
   "cell_type": "code",
   "execution_count": 56,
   "metadata": {},
   "outputs": [
    {
     "name": "stdout",
     "output_type": "stream",
     "text": [
      "3\n",
      "(4, 5, 3)\n",
      "int32\n"
     ]
    }
   ],
   "source": [
    "np.random.seed(0)\n",
    "x = np.random.randint(2,12, size=(4,5,3))\n",
    "print(x.ndim)      # ndim = 3\n",
    "print(x.shape)     # shape = (4,5,3)\n",
    "print(x.dtype)     # data type = int"
   ]
  },
  {
   "cell_type": "markdown",
   "metadata": {},
   "source": [
    "### slicing and indexing"
   ]
  },
  {
   "cell_type": "code",
   "execution_count": 57,
   "metadata": {},
   "outputs": [],
   "source": [
    "x1 = np.random.randint(10, size = 6)    \n",
    "# each number is between 0 and 9, there are 6 numbers.\n",
    "x2 = np.random.randint(10, size = (3,4))    \n",
    "x3 = np.random.randint(10, size = (3,4,5))    "
   ]
  },
  {
   "cell_type": "code",
   "execution_count": 58,
   "metadata": {},
   "outputs": [
    {
     "data": {
      "text/plain": [
       "array([8, 1, 1, 7, 9, 9])"
      ]
     },
     "execution_count": 58,
     "metadata": {},
     "output_type": "execute_result"
    }
   ],
   "source": [
    "x1"
   ]
  },
  {
   "cell_type": "code",
   "execution_count": 62,
   "metadata": {},
   "outputs": [
    {
     "name": "stdout",
     "output_type": "stream",
     "text": [
      "8\n",
      "9\n",
      "[8 1 1 7 9 9]\n",
      "[8 1 9]\n"
     ]
    }
   ],
   "source": [
    "print(x1[0])     # 8\n",
    "print (x1[-1])   # 9\n",
    "print(x1[:])     # the entire array\n",
    "print(x1[::2])   # the step = 2    0th, 2nd and 4th"
   ]
  },
  {
   "cell_type": "code",
   "execution_count": 63,
   "metadata": {},
   "outputs": [
    {
     "data": {
      "text/plain": [
       "array([[3, 6, 7, 2],\n",
       "       [0, 3, 5, 9],\n",
       "       [4, 4, 6, 4]])"
      ]
     },
     "execution_count": 63,
     "metadata": {},
     "output_type": "execute_result"
    }
   ],
   "source": [
    "x2     # 3*4 array"
   ]
  },
  {
   "cell_type": "code",
   "execution_count": 66,
   "metadata": {},
   "outputs": [
    {
     "name": "stdout",
     "output_type": "stream",
     "text": [
      "3\n",
      "[6 3 4]\n",
      "[[3 6 7]\n",
      " [0 3 5]]\n"
     ]
    }
   ],
   "source": [
    "print(x2[0,0])     # 0th row and 0th column\n",
    "print(x2[:,1])     # every element of the 1st column\n",
    "print(x2[:2,:3])    # 0th and 1st rows, 0th and 1st and 2nd columns"
   ]
  },
  {
   "cell_type": "markdown",
   "metadata": {},
   "source": [
    "in-class ex. Q.4 \n",
    "- create an 1x100 array of number from standard normal distribution. Name the array as x\t\n",
    "Use np.random.randn()\n",
    "- reshape the array into a 10x10 array and name it as x_reshaped\n",
    "- access every other row of x_reshaped\n",
    "- access the second row’s last element.\n",
    "- reshape the 1x100 array x into 100x1 array using np.newaxis\n"
   ]
  },
  {
   "cell_type": "code",
   "execution_count": 69,
   "metadata": {},
   "outputs": [
    {
     "data": {
      "text/plain": [
       "0.27159574079996274"
      ]
     },
     "execution_count": 69,
     "metadata": {},
     "output_type": "execute_result"
    }
   ],
   "source": [
    "x = np.random.randn(100)\n",
    "x_reshaped = x.reshape(10,10)\n",
    "x_reshaped\n",
    "x_reshaped[::2]     # every other rows   \n",
    "# first dimension is row, # second dimension is column\n",
    "x_reshaped[1,-1]     # second row, last element   \n",
    "# before the comma, it is row.  after the comma, it is column"
   ]
  },
  {
   "cell_type": "code",
   "execution_count": 73,
   "metadata": {},
   "outputs": [
    {
     "data": {
      "text/plain": [
       "array([[ 0.09818669],\n",
       "       [ 0.90548995],\n",
       "       [ 1.01874144],\n",
       "       [-0.11489885],\n",
       "       [ 1.74303872],\n",
       "       [-0.32187919],\n",
       "       [ 0.82957109],\n",
       "       [-0.207318  ],\n",
       "       [ 1.11799861],\n",
       "       [ 1.06424968],\n",
       "       [ 1.15132983],\n",
       "       [-0.77245771],\n",
       "       [-1.29363428],\n",
       "       [ 0.67702681],\n",
       "       [ 0.4240552 ],\n",
       "       [-0.48567617],\n",
       "       [-0.05169724],\n",
       "       [ 0.56705637],\n",
       "       [ 1.06783358],\n",
       "       [ 0.27159574],\n",
       "       [ 0.61930177],\n",
       "       [-0.058626  ],\n",
       "       [ 1.2565714 ],\n",
       "       [ 0.2967472 ],\n",
       "       [ 0.39858573],\n",
       "       [-1.05317438],\n",
       "       [-0.63947627],\n",
       "       [-0.14852688],\n",
       "       [-1.57458215],\n",
       "       [-0.4956882 ],\n",
       "       [-0.11757479],\n",
       "       [ 0.37312016],\n",
       "       [-0.38602877],\n",
       "       [-1.23059312],\n",
       "       [-1.95827161],\n",
       "       [-0.51796269],\n",
       "       [ 0.5797988 ],\n",
       "       [-1.35373284],\n",
       "       [-0.71952667],\n",
       "       [-0.11861612],\n",
       "       [-0.80811606],\n",
       "       [-0.71891095],\n",
       "       [-0.57354392],\n",
       "       [-0.38367719],\n",
       "       [ 0.29163404],\n",
       "       [ 0.07285698],\n",
       "       [-0.01855425],\n",
       "       [ 0.10003728],\n",
       "       [ 0.42808095],\n",
       "       [-1.03978785],\n",
       "       [ 0.29122838],\n",
       "       [-0.0057689 ],\n",
       "       [-0.98269968],\n",
       "       [-0.80415972],\n",
       "       [-1.19818671],\n",
       "       [ 0.76676877],\n",
       "       [ 0.21752554],\n",
       "       [ 2.08444169],\n",
       "       [ 1.51347609],\n",
       "       [-2.10082473],\n",
       "       [ 1.00607292],\n",
       "       [-1.03711487],\n",
       "       [-1.80526763],\n",
       "       [-1.10219609],\n",
       "       [ 1.0785791 ],\n",
       "       [-0.51873407],\n",
       "       [-0.28152635],\n",
       "       [ 0.56036933],\n",
       "       [ 0.75520898],\n",
       "       [-1.06089086],\n",
       "       [ 0.05447385],\n",
       "       [-0.10427863],\n",
       "       [-0.35160968],\n",
       "       [ 0.58979914],\n",
       "       [-1.47896813],\n",
       "       [-1.42295597],\n",
       "       [-0.82646112],\n",
       "       [ 0.78420863],\n",
       "       [-0.1954172 ],\n",
       "       [-1.26459544],\n",
       "       [ 0.85693318],\n",
       "       [-0.49399435],\n",
       "       [ 0.01463666],\n",
       "       [-1.60646646],\n",
       "       [ 0.16198952],\n",
       "       [ 0.53503832],\n",
       "       [ 0.83058861],\n",
       "       [ 1.04362959],\n",
       "       [-0.7609473 ],\n",
       "       [-0.08543132],\n",
       "       [-0.78996364],\n",
       "       [-0.47083963],\n",
       "       [-1.03305371],\n",
       "       [-0.23118671],\n",
       "       [-1.61024346],\n",
       "       [ 1.4306019 ],\n",
       "       [-1.72538572],\n",
       "       [ 0.35924959],\n",
       "       [ 0.88193495],\n",
       "       [ 0.20501309]])"
      ]
     },
     "execution_count": 73,
     "metadata": {},
     "output_type": "execute_result"
    }
   ],
   "source": [
    "x.shape   # 1*100\n",
    "x[:, np.newaxis]    # convert from 1*100 into 100*1\n",
    "x.reshape(100,1)"
   ]
  },
  {
   "cell_type": "markdown",
   "metadata": {},
   "source": [
    "### aggregation\n",
    "- find the sum, median, max, min of an array of numbers"
   ]
  },
  {
   "cell_type": "code",
   "execution_count": 77,
   "metadata": {},
   "outputs": [
    {
     "data": {
      "text/plain": [
       "2"
      ]
     },
     "execution_count": 77,
     "metadata": {},
     "output_type": "execute_result"
    }
   ],
   "source": [
    "x = np.random.randint(2,100,60)    # 60 numbers, each number between 2 and 99\n",
    "x.sum()      # sum of all 60 numbers\n",
    "x.max()     # maximum of the array of numbers\n",
    "x.min()"
   ]
  },
  {
   "cell_type": "code",
   "execution_count": 78,
   "metadata": {},
   "outputs": [
    {
     "data": {
      "text/plain": [
       "'E:\\\\DataScience\\\\Python'"
      ]
     },
     "execution_count": 78,
     "metadata": {},
     "output_type": "execute_result"
    }
   ],
   "source": [
    "pwd"
   ]
  },
  {
   "cell_type": "code",
   "execution_count": 79,
   "metadata": {},
   "outputs": [],
   "source": [
    "import os"
   ]
  },
  {
   "cell_type": "code",
   "execution_count": 80,
   "metadata": {},
   "outputs": [],
   "source": [
    "## we want to read a data file into python\n",
    "# import pandas   \n",
    "# (we use pandas to clean data, pandas python data analysis library)\n",
    "import pandas as pd"
   ]
  },
  {
   "cell_type": "code",
   "execution_count": 83,
   "metadata": {},
   "outputs": [
    {
     "data": {
      "text/plain": [
       "array([189, 170, 189, 163, 183, 171, 185, 168, 173, 183, 173, 173, 175,\n",
       "       178, 183, 193, 178, 173, 174, 183, 183, 168, 170, 178, 182, 180,\n",
       "       183, 178, 182, 188, 175, 179, 183, 193, 182, 183, 177, 185, 188,\n",
       "       188, 182, 185], dtype=int64)"
      ]
     },
     "execution_count": 83,
     "metadata": {},
     "output_type": "execute_result"
    }
   ],
   "source": [
    "data = pd.read_csv(\"president_heights.csv\") \n",
    "data    # data is a data frame, created by reading in the csv file.\n",
    "# data frame is a table\n",
    "# we want to get the column: height(cm) \n",
    "     \n",
    "# it is not an array, array does not have an explicit index\n",
    "heights = np.array(data[\"height(cm)\"]) \n",
    "# we extract the columns \"height(cm)\" and then convert it into an array.\n",
    "heights"
   ]
  },
  {
   "cell_type": "code",
   "execution_count": 84,
   "metadata": {},
   "outputs": [
    {
     "name": "stdout",
     "output_type": "stream",
     "text": [
      "193\n",
      "179.73809523809524\n",
      "6.931843442745892\n"
     ]
    }
   ],
   "source": [
    "print(heights.max())    # the maximum height\n",
    "print(heights.mean())    # the average height\n",
    "print(heights.std())     # the standard deviation of the heights."
   ]
  },
  {
   "cell_type": "code",
   "execution_count": 85,
   "metadata": {},
   "outputs": [
    {
     "data": {
      "text/plain": [
       "(array([ 1.,  2.,  3.,  5.,  3.,  6., 12.,  3.,  5.,  2.]),\n",
       " array([163., 166., 169., 172., 175., 178., 181., 184., 187., 190., 193.]),\n",
       " <a list of 10 Patch objects>)"
      ]
     },
     "execution_count": 85,
     "metadata": {},
     "output_type": "execute_result"
    },
    {
     "data": {
      "image/png": "[encoded data removed]",
      "text/plain": [
       "<Figure size 432x288 with 1 Axes>"
      ]
     },
     "metadata": {
      "needs_background": "light"
     },
     "output_type": "display_data"
    }
   ],
   "source": [
    "## let's plot a graph\n",
    "import matplotlib.pyplot as plt     # Matlab plot library, python plot\n",
    "plt.hist(heights)   # we use array, heights, to plot a histogram"
   ]
  },
  {
   "cell_type": "markdown",
   "metadata": {},
   "source": [
    "11.\n",
    "Run the following codes to extract the time series of Google stock prices in year 2017\n",
    "\n",
    "from pandas_datareader import data\n",
    "\n",
    "goog = data.DataReader('GOOG', start='2017', end='2018',\n",
    "                       data_source='yahoo')\n",
    "\n",
    "-\tFind the mean, max, min and standard deviation of Google stock prices in 2017.\n",
    "\n",
    "Use the following code to find the closing price of Google stock price on “2016-12-30”, which is the last trading day in 2016.\n",
    "goog_2016lastday = data.DataReader('GOOG', start = \"2016-12-30\", end=\"2017-01-01\",\n",
    "                       data_source=\"yahoo\")\n",
    "-\tCount the number of days in 2017, such that the closing price is higher than the closing price of last trading day in 2016.\n"
   ]
  },
  {
   "cell_type": "code",
   "execution_count": null,
   "metadata": {},
   "outputs": [],
   "source": [
    "!pip install pandas_datareader   # install it. exclamation mark"
   ]
  },
  {
   "cell_type": "code",
   "execution_count": 88,
   "metadata": {},
   "outputs": [],
   "source": [
    "from pandas_datareader import data\n",
    "goog = data.DataReader(\"GOOG\", start ='2017', end= '2018', data_source = 'yahoo' )\n",
    "\n",
    "goog     # a data frame\n",
    "# Find the mean, max, min and standard deviation of Google stock prices in 2017.\n",
    "x = np.array(goog[\"Close\"])   "
   ]
  },
  {
   "cell_type": "code",
   "execution_count": 91,
   "metadata": {},
   "outputs": [
    {
     "name": "stdout",
     "output_type": "stream",
     "text": [
      "921.7808373439834\n",
      "1077.1400146484375\n",
      "786.1400146484375\n"
     ]
    }
   ],
   "source": [
    "print(x.mean())   # mean price in 2017\n",
    "print(x.max())\n",
    "print(x.min())"
   ]
  },
  {
   "cell_type": "markdown",
   "metadata": {},
   "source": [
    "-\tCount the number of days in 2017, such that the closing price is higher than the closing price of last trading day in 2016."
   ]
  },
  {
   "cell_type": "code",
   "execution_count": 92,
   "metadata": {},
   "outputs": [
    {
     "data": {
      "text/html": [
       "<div>\n",
       "<style scoped>\n",
       "    .dataframe tbody tr th:only-of-type {\n",
       "        vertical-align: middle;\n",
       "    }\n",
       "\n",
       "    .dataframe tbody tr th {\n",
       "        vertical-align: top;\n",
       "    }\n",
       "\n",
       "    .dataframe thead th {\n",
       "        text-align: right;\n",
       "    }\n",
       "</style>\n",
       "<table border=\"1\" class=\"dataframe\">\n",
       "  <thead>\n",
       "    <tr style=\"text-align: right;\">\n",
       "      <th></th>\n",
       "      <th>High</th>\n",
       "      <th>Low</th>\n",
       "      <th>Open</th>\n",
       "      <th>Close</th>\n",
       "      <th>Volume</th>\n",
       "      <th>Adj Close</th>\n",
       "    </tr>\n",
       "    <tr>\n",
       "      <th>Date</th>\n",
       "      <th></th>\n",
       "      <th></th>\n",
       "      <th></th>\n",
       "      <th></th>\n",
       "      <th></th>\n",
       "      <th></th>\n",
       "    </tr>\n",
       "  </thead>\n",
       "  <tbody>\n",
       "    <tr>\n",
       "      <th>2016-12-30</th>\n",
       "      <td>782.780029</td>\n",
       "      <td>770.409973</td>\n",
       "      <td>782.75</td>\n",
       "      <td>771.820007</td>\n",
       "      <td>1770000</td>\n",
       "      <td>771.820007</td>\n",
       "    </tr>\n",
       "  </tbody>\n",
       "</table>\n",
       "</div>"
      ],
      "text/plain": [
       "                  High         Low    Open       Close   Volume   Adj Close\n",
       "Date                                                                       \n",
       "2016-12-30  782.780029  770.409973  782.75  771.820007  1770000  771.820007"
      ]
     },
     "execution_count": 92,
     "metadata": {},
     "output_type": "execute_result"
    }
   ],
   "source": [
    "goog_2016lastday = data.DataReader('GOOG', start = \"2016-12-30\", \n",
    "                                   end=\"2017-01-01\", data_source=\"yahoo\")\n",
    "# stock is google, starting date 2016-12-30, ending date is 2016-12-31\n",
    "# data source = 'yahoo'\n",
    "goog_2016lastday"
   ]
  },
  {
   "cell_type": "code",
   "execution_count": 93,
   "metadata": {},
   "outputs": [],
   "source": [
    "lastday_price = np.array(goog_2016lastday[\"Close\"])"
   ]
  },
  {
   "cell_type": "markdown",
   "metadata": {},
   "source": [
    "-\tCount the number of days in 2017, such that the closing price is higher than the closing price of last trading day in 2016."
   ]
  },
  {
   "cell_type": "code",
   "execution_count": 94,
   "metadata": {},
   "outputs": [
    {
     "data": {
      "text/plain": [
       "251"
      ]
     },
     "execution_count": 94,
     "metadata": {},
     "output_type": "execute_result"
    }
   ],
   "source": [
    "x  # closing prices of all trading days in 2017\n",
    "lastday_price  # closing price on 2016-12-30\n",
    "# we want to find how many values of x greater than lastday_price\n",
    "np.sum(x > lastday_price)   \n",
    "# 251 days in 2017 with price higher than the last trading day in 2016"
   ]
  },
  {
   "cell_type": "code",
   "execution_count": 97,
   "metadata": {},
   "outputs": [
    {
     "name": "stdout",
     "output_type": "stream",
     "text": [
      "<class 'pandas.core.frame.DataFrame'>\n",
      "RangeIndex: 365 entries, 0 to 364\n",
      "Data columns (total 17 columns):\n",
      " #   Column        Non-Null Count  Dtype \n",
      "---  ------        --------------  ----- \n",
      " 0   STATION       365 non-null    object\n",
      " 1   STATION_NAME  365 non-null    object\n",
      " 2   DATE          365 non-null    int64 \n",
      " 3   PRCP          365 non-null    int64 \n",
      " 4   SNWD          365 non-null    int64 \n",
      " 5   SNOW          365 non-null    int64 \n",
      " 6   TMAX          365 non-null    int64 \n",
      " 7   TMIN          365 non-null    int64 \n",
      " 8   AWND          365 non-null    int64 \n",
      " 9   WDF2          365 non-null    int64 \n",
      " 10  WDF5          365 non-null    int64 \n",
      " 11  WSF2          365 non-null    int64 \n",
      " 12  WSF5          365 non-null    int64 \n",
      " 13  WT01          365 non-null    int64 \n",
      " 14  WT05          365 non-null    int64 \n",
      " 15  WT02          365 non-null    int64 \n",
      " 16  WT03          365 non-null    int64 \n",
      "dtypes: int64(15), object(2)\n",
      "memory usage: 48.6+ KB\n"
     ]
    }
   ],
   "source": [
    "import pandas as pd\n",
    "data = pd.read_csv(\"Seattle2014.csv\")  # data is a dataframe.\n",
    "data.info()   # 17 columns, 17 variables.\n",
    "# sample size, number of rows = 365   # object is a string"
   ]
  },
  {
   "cell_type": "code",
   "execution_count": 103,
   "metadata": {},
   "outputs": [
    {
     "name": "stdout",
     "output_type": "stream",
     "text": [
      "467\n",
      "33.775342465753425\n",
      "150\n"
     ]
    }
   ],
   "source": [
    "data[\"PRCP\"]    # all in millimeter\n",
    "rainfall = np.array(data[\"PRCP\"])\n",
    "print(rainfall.max())\n",
    "print(rainfall.mean())\n",
    "print(np.sum(rainfall>0))"
   ]
  },
  {
   "cell_type": "code",
   "execution_count": 104,
   "metadata": {},
   "outputs": [
    {
     "data": {
      "text/plain": [
       "(array([289.,  25.,  20.,  13.,  10.,   3.,   2.,   2.,   0.,   1.]),\n",
       " array([  0. ,  46.7,  93.4, 140.1, 186.8, 233.5, 280.2, 326.9, 373.6,\n",
       "        420.3, 467. ]),\n",
       " <a list of 10 Patch objects>)"
      ]
     },
     "execution_count": 104,
     "metadata": {},
     "output_type": "execute_result"
    },
    {
     "data": {
      "image/png": "[encoded data removed]",
      "text/plain": [
       "<Figure size 432x288 with 1 Axes>"
      ]
     },
     "metadata": {
      "needs_background": "light"
     },
     "output_type": "display_data"
    }
   ],
   "source": [
    "import matplotlib.pyplot as plt\n",
    "plt.hist(rainfall)"
   ]
  },
  {
   "cell_type": "code",
   "execution_count": null,
   "metadata": {},
   "outputs": [],
   "source": []
  }
 ],
 "metadata": {
  "kernelspec": {
   "display_name": "Python 3",
   "language": "python",
   "name": "python3"
  },
  "language_info": {
   "codemirror_mode": {
    "name": "ipython",
    "version": 3
   },
   "file_extension": ".py",
   "mimetype": "text/x-python",
   "name": "python",
   "nbconvert_exporter": "python",
   "pygments_lexer": "ipython3",
   "version": "3.8.3"
  }
 },
 "nbformat": 4,
 "nbformat_minor": 4
}
